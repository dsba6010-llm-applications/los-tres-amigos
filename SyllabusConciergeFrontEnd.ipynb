{
  "nbformat": 4,
  "nbformat_minor": 0,
  "metadata": {
    "colab": {
      "provenance": [],
      "toc_visible": true,
      "authorship_tag": "ABX9TyMDm8pagWOz4cV4htnLABmo",
      "include_colab_link": true
    },
    "kernelspec": {
      "name": "python3",
      "display_name": "Python 3"
    },
    "language_info": {
      "name": "python"
    },
    "widgets": {
      "application/vnd.jupyter.widget-state+json": {
        "49641a7fb0de420296e465066d86609d": {
          "model_module": "@jupyter-widgets/controls",
          "model_name": "TextModel",
          "model_module_version": "1.5.0",
          "state": {
            "_dom_classes": [],
            "_model_module": "@jupyter-widgets/controls",
            "_model_module_version": "1.5.0",
            "_model_name": "TextModel",
            "_view_count": null,
            "_view_module": "@jupyter-widgets/controls",
            "_view_module_version": "1.5.0",
            "_view_name": "TextView",
            "continuous_update": true,
            "description": "Question:",
            "description_tooltip": null,
            "disabled": false,
            "layout": "IPY_MODEL_5d7caba38bbc4b59ba0ffb19b7cfefe2",
            "placeholder": "Enter question here",
            "style": "IPY_MODEL_f974a7b07e734558b282bf1f03504c3f",
            "value": ""
          }
        },
        "5d7caba38bbc4b59ba0ffb19b7cfefe2": {
          "model_module": "@jupyter-widgets/base",
          "model_name": "LayoutModel",
          "model_module_version": "1.2.0",
          "state": {
            "_model_module": "@jupyter-widgets/base",
            "_model_module_version": "1.2.0",
            "_model_name": "LayoutModel",
            "_view_count": null,
            "_view_module": "@jupyter-widgets/base",
            "_view_module_version": "1.2.0",
            "_view_name": "LayoutView",
            "align_content": null,
            "align_items": null,
            "align_self": null,
            "border": null,
            "bottom": null,
            "display": null,
            "flex": null,
            "flex_flow": null,
            "grid_area": null,
            "grid_auto_columns": null,
            "grid_auto_flow": null,
            "grid_auto_rows": null,
            "grid_column": null,
            "grid_gap": null,
            "grid_row": null,
            "grid_template_areas": null,
            "grid_template_columns": null,
            "grid_template_rows": null,
            "height": null,
            "justify_content": null,
            "justify_items": null,
            "left": null,
            "margin": null,
            "max_height": null,
            "max_width": null,
            "min_height": null,
            "min_width": null,
            "object_fit": null,
            "object_position": null,
            "order": null,
            "overflow": null,
            "overflow_x": null,
            "overflow_y": null,
            "padding": null,
            "right": null,
            "top": null,
            "visibility": null,
            "width": "700px"
          }
        },
        "f974a7b07e734558b282bf1f03504c3f": {
          "model_module": "@jupyter-widgets/controls",
          "model_name": "DescriptionStyleModel",
          "model_module_version": "1.5.0",
          "state": {
            "_model_module": "@jupyter-widgets/controls",
            "_model_module_version": "1.5.0",
            "_model_name": "DescriptionStyleModel",
            "_view_count": null,
            "_view_module": "@jupyter-widgets/base",
            "_view_module_version": "1.2.0",
            "_view_name": "StyleView",
            "description_width": ""
          }
        },
        "f74f981f0fb641cb8c5ce1af1f145f95": {
          "model_module": "@jupyter-widgets/controls",
          "model_name": "ButtonModel",
          "model_module_version": "1.5.0",
          "state": {
            "_dom_classes": [],
            "_model_module": "@jupyter-widgets/controls",
            "_model_module_version": "1.5.0",
            "_model_name": "ButtonModel",
            "_view_count": null,
            "_view_module": "@jupyter-widgets/controls",
            "_view_module_version": "1.5.0",
            "_view_name": "ButtonView",
            "button_style": "",
            "description": "Send",
            "disabled": false,
            "icon": "",
            "layout": "IPY_MODEL_97d85c8c73894c69848f11b17e9c1145",
            "style": "IPY_MODEL_05255c36899e419eb653b97ca49833cf",
            "tooltip": ""
          }
        },
        "97d85c8c73894c69848f11b17e9c1145": {
          "model_module": "@jupyter-widgets/base",
          "model_name": "LayoutModel",
          "model_module_version": "1.2.0",
          "state": {
            "_model_module": "@jupyter-widgets/base",
            "_model_module_version": "1.2.0",
            "_model_name": "LayoutModel",
            "_view_count": null,
            "_view_module": "@jupyter-widgets/base",
            "_view_module_version": "1.2.0",
            "_view_name": "LayoutView",
            "align_content": null,
            "align_items": null,
            "align_self": null,
            "border": null,
            "bottom": null,
            "display": null,
            "flex": null,
            "flex_flow": null,
            "grid_area": null,
            "grid_auto_columns": null,
            "grid_auto_flow": null,
            "grid_auto_rows": null,
            "grid_column": null,
            "grid_gap": null,
            "grid_row": null,
            "grid_template_areas": null,
            "grid_template_columns": null,
            "grid_template_rows": null,
            "height": null,
            "justify_content": null,
            "justify_items": null,
            "left": null,
            "margin": null,
            "max_height": null,
            "max_width": null,
            "min_height": null,
            "min_width": null,
            "object_fit": null,
            "object_position": null,
            "order": null,
            "overflow": null,
            "overflow_x": null,
            "overflow_y": null,
            "padding": null,
            "right": null,
            "top": null,
            "visibility": null,
            "width": null
          }
        },
        "05255c36899e419eb653b97ca49833cf": {
          "model_module": "@jupyter-widgets/controls",
          "model_name": "ButtonStyleModel",
          "model_module_version": "1.5.0",
          "state": {
            "_model_module": "@jupyter-widgets/controls",
            "_model_module_version": "1.5.0",
            "_model_name": "ButtonStyleModel",
            "_view_count": null,
            "_view_module": "@jupyter-widgets/base",
            "_view_module_version": "1.2.0",
            "_view_name": "StyleView",
            "button_color": null,
            "font_weight": ""
          }
        },
        "5e87bb55b5e444eaaa0040fe7ef06f18": {
          "model_module": "@jupyter-widgets/output",
          "model_name": "OutputModel",
          "model_module_version": "1.0.0",
          "state": {
            "_dom_classes": [],
            "_model_module": "@jupyter-widgets/output",
            "_model_module_version": "1.0.0",
            "_model_name": "OutputModel",
            "_view_count": null,
            "_view_module": "@jupyter-widgets/output",
            "_view_module_version": "1.0.0",
            "_view_name": "OutputView",
            "layout": "IPY_MODEL_4663f15b636346fb970e0d843b3a97bd",
            "msg_id": "",
            "outputs": []
          }
        },
        "4663f15b636346fb970e0d843b3a97bd": {
          "model_module": "@jupyter-widgets/base",
          "model_name": "LayoutModel",
          "model_module_version": "1.2.0",
          "state": {
            "_model_module": "@jupyter-widgets/base",
            "_model_module_version": "1.2.0",
            "_model_name": "LayoutModel",
            "_view_count": null,
            "_view_module": "@jupyter-widgets/base",
            "_view_module_version": "1.2.0",
            "_view_name": "LayoutView",
            "align_content": null,
            "align_items": null,
            "align_self": null,
            "border": null,
            "bottom": null,
            "display": null,
            "flex": null,
            "flex_flow": null,
            "grid_area": null,
            "grid_auto_columns": null,
            "grid_auto_flow": null,
            "grid_auto_rows": null,
            "grid_column": null,
            "grid_gap": null,
            "grid_row": null,
            "grid_template_areas": null,
            "grid_template_columns": null,
            "grid_template_rows": null,
            "height": null,
            "justify_content": null,
            "justify_items": null,
            "left": null,
            "margin": null,
            "max_height": null,
            "max_width": null,
            "min_height": null,
            "min_width": null,
            "object_fit": null,
            "object_position": null,
            "order": null,
            "overflow": null,
            "overflow_x": null,
            "overflow_y": null,
            "padding": null,
            "right": null,
            "top": null,
            "visibility": null,
            "width": null
          }
        }
      }
    }
  },
  "cells": [
    {
      "cell_type": "markdown",
      "metadata": {
        "id": "view-in-github",
        "colab_type": "text"
      },
      "source": [
        "<a href=\"https://colab.research.google.com/github/dsba6010-llm-applications/los-tres-amigos/blob/main/SyllabusConciergeFrontEnd.ipynb\" target=\"_parent\"><img src=\"https://colab.research.google.com/assets/colab-badge.svg\" alt=\"Open In Colab\"/></a>"
      ]
    },
    {
      "cell_type": "markdown",
      "source": [
        "# Syllabus Concierge Front End"
      ],
      "metadata": {
        "id": "QhlEpAqF31NP"
      }
    },
    {
      "cell_type": "markdown",
      "source": [
        "## Set Up"
      ],
      "metadata": {
        "id": "f9Ka-dGD-QFk"
      }
    },
    {
      "cell_type": "code",
      "source": [
        "!pip install ipywidgets"
      ],
      "metadata": {
        "colab": {
          "base_uri": "https://localhost:8080/"
        },
        "id": "VcVyl7yz9v_e",
        "outputId": "f986140c-9f49-4757-aaf6-ee8cc44f89e0"
      },
      "execution_count": 2,
      "outputs": [
        {
          "output_type": "stream",
          "name": "stdout",
          "text": [
            "Requirement already satisfied: ipywidgets in /usr/local/lib/python3.10/dist-packages (7.7.1)\n",
            "Requirement already satisfied: ipykernel>=4.5.1 in /usr/local/lib/python3.10/dist-packages (from ipywidgets) (5.5.6)\n",
            "Requirement already satisfied: ipython-genutils~=0.2.0 in /usr/local/lib/python3.10/dist-packages (from ipywidgets) (0.2.0)\n",
            "Requirement already satisfied: traitlets>=4.3.1 in /usr/local/lib/python3.10/dist-packages (from ipywidgets) (5.7.1)\n",
            "Requirement already satisfied: widgetsnbextension~=3.6.0 in /usr/local/lib/python3.10/dist-packages (from ipywidgets) (3.6.10)\n",
            "Requirement already satisfied: ipython>=4.0.0 in /usr/local/lib/python3.10/dist-packages (from ipywidgets) (7.34.0)\n",
            "Requirement already satisfied: jupyterlab-widgets>=1.0.0 in /usr/local/lib/python3.10/dist-packages (from ipywidgets) (3.0.13)\n",
            "Requirement already satisfied: jupyter-client in /usr/local/lib/python3.10/dist-packages (from ipykernel>=4.5.1->ipywidgets) (6.1.12)\n",
            "Requirement already satisfied: tornado>=4.2 in /usr/local/lib/python3.10/dist-packages (from ipykernel>=4.5.1->ipywidgets) (6.3.3)\n",
            "Requirement already satisfied: setuptools>=18.5 in /usr/local/lib/python3.10/dist-packages (from ipython>=4.0.0->ipywidgets) (75.1.0)\n",
            "Collecting jedi>=0.16 (from ipython>=4.0.0->ipywidgets)\n",
            "  Downloading jedi-0.19.2-py2.py3-none-any.whl.metadata (22 kB)\n",
            "Requirement already satisfied: decorator in /usr/local/lib/python3.10/dist-packages (from ipython>=4.0.0->ipywidgets) (4.4.2)\n",
            "Requirement already satisfied: pickleshare in /usr/local/lib/python3.10/dist-packages (from ipython>=4.0.0->ipywidgets) (0.7.5)\n",
            "Requirement already satisfied: prompt-toolkit!=3.0.0,!=3.0.1,<3.1.0,>=2.0.0 in /usr/local/lib/python3.10/dist-packages (from ipython>=4.0.0->ipywidgets) (3.0.48)\n",
            "Requirement already satisfied: pygments in /usr/local/lib/python3.10/dist-packages (from ipython>=4.0.0->ipywidgets) (2.18.0)\n",
            "Requirement already satisfied: backcall in /usr/local/lib/python3.10/dist-packages (from ipython>=4.0.0->ipywidgets) (0.2.0)\n",
            "Requirement already satisfied: matplotlib-inline in /usr/local/lib/python3.10/dist-packages (from ipython>=4.0.0->ipywidgets) (0.1.7)\n",
            "Requirement already satisfied: pexpect>4.3 in /usr/local/lib/python3.10/dist-packages (from ipython>=4.0.0->ipywidgets) (4.9.0)\n",
            "Requirement already satisfied: notebook>=4.4.1 in /usr/local/lib/python3.10/dist-packages (from widgetsnbextension~=3.6.0->ipywidgets) (6.5.5)\n",
            "Requirement already satisfied: parso<0.9.0,>=0.8.4 in /usr/local/lib/python3.10/dist-packages (from jedi>=0.16->ipython>=4.0.0->ipywidgets) (0.8.4)\n",
            "Requirement already satisfied: jinja2 in /usr/local/lib/python3.10/dist-packages (from notebook>=4.4.1->widgetsnbextension~=3.6.0->ipywidgets) (3.1.4)\n",
            "Requirement already satisfied: pyzmq<25,>=17 in /usr/local/lib/python3.10/dist-packages (from notebook>=4.4.1->widgetsnbextension~=3.6.0->ipywidgets) (24.0.1)\n",
            "Requirement already satisfied: argon2-cffi in /usr/local/lib/python3.10/dist-packages (from notebook>=4.4.1->widgetsnbextension~=3.6.0->ipywidgets) (23.1.0)\n",
            "Requirement already satisfied: jupyter-core>=4.6.1 in /usr/local/lib/python3.10/dist-packages (from notebook>=4.4.1->widgetsnbextension~=3.6.0->ipywidgets) (5.7.2)\n",
            "Requirement already satisfied: nbformat in /usr/local/lib/python3.10/dist-packages (from notebook>=4.4.1->widgetsnbextension~=3.6.0->ipywidgets) (5.10.4)\n",
            "Requirement already satisfied: nbconvert>=5 in /usr/local/lib/python3.10/dist-packages (from notebook>=4.4.1->widgetsnbextension~=3.6.0->ipywidgets) (7.16.4)\n",
            "Requirement already satisfied: nest-asyncio>=1.5 in /usr/local/lib/python3.10/dist-packages (from notebook>=4.4.1->widgetsnbextension~=3.6.0->ipywidgets) (1.6.0)\n",
            "Requirement already satisfied: Send2Trash>=1.8.0 in /usr/local/lib/python3.10/dist-packages (from notebook>=4.4.1->widgetsnbextension~=3.6.0->ipywidgets) (1.8.3)\n",
            "Requirement already satisfied: terminado>=0.8.3 in /usr/local/lib/python3.10/dist-packages (from notebook>=4.4.1->widgetsnbextension~=3.6.0->ipywidgets) (0.18.1)\n",
            "Requirement already satisfied: prometheus-client in /usr/local/lib/python3.10/dist-packages (from notebook>=4.4.1->widgetsnbextension~=3.6.0->ipywidgets) (0.21.0)\n",
            "Requirement already satisfied: nbclassic>=0.4.7 in /usr/local/lib/python3.10/dist-packages (from notebook>=4.4.1->widgetsnbextension~=3.6.0->ipywidgets) (1.1.0)\n",
            "Requirement already satisfied: python-dateutil>=2.1 in /usr/local/lib/python3.10/dist-packages (from jupyter-client->ipykernel>=4.5.1->ipywidgets) (2.8.2)\n",
            "Requirement already satisfied: ptyprocess>=0.5 in /usr/local/lib/python3.10/dist-packages (from pexpect>4.3->ipython>=4.0.0->ipywidgets) (0.7.0)\n",
            "Requirement already satisfied: wcwidth in /usr/local/lib/python3.10/dist-packages (from prompt-toolkit!=3.0.0,!=3.0.1,<3.1.0,>=2.0.0->ipython>=4.0.0->ipywidgets) (0.2.13)\n",
            "Requirement already satisfied: platformdirs>=2.5 in /usr/local/lib/python3.10/dist-packages (from jupyter-core>=4.6.1->notebook>=4.4.1->widgetsnbextension~=3.6.0->ipywidgets) (4.3.6)\n",
            "Requirement already satisfied: notebook-shim>=0.2.3 in /usr/local/lib/python3.10/dist-packages (from nbclassic>=0.4.7->notebook>=4.4.1->widgetsnbextension~=3.6.0->ipywidgets) (0.2.4)\n",
            "Requirement already satisfied: beautifulsoup4 in /usr/local/lib/python3.10/dist-packages (from nbconvert>=5->notebook>=4.4.1->widgetsnbextension~=3.6.0->ipywidgets) (4.12.3)\n",
            "Requirement already satisfied: bleach!=5.0.0 in /usr/local/lib/python3.10/dist-packages (from nbconvert>=5->notebook>=4.4.1->widgetsnbextension~=3.6.0->ipywidgets) (6.2.0)\n",
            "Requirement already satisfied: defusedxml in /usr/local/lib/python3.10/dist-packages (from nbconvert>=5->notebook>=4.4.1->widgetsnbextension~=3.6.0->ipywidgets) (0.7.1)\n",
            "Requirement already satisfied: jupyterlab-pygments in /usr/local/lib/python3.10/dist-packages (from nbconvert>=5->notebook>=4.4.1->widgetsnbextension~=3.6.0->ipywidgets) (0.3.0)\n",
            "Requirement already satisfied: markupsafe>=2.0 in /usr/local/lib/python3.10/dist-packages (from nbconvert>=5->notebook>=4.4.1->widgetsnbextension~=3.6.0->ipywidgets) (3.0.2)\n",
            "Requirement already satisfied: mistune<4,>=2.0.3 in /usr/local/lib/python3.10/dist-packages (from nbconvert>=5->notebook>=4.4.1->widgetsnbextension~=3.6.0->ipywidgets) (3.0.2)\n",
            "Requirement already satisfied: nbclient>=0.5.0 in /usr/local/lib/python3.10/dist-packages (from nbconvert>=5->notebook>=4.4.1->widgetsnbextension~=3.6.0->ipywidgets) (0.10.0)\n",
            "Requirement already satisfied: packaging in /usr/local/lib/python3.10/dist-packages (from nbconvert>=5->notebook>=4.4.1->widgetsnbextension~=3.6.0->ipywidgets) (24.2)\n",
            "Requirement already satisfied: pandocfilters>=1.4.1 in /usr/local/lib/python3.10/dist-packages (from nbconvert>=5->notebook>=4.4.1->widgetsnbextension~=3.6.0->ipywidgets) (1.5.1)\n",
            "Requirement already satisfied: tinycss2 in /usr/local/lib/python3.10/dist-packages (from nbconvert>=5->notebook>=4.4.1->widgetsnbextension~=3.6.0->ipywidgets) (1.4.0)\n",
            "Requirement already satisfied: fastjsonschema>=2.15 in /usr/local/lib/python3.10/dist-packages (from nbformat->notebook>=4.4.1->widgetsnbextension~=3.6.0->ipywidgets) (2.20.0)\n",
            "Requirement already satisfied: jsonschema>=2.6 in /usr/local/lib/python3.10/dist-packages (from nbformat->notebook>=4.4.1->widgetsnbextension~=3.6.0->ipywidgets) (4.23.0)\n",
            "Requirement already satisfied: six>=1.5 in /usr/local/lib/python3.10/dist-packages (from python-dateutil>=2.1->jupyter-client->ipykernel>=4.5.1->ipywidgets) (1.16.0)\n",
            "Requirement already satisfied: argon2-cffi-bindings in /usr/local/lib/python3.10/dist-packages (from argon2-cffi->notebook>=4.4.1->widgetsnbextension~=3.6.0->ipywidgets) (21.2.0)\n",
            "Requirement already satisfied: webencodings in /usr/local/lib/python3.10/dist-packages (from bleach!=5.0.0->nbconvert>=5->notebook>=4.4.1->widgetsnbextension~=3.6.0->ipywidgets) (0.5.1)\n",
            "Requirement already satisfied: attrs>=22.2.0 in /usr/local/lib/python3.10/dist-packages (from jsonschema>=2.6->nbformat->notebook>=4.4.1->widgetsnbextension~=3.6.0->ipywidgets) (24.2.0)\n",
            "Requirement already satisfied: jsonschema-specifications>=2023.03.6 in /usr/local/lib/python3.10/dist-packages (from jsonschema>=2.6->nbformat->notebook>=4.4.1->widgetsnbextension~=3.6.0->ipywidgets) (2024.10.1)\n",
            "Requirement already satisfied: referencing>=0.28.4 in /usr/local/lib/python3.10/dist-packages (from jsonschema>=2.6->nbformat->notebook>=4.4.1->widgetsnbextension~=3.6.0->ipywidgets) (0.35.1)\n",
            "Requirement already satisfied: rpds-py>=0.7.1 in /usr/local/lib/python3.10/dist-packages (from jsonschema>=2.6->nbformat->notebook>=4.4.1->widgetsnbextension~=3.6.0->ipywidgets) (0.21.0)\n",
            "Requirement already satisfied: jupyter-server<3,>=1.8 in /usr/local/lib/python3.10/dist-packages (from notebook-shim>=0.2.3->nbclassic>=0.4.7->notebook>=4.4.1->widgetsnbextension~=3.6.0->ipywidgets) (1.24.0)\n",
            "Requirement already satisfied: cffi>=1.0.1 in /usr/local/lib/python3.10/dist-packages (from argon2-cffi-bindings->argon2-cffi->notebook>=4.4.1->widgetsnbextension~=3.6.0->ipywidgets) (1.17.1)\n",
            "Requirement already satisfied: soupsieve>1.2 in /usr/local/lib/python3.10/dist-packages (from beautifulsoup4->nbconvert>=5->notebook>=4.4.1->widgetsnbextension~=3.6.0->ipywidgets) (2.6)\n",
            "Requirement already satisfied: pycparser in /usr/local/lib/python3.10/dist-packages (from cffi>=1.0.1->argon2-cffi-bindings->argon2-cffi->notebook>=4.4.1->widgetsnbextension~=3.6.0->ipywidgets) (2.22)\n",
            "Requirement already satisfied: anyio<4,>=3.1.0 in /usr/local/lib/python3.10/dist-packages (from jupyter-server<3,>=1.8->notebook-shim>=0.2.3->nbclassic>=0.4.7->notebook>=4.4.1->widgetsnbextension~=3.6.0->ipywidgets) (3.7.1)\n",
            "Requirement already satisfied: websocket-client in /usr/local/lib/python3.10/dist-packages (from jupyter-server<3,>=1.8->notebook-shim>=0.2.3->nbclassic>=0.4.7->notebook>=4.4.1->widgetsnbextension~=3.6.0->ipywidgets) (1.8.0)\n",
            "Requirement already satisfied: idna>=2.8 in /usr/local/lib/python3.10/dist-packages (from anyio<4,>=3.1.0->jupyter-server<3,>=1.8->notebook-shim>=0.2.3->nbclassic>=0.4.7->notebook>=4.4.1->widgetsnbextension~=3.6.0->ipywidgets) (3.10)\n",
            "Requirement already satisfied: sniffio>=1.1 in /usr/local/lib/python3.10/dist-packages (from anyio<4,>=3.1.0->jupyter-server<3,>=1.8->notebook-shim>=0.2.3->nbclassic>=0.4.7->notebook>=4.4.1->widgetsnbextension~=3.6.0->ipywidgets) (1.3.1)\n",
            "Requirement already satisfied: exceptiongroup in /usr/local/lib/python3.10/dist-packages (from anyio<4,>=3.1.0->jupyter-server<3,>=1.8->notebook-shim>=0.2.3->nbclassic>=0.4.7->notebook>=4.4.1->widgetsnbextension~=3.6.0->ipywidgets) (1.2.2)\n",
            "Downloading jedi-0.19.2-py2.py3-none-any.whl (1.6 MB)\n",
            "\u001b[2K   \u001b[90m━━━━━━━━━━━━━━━━━━━━━━━━━━━━━━━━━━━━━━━━\u001b[0m \u001b[32m1.6/1.6 MB\u001b[0m \u001b[31m15.8 MB/s\u001b[0m eta \u001b[36m0:00:00\u001b[0m\n",
            "\u001b[?25hInstalling collected packages: jedi\n",
            "Successfully installed jedi-0.19.2\n"
          ]
        }
      ]
    },
    {
      "cell_type": "code",
      "execution_count": 3,
      "metadata": {
        "id": "dCVFyrwU3v5N"
      },
      "outputs": [],
      "source": [
        "import requests\n",
        "import json\n",
        "from IPython.display import display, Markdown\n",
        "import ipywidgets as widgets\n",
        "import urllib3\n",
        "## Surpress warnings on a valid endpoint\n",
        "urllib3.disable_warnings(urllib3.exceptions.InsecureRequestWarning)\n",
        "\n",
        "URL_TEMPLATE=\"https://syllabi.communitystar.com/infer/{phrase}\"\n"
      ]
    },
    {
      "cell_type": "markdown",
      "source": [
        "## Run UI"
      ],
      "metadata": {
        "id": "Be9D7udH-TRn"
      }
    },
    {
      "cell_type": "code",
      "source": [
        "# Create a textbox for input\n",
        "textbox = widgets.Text(\n",
        "    value='',\n",
        "    placeholder='Enter question here',\n",
        "    description='Question:',\n",
        "    layout=widgets.Layout(width='700px'),  # Set the width of the textbox\n",
        "    disabled=False\n",
        ")\n",
        "\n",
        "# Create a button\n",
        "button = widgets.Button(description='Send')\n",
        "\n",
        "# Create a non-editable HTML widget to display markdown as HTML\n",
        "markdown_display = widgets.HTML(value=\"\")\n",
        "\n",
        "# Display the textbox, button, and markdown display\n",
        "display(textbox)\n",
        "display(button)\n",
        "output = widgets.Output()\n",
        "display(output)\n",
        "\n",
        "# Define the button click event\n",
        "def on_button_click(b):\n",
        "    output.clear_output()\n",
        "    phrase=textbox.value\n",
        "    with output:\n",
        "        display(Markdown(f\"<font color='#44a'>**Sending**: _{phrase}_</font>\"))\n",
        "        result = requests.get(URL_TEMPLATE.format(phrase=phrase), verify=False).json()\n",
        "        display(Markdown(\"## Answer\"))\n",
        "        display(Markdown(result[\"answer\"]))\n",
        "        display(Markdown(\"## Retrieval\"))\n",
        "        print(json.dumps(result[\"ragified_prompt\"][\"retrieval\"], indent=2))\n",
        "        display(Markdown(\"## Sources\"))\n",
        "        for course in result[\"ragified_prompt\"][\"relevant_content\"]:\n",
        "            display(Markdown(f'### <font color=\"#699\">{course[\"id\"]}</font>'))\n",
        "            display(Markdown(f'**DSBA {course[\"course_number\"]}**: _{course[\"course_title\"]}_'))\n",
        "            display(Markdown(f'**Instuctor**: _{course[\"instructor\"]}_'))\n",
        "            display(Markdown(f'**Relevance**: _{course[\"relevance\"]}_'))\n",
        "            if \"i_relevance\" in course:\n",
        "                display(Markdown(f'**I Relevance**: _{course[\"i_relevance\"]}_'))\n",
        "            if \"v_relevance\" in course:\n",
        "                display(Markdown(f'**V Relevance**: _{course[\"v_relevance\"]}_'))\n",
        "\n",
        "# Link the button to the event\n",
        "button.on_click(on_button_click)\n"
      ],
      "metadata": {
        "colab": {
          "base_uri": "https://localhost:8080/",
          "height": 81,
          "referenced_widgets": [
            "49641a7fb0de420296e465066d86609d",
            "5d7caba38bbc4b59ba0ffb19b7cfefe2",
            "f974a7b07e734558b282bf1f03504c3f",
            "f74f981f0fb641cb8c5ce1af1f145f95",
            "97d85c8c73894c69848f11b17e9c1145",
            "05255c36899e419eb653b97ca49833cf",
            "5e87bb55b5e444eaaa0040fe7ef06f18",
            "4663f15b636346fb970e0d843b3a97bd"
          ]
        },
        "id": "ouMtsKKm812K",
        "outputId": "3dfcf17c-2c6d-4f9c-fe06-3124ab713677"
      },
      "execution_count": 4,
      "outputs": [
        {
          "output_type": "display_data",
          "data": {
            "text/plain": [
              "Text(value='', description='Question:', layout=Layout(width='700px'), placeholder='Enter question here')"
            ],
            "application/vnd.jupyter.widget-view+json": {
              "version_major": 2,
              "version_minor": 0,
              "model_id": "49641a7fb0de420296e465066d86609d"
            }
          },
          "metadata": {}
        },
        {
          "output_type": "display_data",
          "data": {
            "text/plain": [
              "Button(description='Send', style=ButtonStyle())"
            ],
            "application/vnd.jupyter.widget-view+json": {
              "version_major": 2,
              "version_minor": 0,
              "model_id": "f74f981f0fb641cb8c5ce1af1f145f95"
            }
          },
          "metadata": {}
        },
        {
          "output_type": "display_data",
          "data": {
            "text/plain": [
              "Output()"
            ],
            "application/vnd.jupyter.widget-view+json": {
              "version_major": 2,
              "version_minor": 0,
              "model_id": "5e87bb55b5e444eaaa0040fe7ef06f18"
            }
          },
          "metadata": {}
        }
      ]
    },
    {
      "cell_type": "markdown",
      "source": [
        "# Regression Tests"
      ],
      "metadata": {
        "id": "tY9wYIKaSNke"
      }
    },
    {
      "cell_type": "code",
      "source": [
        "# This doesn't work \"Which courses deal with business and/or marketing aspects of data science\"\n",
        "\n",
        "prompts = \"\"\"\n",
        "Which courses deal with NLP and which professors teach those courses\n",
        "Which courses does professor sunshine teach\n",
        "Which courses does professor chakra teach\n",
        "Which professors teach DSBA 6201\n",
        "Does Professor Zhou teach a course that coveres ROC and AUC\n",
        "What absence policy does profressor pamela have\n",
        "Which courses deal with business and/or marketing aspects of data science\n",
        "Which courses deal with business and or marketing aspects of data science\n",
        "Which courses deal with business and or marketing aspects of data science and which professors teach those courses\n",
        "what topics does DSBA 6284 cover\n",
        "what topics does DSBA 6201 cover\n",
        "Which topics does DSBA 6165 cover\n",
        "Which professors have taught DSBA 6165\n",
        "Which professors have taught DSBA 6211\n",
        "Which professors have taught DSBA 6156\n",
        "which professors teach courses that use aws, gcp or azure\n",
        "which professors teach courses that use ecxel\n",
        "Which courses cover geographical data and who teaches them?\n",
        "Which courses deal with KNN and which ones deal with k-means (what is the difference between k-means and KNN\n",
        "Please compare and contrast the topics covered in DSBA 6188 and DSBA 6190 (include the list of professors that taught each course)\n",
        "IF I am taking DSBA 6010 the LLM Course please compare impact of adding DSBA 6190 vs DSBA 6188 in how it might round out my preparedness for industry\n",
        "IF I am taking DSBA 6010 the LLM Course please compare impact of adding DSBA 6190 vs DSBA 6188 in how it might round out my preparedness for industry including potential overlap\n",
        "IF I am taking DSBA 6010 (Applications of Large Language Models), taught by Professor Ryan, please compare impact of adding DSBA 6190 vs DSBA 6188 in how it might round out my preparedness for industry including potential overlap\n",
        "IF I am taking DSBA 6010 (Applications of Large Language Models), taught by Professor Ryan, please compare impact of adding DSBA 6190 vs DSBA 6188 in how it might round out my preparedness for industry including potential overlap. Please list the topics covered in each course\n",
        "Please review all of the Syllabi for DSBA 6188 and list all of the topics covered, all of the instructors that teach it and indicate which instructor covers each topic\n",
        "\"\"\".split(\"\\n\")\n",
        "for phrase in prompts:\n",
        "  retry=3\n",
        "  if phrase:\n",
        "    while retry > 0:\n",
        "      try:\n",
        "        display(Markdown(f\"# <font color='#966'>{phrase}</font>\"))\n",
        "        display(Markdown(f\"<font color='#44a'>**Sending**: _{phrase}_</font>\"))\n",
        "        result = requests.get(URL_TEMPLATE.format(phrase=phrase), verify=False).json()\n",
        "        display(Markdown(\"## Answer\"))\n",
        "        display(Markdown(result[\"answer\"]))\n",
        "        display(Markdown(\"## Retrieval\"))\n",
        "        print(json.dumps(result[\"ragified_prompt\"][\"retrieval\"], indent=2))\n",
        "        display(Markdown(\"## Sources\"))\n",
        "        for course in result[\"ragified_prompt\"][\"relevant_content\"]:\n",
        "            display(Markdown(f'### <font color=\"#699\">{course[\"id\"]}</font>'))\n",
        "            display(Markdown(f'**DSBA {course[\"course_number\"]}**: _{course[\"course_title\"]}_'))\n",
        "            display(Markdown(f'**Instuctor**: _{course[\"instructor\"]}_'))\n",
        "            display(Markdown(f'**Relevance**: _{course[\"relevance\"]}_'))\n",
        "            if \"i_relevance\" in course:\n",
        "                display(Markdown(f'**I Relevance**: _{course[\"i_relevance\"]}_'))\n",
        "            if \"v_relevance\" in course:\n",
        "                display(Markdown(f'**V Relevance**: _{course[\"v_relevance\"]}_'))\n",
        "        retry=0\n",
        "      except Exception as e:\n",
        "        print(e)\n",
        "        retry -= 1\n",
        "        display(Markdown(\"<font color='#090'>**_Retrying..._**<font>\" if retry > 0 else \"<font color='#900'>**_No more retries left_**<font>\"))\n",
        "\n",
        "\n"
      ],
      "metadata": {
        "colab": {
          "base_uri": "https://localhost:8080/",
          "height": 1000
        },
        "id": "R7gsdcoWSS7Q",
        "outputId": "70ba2543-d819-4977-c146-e9d0bcb008ae"
      },
      "execution_count": 17,
      "outputs": [
        {
          "output_type": "display_data",
          "data": {
            "text/plain": [
              "<IPython.core.display.Markdown object>"
            ],
            "text/markdown": "# <font color='#966'>Which courses deal with NLP and which professors teach those courses</font>"
          },
          "metadata": {}
        },
        {
          "output_type": "display_data",
          "data": {
            "text/plain": [
              "<IPython.core.display.Markdown object>"
            ],
            "text/markdown": "<font color='#44a'>**Sending**: _Which courses deal with NLP and which professors teach those courses_</font>"
          },
          "metadata": {}
        },
        {
          "output_type": "display_data",
          "data": {
            "text/plain": [
              "<IPython.core.display.Markdown object>"
            ],
            "text/markdown": "## Answer"
          },
          "metadata": {}
        },
        {
          "output_type": "display_data",
          "data": {
            "text/plain": [
              "<IPython.core.display.Markdown object>"
            ],
            "text/markdown": "Here are the courses related to Natural Language Processing (NLP) along with their respective instructors:\n\n1. **Text Mining and Information Retrieval (DSBA 6188 / ITIS 6010)**\n   - **Instructors**: \n     - Dr. Chang Hsin Lee\n       - Email: clee184@charlotte.edu\n     - Dr. Ryan Wesslen\n       - Email: rwesslen@charlotte.edu\n   - **Course Description**: This course explores recent advancements in NLP and examines how they have influenced traditional concepts in information retrieval and text mining.\n\n2. **Applications of Large Language Models (6010)**\n   - **Instructor**: Ryan Wesslen\n   - **Course Content**: Focuses on practical applications and techniques involving LLMs, which are central to current NLP developments.\n\n3. **Text Mining and Information Retrieval (6188)**\n   - **Instructor**: Dr. Depeng Xu\n     - Email: dxu7@charlotte.edu\n   - **Course Description**: Similar to above with a focus on analyzing large amounts of text data and basic information retrieval techniques.\n\n4. **Text Mining and Information Retrieval (6188)**\n   - **Instructor**: Xi (Sunshine) Niu\n     - Email: xniu2@uncc.edu\n   - **Course Description**: Covers the systematic introduction to text mining techniques and information retrieval, applicable to NLP.\n\nThese courses strongly emphasize various aspects of NLP, including model applications, text mining techniques, and the use of large language models."
          },
          "metadata": {}
        },
        {
          "output_type": "display_data",
          "data": {
            "text/plain": [
              "<IPython.core.display.Markdown object>"
            ],
            "text/markdown": "## Retrieval"
          },
          "metadata": {}
        },
        {
          "output_type": "stream",
          "name": "stdout",
          "text": [
            "{\n",
            "  \"request\": \"List courses related to NLP and their instructors.\",\n",
            "  \"semantic_phrase\": \"courses related to NLP\",\n",
            "  \"search_words\": [\n",
            "    \"NLP\",\n",
            "    \"Natural Language Processing\",\n",
            "    \"language processing\",\n",
            "    \"text analysis\"\n",
            "  ],\n",
            "  \"metadata_fields\": {\n",
            "    \"instructor\": [],\n",
            "    \"course_number\": [],\n",
            "    \"course_title\": []\n",
            "  }\n",
            "}\n"
          ]
        },
        {
          "output_type": "display_data",
          "data": {
            "text/plain": [
              "<IPython.core.display.Markdown object>"
            ],
            "text/markdown": "## Sources"
          },
          "metadata": {}
        },
        {
          "output_type": "display_data",
          "data": {
            "text/plain": [
              "<IPython.core.display.Markdown object>"
            ],
            "text/markdown": "### <font color=\"#699\">DSBA 6188 Text Mining and Information Retrieval – Chang Hsin Lee & Ryan Wesslen</font>"
          },
          "metadata": {}
        },
        {
          "output_type": "display_data",
          "data": {
            "text/plain": [
              "<IPython.core.display.Markdown object>"
            ],
            "text/markdown": "**DSBA 6188**: _Text Mining and Information Retrieval_"
          },
          "metadata": {}
        },
        {
          "output_type": "display_data",
          "data": {
            "text/plain": [
              "<IPython.core.display.Markdown object>"
            ],
            "text/markdown": "**Instuctor**: _Chang Hsin Lee_"
          },
          "metadata": {}
        },
        {
          "output_type": "display_data",
          "data": {
            "text/plain": [
              "<IPython.core.display.Markdown object>"
            ],
            "text/markdown": "**Relevance**: _1.020007108832663_"
          },
          "metadata": {}
        },
        {
          "output_type": "display_data",
          "data": {
            "text/plain": [
              "<IPython.core.display.Markdown object>"
            ],
            "text/markdown": "**I Relevance**: _1.020007108832663_"
          },
          "metadata": {}
        },
        {
          "output_type": "display_data",
          "data": {
            "text/plain": [
              "<IPython.core.display.Markdown object>"
            ],
            "text/markdown": "### <font color=\"#699\">DSBA-6010-Model-Risk-Management-Fal</font>"
          },
          "metadata": {}
        },
        {
          "output_type": "display_data",
          "data": {
            "text/plain": [
              "<IPython.core.display.Markdown object>"
            ],
            "text/markdown": "**DSBA 6010**: _Special Topic: Model Risk Management_"
          },
          "metadata": {}
        },
        {
          "output_type": "display_data",
          "data": {
            "text/plain": [
              "<IPython.core.display.Markdown object>"
            ],
            "text/markdown": "**Instuctor**: _Robert Fox_"
          },
          "metadata": {}
        },
        {
          "output_type": "display_data",
          "data": {
            "text/plain": [
              "<IPython.core.display.Markdown object>"
            ],
            "text/markdown": "**Relevance**: _0.5544865425935263_"
          },
          "metadata": {}
        },
        {
          "output_type": "display_data",
          "data": {
            "text/plain": [
              "<IPython.core.display.Markdown object>"
            ],
            "text/markdown": "**I Relevance**: _0.5544865425935263_"
          },
          "metadata": {}
        },
        {
          "output_type": "display_data",
          "data": {
            "text/plain": [
              "<IPython.core.display.Markdown object>"
            ],
            "text/markdown": "### <font color=\"#699\">DSBA-6188-Text-Mining-and-Information-Retrieval-Fall-2024-Depeng-Xu.pdf</font>"
          },
          "metadata": {}
        },
        {
          "output_type": "display_data",
          "data": {
            "text/plain": [
              "<IPython.core.display.Markdown object>"
            ],
            "text/markdown": "**DSBA 6188**: _Text Mining and Information Retrieval_"
          },
          "metadata": {}
        },
        {
          "output_type": "display_data",
          "data": {
            "text/plain": [
              "<IPython.core.display.Markdown object>"
            ],
            "text/markdown": "**Instuctor**: _Depeng Zu_"
          },
          "metadata": {}
        },
        {
          "output_type": "display_data",
          "data": {
            "text/plain": [
              "<IPython.core.display.Markdown object>"
            ],
            "text/markdown": "**Relevance**: _0.545524441520989_"
          },
          "metadata": {}
        },
        {
          "output_type": "display_data",
          "data": {
            "text/plain": [
              "<IPython.core.display.Markdown object>"
            ],
            "text/markdown": "**I Relevance**: _0.545524441520989_"
          },
          "metadata": {}
        },
        {
          "output_type": "display_data",
          "data": {
            "text/plain": [
              "<IPython.core.display.Markdown object>"
            ],
            "text/markdown": "### <font color=\"#699\">DSBA6188_Syllabus_Spring2023_Niu – Xi (Sunshine) Niu.pdf</font>"
          },
          "metadata": {}
        },
        {
          "output_type": "display_data",
          "data": {
            "text/plain": [
              "<IPython.core.display.Markdown object>"
            ],
            "text/markdown": "**DSBA 6188**: _Text Mining and Information Retrieval_"
          },
          "metadata": {}
        },
        {
          "output_type": "display_data",
          "data": {
            "text/plain": [
              "<IPython.core.display.Markdown object>"
            ],
            "text/markdown": "**Instuctor**: _Xi (Sunshine) Niu_"
          },
          "metadata": {}
        },
        {
          "output_type": "display_data",
          "data": {
            "text/plain": [
              "<IPython.core.display.Markdown object>"
            ],
            "text/markdown": "**Relevance**: _0.545524441520989_"
          },
          "metadata": {}
        },
        {
          "output_type": "display_data",
          "data": {
            "text/plain": [
              "<IPython.core.display.Markdown object>"
            ],
            "text/markdown": "**I Relevance**: _0.545524441520989_"
          },
          "metadata": {}
        },
        {
          "output_type": "display_data",
          "data": {
            "text/plain": [
              "<IPython.core.display.Markdown object>"
            ],
            "text/markdown": "### <font color=\"#699\">DSBA 6188 Text Mining and Information Retrieval – Chang Hsin Lee & Ryan Wesslen.C0001</font>"
          },
          "metadata": {}
        },
        {
          "output_type": "display_data",
          "data": {
            "text/plain": [
              "<IPython.core.display.Markdown object>"
            ],
            "text/markdown": "**DSBA 6188**: _Text Mining and Information Retrieval_"
          },
          "metadata": {}
        },
        {
          "output_type": "display_data",
          "data": {
            "text/plain": [
              "<IPython.core.display.Markdown object>"
            ],
            "text/markdown": "**Instuctor**: _Chang Hsin Lee_"
          },
          "metadata": {}
        },
        {
          "output_type": "display_data",
          "data": {
            "text/plain": [
              "<IPython.core.display.Markdown object>"
            ],
            "text/markdown": "**Relevance**: _0.48178465648911956_"
          },
          "metadata": {}
        },
        {
          "output_type": "display_data",
          "data": {
            "text/plain": [
              "<IPython.core.display.Markdown object>"
            ],
            "text/markdown": "**V Relevance**: _0.48178465648911956_"
          },
          "metadata": {}
        },
        {
          "output_type": "display_data",
          "data": {
            "text/plain": [
              "<IPython.core.display.Markdown object>"
            ],
            "text/markdown": "### <font color=\"#699\">DSBA-6010-Applications-of-Large-Language-Models-Fall-2024-Ryan-Wesslen.pdf.C0004</font>"
          },
          "metadata": {}
        },
        {
          "output_type": "display_data",
          "data": {
            "text/plain": [
              "<IPython.core.display.Markdown object>"
            ],
            "text/markdown": "**DSBA 6010**: _Applications of Large Language Models_"
          },
          "metadata": {}
        },
        {
          "output_type": "display_data",
          "data": {
            "text/plain": [
              "<IPython.core.display.Markdown object>"
            ],
            "text/markdown": "**Instuctor**: _Ryan Wesslen_"
          },
          "metadata": {}
        },
        {
          "output_type": "display_data",
          "data": {
            "text/plain": [
              "<IPython.core.display.Markdown object>"
            ],
            "text/markdown": "**Relevance**: _0.4789846444245015_"
          },
          "metadata": {}
        },
        {
          "output_type": "display_data",
          "data": {
            "text/plain": [
              "<IPython.core.display.Markdown object>"
            ],
            "text/markdown": "**V Relevance**: _0.4789846444245015_"
          },
          "metadata": {}
        },
        {
          "output_type": "display_data",
          "data": {
            "text/plain": [
              "<IPython.core.display.Markdown object>"
            ],
            "text/markdown": "### <font color=\"#699\">DSBA 6188 Text Mining and Information Retrieval – Chang Hsin Lee & Ryan Wesslen.C0002</font>"
          },
          "metadata": {}
        },
        {
          "output_type": "display_data",
          "data": {
            "text/plain": [
              "<IPython.core.display.Markdown object>"
            ],
            "text/markdown": "**DSBA 6188**: _Text Mining and Information Retrieval_"
          },
          "metadata": {}
        },
        {
          "output_type": "display_data",
          "data": {
            "text/plain": [
              "<IPython.core.display.Markdown object>"
            ],
            "text/markdown": "**Instuctor**: _Chang Hsin Lee_"
          },
          "metadata": {}
        },
        {
          "output_type": "display_data",
          "data": {
            "text/plain": [
              "<IPython.core.display.Markdown object>"
            ],
            "text/markdown": "**Relevance**: _0.4773479314885791_"
          },
          "metadata": {}
        },
        {
          "output_type": "display_data",
          "data": {
            "text/plain": [
              "<IPython.core.display.Markdown object>"
            ],
            "text/markdown": "**V Relevance**: _0.4773479314885791_"
          },
          "metadata": {}
        },
        {
          "output_type": "display_data",
          "data": {
            "text/plain": [
              "<IPython.core.display.Markdown object>"
            ],
            "text/markdown": "### <font color=\"#699\">DSBA6188_Syllabus_Spring2023_Niu – Xi (Sunshine) Niu.pdf.C0001</font>"
          },
          "metadata": {}
        },
        {
          "output_type": "display_data",
          "data": {
            "text/plain": [
              "<IPython.core.display.Markdown object>"
            ],
            "text/markdown": "**DSBA 6188**: _Text Mining and Information Retrieval_"
          },
          "metadata": {}
        },
        {
          "output_type": "display_data",
          "data": {
            "text/plain": [
              "<IPython.core.display.Markdown object>"
            ],
            "text/markdown": "**Instuctor**: _Xi (Sunshine) Niu_"
          },
          "metadata": {}
        },
        {
          "output_type": "display_data",
          "data": {
            "text/plain": [
              "<IPython.core.display.Markdown object>"
            ],
            "text/markdown": "**Relevance**: _0.4742501082080253_"
          },
          "metadata": {}
        },
        {
          "output_type": "display_data",
          "data": {
            "text/plain": [
              "<IPython.core.display.Markdown object>"
            ],
            "text/markdown": "**V Relevance**: _0.4742501082080253_"
          },
          "metadata": {}
        },
        {
          "output_type": "display_data",
          "data": {
            "text/plain": [
              "<IPython.core.display.Markdown object>"
            ],
            "text/markdown": "### <font color=\"#699\">DSBA 6188 Text Mining and Information Retrieval – Chang Hsin Lee & Ryan Wesslen.C0003</font>"
          },
          "metadata": {}
        },
        {
          "output_type": "display_data",
          "data": {
            "text/plain": [
              "<IPython.core.display.Markdown object>"
            ],
            "text/markdown": "**DSBA 6188**: _Text Mining and Information Retrieval_"
          },
          "metadata": {}
        },
        {
          "output_type": "display_data",
          "data": {
            "text/plain": [
              "<IPython.core.display.Markdown object>"
            ],
            "text/markdown": "**Instuctor**: _Chang Hsin Lee_"
          },
          "metadata": {}
        },
        {
          "output_type": "display_data",
          "data": {
            "text/plain": [
              "<IPython.core.display.Markdown object>"
            ],
            "text/markdown": "**Relevance**: _0.4733054053732294_"
          },
          "metadata": {}
        },
        {
          "output_type": "display_data",
          "data": {
            "text/plain": [
              "<IPython.core.display.Markdown object>"
            ],
            "text/markdown": "**V Relevance**: _0.4733054053732294_"
          },
          "metadata": {}
        },
        {
          "output_type": "display_data",
          "data": {
            "text/plain": [
              "<IPython.core.display.Markdown object>"
            ],
            "text/markdown": "### <font color=\"#699\">DSBA-6165-AI-and-Deep-Learning-Fall-2024-Albert-Park-1.pdf</font>"
          },
          "metadata": {}
        },
        {
          "output_type": "display_data",
          "data": {
            "text/plain": [
              "<IPython.core.display.Markdown object>"
            ],
            "text/markdown": "**DSBA 6165**: _AI and Deep Learning_"
          },
          "metadata": {}
        },
        {
          "output_type": "display_data",
          "data": {
            "text/plain": [
              "<IPython.core.display.Markdown object>"
            ],
            "text/markdown": "**Instuctor**: _Albert Park_"
          },
          "metadata": {}
        },
        {
          "output_type": "display_data",
          "data": {
            "text/plain": [
              "<IPython.core.display.Markdown object>"
            ],
            "text/markdown": "**Relevance**: _0.4002328464191822_"
          },
          "metadata": {}
        },
        {
          "output_type": "display_data",
          "data": {
            "text/plain": [
              "<IPython.core.display.Markdown object>"
            ],
            "text/markdown": "**I Relevance**: _0.4002328464191822_"
          },
          "metadata": {}
        },
        {
          "output_type": "display_data",
          "data": {
            "text/plain": [
              "<IPython.core.display.Markdown object>"
            ],
            "text/markdown": "# <font color='#966'>Which courses does professor sunshine teach</font>"
          },
          "metadata": {}
        },
        {
          "output_type": "display_data",
          "data": {
            "text/plain": [
              "<IPython.core.display.Markdown object>"
            ],
            "text/markdown": "<font color='#44a'>**Sending**: _Which courses does professor sunshine teach_</font>"
          },
          "metadata": {}
        },
        {
          "output_type": "display_data",
          "data": {
            "text/plain": [
              "<IPython.core.display.Markdown object>"
            ],
            "text/markdown": "## Answer"
          },
          "metadata": {}
        },
        {
          "output_type": "display_data",
          "data": {
            "text/plain": [
              "<IPython.core.display.Markdown object>"
            ],
            "text/markdown": "Professor Xi (Sunshine) Niu teaches the following courses at the University of North Carolina at Charlotte:\n\n1. **Knowledge Discovery in Databases (KDD)** - Course Number: DSBA/HCIP 6162\n   - Description: This course covers data mining techniques and the data mining process, including problem setting, data preprocessing, model construction, evaluation, and interpretation. It includes classical data mining approaches and recent deep learning models, focusing on turning data into actionable knowledge.\n\n2. **Data Mining** - Course Number: ITIS/DSBA/HCIP 6162\n   - Description: This course is similar to the KDD course, focusing on data mining as an essential part of AI, covering techniques for analyzing large amounts of data and various data mining methods including deep learning models.\n\n3. **Text Mining and Information Retrieval** - Course Number: DSBA 6188/ITIS 6010\n   - Description: This course provides techniques for analyzing text data and fundamentals of information retrieval. It covers methods like word association mining, topic modeling, and text classification, as well as the evaluations of retrieval models.\n\nThese courses primarily focus on data analysis, mining techniques, and the use of AI and computational approaches to derive insights from big data."
          },
          "metadata": {}
        },
        {
          "output_type": "display_data",
          "data": {
            "text/plain": [
              "<IPython.core.display.Markdown object>"
            ],
            "text/markdown": "## Retrieval"
          },
          "metadata": {}
        },
        {
          "output_type": "stream",
          "name": "stdout",
          "text": [
            "{\n",
            "  \"request\": \"Query for courses taught by professor sunshine\",\n",
            "  \"semantic_phrase\": \"courses taught by professor sunshine\",\n",
            "  \"search_words\": [\n",
            "    \"courses\",\n",
            "    \"professor\",\n",
            "    \"sunshine\",\n",
            "    \"teach\"\n",
            "  ],\n",
            "  \"metadata_fields\": {\n",
            "    \"instructor\": [\n",
            "      \"sunshine\"\n",
            "    ],\n",
            "    \"course_number\": [],\n",
            "    \"course_title\": []\n",
            "  }\n",
            "}\n"
          ]
        },
        {
          "output_type": "display_data",
          "data": {
            "text/plain": [
              "<IPython.core.display.Markdown object>"
            ],
            "text/markdown": "## Sources"
          },
          "metadata": {}
        },
        {
          "output_type": "display_data",
          "data": {
            "text/plain": [
              "<IPython.core.display.Markdown object>"
            ],
            "text/markdown": "### <font color=\"#699\">DSBA 6162 Knowledge Discovery in Databases (KDD) Xi (Sunshine) Niu</font>"
          },
          "metadata": {}
        },
        {
          "output_type": "display_data",
          "data": {
            "text/plain": [
              "<IPython.core.display.Markdown object>"
            ],
            "text/markdown": "**DSBA 6162**: _Knowledge Discovery in Databases (KDD)_"
          },
          "metadata": {}
        },
        {
          "output_type": "display_data",
          "data": {
            "text/plain": [
              "<IPython.core.display.Markdown object>"
            ],
            "text/markdown": "**Instuctor**: _Xi (Sunshine) Niu_"
          },
          "metadata": {}
        },
        {
          "output_type": "display_data",
          "data": {
            "text/plain": [
              "<IPython.core.display.Markdown object>"
            ],
            "text/markdown": "**Relevance**: _0.7151975157975645_"
          },
          "metadata": {}
        },
        {
          "output_type": "display_data",
          "data": {
            "text/plain": [
              "<IPython.core.display.Markdown object>"
            ],
            "text/markdown": "**I Relevance**: _0.7151975157975645_"
          },
          "metadata": {}
        },
        {
          "output_type": "display_data",
          "data": {
            "text/plain": [
              "<IPython.core.display.Markdown object>"
            ],
            "text/markdown": "### <font color=\"#699\">DSBA_HCIP-6162-Knowledge-Discovery-and-Databases-Fall-2024-Xi-Sunshine-Niu-1.pdf</font>"
          },
          "metadata": {}
        },
        {
          "output_type": "display_data",
          "data": {
            "text/plain": [
              "<IPython.core.display.Markdown object>"
            ],
            "text/markdown": "**DSBA 6162**: _Knowledge Discovery and Databases_"
          },
          "metadata": {}
        },
        {
          "output_type": "display_data",
          "data": {
            "text/plain": [
              "<IPython.core.display.Markdown object>"
            ],
            "text/markdown": "**Instuctor**: _Xi (Sunshine) Nu_"
          },
          "metadata": {}
        },
        {
          "output_type": "display_data",
          "data": {
            "text/plain": [
              "<IPython.core.display.Markdown object>"
            ],
            "text/markdown": "**Relevance**: _0.7112542007771919_"
          },
          "metadata": {}
        },
        {
          "output_type": "display_data",
          "data": {
            "text/plain": [
              "<IPython.core.display.Markdown object>"
            ],
            "text/markdown": "**I Relevance**: _0.7112542007771919_"
          },
          "metadata": {}
        },
        {
          "output_type": "display_data",
          "data": {
            "text/plain": [
              "<IPython.core.display.Markdown object>"
            ],
            "text/markdown": "### <font color=\"#699\">DSBA6188_Syllabus_Spring2023_Niu – Xi (Sunshine) Niu.pdf</font>"
          },
          "metadata": {}
        },
        {
          "output_type": "display_data",
          "data": {
            "text/plain": [
              "<IPython.core.display.Markdown object>"
            ],
            "text/markdown": "**DSBA 6188**: _Text Mining and Information Retrieval_"
          },
          "metadata": {}
        },
        {
          "output_type": "display_data",
          "data": {
            "text/plain": [
              "<IPython.core.display.Markdown object>"
            ],
            "text/markdown": "**Instuctor**: _Xi (Sunshine) Niu_"
          },
          "metadata": {}
        },
        {
          "output_type": "display_data",
          "data": {
            "text/plain": [
              "<IPython.core.display.Markdown object>"
            ],
            "text/markdown": "**Relevance**: _0.7033743026180808_"
          },
          "metadata": {}
        },
        {
          "output_type": "display_data",
          "data": {
            "text/plain": [
              "<IPython.core.display.Markdown object>"
            ],
            "text/markdown": "**I Relevance**: _0.7033743026180808_"
          },
          "metadata": {}
        },
        {
          "output_type": "display_data",
          "data": {
            "text/plain": [
              "<IPython.core.display.Markdown object>"
            ],
            "text/markdown": "### <font color=\"#699\">DSBA_HCIP-6162-Knowledge-Discovery-and-Databases-Fall-2024-Xi-Sunshine-Niu-1.pdf.C0001</font>"
          },
          "metadata": {}
        },
        {
          "output_type": "display_data",
          "data": {
            "text/plain": [
              "<IPython.core.display.Markdown object>"
            ],
            "text/markdown": "**DSBA 6162**: _Knowledge Discovery and Databases_"
          },
          "metadata": {}
        },
        {
          "output_type": "display_data",
          "data": {
            "text/plain": [
              "<IPython.core.display.Markdown object>"
            ],
            "text/markdown": "**Instuctor**: _Xi (Sunshine) Nu_"
          },
          "metadata": {}
        },
        {
          "output_type": "display_data",
          "data": {
            "text/plain": [
              "<IPython.core.display.Markdown object>"
            ],
            "text/markdown": "**Relevance**: _0.4783853145212496_"
          },
          "metadata": {}
        },
        {
          "output_type": "display_data",
          "data": {
            "text/plain": [
              "<IPython.core.display.Markdown object>"
            ],
            "text/markdown": "**V Relevance**: _0.4783853145212496_"
          },
          "metadata": {}
        },
        {
          "output_type": "display_data",
          "data": {
            "text/plain": [
              "<IPython.core.display.Markdown object>"
            ],
            "text/markdown": "### <font color=\"#699\">DSBA 6162 Knowledge Discovery in Databases (KDD) Xi (Sunshine) Niu.C0001</font>"
          },
          "metadata": {}
        },
        {
          "output_type": "display_data",
          "data": {
            "text/plain": [
              "<IPython.core.display.Markdown object>"
            ],
            "text/markdown": "**DSBA 6162**: _Knowledge Discovery in Databases (KDD)_"
          },
          "metadata": {}
        },
        {
          "output_type": "display_data",
          "data": {
            "text/plain": [
              "<IPython.core.display.Markdown object>"
            ],
            "text/markdown": "**Instuctor**: _Xi (Sunshine) Niu_"
          },
          "metadata": {}
        },
        {
          "output_type": "display_data",
          "data": {
            "text/plain": [
              "<IPython.core.display.Markdown object>"
            ],
            "text/markdown": "**Relevance**: _0.476894791717595_"
          },
          "metadata": {}
        },
        {
          "output_type": "display_data",
          "data": {
            "text/plain": [
              "<IPython.core.display.Markdown object>"
            ],
            "text/markdown": "**V Relevance**: _0.476894791717595_"
          },
          "metadata": {}
        },
        {
          "output_type": "display_data",
          "data": {
            "text/plain": [
              "<IPython.core.display.Markdown object>"
            ],
            "text/markdown": "### <font color=\"#699\">DSBA6188_Syllabus_Spring2023_Niu – Xi (Sunshine) Niu.pdf.C0001</font>"
          },
          "metadata": {}
        },
        {
          "output_type": "display_data",
          "data": {
            "text/plain": [
              "<IPython.core.display.Markdown object>"
            ],
            "text/markdown": "**DSBA 6188**: _Text Mining and Information Retrieval_"
          },
          "metadata": {}
        },
        {
          "output_type": "display_data",
          "data": {
            "text/plain": [
              "<IPython.core.display.Markdown object>"
            ],
            "text/markdown": "**Instuctor**: _Xi (Sunshine) Niu_"
          },
          "metadata": {}
        },
        {
          "output_type": "display_data",
          "data": {
            "text/plain": [
              "<IPython.core.display.Markdown object>"
            ],
            "text/markdown": "**Relevance**: _0.4689279489757507_"
          },
          "metadata": {}
        },
        {
          "output_type": "display_data",
          "data": {
            "text/plain": [
              "<IPython.core.display.Markdown object>"
            ],
            "text/markdown": "**V Relevance**: _0.4689279489757507_"
          },
          "metadata": {}
        },
        {
          "output_type": "display_data",
          "data": {
            "text/plain": [
              "<IPython.core.display.Markdown object>"
            ],
            "text/markdown": "### <font color=\"#699\">DSBA-6010-Model-Risk-Management-Fal.C0002</font>"
          },
          "metadata": {}
        },
        {
          "output_type": "display_data",
          "data": {
            "text/plain": [
              "<IPython.core.display.Markdown object>"
            ],
            "text/markdown": "**DSBA 6010**: _Special Topic: Model Risk Management_"
          },
          "metadata": {}
        },
        {
          "output_type": "display_data",
          "data": {
            "text/plain": [
              "<IPython.core.display.Markdown object>"
            ],
            "text/markdown": "**Instuctor**: _Robert Fox_"
          },
          "metadata": {}
        },
        {
          "output_type": "display_data",
          "data": {
            "text/plain": [
              "<IPython.core.display.Markdown object>"
            ],
            "text/markdown": "**Relevance**: _0.4625312853159056_"
          },
          "metadata": {}
        },
        {
          "output_type": "display_data",
          "data": {
            "text/plain": [
              "<IPython.core.display.Markdown object>"
            ],
            "text/markdown": "**V Relevance**: _0.4625312853159056_"
          },
          "metadata": {}
        },
        {
          "output_type": "display_data",
          "data": {
            "text/plain": [
              "<IPython.core.display.Markdown object>"
            ],
            "text/markdown": "### <font color=\"#699\">DSBA_HCIP_6160_Thompson_Spring_2023 – Pamela Thompson.pdf.C0004</font>"
          },
          "metadata": {}
        },
        {
          "output_type": "display_data",
          "data": {
            "text/plain": [
              "<IPython.core.display.Markdown object>"
            ],
            "text/markdown": "**DSBA 6160**: _Database Systems for Data Scientists_"
          },
          "metadata": {}
        },
        {
          "output_type": "display_data",
          "data": {
            "text/plain": [
              "<IPython.core.display.Markdown object>"
            ],
            "text/markdown": "**Instuctor**: _Pamela Thompson_"
          },
          "metadata": {}
        },
        {
          "output_type": "display_data",
          "data": {
            "text/plain": [
              "<IPython.core.display.Markdown object>"
            ],
            "text/markdown": "**Relevance**: _0.4569178603152788_"
          },
          "metadata": {}
        },
        {
          "output_type": "display_data",
          "data": {
            "text/plain": [
              "<IPython.core.display.Markdown object>"
            ],
            "text/markdown": "**V Relevance**: _0.4569178603152788_"
          },
          "metadata": {}
        },
        {
          "output_type": "display_data",
          "data": {
            "text/plain": [
              "<IPython.core.display.Markdown object>"
            ],
            "text/markdown": "# <font color='#966'>Which courses does professor chakra teach</font>"
          },
          "metadata": {}
        },
        {
          "output_type": "display_data",
          "data": {
            "text/plain": [
              "<IPython.core.display.Markdown object>"
            ],
            "text/markdown": "<font color='#44a'>**Sending**: _Which courses does professor chakra teach_</font>"
          },
          "metadata": {}
        },
        {
          "output_type": "display_data",
          "data": {
            "text/plain": [
              "<IPython.core.display.Markdown object>"
            ],
            "text/markdown": "## Answer"
          },
          "metadata": {}
        },
        {
          "output_type": "display_data",
          "data": {
            "text/plain": [
              "<IPython.core.display.Markdown object>"
            ],
            "text/markdown": "Professor Rick Chakra teaches the following courses:\n\n1. **Applied Machine Learning (DSBA 6156)** - This course focuses on building a deep understanding of machine learning methods and developing practical skills to transform raw data into actionable insights.\n\n2. **Applied Computer Vision (DSBA 6010)** - This course equips students with fundamental knowledge and skills in computer vision, emphasizing applications in data science and hands-on experience with deep learning techniques.\n\nThese courses are part of the data science curriculum at the University of North Carolina at Charlotte."
          },
          "metadata": {}
        },
        {
          "output_type": "display_data",
          "data": {
            "text/plain": [
              "<IPython.core.display.Markdown object>"
            ],
            "text/markdown": "## Retrieval"
          },
          "metadata": {}
        },
        {
          "output_type": "stream",
          "name": "stdout",
          "text": [
            "{\n",
            "  \"request\": \"List of courses taught by professor Chakra\",\n",
            "  \"semantic_phrase\": \"courses taught by professor Chakra\",\n",
            "  \"search_words\": [\n",
            "    \"courses\",\n",
            "    \"professor\",\n",
            "    \"Chakra\",\n",
            "    \"teach\"\n",
            "  ],\n",
            "  \"metadata_fields\": {\n",
            "    \"instructor\": [\n",
            "      \"Chakra\"\n",
            "    ],\n",
            "    \"course_number\": [],\n",
            "    \"course_title\": []\n",
            "  }\n",
            "}\n"
          ]
        },
        {
          "output_type": "display_data",
          "data": {
            "text/plain": [
              "<IPython.core.display.Markdown object>"
            ],
            "text/markdown": "## Sources"
          },
          "metadata": {}
        },
        {
          "output_type": "display_data",
          "data": {
            "text/plain": [
              "<IPython.core.display.Markdown object>"
            ],
            "text/markdown": "### <font color=\"#699\">DSBA-6156-Applied-Machine-Learning-Fall-2024-Rick-Chakra.pdf</font>"
          },
          "metadata": {}
        },
        {
          "output_type": "display_data",
          "data": {
            "text/plain": [
              "<IPython.core.display.Markdown object>"
            ],
            "text/markdown": "**DSBA 6156**: _Applied Machine Learning_"
          },
          "metadata": {}
        },
        {
          "output_type": "display_data",
          "data": {
            "text/plain": [
              "<IPython.core.display.Markdown object>"
            ],
            "text/markdown": "**Instuctor**: _Rick Chakra_"
          },
          "metadata": {}
        },
        {
          "output_type": "display_data",
          "data": {
            "text/plain": [
              "<IPython.core.display.Markdown object>"
            ],
            "text/markdown": "**Relevance**: _0.5665604452325556_"
          },
          "metadata": {}
        },
        {
          "output_type": "display_data",
          "data": {
            "text/plain": [
              "<IPython.core.display.Markdown object>"
            ],
            "text/markdown": "**I Relevance**: _0.5665604452325556_"
          },
          "metadata": {}
        },
        {
          "output_type": "display_data",
          "data": {
            "text/plain": [
              "<IPython.core.display.Markdown object>"
            ],
            "text/markdown": "### <font color=\"#699\">DSBA 6156 Applied Machine Learning – Rick Chakra</font>"
          },
          "metadata": {}
        },
        {
          "output_type": "display_data",
          "data": {
            "text/plain": [
              "<IPython.core.display.Markdown object>"
            ],
            "text/markdown": "**DSBA 6156**: _Applied Machine Learning_"
          },
          "metadata": {}
        },
        {
          "output_type": "display_data",
          "data": {
            "text/plain": [
              "<IPython.core.display.Markdown object>"
            ],
            "text/markdown": "**Instuctor**: _Rick Chakra_"
          },
          "metadata": {}
        },
        {
          "output_type": "display_data",
          "data": {
            "text/plain": [
              "<IPython.core.display.Markdown object>"
            ],
            "text/markdown": "**Relevance**: _0.5549172208176554_"
          },
          "metadata": {}
        },
        {
          "output_type": "display_data",
          "data": {
            "text/plain": [
              "<IPython.core.display.Markdown object>"
            ],
            "text/markdown": "**I Relevance**: _0.5549172208176554_"
          },
          "metadata": {}
        },
        {
          "output_type": "display_data",
          "data": {
            "text/plain": [
              "<IPython.core.display.Markdown object>"
            ],
            "text/markdown": "### <font color=\"#699\">DSBA 6010 Applied Computer Vision – Rick Chakra</font>"
          },
          "metadata": {}
        },
        {
          "output_type": "display_data",
          "data": {
            "text/plain": [
              "<IPython.core.display.Markdown object>"
            ],
            "text/markdown": "**DSBA 6010**: _Applied Computer Vision_"
          },
          "metadata": {}
        },
        {
          "output_type": "display_data",
          "data": {
            "text/plain": [
              "<IPython.core.display.Markdown object>"
            ],
            "text/markdown": "**Instuctor**: _Rick Chakra_"
          },
          "metadata": {}
        },
        {
          "output_type": "display_data",
          "data": {
            "text/plain": [
              "<IPython.core.display.Markdown object>"
            ],
            "text/markdown": "**Relevance**: _0.5522257152374145_"
          },
          "metadata": {}
        },
        {
          "output_type": "display_data",
          "data": {
            "text/plain": [
              "<IPython.core.display.Markdown object>"
            ],
            "text/markdown": "**I Relevance**: _0.5522257152374145_"
          },
          "metadata": {}
        },
        {
          "output_type": "display_data",
          "data": {
            "text/plain": [
              "<IPython.core.display.Markdown object>"
            ],
            "text/markdown": "### <font color=\"#699\">Syllabus for 202310-Spring 2023-DSBA-6156-U90-Applied Machine Learning – Rick Chakra.pdf</font>"
          },
          "metadata": {}
        },
        {
          "output_type": "display_data",
          "data": {
            "text/plain": [
              "<IPython.core.display.Markdown object>"
            ],
            "text/markdown": "**DSBA 6156**: _Applied Machine Learning_"
          },
          "metadata": {}
        },
        {
          "output_type": "display_data",
          "data": {
            "text/plain": [
              "<IPython.core.display.Markdown object>"
            ],
            "text/markdown": "**Instuctor**: _Rick Chakra_"
          },
          "metadata": {}
        },
        {
          "output_type": "display_data",
          "data": {
            "text/plain": [
              "<IPython.core.display.Markdown object>"
            ],
            "text/markdown": "**Relevance**: _0.5504888012998477_"
          },
          "metadata": {}
        },
        {
          "output_type": "display_data",
          "data": {
            "text/plain": [
              "<IPython.core.display.Markdown object>"
            ],
            "text/markdown": "**I Relevance**: _0.5504888012998477_"
          },
          "metadata": {}
        },
        {
          "output_type": "display_data",
          "data": {
            "text/plain": [
              "<IPython.core.display.Markdown object>"
            ],
            "text/markdown": "### <font color=\"#699\">DSBA 6188 Text Mining and Information Retrieval – Chang Hsin Lee & Ryan Wesslen.C0001</font>"
          },
          "metadata": {}
        },
        {
          "output_type": "display_data",
          "data": {
            "text/plain": [
              "<IPython.core.display.Markdown object>"
            ],
            "text/markdown": "**DSBA 6188**: _Text Mining and Information Retrieval_"
          },
          "metadata": {}
        },
        {
          "output_type": "display_data",
          "data": {
            "text/plain": [
              "<IPython.core.display.Markdown object>"
            ],
            "text/markdown": "**Instuctor**: _Chang Hsin Lee_"
          },
          "metadata": {}
        },
        {
          "output_type": "display_data",
          "data": {
            "text/plain": [
              "<IPython.core.display.Markdown object>"
            ],
            "text/markdown": "**Relevance**: _0.45727096721335514_"
          },
          "metadata": {}
        },
        {
          "output_type": "display_data",
          "data": {
            "text/plain": [
              "<IPython.core.display.Markdown object>"
            ],
            "text/markdown": "**V Relevance**: _0.45727096721335514_"
          },
          "metadata": {}
        },
        {
          "output_type": "display_data",
          "data": {
            "text/plain": [
              "<IPython.core.display.Markdown object>"
            ],
            "text/markdown": "### <font color=\"#699\">DSBA6188_Syllabus_Spring2023_Niu – Xi (Sunshine) Niu.pdf.C0001</font>"
          },
          "metadata": {}
        },
        {
          "output_type": "display_data",
          "data": {
            "text/plain": [
              "<IPython.core.display.Markdown object>"
            ],
            "text/markdown": "**DSBA 6188**: _Text Mining and Information Retrieval_"
          },
          "metadata": {}
        },
        {
          "output_type": "display_data",
          "data": {
            "text/plain": [
              "<IPython.core.display.Markdown object>"
            ],
            "text/markdown": "**Instuctor**: _Xi (Sunshine) Niu_"
          },
          "metadata": {}
        },
        {
          "output_type": "display_data",
          "data": {
            "text/plain": [
              "<IPython.core.display.Markdown object>"
            ],
            "text/markdown": "**Relevance**: _0.4552925661453398_"
          },
          "metadata": {}
        },
        {
          "output_type": "display_data",
          "data": {
            "text/plain": [
              "<IPython.core.display.Markdown object>"
            ],
            "text/markdown": "**V Relevance**: _0.4552925661453398_"
          },
          "metadata": {}
        },
        {
          "output_type": "display_data",
          "data": {
            "text/plain": [
              "<IPython.core.display.Markdown object>"
            ],
            "text/markdown": "### <font color=\"#699\">DSBA-6010-Fall-2024-Steven-Jordan.pdf.C0003</font>"
          },
          "metadata": {}
        },
        {
          "output_type": "display_data",
          "data": {
            "text/plain": [
              "<IPython.core.display.Markdown object>"
            ],
            "text/markdown": "**DSBA 6010**: _Special Topics: Building & Leading Data Organizations_"
          },
          "metadata": {}
        },
        {
          "output_type": "display_data",
          "data": {
            "text/plain": [
              "<IPython.core.display.Markdown object>"
            ],
            "text/markdown": "**Instuctor**: _Steven Jordan_"
          },
          "metadata": {}
        },
        {
          "output_type": "display_data",
          "data": {
            "text/plain": [
              "<IPython.core.display.Markdown object>"
            ],
            "text/markdown": "**Relevance**: _0.4550906675850282_"
          },
          "metadata": {}
        },
        {
          "output_type": "display_data",
          "data": {
            "text/plain": [
              "<IPython.core.display.Markdown object>"
            ],
            "text/markdown": "**V Relevance**: _0.4550906675850282_"
          },
          "metadata": {}
        },
        {
          "output_type": "display_data",
          "data": {
            "text/plain": [
              "<IPython.core.display.Markdown object>"
            ],
            "text/markdown": "### <font color=\"#699\">DSBA6100-U90_MBAD7090-U92_Spring 2023_Blaine Nashold – Daryl Nashold.pdf.C0003</font>"
          },
          "metadata": {}
        },
        {
          "output_type": "display_data",
          "data": {
            "text/plain": [
              "<IPython.core.display.Markdown object>"
            ],
            "text/markdown": "**DSBA 6100**: _Big Data Analytics for Competitive Advantage_"
          },
          "metadata": {}
        },
        {
          "output_type": "display_data",
          "data": {
            "text/plain": [
              "<IPython.core.display.Markdown object>"
            ],
            "text/markdown": "**Instuctor**: _Daryl Nashold_"
          },
          "metadata": {}
        },
        {
          "output_type": "display_data",
          "data": {
            "text/plain": [
              "<IPython.core.display.Markdown object>"
            ],
            "text/markdown": "**Relevance**: _0.4538543443069971_"
          },
          "metadata": {}
        },
        {
          "output_type": "display_data",
          "data": {
            "text/plain": [
              "<IPython.core.display.Markdown object>"
            ],
            "text/markdown": "**V Relevance**: _0.4538543443069971_"
          },
          "metadata": {}
        },
        {
          "output_type": "display_data",
          "data": {
            "text/plain": [
              "<IPython.core.display.Markdown object>"
            ],
            "text/markdown": "### <font color=\"#699\">DSBA-6010-Model-Risk-Management-Fal.C0002</font>"
          },
          "metadata": {}
        },
        {
          "output_type": "display_data",
          "data": {
            "text/plain": [
              "<IPython.core.display.Markdown object>"
            ],
            "text/markdown": "**DSBA 6010**: _Special Topic: Model Risk Management_"
          },
          "metadata": {}
        },
        {
          "output_type": "display_data",
          "data": {
            "text/plain": [
              "<IPython.core.display.Markdown object>"
            ],
            "text/markdown": "**Instuctor**: _Robert Fox_"
          },
          "metadata": {}
        },
        {
          "output_type": "display_data",
          "data": {
            "text/plain": [
              "<IPython.core.display.Markdown object>"
            ],
            "text/markdown": "**Relevance**: _0.4506069242864954_"
          },
          "metadata": {}
        },
        {
          "output_type": "display_data",
          "data": {
            "text/plain": [
              "<IPython.core.display.Markdown object>"
            ],
            "text/markdown": "**V Relevance**: _0.4506069242864954_"
          },
          "metadata": {}
        },
        {
          "output_type": "display_data",
          "data": {
            "text/plain": [
              "<IPython.core.display.Markdown object>"
            ],
            "text/markdown": "# <font color='#966'>Which professors teach DSBA 6201</font>"
          },
          "metadata": {}
        },
        {
          "output_type": "display_data",
          "data": {
            "text/plain": [
              "<IPython.core.display.Markdown object>"
            ],
            "text/markdown": "<font color='#44a'>**Sending**: _Which professors teach DSBA 6201_</font>"
          },
          "metadata": {}
        },
        {
          "output_type": "display_data",
          "data": {
            "text/plain": [
              "<IPython.core.display.Markdown object>"
            ],
            "text/markdown": "## Answer"
          },
          "metadata": {}
        },
        {
          "output_type": "display_data",
          "data": {
            "text/plain": [
              "<IPython.core.display.Markdown object>"
            ],
            "text/markdown": "The professors who teach DSBA 6201, Business Intelligence and Analytics, include:\n\n1. **Dr. Monica Johar** - Spring 2023\n2. **Professor Lina Zhou** - Spring 2023\n3. **Dr. Chandra Subramaniam** - Fall 2024\n4. **Dr. Kornelia Bastin** - Fall 2024\n\nEach of these instructors has their own specific course outlines and approaches to teaching the course."
          },
          "metadata": {}
        },
        {
          "output_type": "display_data",
          "data": {
            "text/plain": [
              "<IPython.core.display.Markdown object>"
            ],
            "text/markdown": "## Retrieval"
          },
          "metadata": {}
        },
        {
          "output_type": "stream",
          "name": "stdout",
          "text": [
            "{\n",
            "  \"request\": \"List of professors teaching DSBA 6201\",\n",
            "  \"semantic_phrase\": \"professors teaching DSBA 6201\",\n",
            "  \"search_words\": [\n",
            "    \"professors\",\n",
            "    \"instructors\",\n",
            "    \"teach\",\n",
            "    \"DSBA 6201\"\n",
            "  ],\n",
            "  \"metadata_fields\": {\n",
            "    \"instructor\": [],\n",
            "    \"course_number\": [\n",
            "      \"6201\"\n",
            "    ],\n",
            "    \"course_title\": []\n",
            "  }\n",
            "}\n"
          ]
        },
        {
          "output_type": "display_data",
          "data": {
            "text/plain": [
              "<IPython.core.display.Markdown object>"
            ],
            "text/markdown": "## Sources"
          },
          "metadata": {}
        },
        {
          "output_type": "display_data",
          "data": {
            "text/plain": [
              "<IPython.core.display.Markdown object>"
            ],
            "text/markdown": "### <font color=\"#699\">MBAD DSBA 6201 Spring 2023 Syllabus (2).pdf</font>"
          },
          "metadata": {}
        },
        {
          "output_type": "display_data",
          "data": {
            "text/plain": [
              "<IPython.core.display.Markdown object>"
            ],
            "text/markdown": "**DSBA 6201**: _Business Intelligence and Analytics_"
          },
          "metadata": {}
        },
        {
          "output_type": "display_data",
          "data": {
            "text/plain": [
              "<IPython.core.display.Markdown object>"
            ],
            "text/markdown": "**Instuctor**: _Monica Johar_"
          },
          "metadata": {}
        },
        {
          "output_type": "display_data",
          "data": {
            "text/plain": [
              "<IPython.core.display.Markdown object>"
            ],
            "text/markdown": "**Relevance**: _0.6591078977288942_"
          },
          "metadata": {}
        },
        {
          "output_type": "display_data",
          "data": {
            "text/plain": [
              "<IPython.core.display.Markdown object>"
            ],
            "text/markdown": "**I Relevance**: _0.6591078977288942_"
          },
          "metadata": {}
        },
        {
          "output_type": "display_data",
          "data": {
            "text/plain": [
              "<IPython.core.display.Markdown object>"
            ],
            "text/markdown": "### <font color=\"#699\">DSBA6122-U90-2023Spring.pdf.C0001</font>"
          },
          "metadata": {}
        },
        {
          "output_type": "display_data",
          "data": {
            "text/plain": [
              "<IPython.core.display.Markdown object>"
            ],
            "text/markdown": "**DSBA 6122**: _Decision Modeling and Analysis_"
          },
          "metadata": {}
        },
        {
          "output_type": "display_data",
          "data": {
            "text/plain": [
              "<IPython.core.display.Markdown object>"
            ],
            "text/markdown": "**Instuctor**: _Xiuli He_"
          },
          "metadata": {}
        },
        {
          "output_type": "display_data",
          "data": {
            "text/plain": [
              "<IPython.core.display.Markdown object>"
            ],
            "text/markdown": "**Relevance**: _0.5143453507574303_"
          },
          "metadata": {}
        },
        {
          "output_type": "display_data",
          "data": {
            "text/plain": [
              "<IPython.core.display.Markdown object>"
            ],
            "text/markdown": "**V Relevance**: _0.5143453507574303_"
          },
          "metadata": {}
        },
        {
          "output_type": "display_data",
          "data": {
            "text/plain": [
              "<IPython.core.display.Markdown object>"
            ],
            "text/markdown": "### <font color=\"#699\">DSBA-6211-Advanced-Business-Analytics-Fall-2024-Kexin-Zhao.pdf.C0002</font>"
          },
          "metadata": {}
        },
        {
          "output_type": "display_data",
          "data": {
            "text/plain": [
              "<IPython.core.display.Markdown object>"
            ],
            "text/markdown": "**DSBA 6211**: _Advanced Business Analytics_"
          },
          "metadata": {}
        },
        {
          "output_type": "display_data",
          "data": {
            "text/plain": [
              "<IPython.core.display.Markdown object>"
            ],
            "text/markdown": "**Instuctor**: _Kexin Zhao_"
          },
          "metadata": {}
        },
        {
          "output_type": "display_data",
          "data": {
            "text/plain": [
              "<IPython.core.display.Markdown object>"
            ],
            "text/markdown": "**Relevance**: _0.5139597538882238_"
          },
          "metadata": {}
        },
        {
          "output_type": "display_data",
          "data": {
            "text/plain": [
              "<IPython.core.display.Markdown object>"
            ],
            "text/markdown": "**V Relevance**: _0.5139597538882238_"
          },
          "metadata": {}
        },
        {
          "output_type": "display_data",
          "data": {
            "text/plain": [
              "<IPython.core.display.Markdown object>"
            ],
            "text/markdown": "### <font color=\"#699\">DSBA-6211-Advanced-Business-Analytics-Fall-2024-SungJune-Park.pdf.C0001</font>"
          },
          "metadata": {}
        },
        {
          "output_type": "display_data",
          "data": {
            "text/plain": [
              "<IPython.core.display.Markdown object>"
            ],
            "text/markdown": "**DSBA 6211**: _Advanced Business Analytics_"
          },
          "metadata": {}
        },
        {
          "output_type": "display_data",
          "data": {
            "text/plain": [
              "<IPython.core.display.Markdown object>"
            ],
            "text/markdown": "**Instuctor**: _Sungjune Park_"
          },
          "metadata": {}
        },
        {
          "output_type": "display_data",
          "data": {
            "text/plain": [
              "<IPython.core.display.Markdown object>"
            ],
            "text/markdown": "**Relevance**: _0.5135463751475773_"
          },
          "metadata": {}
        },
        {
          "output_type": "display_data",
          "data": {
            "text/plain": [
              "<IPython.core.display.Markdown object>"
            ],
            "text/markdown": "**V Relevance**: _0.5135463751475773_"
          },
          "metadata": {}
        },
        {
          "output_type": "display_data",
          "data": {
            "text/plain": [
              "<IPython.core.display.Markdown object>"
            ],
            "text/markdown": "### <font color=\"#699\">DSBA6100-U90_MBAD7090-U92_Spring 2023_Blaine Nashold – Daryl Nashold.pdf.C0001</font>"
          },
          "metadata": {}
        },
        {
          "output_type": "display_data",
          "data": {
            "text/plain": [
              "<IPython.core.display.Markdown object>"
            ],
            "text/markdown": "**DSBA 6100**: _Big Data Analytics for Competitive Advantage_"
          },
          "metadata": {}
        },
        {
          "output_type": "display_data",
          "data": {
            "text/plain": [
              "<IPython.core.display.Markdown object>"
            ],
            "text/markdown": "**Instuctor**: _Daryl Nashold_"
          },
          "metadata": {}
        },
        {
          "output_type": "display_data",
          "data": {
            "text/plain": [
              "<IPython.core.display.Markdown object>"
            ],
            "text/markdown": "**Relevance**: _0.5134753641505586_"
          },
          "metadata": {}
        },
        {
          "output_type": "display_data",
          "data": {
            "text/plain": [
              "<IPython.core.display.Markdown object>"
            ],
            "text/markdown": "**V Relevance**: _0.5134753641505586_"
          },
          "metadata": {}
        },
        {
          "output_type": "display_data",
          "data": {
            "text/plain": [
              "<IPython.core.display.Markdown object>"
            ],
            "text/markdown": "### <font color=\"#699\">DSBA-6208-Operations-Management-Fall-2024-Andy-Fraher.pdf.C0004</font>"
          },
          "metadata": {}
        },
        {
          "output_type": "display_data",
          "data": {
            "text/plain": [
              "<IPython.core.display.Markdown object>"
            ],
            "text/markdown": "**DSBA 6208**: _Operations Management_"
          },
          "metadata": {}
        },
        {
          "output_type": "display_data",
          "data": {
            "text/plain": [
              "<IPython.core.display.Markdown object>"
            ],
            "text/markdown": "**Instuctor**: _Andrew Fraher_"
          },
          "metadata": {}
        },
        {
          "output_type": "display_data",
          "data": {
            "text/plain": [
              "<IPython.core.display.Markdown object>"
            ],
            "text/markdown": "**Relevance**: _0.5133755607370823_"
          },
          "metadata": {}
        },
        {
          "output_type": "display_data",
          "data": {
            "text/plain": [
              "<IPython.core.display.Markdown object>"
            ],
            "text/markdown": "**V Relevance**: _0.5133755607370823_"
          },
          "metadata": {}
        },
        {
          "output_type": "display_data",
          "data": {
            "text/plain": [
              "<IPython.core.display.Markdown object>"
            ],
            "text/markdown": "### <font color=\"#699\">MBAD DSBA6201 SP23 – Lina Zhou.pdf</font>"
          },
          "metadata": {}
        },
        {
          "output_type": "display_data",
          "data": {
            "text/plain": [
              "<IPython.core.display.Markdown object>"
            ],
            "text/markdown": "**DSBA 6201**: _Business Intelligence and Analytics_"
          },
          "metadata": {}
        },
        {
          "output_type": "display_data",
          "data": {
            "text/plain": [
              "<IPython.core.display.Markdown object>"
            ],
            "text/markdown": "**Instuctor**: _Lina Zhou_"
          },
          "metadata": {}
        },
        {
          "output_type": "display_data",
          "data": {
            "text/plain": [
              "<IPython.core.display.Markdown object>"
            ],
            "text/markdown": "**Relevance**: _0.4955117912711181_"
          },
          "metadata": {}
        },
        {
          "output_type": "display_data",
          "data": {
            "text/plain": [
              "<IPython.core.display.Markdown object>"
            ],
            "text/markdown": "**I Relevance**: _0.4955117912711181_"
          },
          "metadata": {}
        },
        {
          "output_type": "display_data",
          "data": {
            "text/plain": [
              "<IPython.core.display.Markdown object>"
            ],
            "text/markdown": "### <font color=\"#699\">DSBA-6201-Business-Intelligence-and-Analytics-Fall-2024-Chandra-Subramaniam.pdf</font>"
          },
          "metadata": {}
        },
        {
          "output_type": "display_data",
          "data": {
            "text/plain": [
              "<IPython.core.display.Markdown object>"
            ],
            "text/markdown": "**DSBA 6201**: _Business Intelligence and Analytics_"
          },
          "metadata": {}
        },
        {
          "output_type": "display_data",
          "data": {
            "text/plain": [
              "<IPython.core.display.Markdown object>"
            ],
            "text/markdown": "**Instuctor**: _Chandra Subramaniam_"
          },
          "metadata": {}
        },
        {
          "output_type": "display_data",
          "data": {
            "text/plain": [
              "<IPython.core.display.Markdown object>"
            ],
            "text/markdown": "**Relevance**: _0.23737697747701217_"
          },
          "metadata": {}
        },
        {
          "output_type": "display_data",
          "data": {
            "text/plain": [
              "<IPython.core.display.Markdown object>"
            ],
            "text/markdown": "**I Relevance**: _0.23737697747701217_"
          },
          "metadata": {}
        },
        {
          "output_type": "display_data",
          "data": {
            "text/plain": [
              "<IPython.core.display.Markdown object>"
            ],
            "text/markdown": "### <font color=\"#699\">DSBA-6201-Business-Intelligence-and-Analytics-Fall-2024-Kornelia-Bastin.pdf</font>"
          },
          "metadata": {}
        },
        {
          "output_type": "display_data",
          "data": {
            "text/plain": [
              "<IPython.core.display.Markdown object>"
            ],
            "text/markdown": "**DSBA 6201**: _Business Intelligence and Analytics_"
          },
          "metadata": {}
        },
        {
          "output_type": "display_data",
          "data": {
            "text/plain": [
              "<IPython.core.display.Markdown object>"
            ],
            "text/markdown": "**Instuctor**: _Kornelia Bastin_"
          },
          "metadata": {}
        },
        {
          "output_type": "display_data",
          "data": {
            "text/plain": [
              "<IPython.core.display.Markdown object>"
            ],
            "text/markdown": "**Relevance**: _0.23737697747701217_"
          },
          "metadata": {}
        },
        {
          "output_type": "display_data",
          "data": {
            "text/plain": [
              "<IPython.core.display.Markdown object>"
            ],
            "text/markdown": "**I Relevance**: _0.23737697747701217_"
          },
          "metadata": {}
        },
        {
          "output_type": "display_data",
          "data": {
            "text/plain": [
              "<IPython.core.display.Markdown object>"
            ],
            "text/markdown": "# <font color='#966'>Does Professor Zhou teach a course that coveres ROC and AUC</font>"
          },
          "metadata": {}
        },
        {
          "output_type": "display_data",
          "data": {
            "text/plain": [
              "<IPython.core.display.Markdown object>"
            ],
            "text/markdown": "<font color='#44a'>**Sending**: _Does Professor Zhou teach a course that coveres ROC and AUC_</font>"
          },
          "metadata": {}
        },
        {
          "output_type": "display_data",
          "data": {
            "text/plain": [
              "<IPython.core.display.Markdown object>"
            ],
            "text/markdown": "## Answer"
          },
          "metadata": {}
        },
        {
          "output_type": "display_data",
          "data": {
            "text/plain": [
              "<IPython.core.display.Markdown object>"
            ],
            "text/markdown": "Yes, Professor Lina Zhou teaches a course titled \"Business Intelligence and Analytics (6201)\" that covers ROC (Receiver Operating Characteristic) analysis. Specifically, in the syllabus, it is mentioned that ROC is discussed in Week 12, which focuses on Decision Trees. If you're interested in concepts like AUC (Area Under the Curve), they are typically related to ROC analysis, so you would likely encounter that topic as well within the course context."
          },
          "metadata": {}
        },
        {
          "output_type": "display_data",
          "data": {
            "text/plain": [
              "<IPython.core.display.Markdown object>"
            ],
            "text/markdown": "## Retrieval"
          },
          "metadata": {}
        },
        {
          "output_type": "stream",
          "name": "stdout",
          "text": [
            "{\n",
            "  \"request\": \"Inquire if Professor Zhou teaches a course covering ROC and AUC\",\n",
            "  \"semantic_phrase\": \"Professor Zhou teaches ROC AUC course\",\n",
            "  \"search_words\": [\n",
            "    \"Professor Zhou\",\n",
            "    \"ROC\",\n",
            "    \"AUC\",\n",
            "    \"course\"\n",
            "  ],\n",
            "  \"metadata_fields\": {\n",
            "    \"instructor\": [\n",
            "      \"Professor Zhou\"\n",
            "    ],\n",
            "    \"course_number\": [],\n",
            "    \"course_title\": []\n",
            "  }\n",
            "}\n"
          ]
        },
        {
          "output_type": "display_data",
          "data": {
            "text/plain": [
              "<IPython.core.display.Markdown object>"
            ],
            "text/markdown": "## Sources"
          },
          "metadata": {}
        },
        {
          "output_type": "display_data",
          "data": {
            "text/plain": [
              "<IPython.core.display.Markdown object>"
            ],
            "text/markdown": "### <font color=\"#699\">DSBA_HCIP-6162-Knowledge-Discovery-and-Databases-Fall-2024-Xi-Sunshine-Niu-1.pdf.C0001</font>"
          },
          "metadata": {}
        },
        {
          "output_type": "display_data",
          "data": {
            "text/plain": [
              "<IPython.core.display.Markdown object>"
            ],
            "text/markdown": "**DSBA 6162**: _Knowledge Discovery and Databases_"
          },
          "metadata": {}
        },
        {
          "output_type": "display_data",
          "data": {
            "text/plain": [
              "<IPython.core.display.Markdown object>"
            ],
            "text/markdown": "**Instuctor**: _Xi (Sunshine) Nu_"
          },
          "metadata": {}
        },
        {
          "output_type": "display_data",
          "data": {
            "text/plain": [
              "<IPython.core.display.Markdown object>"
            ],
            "text/markdown": "**Relevance**: _0.4614674801504425_"
          },
          "metadata": {}
        },
        {
          "output_type": "display_data",
          "data": {
            "text/plain": [
              "<IPython.core.display.Markdown object>"
            ],
            "text/markdown": "**V Relevance**: _0.4614674801504425_"
          },
          "metadata": {}
        },
        {
          "output_type": "display_data",
          "data": {
            "text/plain": [
              "<IPython.core.display.Markdown object>"
            ],
            "text/markdown": "### <font color=\"#699\">MBAD DSBA6201 SP23 – Lina Zhou.pdf.C0004</font>"
          },
          "metadata": {}
        },
        {
          "output_type": "display_data",
          "data": {
            "text/plain": [
              "<IPython.core.display.Markdown object>"
            ],
            "text/markdown": "**DSBA 6201**: _Business Intelligence and Analytics_"
          },
          "metadata": {}
        },
        {
          "output_type": "display_data",
          "data": {
            "text/plain": [
              "<IPython.core.display.Markdown object>"
            ],
            "text/markdown": "**Instuctor**: _Lina Zhou_"
          },
          "metadata": {}
        },
        {
          "output_type": "display_data",
          "data": {
            "text/plain": [
              "<IPython.core.display.Markdown object>"
            ],
            "text/markdown": "**Relevance**: _0.46078386244016917_"
          },
          "metadata": {}
        },
        {
          "output_type": "display_data",
          "data": {
            "text/plain": [
              "<IPython.core.display.Markdown object>"
            ],
            "text/markdown": "**V Relevance**: _0.46078386244016917_"
          },
          "metadata": {}
        },
        {
          "output_type": "display_data",
          "data": {
            "text/plain": [
              "<IPython.core.display.Markdown object>"
            ],
            "text/markdown": "### <font color=\"#699\">DSBA6188_Syllabus_Spring2023_Niu – Xi (Sunshine) Niu.pdf.C0001</font>"
          },
          "metadata": {}
        },
        {
          "output_type": "display_data",
          "data": {
            "text/plain": [
              "<IPython.core.display.Markdown object>"
            ],
            "text/markdown": "**DSBA 6188**: _Text Mining and Information Retrieval_"
          },
          "metadata": {}
        },
        {
          "output_type": "display_data",
          "data": {
            "text/plain": [
              "<IPython.core.display.Markdown object>"
            ],
            "text/markdown": "**Instuctor**: _Xi (Sunshine) Niu_"
          },
          "metadata": {}
        },
        {
          "output_type": "display_data",
          "data": {
            "text/plain": [
              "<IPython.core.display.Markdown object>"
            ],
            "text/markdown": "**Relevance**: _0.4581624701796792_"
          },
          "metadata": {}
        },
        {
          "output_type": "display_data",
          "data": {
            "text/plain": [
              "<IPython.core.display.Markdown object>"
            ],
            "text/markdown": "**V Relevance**: _0.4581624701796792_"
          },
          "metadata": {}
        },
        {
          "output_type": "display_data",
          "data": {
            "text/plain": [
              "<IPython.core.display.Markdown object>"
            ],
            "text/markdown": "### <font color=\"#699\">DSBA-6211-Advanced-Business-Analytics-Fall-2024-Kexin-Zhao.pdf.C0002</font>"
          },
          "metadata": {}
        },
        {
          "output_type": "display_data",
          "data": {
            "text/plain": [
              "<IPython.core.display.Markdown object>"
            ],
            "text/markdown": "**DSBA 6211**: _Advanced Business Analytics_"
          },
          "metadata": {}
        },
        {
          "output_type": "display_data",
          "data": {
            "text/plain": [
              "<IPython.core.display.Markdown object>"
            ],
            "text/markdown": "**Instuctor**: _Kexin Zhao_"
          },
          "metadata": {}
        },
        {
          "output_type": "display_data",
          "data": {
            "text/plain": [
              "<IPython.core.display.Markdown object>"
            ],
            "text/markdown": "**Relevance**: _0.4564918304877219_"
          },
          "metadata": {}
        },
        {
          "output_type": "display_data",
          "data": {
            "text/plain": [
              "<IPython.core.display.Markdown object>"
            ],
            "text/markdown": "**V Relevance**: _0.4564918304877219_"
          },
          "metadata": {}
        },
        {
          "output_type": "display_data",
          "data": {
            "text/plain": [
              "<IPython.core.display.Markdown object>"
            ],
            "text/markdown": "### <font color=\"#699\">DSBA 6162 Knowledge Discovery in Databases (KDD) Xi (Sunshine) Niu.C0001</font>"
          },
          "metadata": {}
        },
        {
          "output_type": "display_data",
          "data": {
            "text/plain": [
              "<IPython.core.display.Markdown object>"
            ],
            "text/markdown": "**DSBA 6162**: _Knowledge Discovery in Databases (KDD)_"
          },
          "metadata": {}
        },
        {
          "output_type": "display_data",
          "data": {
            "text/plain": [
              "<IPython.core.display.Markdown object>"
            ],
            "text/markdown": "**Instuctor**: _Xi (Sunshine) Niu_"
          },
          "metadata": {}
        },
        {
          "output_type": "display_data",
          "data": {
            "text/plain": [
              "<IPython.core.display.Markdown object>"
            ],
            "text/markdown": "**Relevance**: _0.45597839032160886_"
          },
          "metadata": {}
        },
        {
          "output_type": "display_data",
          "data": {
            "text/plain": [
              "<IPython.core.display.Markdown object>"
            ],
            "text/markdown": "**V Relevance**: _0.45597839032160886_"
          },
          "metadata": {}
        },
        {
          "output_type": "display_data",
          "data": {
            "text/plain": [
              "<IPython.core.display.Markdown object>"
            ],
            "text/markdown": "# <font color='#966'>What absence policy does profressor pamela have</font>"
          },
          "metadata": {}
        },
        {
          "output_type": "display_data",
          "data": {
            "text/plain": [
              "<IPython.core.display.Markdown object>"
            ],
            "text/markdown": "<font color='#44a'>**Sending**: _What absence policy does profressor pamela have_</font>"
          },
          "metadata": {}
        },
        {
          "output_type": "display_data",
          "data": {
            "text/plain": [
              "<IPython.core.display.Markdown object>"
            ],
            "text/markdown": "## Answer"
          },
          "metadata": {}
        },
        {
          "output_type": "display_data",
          "data": {
            "text/plain": [
              "<IPython.core.display.Markdown object>"
            ],
            "text/markdown": "Professor Pamela Thompson's absence policy specific to her course, Database Systems for Data Scientists (DSBA-HCIP 6160), includes the following key points regarding late assignments and attendance:\n\n1. **Late Assignments**: \n   - Assignments will only be accepted late if prior approval is obtained (students must email the professor and TA ahead of the due date).\n   - Assignments submitted more than a week late will incur a 10-point deduction, unless there are documented extenuating circumstances approved by the professor.\n\n2. **Class Attendance**:\n   - While the specific attendance policy is not detailed in the provided content, it is implied that students are encouraged to manage their attendance properly as absences could impact participation and engagement in the course.\n\nStudents should reach out to Professor Thompson directly via email or during office hours for more personalized guidance or clarification regarding specific circumstances related to attendance or absences."
          },
          "metadata": {}
        },
        {
          "output_type": "display_data",
          "data": {
            "text/plain": [
              "<IPython.core.display.Markdown object>"
            ],
            "text/markdown": "## Retrieval"
          },
          "metadata": {}
        },
        {
          "output_type": "stream",
          "name": "stdout",
          "text": [
            "{\n",
            "  \"request\": \"What absence policy does Professor Pamela have?\",\n",
            "  \"semantic_phrase\": \"absence policy professor Pamela\",\n",
            "  \"search_words\": [\n",
            "    \"absence\",\n",
            "    \"policy\",\n",
            "    \"professor\",\n",
            "    \"Pamela\"\n",
            "  ],\n",
            "  \"metadata_fields\": {\n",
            "    \"instructor\": [\n",
            "      \"Pamela\"\n",
            "    ],\n",
            "    \"course_number\": [],\n",
            "    \"course_title\": []\n",
            "  }\n",
            "}\n"
          ]
        },
        {
          "output_type": "display_data",
          "data": {
            "text/plain": [
              "<IPython.core.display.Markdown object>"
            ],
            "text/markdown": "## Sources"
          },
          "metadata": {}
        },
        {
          "output_type": "display_data",
          "data": {
            "text/plain": [
              "<IPython.core.display.Markdown object>"
            ],
            "text/markdown": "### <font color=\"#699\">DSBA_HCIP-6160-Database-Systems-for-Data-Scientists-Fall-2024-Pamela-Thompson.pdf</font>"
          },
          "metadata": {}
        },
        {
          "output_type": "display_data",
          "data": {
            "text/plain": [
              "<IPython.core.display.Markdown object>"
            ],
            "text/markdown": "**DSBA 6160**: _Database Systems for Data Scientists_"
          },
          "metadata": {}
        },
        {
          "output_type": "display_data",
          "data": {
            "text/plain": [
              "<IPython.core.display.Markdown object>"
            ],
            "text/markdown": "**Instuctor**: _Pamela Thompson_"
          },
          "metadata": {}
        },
        {
          "output_type": "display_data",
          "data": {
            "text/plain": [
              "<IPython.core.display.Markdown object>"
            ],
            "text/markdown": "**Relevance**: _0.6142592312980224_"
          },
          "metadata": {}
        },
        {
          "output_type": "display_data",
          "data": {
            "text/plain": [
              "<IPython.core.display.Markdown object>"
            ],
            "text/markdown": "**I Relevance**: _0.6142592312980224_"
          },
          "metadata": {}
        },
        {
          "output_type": "display_data",
          "data": {
            "text/plain": [
              "<IPython.core.display.Markdown object>"
            ],
            "text/markdown": "### <font color=\"#699\">DSBA_HCIP_6160_Thompson_Spring_2023 – Pamela Thompson.pdf</font>"
          },
          "metadata": {}
        },
        {
          "output_type": "display_data",
          "data": {
            "text/plain": [
              "<IPython.core.display.Markdown object>"
            ],
            "text/markdown": "**DSBA 6160**: _Database Systems for Data Scientists_"
          },
          "metadata": {}
        },
        {
          "output_type": "display_data",
          "data": {
            "text/plain": [
              "<IPython.core.display.Markdown object>"
            ],
            "text/markdown": "**Instuctor**: _Pamela Thompson_"
          },
          "metadata": {}
        },
        {
          "output_type": "display_data",
          "data": {
            "text/plain": [
              "<IPython.core.display.Markdown object>"
            ],
            "text/markdown": "**Relevance**: _0.5861194641478898_"
          },
          "metadata": {}
        },
        {
          "output_type": "display_data",
          "data": {
            "text/plain": [
              "<IPython.core.display.Markdown object>"
            ],
            "text/markdown": "**I Relevance**: _0.5861194641478898_"
          },
          "metadata": {}
        },
        {
          "output_type": "display_data",
          "data": {
            "text/plain": [
              "<IPython.core.display.Markdown object>"
            ],
            "text/markdown": "### <font color=\"#699\">DSBA_HCIP-5122-Visual-Analytics-and-Storytelling-Fall-2024-Robert-Fox.pdf.C0002</font>"
          },
          "metadata": {}
        },
        {
          "output_type": "display_data",
          "data": {
            "text/plain": [
              "<IPython.core.display.Markdown object>"
            ],
            "text/markdown": "**DSBA 5122**: _Visual Analytics and Storytelling_"
          },
          "metadata": {}
        },
        {
          "output_type": "display_data",
          "data": {
            "text/plain": [
              "<IPython.core.display.Markdown object>"
            ],
            "text/markdown": "**Instuctor**: _Robert Fox_"
          },
          "metadata": {}
        },
        {
          "output_type": "display_data",
          "data": {
            "text/plain": [
              "<IPython.core.display.Markdown object>"
            ],
            "text/markdown": "**Relevance**: _0.49027473091052226_"
          },
          "metadata": {}
        },
        {
          "output_type": "display_data",
          "data": {
            "text/plain": [
              "<IPython.core.display.Markdown object>"
            ],
            "text/markdown": "**V Relevance**: _0.49027473091052226_"
          },
          "metadata": {}
        },
        {
          "output_type": "display_data",
          "data": {
            "text/plain": [
              "<IPython.core.display.Markdown object>"
            ],
            "text/markdown": "### <font color=\"#699\">DSBA 6500 Complex Adaptive Systems – Mirsad Hadzikadic.C0002</font>"
          },
          "metadata": {}
        },
        {
          "output_type": "display_data",
          "data": {
            "text/plain": [
              "<IPython.core.display.Markdown object>"
            ],
            "text/markdown": "**DSBA 6500**: _Complex Adaptive Systems_"
          },
          "metadata": {}
        },
        {
          "output_type": "display_data",
          "data": {
            "text/plain": [
              "<IPython.core.display.Markdown object>"
            ],
            "text/markdown": "**Instuctor**: _Mirsad Hadzikadic_"
          },
          "metadata": {}
        },
        {
          "output_type": "display_data",
          "data": {
            "text/plain": [
              "<IPython.core.display.Markdown object>"
            ],
            "text/markdown": "**Relevance**: _0.4830516053247685_"
          },
          "metadata": {}
        },
        {
          "output_type": "display_data",
          "data": {
            "text/plain": [
              "<IPython.core.display.Markdown object>"
            ],
            "text/markdown": "**V Relevance**: _0.4830516053247685_"
          },
          "metadata": {}
        },
        {
          "output_type": "display_data",
          "data": {
            "text/plain": [
              "<IPython.core.display.Markdown object>"
            ],
            "text/markdown": "### <font color=\"#699\">DSBA-6326-Network-Science-Fall-2024-Mirsad-Hadzikadic.pdf.C0002</font>"
          },
          "metadata": {}
        },
        {
          "output_type": "display_data",
          "data": {
            "text/plain": [
              "<IPython.core.display.Markdown object>"
            ],
            "text/markdown": "**DSBA 6236**: _Network Science_"
          },
          "metadata": {}
        },
        {
          "output_type": "display_data",
          "data": {
            "text/plain": [
              "<IPython.core.display.Markdown object>"
            ],
            "text/markdown": "**Instuctor**: _Mirsad Hadzikadic_"
          },
          "metadata": {}
        },
        {
          "output_type": "display_data",
          "data": {
            "text/plain": [
              "<IPython.core.display.Markdown object>"
            ],
            "text/markdown": "**Relevance**: _0.4771296124660813_"
          },
          "metadata": {}
        },
        {
          "output_type": "display_data",
          "data": {
            "text/plain": [
              "<IPython.core.display.Markdown object>"
            ],
            "text/markdown": "**V Relevance**: _0.4771296124660813_"
          },
          "metadata": {}
        },
        {
          "output_type": "display_data",
          "data": {
            "text/plain": [
              "<IPython.core.display.Markdown object>"
            ],
            "text/markdown": "### <font color=\"#699\">DSBA6122-U90-2023Spring.pdf.C0002</font>"
          },
          "metadata": {}
        },
        {
          "output_type": "display_data",
          "data": {
            "text/plain": [
              "<IPython.core.display.Markdown object>"
            ],
            "text/markdown": "**DSBA 6122**: _Decision Modeling and Analysis_"
          },
          "metadata": {}
        },
        {
          "output_type": "display_data",
          "data": {
            "text/plain": [
              "<IPython.core.display.Markdown object>"
            ],
            "text/markdown": "**Instuctor**: _Xiuli He_"
          },
          "metadata": {}
        },
        {
          "output_type": "display_data",
          "data": {
            "text/plain": [
              "<IPython.core.display.Markdown object>"
            ],
            "text/markdown": "**Relevance**: _0.46445638069640377_"
          },
          "metadata": {}
        },
        {
          "output_type": "display_data",
          "data": {
            "text/plain": [
              "<IPython.core.display.Markdown object>"
            ],
            "text/markdown": "**V Relevance**: _0.46445638069640377_"
          },
          "metadata": {}
        },
        {
          "output_type": "display_data",
          "data": {
            "text/plain": [
              "<IPython.core.display.Markdown object>"
            ],
            "text/markdown": "### <font color=\"#699\">DSBA 6112 Graduate Econometrics – Kelly Vosters.C0002</font>"
          },
          "metadata": {}
        },
        {
          "output_type": "display_data",
          "data": {
            "text/plain": [
              "<IPython.core.display.Markdown object>"
            ],
            "text/markdown": "**DSBA 6112**: _Graduate Econometrics_"
          },
          "metadata": {}
        },
        {
          "output_type": "display_data",
          "data": {
            "text/plain": [
              "<IPython.core.display.Markdown object>"
            ],
            "text/markdown": "**Instuctor**: _Kelly Vosters_"
          },
          "metadata": {}
        },
        {
          "output_type": "display_data",
          "data": {
            "text/plain": [
              "<IPython.core.display.Markdown object>"
            ],
            "text/markdown": "**Relevance**: _0.46371299727375537_"
          },
          "metadata": {}
        },
        {
          "output_type": "display_data",
          "data": {
            "text/plain": [
              "<IPython.core.display.Markdown object>"
            ],
            "text/markdown": "**V Relevance**: _0.46371299727375537_"
          },
          "metadata": {}
        },
        {
          "output_type": "display_data",
          "data": {
            "text/plain": [
              "<IPython.core.display.Markdown object>"
            ],
            "text/markdown": "# <font color='#966'>Which courses deal with business and/or marketing aspects of data science</font>"
          },
          "metadata": {}
        },
        {
          "output_type": "display_data",
          "data": {
            "text/plain": [
              "<IPython.core.display.Markdown object>"
            ],
            "text/markdown": "<font color='#44a'>**Sending**: _Which courses deal with business and/or marketing aspects of data science_</font>"
          },
          "metadata": {}
        },
        {
          "output_type": "display_data",
          "data": {
            "text/plain": [
              "<IPython.core.display.Markdown object>"
            ],
            "text/markdown": "## Answer"
          },
          "metadata": {}
        },
        {
          "output_type": "stream",
          "name": "stdout",
          "text": [
            "'answer'\n"
          ]
        },
        {
          "output_type": "display_data",
          "data": {
            "text/plain": [
              "<IPython.core.display.Markdown object>"
            ],
            "text/markdown": "<font color='#090'>**_Retrying..._**<font>"
          },
          "metadata": {}
        },
        {
          "output_type": "display_data",
          "data": {
            "text/plain": [
              "<IPython.core.display.Markdown object>"
            ],
            "text/markdown": "# <font color='#966'>Which courses deal with business and/or marketing aspects of data science</font>"
          },
          "metadata": {}
        },
        {
          "output_type": "display_data",
          "data": {
            "text/plain": [
              "<IPython.core.display.Markdown object>"
            ],
            "text/markdown": "<font color='#44a'>**Sending**: _Which courses deal with business and/or marketing aspects of data science_</font>"
          },
          "metadata": {}
        },
        {
          "output_type": "display_data",
          "data": {
            "text/plain": [
              "<IPython.core.display.Markdown object>"
            ],
            "text/markdown": "## Answer"
          },
          "metadata": {}
        },
        {
          "output_type": "stream",
          "name": "stdout",
          "text": [
            "'answer'\n"
          ]
        },
        {
          "output_type": "display_data",
          "data": {
            "text/plain": [
              "<IPython.core.display.Markdown object>"
            ],
            "text/markdown": "<font color='#090'>**_Retrying..._**<font>"
          },
          "metadata": {}
        },
        {
          "output_type": "display_data",
          "data": {
            "text/plain": [
              "<IPython.core.display.Markdown object>"
            ],
            "text/markdown": "# <font color='#966'>Which courses deal with business and/or marketing aspects of data science</font>"
          },
          "metadata": {}
        },
        {
          "output_type": "display_data",
          "data": {
            "text/plain": [
              "<IPython.core.display.Markdown object>"
            ],
            "text/markdown": "<font color='#44a'>**Sending**: _Which courses deal with business and/or marketing aspects of data science_</font>"
          },
          "metadata": {}
        },
        {
          "output_type": "display_data",
          "data": {
            "text/plain": [
              "<IPython.core.display.Markdown object>"
            ],
            "text/markdown": "## Answer"
          },
          "metadata": {}
        },
        {
          "output_type": "stream",
          "name": "stdout",
          "text": [
            "'answer'\n"
          ]
        },
        {
          "output_type": "display_data",
          "data": {
            "text/plain": [
              "<IPython.core.display.Markdown object>"
            ],
            "text/markdown": "<font color='#900'>**_No more retries left_**<font>"
          },
          "metadata": {}
        },
        {
          "output_type": "display_data",
          "data": {
            "text/plain": [
              "<IPython.core.display.Markdown object>"
            ],
            "text/markdown": "# <font color='#966'>Which courses deal with business and or marketing aspects of data science</font>"
          },
          "metadata": {}
        },
        {
          "output_type": "display_data",
          "data": {
            "text/plain": [
              "<IPython.core.display.Markdown object>"
            ],
            "text/markdown": "<font color='#44a'>**Sending**: _Which courses deal with business and or marketing aspects of data science_</font>"
          },
          "metadata": {}
        },
        {
          "output_type": "display_data",
          "data": {
            "text/plain": [
              "<IPython.core.display.Markdown object>"
            ],
            "text/markdown": "## Answer"
          },
          "metadata": {}
        },
        {
          "output_type": "display_data",
          "data": {
            "text/plain": [
              "<IPython.core.display.Markdown object>"
            ],
            "text/markdown": "Here are several courses that focus on the business and marketing aspects of data science:\n\n1. **Advanced Business Analytics (6211)** \n   - In this course, students apply business analytics techniques to analyze various types of data, focusing on predictive modeling, text analytics, and marketing forecasting. It aims to equip managers with fact-based decision-making skills to gain competitive advantages.\n\n2. **Big Data Analytics for Competitive Advantage (6100)**\n   - This course introduces the use of data as a strategic resource, emphasizing how companies leverage analytics for strategic advantage. It covers analytics tools and case studies to illustrate how data can be used to solve business problems.\n\n3. **Digital Marketing Analytics (6284)**\n   - This course teaches students to understand analytical tools and methodologies relevant in the digital marketing landscape. It includes topics such as descriptive analysis, predictive analysis, and applying data mining techniques to marketing contexts.\n\n4. **Social Media Marketing and Analytics (6277)**\n   - Focuses on strategies for utilizing social media in marketing. The course integrates analytical methods such as social listening and text analytics, making it especially relevant for understanding consumer behavior and market trends through social media data.\n\n5. **Knowledge Discovery in Databases (6162)**\n   - While primarily a data-focused course, it also addresses applications in business, including customer churn and NPS scores, thus integrating business-oriented data mining practices.\n\n6. **Decision Modeling and Analysis (6122)**\n   - This course provides a conceptual understanding of decision-making processes using management science. Topics likely intersect with marketing and business strategies as they involve using models for organizational problem-solving.\n\n7. **Building and Leading Data Organizations (6010)**\n   - This course covers the strategic and operational challenges involved in managing data organizations, focusing on how to utilize analytics effectively within business settings.\n\nThese courses integrate data science methodologies with business and marketing concepts, helping students develop the skills necessary to leverage data effectively in a business context."
          },
          "metadata": {}
        },
        {
          "output_type": "display_data",
          "data": {
            "text/plain": [
              "<IPython.core.display.Markdown object>"
            ],
            "text/markdown": "## Retrieval"
          },
          "metadata": {}
        },
        {
          "output_type": "stream",
          "name": "stdout",
          "text": [
            "{\n",
            "  \"request\": \"Courses dealing with business and marketing aspects of data science\",\n",
            "  \"semantic_phrase\": \"business marketing data science courses\",\n",
            "  \"search_words\": [\n",
            "    \"business\",\n",
            "    \"marketing\",\n",
            "    \"data\",\n",
            "    \"science\"\n",
            "  ],\n",
            "  \"metadata_fields\": {\n",
            "    \"instructor\": [],\n",
            "    \"course_number\": [],\n",
            "    \"course_title\": []\n",
            "  }\n",
            "}\n"
          ]
        },
        {
          "output_type": "display_data",
          "data": {
            "text/plain": [
              "<IPython.core.display.Markdown object>"
            ],
            "text/markdown": "## Sources"
          },
          "metadata": {}
        },
        {
          "output_type": "display_data",
          "data": {
            "text/plain": [
              "<IPython.core.display.Markdown object>"
            ],
            "text/markdown": "### <font color=\"#699\">DSBA-6211-Advanced-Business-Analytics-Summer-2024-Ryan-Wesslen.pdf</font>"
          },
          "metadata": {}
        },
        {
          "output_type": "display_data",
          "data": {
            "text/plain": [
              "<IPython.core.display.Markdown object>"
            ],
            "text/markdown": "**DSBA 6211**: _Advanced Business Analytics_"
          },
          "metadata": {}
        },
        {
          "output_type": "display_data",
          "data": {
            "text/plain": [
              "<IPython.core.display.Markdown object>"
            ],
            "text/markdown": "**Instuctor**: _Ryan Wesslen_"
          },
          "metadata": {}
        },
        {
          "output_type": "display_data",
          "data": {
            "text/plain": [
              "<IPython.core.display.Markdown object>"
            ],
            "text/markdown": "**Relevance**: _0.5872831124915254_"
          },
          "metadata": {}
        },
        {
          "output_type": "display_data",
          "data": {
            "text/plain": [
              "<IPython.core.display.Markdown object>"
            ],
            "text/markdown": "**I Relevance**: _0.5872831124915254_"
          },
          "metadata": {}
        },
        {
          "output_type": "display_data",
          "data": {
            "text/plain": [
              "<IPython.core.display.Markdown object>"
            ],
            "text/markdown": "### <font color=\"#699\">DSBA6100-U90_MBAD7090-U92_Spring 2023_Blaine Nashold – Daryl Nashold.pdf</font>"
          },
          "metadata": {}
        },
        {
          "output_type": "display_data",
          "data": {
            "text/plain": [
              "<IPython.core.display.Markdown object>"
            ],
            "text/markdown": "**DSBA 6100**: _Big Data Analytics for Competitive Advantage_"
          },
          "metadata": {}
        },
        {
          "output_type": "display_data",
          "data": {
            "text/plain": [
              "<IPython.core.display.Markdown object>"
            ],
            "text/markdown": "**Instuctor**: _Daryl Nashold_"
          },
          "metadata": {}
        },
        {
          "output_type": "display_data",
          "data": {
            "text/plain": [
              "<IPython.core.display.Markdown object>"
            ],
            "text/markdown": "**Relevance**: _0.5309766529415663_"
          },
          "metadata": {}
        },
        {
          "output_type": "display_data",
          "data": {
            "text/plain": [
              "<IPython.core.display.Markdown object>"
            ],
            "text/markdown": "**I Relevance**: _0.5309766529415663_"
          },
          "metadata": {}
        },
        {
          "output_type": "display_data",
          "data": {
            "text/plain": [
              "<IPython.core.display.Markdown object>"
            ],
            "text/markdown": "### <font color=\"#699\">Spring 2023 DSBA and HCIP 6400 – Doug Hague.pdf</font>"
          },
          "metadata": {}
        },
        {
          "output_type": "display_data",
          "data": {
            "text/plain": [
              "<IPython.core.display.Markdown object>"
            ],
            "text/markdown": "**DSBA 6400**: _Internship_"
          },
          "metadata": {}
        },
        {
          "output_type": "display_data",
          "data": {
            "text/plain": [
              "<IPython.core.display.Markdown object>"
            ],
            "text/markdown": "**Instuctor**: _Doug Hague_"
          },
          "metadata": {}
        },
        {
          "output_type": "display_data",
          "data": {
            "text/plain": [
              "<IPython.core.display.Markdown object>"
            ],
            "text/markdown": "**Relevance**: _0.5223598890166581_"
          },
          "metadata": {}
        },
        {
          "output_type": "display_data",
          "data": {
            "text/plain": [
              "<IPython.core.display.Markdown object>"
            ],
            "text/markdown": "**I Relevance**: _0.5223598890166581_"
          },
          "metadata": {}
        },
        {
          "output_type": "display_data",
          "data": {
            "text/plain": [
              "<IPython.core.display.Markdown object>"
            ],
            "text/markdown": "### <font color=\"#699\">DSBA-6277-Social-Media-Marketing-and-Analytics-Fall-2024-Nima-Jalali.pdf</font>"
          },
          "metadata": {}
        },
        {
          "output_type": "display_data",
          "data": {
            "text/plain": [
              "<IPython.core.display.Markdown object>"
            ],
            "text/markdown": "**DSBA 6277**: _Social Media Marketing and Analytics_"
          },
          "metadata": {}
        },
        {
          "output_type": "display_data",
          "data": {
            "text/plain": [
              "<IPython.core.display.Markdown object>"
            ],
            "text/markdown": "**Instuctor**: _Nima Jalali_"
          },
          "metadata": {}
        },
        {
          "output_type": "display_data",
          "data": {
            "text/plain": [
              "<IPython.core.display.Markdown object>"
            ],
            "text/markdown": "**Relevance**: _0.49726877389177293_"
          },
          "metadata": {}
        },
        {
          "output_type": "display_data",
          "data": {
            "text/plain": [
              "<IPython.core.display.Markdown object>"
            ],
            "text/markdown": "**I Relevance**: _0.49726877389177293_"
          },
          "metadata": {}
        },
        {
          "output_type": "display_data",
          "data": {
            "text/plain": [
              "<IPython.core.display.Markdown object>"
            ],
            "text/markdown": "### <font color=\"#699\">DSBA 6162 – Zbyszek Ras.pdf.C0001</font>"
          },
          "metadata": {}
        },
        {
          "output_type": "display_data",
          "data": {
            "text/plain": [
              "<IPython.core.display.Markdown object>"
            ],
            "text/markdown": "**DSBA 6162**: _Knowledge Discovery in Databases_"
          },
          "metadata": {}
        },
        {
          "output_type": "display_data",
          "data": {
            "text/plain": [
              "<IPython.core.display.Markdown object>"
            ],
            "text/markdown": "**Instuctor**: _Zybszek Ras_"
          },
          "metadata": {}
        },
        {
          "output_type": "display_data",
          "data": {
            "text/plain": [
              "<IPython.core.display.Markdown object>"
            ],
            "text/markdown": "**Relevance**: _0.49193785893525577_"
          },
          "metadata": {}
        },
        {
          "output_type": "display_data",
          "data": {
            "text/plain": [
              "<IPython.core.display.Markdown object>"
            ],
            "text/markdown": "**V Relevance**: _0.49193785893525577_"
          },
          "metadata": {}
        },
        {
          "output_type": "display_data",
          "data": {
            "text/plain": [
              "<IPython.core.display.Markdown object>"
            ],
            "text/markdown": "### <font color=\"#699\">DSBA6284 Syllabus_Ming Chen – Ming Chen.pdf</font>"
          },
          "metadata": {}
        },
        {
          "output_type": "display_data",
          "data": {
            "text/plain": [
              "<IPython.core.display.Markdown object>"
            ],
            "text/markdown": "**DSBA 6284**: _Digital Marketing Analytics_"
          },
          "metadata": {}
        },
        {
          "output_type": "display_data",
          "data": {
            "text/plain": [
              "<IPython.core.display.Markdown object>"
            ],
            "text/markdown": "**Instuctor**: _Ming Chen_"
          },
          "metadata": {}
        },
        {
          "output_type": "display_data",
          "data": {
            "text/plain": [
              "<IPython.core.display.Markdown object>"
            ],
            "text/markdown": "**Relevance**: _0.4819423185658218_"
          },
          "metadata": {}
        },
        {
          "output_type": "display_data",
          "data": {
            "text/plain": [
              "<IPython.core.display.Markdown object>"
            ],
            "text/markdown": "**I Relevance**: _0.4819423185658218_"
          },
          "metadata": {}
        },
        {
          "output_type": "display_data",
          "data": {
            "text/plain": [
              "<IPython.core.display.Markdown object>"
            ],
            "text/markdown": "### <font color=\"#699\">DSBA6100-U90_MBAD7090-U92_Spring 2023_Blaine Nashold – Daryl Nashold.pdf.C0003</font>"
          },
          "metadata": {}
        },
        {
          "output_type": "display_data",
          "data": {
            "text/plain": [
              "<IPython.core.display.Markdown object>"
            ],
            "text/markdown": "**DSBA 6100**: _Big Data Analytics for Competitive Advantage_"
          },
          "metadata": {}
        },
        {
          "output_type": "display_data",
          "data": {
            "text/plain": [
              "<IPython.core.display.Markdown object>"
            ],
            "text/markdown": "**Instuctor**: _Daryl Nashold_"
          },
          "metadata": {}
        },
        {
          "output_type": "display_data",
          "data": {
            "text/plain": [
              "<IPython.core.display.Markdown object>"
            ],
            "text/markdown": "**Relevance**: _0.4808517590114478_"
          },
          "metadata": {}
        },
        {
          "output_type": "display_data",
          "data": {
            "text/plain": [
              "<IPython.core.display.Markdown object>"
            ],
            "text/markdown": "**V Relevance**: _0.4808517590114478_"
          },
          "metadata": {}
        },
        {
          "output_type": "display_data",
          "data": {
            "text/plain": [
              "<IPython.core.display.Markdown object>"
            ],
            "text/markdown": "### <font color=\"#699\">DSBA 6284 Digital Marketing Analytics – Ming Chen</font>"
          },
          "metadata": {}
        },
        {
          "output_type": "display_data",
          "data": {
            "text/plain": [
              "<IPython.core.display.Markdown object>"
            ],
            "text/markdown": "**DSBA 6284**: _Digital Marketing Analytics_"
          },
          "metadata": {}
        },
        {
          "output_type": "display_data",
          "data": {
            "text/plain": [
              "<IPython.core.display.Markdown object>"
            ],
            "text/markdown": "**Instuctor**: _Ming Chen_"
          },
          "metadata": {}
        },
        {
          "output_type": "display_data",
          "data": {
            "text/plain": [
              "<IPython.core.display.Markdown object>"
            ],
            "text/markdown": "**Relevance**: _0.47939675758897254_"
          },
          "metadata": {}
        },
        {
          "output_type": "display_data",
          "data": {
            "text/plain": [
              "<IPython.core.display.Markdown object>"
            ],
            "text/markdown": "**I Relevance**: _0.47939675758897254_"
          },
          "metadata": {}
        },
        {
          "output_type": "display_data",
          "data": {
            "text/plain": [
              "<IPython.core.display.Markdown object>"
            ],
            "text/markdown": "### <font color=\"#699\">DSBA-6211-Advanced-Business-Analytics-Summer-2024-Ryan-Wesslen.pdf.C0005</font>"
          },
          "metadata": {}
        },
        {
          "output_type": "display_data",
          "data": {
            "text/plain": [
              "<IPython.core.display.Markdown object>"
            ],
            "text/markdown": "**DSBA 6211**: _Advanced Business Analytics_"
          },
          "metadata": {}
        },
        {
          "output_type": "display_data",
          "data": {
            "text/plain": [
              "<IPython.core.display.Markdown object>"
            ],
            "text/markdown": "**Instuctor**: _Ryan Wesslen_"
          },
          "metadata": {}
        },
        {
          "output_type": "display_data",
          "data": {
            "text/plain": [
              "<IPython.core.display.Markdown object>"
            ],
            "text/markdown": "**Relevance**: _0.47877857074408087_"
          },
          "metadata": {}
        },
        {
          "output_type": "display_data",
          "data": {
            "text/plain": [
              "<IPython.core.display.Markdown object>"
            ],
            "text/markdown": "**V Relevance**: _0.47877857074408087_"
          },
          "metadata": {}
        },
        {
          "output_type": "display_data",
          "data": {
            "text/plain": [
              "<IPython.core.display.Markdown object>"
            ],
            "text/markdown": "### <font color=\"#699\">DSBA6284 Syllabus_Ming Chen – Ming Chen.pdf.C0002</font>"
          },
          "metadata": {}
        },
        {
          "output_type": "display_data",
          "data": {
            "text/plain": [
              "<IPython.core.display.Markdown object>"
            ],
            "text/markdown": "**DSBA 6284**: _Digital Marketing Analytics_"
          },
          "metadata": {}
        },
        {
          "output_type": "display_data",
          "data": {
            "text/plain": [
              "<IPython.core.display.Markdown object>"
            ],
            "text/markdown": "**Instuctor**: _Ming Chen_"
          },
          "metadata": {}
        },
        {
          "output_type": "display_data",
          "data": {
            "text/plain": [
              "<IPython.core.display.Markdown object>"
            ],
            "text/markdown": "**Relevance**: _0.4759464736329559_"
          },
          "metadata": {}
        },
        {
          "output_type": "display_data",
          "data": {
            "text/plain": [
              "<IPython.core.display.Markdown object>"
            ],
            "text/markdown": "**V Relevance**: _0.4759464736329559_"
          },
          "metadata": {}
        },
        {
          "output_type": "display_data",
          "data": {
            "text/plain": [
              "<IPython.core.display.Markdown object>"
            ],
            "text/markdown": "### <font color=\"#699\">DSBA6284 Syllabus_Ming Chen – Ming Chen.pdf.C0003</font>"
          },
          "metadata": {}
        },
        {
          "output_type": "display_data",
          "data": {
            "text/plain": [
              "<IPython.core.display.Markdown object>"
            ],
            "text/markdown": "**DSBA 6284**: _Digital Marketing Analytics_"
          },
          "metadata": {}
        },
        {
          "output_type": "display_data",
          "data": {
            "text/plain": [
              "<IPython.core.display.Markdown object>"
            ],
            "text/markdown": "**Instuctor**: _Ming Chen_"
          },
          "metadata": {}
        },
        {
          "output_type": "display_data",
          "data": {
            "text/plain": [
              "<IPython.core.display.Markdown object>"
            ],
            "text/markdown": "**Relevance**: _0.467306981610675_"
          },
          "metadata": {}
        },
        {
          "output_type": "display_data",
          "data": {
            "text/plain": [
              "<IPython.core.display.Markdown object>"
            ],
            "text/markdown": "**V Relevance**: _0.467306981610675_"
          },
          "metadata": {}
        },
        {
          "output_type": "display_data",
          "data": {
            "text/plain": [
              "<IPython.core.display.Markdown object>"
            ],
            "text/markdown": "### <font color=\"#699\">DSBA6122-U90-2023Spring.pdf</font>"
          },
          "metadata": {}
        },
        {
          "output_type": "display_data",
          "data": {
            "text/plain": [
              "<IPython.core.display.Markdown object>"
            ],
            "text/markdown": "**DSBA 6122**: _Decision Modeling and Analysis_"
          },
          "metadata": {}
        },
        {
          "output_type": "display_data",
          "data": {
            "text/plain": [
              "<IPython.core.display.Markdown object>"
            ],
            "text/markdown": "**Instuctor**: _Xiuli He_"
          },
          "metadata": {}
        },
        {
          "output_type": "display_data",
          "data": {
            "text/plain": [
              "<IPython.core.display.Markdown object>"
            ],
            "text/markdown": "**Relevance**: _0.4592676659840039_"
          },
          "metadata": {}
        },
        {
          "output_type": "display_data",
          "data": {
            "text/plain": [
              "<IPython.core.display.Markdown object>"
            ],
            "text/markdown": "**I Relevance**: _0.4592676659840039_"
          },
          "metadata": {}
        },
        {
          "output_type": "display_data",
          "data": {
            "text/plain": [
              "<IPython.core.display.Markdown object>"
            ],
            "text/markdown": "### <font color=\"#699\">DSBA-6326-Network-Science-Fall-2024-Mirsad-Hadzikadic.pdf</font>"
          },
          "metadata": {}
        },
        {
          "output_type": "display_data",
          "data": {
            "text/plain": [
              "<IPython.core.display.Markdown object>"
            ],
            "text/markdown": "**DSBA 6236**: _Network Science_"
          },
          "metadata": {}
        },
        {
          "output_type": "display_data",
          "data": {
            "text/plain": [
              "<IPython.core.display.Markdown object>"
            ],
            "text/markdown": "**Instuctor**: _Mirsad Hadzikadic_"
          },
          "metadata": {}
        },
        {
          "output_type": "display_data",
          "data": {
            "text/plain": [
              "<IPython.core.display.Markdown object>"
            ],
            "text/markdown": "**Relevance**: _0.44428051686829706_"
          },
          "metadata": {}
        },
        {
          "output_type": "display_data",
          "data": {
            "text/plain": [
              "<IPython.core.display.Markdown object>"
            ],
            "text/markdown": "**I Relevance**: _0.44428051686829706_"
          },
          "metadata": {}
        },
        {
          "output_type": "display_data",
          "data": {
            "text/plain": [
              "<IPython.core.display.Markdown object>"
            ],
            "text/markdown": "### <font color=\"#699\">DSBA-6122-Decision-Modeling-and-Analysis-Fall-2024-Xiuli-He-1.pdf</font>"
          },
          "metadata": {}
        },
        {
          "output_type": "display_data",
          "data": {
            "text/plain": [
              "<IPython.core.display.Markdown object>"
            ],
            "text/markdown": "**DSBA 6122**: _Decision Modeling and Analysis_"
          },
          "metadata": {}
        },
        {
          "output_type": "display_data",
          "data": {
            "text/plain": [
              "<IPython.core.display.Markdown object>"
            ],
            "text/markdown": "**Instuctor**: _Xiuli He_"
          },
          "metadata": {}
        },
        {
          "output_type": "display_data",
          "data": {
            "text/plain": [
              "<IPython.core.display.Markdown object>"
            ],
            "text/markdown": "**Relevance**: _0.43745219384066375_"
          },
          "metadata": {}
        },
        {
          "output_type": "display_data",
          "data": {
            "text/plain": [
              "<IPython.core.display.Markdown object>"
            ],
            "text/markdown": "**I Relevance**: _0.43745219384066375_"
          },
          "metadata": {}
        },
        {
          "output_type": "display_data",
          "data": {
            "text/plain": [
              "<IPython.core.display.Markdown object>"
            ],
            "text/markdown": "### <font color=\"#699\">DSBA-6010-Fall-2024-Steven-Jordan.pdf</font>"
          },
          "metadata": {}
        },
        {
          "output_type": "display_data",
          "data": {
            "text/plain": [
              "<IPython.core.display.Markdown object>"
            ],
            "text/markdown": "**DSBA 6010**: _Special Topics: Building & Leading Data Organizations_"
          },
          "metadata": {}
        },
        {
          "output_type": "display_data",
          "data": {
            "text/plain": [
              "<IPython.core.display.Markdown object>"
            ],
            "text/markdown": "**Instuctor**: _Steven Jordan_"
          },
          "metadata": {}
        },
        {
          "output_type": "display_data",
          "data": {
            "text/plain": [
              "<IPython.core.display.Markdown object>"
            ],
            "text/markdown": "**Relevance**: _0.4293027542989424_"
          },
          "metadata": {}
        },
        {
          "output_type": "display_data",
          "data": {
            "text/plain": [
              "<IPython.core.display.Markdown object>"
            ],
            "text/markdown": "**I Relevance**: _0.4293027542989424_"
          },
          "metadata": {}
        },
        {
          "output_type": "display_data",
          "data": {
            "text/plain": [
              "<IPython.core.display.Markdown object>"
            ],
            "text/markdown": "# <font color='#966'>Which courses deal with business and or marketing aspects of data science and which professors teach those courses</font>"
          },
          "metadata": {}
        },
        {
          "output_type": "display_data",
          "data": {
            "text/plain": [
              "<IPython.core.display.Markdown object>"
            ],
            "text/markdown": "<font color='#44a'>**Sending**: _Which courses deal with business and or marketing aspects of data science and which professors teach those courses_</font>"
          },
          "metadata": {}
        },
        {
          "output_type": "display_data",
          "data": {
            "text/plain": [
              "<IPython.core.display.Markdown object>"
            ],
            "text/markdown": "## Answer"
          },
          "metadata": {}
        },
        {
          "output_type": "display_data",
          "data": {
            "text/plain": [
              "<IPython.core.display.Markdown object>"
            ],
            "text/markdown": "Here are the courses focusing on business and marketing aspects of data science along with their respective instructors:\n\n1. **Advanced Business Analytics (6211)**\n   - **Instructor:** Ryan Wesslen\n   \n2. **Big Data Analytics for Competitive Advantage (6100)**\n   - **Instructor:** Daryl Nashold\n\n3. **Business Intelligence and Analytics (6201)**\n   - **Instructor:** Chandra Subramaniam\n\n4. **Digital Marketing Analytics (6284)**\n   - **Instructor:** Ming Chen\n\n5. **Decision Modeling and Analysis (6122)**\n   - **Instructor:** Xiuli He\n\n6. **Knowledge Discovery in Databases (6162)**\n   - **Instructor:** Zybszek Ras\n\n7. **Special Topics: Building & Leading Data Organizations (6010)**\n   - **Instructor:** Steven Jordan\n\nThese courses cover various aspects of data science with a strong emphasis on business analytics and marketing strategies. Each course is taught by an expert in the field, offering students the opportunity to gain crucial insights and skills applicable to real-world business scenarios."
          },
          "metadata": {}
        },
        {
          "output_type": "display_data",
          "data": {
            "text/plain": [
              "<IPython.core.display.Markdown object>"
            ],
            "text/markdown": "## Retrieval"
          },
          "metadata": {}
        },
        {
          "output_type": "stream",
          "name": "stdout",
          "text": [
            "{\n",
            "  \"request\": \"Find courses related to business and marketing aspects of data science and identify the professors teaching those courses.\",\n",
            "  \"semantic_phrase\": \"business marketing data science courses\",\n",
            "  \"search_words\": [\n",
            "    \"business\",\n",
            "    \"marketing\",\n",
            "    \"data science\",\n",
            "    \"courses\"\n",
            "  ],\n",
            "  \"metadata_fields\": {\n",
            "    \"instructor\": [],\n",
            "    \"course_number\": [],\n",
            "    \"course_title\": []\n",
            "  }\n",
            "}\n"
          ]
        },
        {
          "output_type": "display_data",
          "data": {
            "text/plain": [
              "<IPython.core.display.Markdown object>"
            ],
            "text/markdown": "## Sources"
          },
          "metadata": {}
        },
        {
          "output_type": "display_data",
          "data": {
            "text/plain": [
              "<IPython.core.display.Markdown object>"
            ],
            "text/markdown": "### <font color=\"#699\">DSBA-6211-Advanced-Business-Analytics-Summer-2024-Ryan-Wesslen.pdf</font>"
          },
          "metadata": {}
        },
        {
          "output_type": "display_data",
          "data": {
            "text/plain": [
              "<IPython.core.display.Markdown object>"
            ],
            "text/markdown": "**DSBA 6211**: _Advanced Business Analytics_"
          },
          "metadata": {}
        },
        {
          "output_type": "display_data",
          "data": {
            "text/plain": [
              "<IPython.core.display.Markdown object>"
            ],
            "text/markdown": "**Instuctor**: _Ryan Wesslen_"
          },
          "metadata": {}
        },
        {
          "output_type": "display_data",
          "data": {
            "text/plain": [
              "<IPython.core.display.Markdown object>"
            ],
            "text/markdown": "**Relevance**: _0.6920003064212199_"
          },
          "metadata": {}
        },
        {
          "output_type": "display_data",
          "data": {
            "text/plain": [
              "<IPython.core.display.Markdown object>"
            ],
            "text/markdown": "**I Relevance**: _0.6920003064212199_"
          },
          "metadata": {}
        },
        {
          "output_type": "display_data",
          "data": {
            "text/plain": [
              "<IPython.core.display.Markdown object>"
            ],
            "text/markdown": "### <font color=\"#699\">DSBA6100-U90_MBAD7090-U92_Spring 2023_Blaine Nashold – Daryl Nashold.pdf</font>"
          },
          "metadata": {}
        },
        {
          "output_type": "display_data",
          "data": {
            "text/plain": [
              "<IPython.core.display.Markdown object>"
            ],
            "text/markdown": "**DSBA 6100**: _Big Data Analytics for Competitive Advantage_"
          },
          "metadata": {}
        },
        {
          "output_type": "display_data",
          "data": {
            "text/plain": [
              "<IPython.core.display.Markdown object>"
            ],
            "text/markdown": "**Instuctor**: _Daryl Nashold_"
          },
          "metadata": {}
        },
        {
          "output_type": "display_data",
          "data": {
            "text/plain": [
              "<IPython.core.display.Markdown object>"
            ],
            "text/markdown": "**Relevance**: _0.6376259719999922_"
          },
          "metadata": {}
        },
        {
          "output_type": "display_data",
          "data": {
            "text/plain": [
              "<IPython.core.display.Markdown object>"
            ],
            "text/markdown": "**I Relevance**: _0.6376259719999922_"
          },
          "metadata": {}
        },
        {
          "output_type": "display_data",
          "data": {
            "text/plain": [
              "<IPython.core.display.Markdown object>"
            ],
            "text/markdown": "### <font color=\"#699\">Spring 2023 DSBA and HCIP 6400 – Doug Hague.pdf</font>"
          },
          "metadata": {}
        },
        {
          "output_type": "display_data",
          "data": {
            "text/plain": [
              "<IPython.core.display.Markdown object>"
            ],
            "text/markdown": "**DSBA 6400**: _Internship_"
          },
          "metadata": {}
        },
        {
          "output_type": "display_data",
          "data": {
            "text/plain": [
              "<IPython.core.display.Markdown object>"
            ],
            "text/markdown": "**Instuctor**: _Doug Hague_"
          },
          "metadata": {}
        },
        {
          "output_type": "display_data",
          "data": {
            "text/plain": [
              "<IPython.core.display.Markdown object>"
            ],
            "text/markdown": "**Relevance**: _0.6260958959973056_"
          },
          "metadata": {}
        },
        {
          "output_type": "display_data",
          "data": {
            "text/plain": [
              "<IPython.core.display.Markdown object>"
            ],
            "text/markdown": "**I Relevance**: _0.6260958959973056_"
          },
          "metadata": {}
        },
        {
          "output_type": "display_data",
          "data": {
            "text/plain": [
              "<IPython.core.display.Markdown object>"
            ],
            "text/markdown": "### <font color=\"#699\">DSBA6122-U90-2023Spring.pdf</font>"
          },
          "metadata": {}
        },
        {
          "output_type": "display_data",
          "data": {
            "text/plain": [
              "<IPython.core.display.Markdown object>"
            ],
            "text/markdown": "**DSBA 6122**: _Decision Modeling and Analysis_"
          },
          "metadata": {}
        },
        {
          "output_type": "display_data",
          "data": {
            "text/plain": [
              "<IPython.core.display.Markdown object>"
            ],
            "text/markdown": "**Instuctor**: _Xiuli He_"
          },
          "metadata": {}
        },
        {
          "output_type": "display_data",
          "data": {
            "text/plain": [
              "<IPython.core.display.Markdown object>"
            ],
            "text/markdown": "**Relevance**: _0.564680953678182_"
          },
          "metadata": {}
        },
        {
          "output_type": "display_data",
          "data": {
            "text/plain": [
              "<IPython.core.display.Markdown object>"
            ],
            "text/markdown": "**I Relevance**: _0.564680953678182_"
          },
          "metadata": {}
        },
        {
          "output_type": "display_data",
          "data": {
            "text/plain": [
              "<IPython.core.display.Markdown object>"
            ],
            "text/markdown": "### <font color=\"#699\">DSBA-6326-Network-Science-Fall-2024-Mirsad-Hadzikadic.pdf</font>"
          },
          "metadata": {}
        },
        {
          "output_type": "display_data",
          "data": {
            "text/plain": [
              "<IPython.core.display.Markdown object>"
            ],
            "text/markdown": "**DSBA 6236**: _Network Science_"
          },
          "metadata": {}
        },
        {
          "output_type": "display_data",
          "data": {
            "text/plain": [
              "<IPython.core.display.Markdown object>"
            ],
            "text/markdown": "**Instuctor**: _Mirsad Hadzikadic_"
          },
          "metadata": {}
        },
        {
          "output_type": "display_data",
          "data": {
            "text/plain": [
              "<IPython.core.display.Markdown object>"
            ],
            "text/markdown": "**Relevance**: _0.5458712321171297_"
          },
          "metadata": {}
        },
        {
          "output_type": "display_data",
          "data": {
            "text/plain": [
              "<IPython.core.display.Markdown object>"
            ],
            "text/markdown": "**I Relevance**: _0.5458712321171297_"
          },
          "metadata": {}
        },
        {
          "output_type": "display_data",
          "data": {
            "text/plain": [
              "<IPython.core.display.Markdown object>"
            ],
            "text/markdown": "### <font color=\"#699\">DSBA-6122-Decision-Modeling-and-Analysis-Fall-2024-Xiuli-He-1.pdf</font>"
          },
          "metadata": {}
        },
        {
          "output_type": "display_data",
          "data": {
            "text/plain": [
              "<IPython.core.display.Markdown object>"
            ],
            "text/markdown": "**DSBA 6122**: _Decision Modeling and Analysis_"
          },
          "metadata": {}
        },
        {
          "output_type": "display_data",
          "data": {
            "text/plain": [
              "<IPython.core.display.Markdown object>"
            ],
            "text/markdown": "**Instuctor**: _Xiuli He_"
          },
          "metadata": {}
        },
        {
          "output_type": "display_data",
          "data": {
            "text/plain": [
              "<IPython.core.display.Markdown object>"
            ],
            "text/markdown": "**Relevance**: _0.5428164977208848_"
          },
          "metadata": {}
        },
        {
          "output_type": "display_data",
          "data": {
            "text/plain": [
              "<IPython.core.display.Markdown object>"
            ],
            "text/markdown": "**I Relevance**: _0.5428164977208848_"
          },
          "metadata": {}
        },
        {
          "output_type": "display_data",
          "data": {
            "text/plain": [
              "<IPython.core.display.Markdown object>"
            ],
            "text/markdown": "### <font color=\"#699\">DSBA-6010-Fall-2024-Steven-Jordan.pdf</font>"
          },
          "metadata": {}
        },
        {
          "output_type": "display_data",
          "data": {
            "text/plain": [
              "<IPython.core.display.Markdown object>"
            ],
            "text/markdown": "**DSBA 6010**: _Special Topics: Building & Leading Data Organizations_"
          },
          "metadata": {}
        },
        {
          "output_type": "display_data",
          "data": {
            "text/plain": [
              "<IPython.core.display.Markdown object>"
            ],
            "text/markdown": "**Instuctor**: _Steven Jordan_"
          },
          "metadata": {}
        },
        {
          "output_type": "display_data",
          "data": {
            "text/plain": [
              "<IPython.core.display.Markdown object>"
            ],
            "text/markdown": "**Relevance**: _0.5336522347907365_"
          },
          "metadata": {}
        },
        {
          "output_type": "display_data",
          "data": {
            "text/plain": [
              "<IPython.core.display.Markdown object>"
            ],
            "text/markdown": "**I Relevance**: _0.5336522347907365_"
          },
          "metadata": {}
        },
        {
          "output_type": "display_data",
          "data": {
            "text/plain": [
              "<IPython.core.display.Markdown object>"
            ],
            "text/markdown": "### <font color=\"#699\">DSBA 6211 Advanced Business Analytics – Kornelia Bastin</font>"
          },
          "metadata": {}
        },
        {
          "output_type": "display_data",
          "data": {
            "text/plain": [
              "<IPython.core.display.Markdown object>"
            ],
            "text/markdown": "**DSBA 6211**: _Advanced Business Analytics_"
          },
          "metadata": {}
        },
        {
          "output_type": "display_data",
          "data": {
            "text/plain": [
              "<IPython.core.display.Markdown object>"
            ],
            "text/markdown": "**Instuctor**: _Kornelia Bastin_"
          },
          "metadata": {}
        },
        {
          "output_type": "display_data",
          "data": {
            "text/plain": [
              "<IPython.core.display.Markdown object>"
            ],
            "text/markdown": "**Relevance**: _0.5137450016678884_"
          },
          "metadata": {}
        },
        {
          "output_type": "display_data",
          "data": {
            "text/plain": [
              "<IPython.core.display.Markdown object>"
            ],
            "text/markdown": "**I Relevance**: _0.5137450016678884_"
          },
          "metadata": {}
        },
        {
          "output_type": "display_data",
          "data": {
            "text/plain": [
              "<IPython.core.display.Markdown object>"
            ],
            "text/markdown": "### <font color=\"#699\">DSBA-6201-Business-Intelligence-and-Analytics-Fall-2024-Chandra-Subramaniam.pdf</font>"
          },
          "metadata": {}
        },
        {
          "output_type": "display_data",
          "data": {
            "text/plain": [
              "<IPython.core.display.Markdown object>"
            ],
            "text/markdown": "**DSBA 6201**: _Business Intelligence and Analytics_"
          },
          "metadata": {}
        },
        {
          "output_type": "display_data",
          "data": {
            "text/plain": [
              "<IPython.core.display.Markdown object>"
            ],
            "text/markdown": "**Instuctor**: _Chandra Subramaniam_"
          },
          "metadata": {}
        },
        {
          "output_type": "display_data",
          "data": {
            "text/plain": [
              "<IPython.core.display.Markdown object>"
            ],
            "text/markdown": "**Relevance**: _0.507760318466432_"
          },
          "metadata": {}
        },
        {
          "output_type": "display_data",
          "data": {
            "text/plain": [
              "<IPython.core.display.Markdown object>"
            ],
            "text/markdown": "**I Relevance**: _0.507760318466432_"
          },
          "metadata": {}
        },
        {
          "output_type": "display_data",
          "data": {
            "text/plain": [
              "<IPython.core.display.Markdown object>"
            ],
            "text/markdown": "### <font color=\"#699\">DSBA-6201-Business-Intelligence-and-Analytics-Fall-2024-Kornelia-Bastin.pdf</font>"
          },
          "metadata": {}
        },
        {
          "output_type": "display_data",
          "data": {
            "text/plain": [
              "<IPython.core.display.Markdown object>"
            ],
            "text/markdown": "**DSBA 6201**: _Business Intelligence and Analytics_"
          },
          "metadata": {}
        },
        {
          "output_type": "display_data",
          "data": {
            "text/plain": [
              "<IPython.core.display.Markdown object>"
            ],
            "text/markdown": "**Instuctor**: _Kornelia Bastin_"
          },
          "metadata": {}
        },
        {
          "output_type": "display_data",
          "data": {
            "text/plain": [
              "<IPython.core.display.Markdown object>"
            ],
            "text/markdown": "**Relevance**: _0.507760318466432_"
          },
          "metadata": {}
        },
        {
          "output_type": "display_data",
          "data": {
            "text/plain": [
              "<IPython.core.display.Markdown object>"
            ],
            "text/markdown": "**I Relevance**: _0.507760318466432_"
          },
          "metadata": {}
        },
        {
          "output_type": "display_data",
          "data": {
            "text/plain": [
              "<IPython.core.display.Markdown object>"
            ],
            "text/markdown": "### <font color=\"#699\">DSBA 6162 – Zbyszek Ras.pdf.C0001</font>"
          },
          "metadata": {}
        },
        {
          "output_type": "display_data",
          "data": {
            "text/plain": [
              "<IPython.core.display.Markdown object>"
            ],
            "text/markdown": "**DSBA 6162**: _Knowledge Discovery in Databases_"
          },
          "metadata": {}
        },
        {
          "output_type": "display_data",
          "data": {
            "text/plain": [
              "<IPython.core.display.Markdown object>"
            ],
            "text/markdown": "**Instuctor**: _Zybszek Ras_"
          },
          "metadata": {}
        },
        {
          "output_type": "display_data",
          "data": {
            "text/plain": [
              "<IPython.core.display.Markdown object>"
            ],
            "text/markdown": "**Relevance**: _0.49193785893525577_"
          },
          "metadata": {}
        },
        {
          "output_type": "display_data",
          "data": {
            "text/plain": [
              "<IPython.core.display.Markdown object>"
            ],
            "text/markdown": "**V Relevance**: _0.49193785893525577_"
          },
          "metadata": {}
        },
        {
          "output_type": "display_data",
          "data": {
            "text/plain": [
              "<IPython.core.display.Markdown object>"
            ],
            "text/markdown": "### <font color=\"#699\">DSBA6100-U90_MBAD7090-U92_Spring 2023_Blaine Nashold – Daryl Nashold.pdf.C0003</font>"
          },
          "metadata": {}
        },
        {
          "output_type": "display_data",
          "data": {
            "text/plain": [
              "<IPython.core.display.Markdown object>"
            ],
            "text/markdown": "**DSBA 6100**: _Big Data Analytics for Competitive Advantage_"
          },
          "metadata": {}
        },
        {
          "output_type": "display_data",
          "data": {
            "text/plain": [
              "<IPython.core.display.Markdown object>"
            ],
            "text/markdown": "**Instuctor**: _Daryl Nashold_"
          },
          "metadata": {}
        },
        {
          "output_type": "display_data",
          "data": {
            "text/plain": [
              "<IPython.core.display.Markdown object>"
            ],
            "text/markdown": "**Relevance**: _0.4808517590114478_"
          },
          "metadata": {}
        },
        {
          "output_type": "display_data",
          "data": {
            "text/plain": [
              "<IPython.core.display.Markdown object>"
            ],
            "text/markdown": "**V Relevance**: _0.4808517590114478_"
          },
          "metadata": {}
        },
        {
          "output_type": "display_data",
          "data": {
            "text/plain": [
              "<IPython.core.display.Markdown object>"
            ],
            "text/markdown": "### <font color=\"#699\">DSBA-6211-Advanced-Business-Analytics-Summer-2024-Ryan-Wesslen.pdf.C0005</font>"
          },
          "metadata": {}
        },
        {
          "output_type": "display_data",
          "data": {
            "text/plain": [
              "<IPython.core.display.Markdown object>"
            ],
            "text/markdown": "**DSBA 6211**: _Advanced Business Analytics_"
          },
          "metadata": {}
        },
        {
          "output_type": "display_data",
          "data": {
            "text/plain": [
              "<IPython.core.display.Markdown object>"
            ],
            "text/markdown": "**Instuctor**: _Ryan Wesslen_"
          },
          "metadata": {}
        },
        {
          "output_type": "display_data",
          "data": {
            "text/plain": [
              "<IPython.core.display.Markdown object>"
            ],
            "text/markdown": "**Relevance**: _0.47877857074408087_"
          },
          "metadata": {}
        },
        {
          "output_type": "display_data",
          "data": {
            "text/plain": [
              "<IPython.core.display.Markdown object>"
            ],
            "text/markdown": "**V Relevance**: _0.47877857074408087_"
          },
          "metadata": {}
        },
        {
          "output_type": "display_data",
          "data": {
            "text/plain": [
              "<IPython.core.display.Markdown object>"
            ],
            "text/markdown": "### <font color=\"#699\">DSBA6284 Syllabus_Ming Chen – Ming Chen.pdf.C0002</font>"
          },
          "metadata": {}
        },
        {
          "output_type": "display_data",
          "data": {
            "text/plain": [
              "<IPython.core.display.Markdown object>"
            ],
            "text/markdown": "**DSBA 6284**: _Digital Marketing Analytics_"
          },
          "metadata": {}
        },
        {
          "output_type": "display_data",
          "data": {
            "text/plain": [
              "<IPython.core.display.Markdown object>"
            ],
            "text/markdown": "**Instuctor**: _Ming Chen_"
          },
          "metadata": {}
        },
        {
          "output_type": "display_data",
          "data": {
            "text/plain": [
              "<IPython.core.display.Markdown object>"
            ],
            "text/markdown": "**Relevance**: _0.4759464736329559_"
          },
          "metadata": {}
        },
        {
          "output_type": "display_data",
          "data": {
            "text/plain": [
              "<IPython.core.display.Markdown object>"
            ],
            "text/markdown": "**V Relevance**: _0.4759464736329559_"
          },
          "metadata": {}
        },
        {
          "output_type": "display_data",
          "data": {
            "text/plain": [
              "<IPython.core.display.Markdown object>"
            ],
            "text/markdown": "### <font color=\"#699\">DSBA6284 Syllabus_Ming Chen – Ming Chen.pdf.C0003</font>"
          },
          "metadata": {}
        },
        {
          "output_type": "display_data",
          "data": {
            "text/plain": [
              "<IPython.core.display.Markdown object>"
            ],
            "text/markdown": "**DSBA 6284**: _Digital Marketing Analytics_"
          },
          "metadata": {}
        },
        {
          "output_type": "display_data",
          "data": {
            "text/plain": [
              "<IPython.core.display.Markdown object>"
            ],
            "text/markdown": "**Instuctor**: _Ming Chen_"
          },
          "metadata": {}
        },
        {
          "output_type": "display_data",
          "data": {
            "text/plain": [
              "<IPython.core.display.Markdown object>"
            ],
            "text/markdown": "**Relevance**: _0.467306981610675_"
          },
          "metadata": {}
        },
        {
          "output_type": "display_data",
          "data": {
            "text/plain": [
              "<IPython.core.display.Markdown object>"
            ],
            "text/markdown": "**V Relevance**: _0.467306981610675_"
          },
          "metadata": {}
        },
        {
          "output_type": "display_data",
          "data": {
            "text/plain": [
              "<IPython.core.display.Markdown object>"
            ],
            "text/markdown": "# <font color='#966'>what topics does DSBA 6284 cover</font>"
          },
          "metadata": {}
        },
        {
          "output_type": "display_data",
          "data": {
            "text/plain": [
              "<IPython.core.display.Markdown object>"
            ],
            "text/markdown": "<font color='#44a'>**Sending**: _what topics does DSBA 6284 cover_</font>"
          },
          "metadata": {}
        },
        {
          "output_type": "display_data",
          "data": {
            "text/plain": [
              "<IPython.core.display.Markdown object>"
            ],
            "text/markdown": "## Answer"
          },
          "metadata": {}
        },
        {
          "output_type": "display_data",
          "data": {
            "text/plain": [
              "<IPython.core.display.Markdown object>"
            ],
            "text/markdown": "DSBA 6284, titled \"Digital Marketing Analytics,\" covers the following topics:\n\n1. **Data Summary and Trend Analysis**: Learning how to analyze data trends and generate insights using tools like Google Trends and Google Analytics.\n   \n2. **Forecasting New Product Sales**: Using case studies (e.g., TruEarth Case) to develop forecasting methods and models like the Bass Model.\n\n3. **Market Segmentation**: Techniques for identifying and segmenting customer markets effectively.\n\n4. **Predictive Analytics**: Utilizing predictive analytics with real-world retail data to identify customer needs.\n\n5. **Customer Segmentation and Cluster Analysis**: Techniques for grouping customers based on their behaviors and preferences.\n\n6. **Targeting VIP Customers**: Strategies for identifying and marketing to high-value customers.\n\n7. **Product Design**: Understanding customer needs and designing products accordingly, using tools like Lead Score Application.\n\n8. **Collaborative Filtering & Adstock Model**: Techniques for recommendations and understanding advertising effectiveness.\n\n9. **Advertising Analysis**: Evaluating advertising strategies using analytical models and counterfactual analysis.\n\n10. **Pricing and Bundling**: Strategies for setting prices and creating product bundles to enhance sales and customer satisfaction.\n\n11. **Group Project Presentations**: Applying learned skills in a team project to solve a real-world marketing issue.\n\nEach session typically includes hands-on exercises and case studies to reinforce the concepts taught in class. The course aims to develop analytical knowledge, methodologies, and practical problem-solving skills relevant to digital marketing."
          },
          "metadata": {}
        },
        {
          "output_type": "display_data",
          "data": {
            "text/plain": [
              "<IPython.core.display.Markdown object>"
            ],
            "text/markdown": "## Retrieval"
          },
          "metadata": {}
        },
        {
          "output_type": "stream",
          "name": "stdout",
          "text": [
            "{\n",
            "  \"request\": \"Identify the topics covered in DSBA 6284.\",\n",
            "  \"semantic_phrase\": \"topics covered in DSBA 6284\",\n",
            "  \"search_words\": [\n",
            "    \"DSBA 6284\",\n",
            "    \"topics\",\n",
            "    \"course content\",\n",
            "    \"curriculum\"\n",
            "  ],\n",
            "  \"metadata_fields\": {\n",
            "    \"instructor\": [],\n",
            "    \"course_number\": [\n",
            "      \"6284\"\n",
            "    ],\n",
            "    \"course_title\": []\n",
            "  }\n",
            "}\n"
          ]
        },
        {
          "output_type": "display_data",
          "data": {
            "text/plain": [
              "<IPython.core.display.Markdown object>"
            ],
            "text/markdown": "## Sources"
          },
          "metadata": {}
        },
        {
          "output_type": "display_data",
          "data": {
            "text/plain": [
              "<IPython.core.display.Markdown object>"
            ],
            "text/markdown": "### <font color=\"#699\">DSBA 6162 – Zbyszek Ras.pdf.C0001</font>"
          },
          "metadata": {}
        },
        {
          "output_type": "display_data",
          "data": {
            "text/plain": [
              "<IPython.core.display.Markdown object>"
            ],
            "text/markdown": "**DSBA 6162**: _Knowledge Discovery in Databases_"
          },
          "metadata": {}
        },
        {
          "output_type": "display_data",
          "data": {
            "text/plain": [
              "<IPython.core.display.Markdown object>"
            ],
            "text/markdown": "**Instuctor**: _Zybszek Ras_"
          },
          "metadata": {}
        },
        {
          "output_type": "display_data",
          "data": {
            "text/plain": [
              "<IPython.core.display.Markdown object>"
            ],
            "text/markdown": "**Relevance**: _0.5259747352290376_"
          },
          "metadata": {}
        },
        {
          "output_type": "display_data",
          "data": {
            "text/plain": [
              "<IPython.core.display.Markdown object>"
            ],
            "text/markdown": "**V Relevance**: _0.5259747352290376_"
          },
          "metadata": {}
        },
        {
          "output_type": "display_data",
          "data": {
            "text/plain": [
              "<IPython.core.display.Markdown object>"
            ],
            "text/markdown": "### <font color=\"#699\">DSBA6100-U90_MBAD7090-U92_Spring 2023_Blaine Nashold – Daryl Nashold.pdf.C0003</font>"
          },
          "metadata": {}
        },
        {
          "output_type": "display_data",
          "data": {
            "text/plain": [
              "<IPython.core.display.Markdown object>"
            ],
            "text/markdown": "**DSBA 6100**: _Big Data Analytics for Competitive Advantage_"
          },
          "metadata": {}
        },
        {
          "output_type": "display_data",
          "data": {
            "text/plain": [
              "<IPython.core.display.Markdown object>"
            ],
            "text/markdown": "**Instuctor**: _Daryl Nashold_"
          },
          "metadata": {}
        },
        {
          "output_type": "display_data",
          "data": {
            "text/plain": [
              "<IPython.core.display.Markdown object>"
            ],
            "text/markdown": "**Relevance**: _0.5180189348504399_"
          },
          "metadata": {}
        },
        {
          "output_type": "display_data",
          "data": {
            "text/plain": [
              "<IPython.core.display.Markdown object>"
            ],
            "text/markdown": "**V Relevance**: _0.5180189348504399_"
          },
          "metadata": {}
        },
        {
          "output_type": "display_data",
          "data": {
            "text/plain": [
              "<IPython.core.display.Markdown object>"
            ],
            "text/markdown": "### <font color=\"#699\">DSBA-6211-Advanced-Business-Analytics-Fall-2024-Kexin-Zhao.pdf.C0002</font>"
          },
          "metadata": {}
        },
        {
          "output_type": "display_data",
          "data": {
            "text/plain": [
              "<IPython.core.display.Markdown object>"
            ],
            "text/markdown": "**DSBA 6211**: _Advanced Business Analytics_"
          },
          "metadata": {}
        },
        {
          "output_type": "display_data",
          "data": {
            "text/plain": [
              "<IPython.core.display.Markdown object>"
            ],
            "text/markdown": "**Instuctor**: _Kexin Zhao_"
          },
          "metadata": {}
        },
        {
          "output_type": "display_data",
          "data": {
            "text/plain": [
              "<IPython.core.display.Markdown object>"
            ],
            "text/markdown": "**Relevance**: _0.501958982128731_"
          },
          "metadata": {}
        },
        {
          "output_type": "display_data",
          "data": {
            "text/plain": [
              "<IPython.core.display.Markdown object>"
            ],
            "text/markdown": "**V Relevance**: _0.501958982128731_"
          },
          "metadata": {}
        },
        {
          "output_type": "display_data",
          "data": {
            "text/plain": [
              "<IPython.core.display.Markdown object>"
            ],
            "text/markdown": "### <font color=\"#699\">DSBA 6010 Applied Computer Vision – Rick Chakra.C0002</font>"
          },
          "metadata": {}
        },
        {
          "output_type": "display_data",
          "data": {
            "text/plain": [
              "<IPython.core.display.Markdown object>"
            ],
            "text/markdown": "**DSBA 6010**: _Applied Computer Vision_"
          },
          "metadata": {}
        },
        {
          "output_type": "display_data",
          "data": {
            "text/plain": [
              "<IPython.core.display.Markdown object>"
            ],
            "text/markdown": "**Instuctor**: _Rick Chakra_"
          },
          "metadata": {}
        },
        {
          "output_type": "display_data",
          "data": {
            "text/plain": [
              "<IPython.core.display.Markdown object>"
            ],
            "text/markdown": "**Relevance**: _0.5009703357237386_"
          },
          "metadata": {}
        },
        {
          "output_type": "display_data",
          "data": {
            "text/plain": [
              "<IPython.core.display.Markdown object>"
            ],
            "text/markdown": "**V Relevance**: _0.5009703357237386_"
          },
          "metadata": {}
        },
        {
          "output_type": "display_data",
          "data": {
            "text/plain": [
              "<IPython.core.display.Markdown object>"
            ],
            "text/markdown": "### <font color=\"#699\">DSBA6100-U90_MBAD7090-U92_Spring 2023_Blaine Nashold – Daryl Nashold.pdf.C0001</font>"
          },
          "metadata": {}
        },
        {
          "output_type": "display_data",
          "data": {
            "text/plain": [
              "<IPython.core.display.Markdown object>"
            ],
            "text/markdown": "**DSBA 6100**: _Big Data Analytics for Competitive Advantage_"
          },
          "metadata": {}
        },
        {
          "output_type": "display_data",
          "data": {
            "text/plain": [
              "<IPython.core.display.Markdown object>"
            ],
            "text/markdown": "**Instuctor**: _Daryl Nashold_"
          },
          "metadata": {}
        },
        {
          "output_type": "display_data",
          "data": {
            "text/plain": [
              "<IPython.core.display.Markdown object>"
            ],
            "text/markdown": "**Relevance**: _0.4999477619870446_"
          },
          "metadata": {}
        },
        {
          "output_type": "display_data",
          "data": {
            "text/plain": [
              "<IPython.core.display.Markdown object>"
            ],
            "text/markdown": "**V Relevance**: _0.4999477619870446_"
          },
          "metadata": {}
        },
        {
          "output_type": "display_data",
          "data": {
            "text/plain": [
              "<IPython.core.display.Markdown object>"
            ],
            "text/markdown": "### <font color=\"#699\">DSBA6284 Syllabus_Ming Chen – Ming Chen.pdf</font>"
          },
          "metadata": {}
        },
        {
          "output_type": "display_data",
          "data": {
            "text/plain": [
              "<IPython.core.display.Markdown object>"
            ],
            "text/markdown": "**DSBA 6284**: _Digital Marketing Analytics_"
          },
          "metadata": {}
        },
        {
          "output_type": "display_data",
          "data": {
            "text/plain": [
              "<IPython.core.display.Markdown object>"
            ],
            "text/markdown": "**Instuctor**: _Ming Chen_"
          },
          "metadata": {}
        },
        {
          "output_type": "display_data",
          "data": {
            "text/plain": [
              "<IPython.core.display.Markdown object>"
            ],
            "text/markdown": "**Relevance**: _0.470020717821056_"
          },
          "metadata": {}
        },
        {
          "output_type": "display_data",
          "data": {
            "text/plain": [
              "<IPython.core.display.Markdown object>"
            ],
            "text/markdown": "**I Relevance**: _0.470020717821056_"
          },
          "metadata": {}
        },
        {
          "output_type": "display_data",
          "data": {
            "text/plain": [
              "<IPython.core.display.Markdown object>"
            ],
            "text/markdown": "### <font color=\"#699\">DSBA 6284 Digital Marketing Analytics – Ming Chen</font>"
          },
          "metadata": {}
        },
        {
          "output_type": "display_data",
          "data": {
            "text/plain": [
              "<IPython.core.display.Markdown object>"
            ],
            "text/markdown": "**DSBA 6284**: _Digital Marketing Analytics_"
          },
          "metadata": {}
        },
        {
          "output_type": "display_data",
          "data": {
            "text/plain": [
              "<IPython.core.display.Markdown object>"
            ],
            "text/markdown": "**Instuctor**: _Ming Chen_"
          },
          "metadata": {}
        },
        {
          "output_type": "display_data",
          "data": {
            "text/plain": [
              "<IPython.core.display.Markdown object>"
            ],
            "text/markdown": "**Relevance**: _0.3980063170986965_"
          },
          "metadata": {}
        },
        {
          "output_type": "display_data",
          "data": {
            "text/plain": [
              "<IPython.core.display.Markdown object>"
            ],
            "text/markdown": "**I Relevance**: _0.3980063170986965_"
          },
          "metadata": {}
        },
        {
          "output_type": "display_data",
          "data": {
            "text/plain": [
              "<IPython.core.display.Markdown object>"
            ],
            "text/markdown": "# <font color='#966'>what topics does DSBA 6201 cover</font>"
          },
          "metadata": {}
        },
        {
          "output_type": "display_data",
          "data": {
            "text/plain": [
              "<IPython.core.display.Markdown object>"
            ],
            "text/markdown": "<font color='#44a'>**Sending**: _what topics does DSBA 6201 cover_</font>"
          },
          "metadata": {}
        },
        {
          "output_type": "display_data",
          "data": {
            "text/plain": [
              "<IPython.core.display.Markdown object>"
            ],
            "text/markdown": "## Answer"
          },
          "metadata": {}
        },
        {
          "output_type": "display_data",
          "data": {
            "text/plain": [
              "<IPython.core.display.Markdown object>"
            ],
            "text/markdown": "The course DSBA 6201, \"Business Intelligence and Analytics,\" covers a variety of key topics essential for understanding and utilizing data in business contexts. The syllabus outlines the following main areas of focus:\n\n1. **Data Management**: Understanding issues related to modeling, using, securing, and sharing organizational data resources.\n2. **Data Warehousing**: Concepts and methodologies associated with storing and managing large sets of data.\n3. **Data Mining**: Techniques including rule-based systems, decision trees, regression analysis, clustering, and others to analyze and extract insights from raw data.\n4. **Business Intelligence (BI)**: Applications and technologies for gathering, storing, analyzing, and providing access to data to facilitate better business decisions.\n5. **Statistical Methods**: Including regression, logit analysis, and clustering for data analysis and insight generation.\n6. **Knowledge Management**: Exploring how organizations can effectively deploy technology and practices to enhance the value derived from their knowledge assets.\n\nAdditionally, the course incorporates hands-on experience with tools such as SAS 9.4, SAS Enterprise Miner, Python, and introduces students to programming and statistical concepts necessary for data analysis.\n\nOverall, the course aims to equip students with the skills to create and leverage data and knowledge assets effectively in a competitive business environment."
          },
          "metadata": {}
        },
        {
          "output_type": "display_data",
          "data": {
            "text/plain": [
              "<IPython.core.display.Markdown object>"
            ],
            "text/markdown": "## Retrieval"
          },
          "metadata": {}
        },
        {
          "output_type": "stream",
          "name": "stdout",
          "text": [
            "{\n",
            "  \"request\": \"What topics does DSBA 6201 cover?\",\n",
            "  \"semantic_phrase\": \"topics covered in DSBA 6201\",\n",
            "  \"search_words\": [\n",
            "    \"topics\",\n",
            "    \"DSBA 6201\",\n",
            "    \"course content\"\n",
            "  ],\n",
            "  \"metadata_fields\": {\n",
            "    \"instructor\": [],\n",
            "    \"course_number\": [\n",
            "      \"6201\"\n",
            "    ],\n",
            "    \"course_title\": []\n",
            "  }\n",
            "}\n"
          ]
        },
        {
          "output_type": "display_data",
          "data": {
            "text/plain": [
              "<IPython.core.display.Markdown object>"
            ],
            "text/markdown": "## Sources"
          },
          "metadata": {}
        },
        {
          "output_type": "display_data",
          "data": {
            "text/plain": [
              "<IPython.core.display.Markdown object>"
            ],
            "text/markdown": "### <font color=\"#699\">MBAD DSBA 6201 Spring 2023 Syllabus (2).pdf</font>"
          },
          "metadata": {}
        },
        {
          "output_type": "display_data",
          "data": {
            "text/plain": [
              "<IPython.core.display.Markdown object>"
            ],
            "text/markdown": "**DSBA 6201**: _Business Intelligence and Analytics_"
          },
          "metadata": {}
        },
        {
          "output_type": "display_data",
          "data": {
            "text/plain": [
              "<IPython.core.display.Markdown object>"
            ],
            "text/markdown": "**Instuctor**: _Monica Johar_"
          },
          "metadata": {}
        },
        {
          "output_type": "display_data",
          "data": {
            "text/plain": [
              "<IPython.core.display.Markdown object>"
            ],
            "text/markdown": "**Relevance**: _0.5484049909846392_"
          },
          "metadata": {}
        },
        {
          "output_type": "display_data",
          "data": {
            "text/plain": [
              "<IPython.core.display.Markdown object>"
            ],
            "text/markdown": "**I Relevance**: _0.5484049909846392_"
          },
          "metadata": {}
        },
        {
          "output_type": "display_data",
          "data": {
            "text/plain": [
              "<IPython.core.display.Markdown object>"
            ],
            "text/markdown": "### <font color=\"#699\">DSBA 6162 – Zbyszek Ras.pdf.C0001</font>"
          },
          "metadata": {}
        },
        {
          "output_type": "display_data",
          "data": {
            "text/plain": [
              "<IPython.core.display.Markdown object>"
            ],
            "text/markdown": "**DSBA 6162**: _Knowledge Discovery in Databases_"
          },
          "metadata": {}
        },
        {
          "output_type": "display_data",
          "data": {
            "text/plain": [
              "<IPython.core.display.Markdown object>"
            ],
            "text/markdown": "**Instuctor**: _Zybszek Ras_"
          },
          "metadata": {}
        },
        {
          "output_type": "display_data",
          "data": {
            "text/plain": [
              "<IPython.core.display.Markdown object>"
            ],
            "text/markdown": "**Relevance**: _0.5190877625730506_"
          },
          "metadata": {}
        },
        {
          "output_type": "display_data",
          "data": {
            "text/plain": [
              "<IPython.core.display.Markdown object>"
            ],
            "text/markdown": "**V Relevance**: _0.5190877625730506_"
          },
          "metadata": {}
        },
        {
          "output_type": "display_data",
          "data": {
            "text/plain": [
              "<IPython.core.display.Markdown object>"
            ],
            "text/markdown": "### <font color=\"#699\">DSBA6100-U90_MBAD7090-U92_Spring 2023_Blaine Nashold – Daryl Nashold.pdf.C0003</font>"
          },
          "metadata": {}
        },
        {
          "output_type": "display_data",
          "data": {
            "text/plain": [
              "<IPython.core.display.Markdown object>"
            ],
            "text/markdown": "**DSBA 6100**: _Big Data Analytics for Competitive Advantage_"
          },
          "metadata": {}
        },
        {
          "output_type": "display_data",
          "data": {
            "text/plain": [
              "<IPython.core.display.Markdown object>"
            ],
            "text/markdown": "**Instuctor**: _Daryl Nashold_"
          },
          "metadata": {}
        },
        {
          "output_type": "display_data",
          "data": {
            "text/plain": [
              "<IPython.core.display.Markdown object>"
            ],
            "text/markdown": "**Relevance**: _0.5162659054286398_"
          },
          "metadata": {}
        },
        {
          "output_type": "display_data",
          "data": {
            "text/plain": [
              "<IPython.core.display.Markdown object>"
            ],
            "text/markdown": "**V Relevance**: _0.5162659054286398_"
          },
          "metadata": {}
        },
        {
          "output_type": "display_data",
          "data": {
            "text/plain": [
              "<IPython.core.display.Markdown object>"
            ],
            "text/markdown": "### <font color=\"#699\">DSBA-6211-Advanced-Business-Analytics-Fall-2024-Kexin-Zhao.pdf.C0002</font>"
          },
          "metadata": {}
        },
        {
          "output_type": "display_data",
          "data": {
            "text/plain": [
              "<IPython.core.display.Markdown object>"
            ],
            "text/markdown": "**DSBA 6211**: _Advanced Business Analytics_"
          },
          "metadata": {}
        },
        {
          "output_type": "display_data",
          "data": {
            "text/plain": [
              "<IPython.core.display.Markdown object>"
            ],
            "text/markdown": "**Instuctor**: _Kexin Zhao_"
          },
          "metadata": {}
        },
        {
          "output_type": "display_data",
          "data": {
            "text/plain": [
              "<IPython.core.display.Markdown object>"
            ],
            "text/markdown": "**Relevance**: _0.5059438057075347_"
          },
          "metadata": {}
        },
        {
          "output_type": "display_data",
          "data": {
            "text/plain": [
              "<IPython.core.display.Markdown object>"
            ],
            "text/markdown": "**V Relevance**: _0.5059438057075347_"
          },
          "metadata": {}
        },
        {
          "output_type": "display_data",
          "data": {
            "text/plain": [
              "<IPython.core.display.Markdown object>"
            ],
            "text/markdown": "### <font color=\"#699\">MBAD DSBA 6201 Spring 2023 Syllabus (2).pdf.C0001</font>"
          },
          "metadata": {}
        },
        {
          "output_type": "display_data",
          "data": {
            "text/plain": [
              "<IPython.core.display.Markdown object>"
            ],
            "text/markdown": "**DSBA 6201**: _Business Intelligence and Analytics_"
          },
          "metadata": {}
        },
        {
          "output_type": "display_data",
          "data": {
            "text/plain": [
              "<IPython.core.display.Markdown object>"
            ],
            "text/markdown": "**Instuctor**: _Monica Johar_"
          },
          "metadata": {}
        },
        {
          "output_type": "display_data",
          "data": {
            "text/plain": [
              "<IPython.core.display.Markdown object>"
            ],
            "text/markdown": "**Relevance**: _0.5047430099318198_"
          },
          "metadata": {}
        },
        {
          "output_type": "display_data",
          "data": {
            "text/plain": [
              "<IPython.core.display.Markdown object>"
            ],
            "text/markdown": "**V Relevance**: _0.5047430099318198_"
          },
          "metadata": {}
        },
        {
          "output_type": "display_data",
          "data": {
            "text/plain": [
              "<IPython.core.display.Markdown object>"
            ],
            "text/markdown": "### <font color=\"#699\">DSBA-6211-Advanced-Business-Analytics-Fall-2024-SungJune-Park.pdf.C0001</font>"
          },
          "metadata": {}
        },
        {
          "output_type": "display_data",
          "data": {
            "text/plain": [
              "<IPython.core.display.Markdown object>"
            ],
            "text/markdown": "**DSBA 6211**: _Advanced Business Analytics_"
          },
          "metadata": {}
        },
        {
          "output_type": "display_data",
          "data": {
            "text/plain": [
              "<IPython.core.display.Markdown object>"
            ],
            "text/markdown": "**Instuctor**: _Sungjune Park_"
          },
          "metadata": {}
        },
        {
          "output_type": "display_data",
          "data": {
            "text/plain": [
              "<IPython.core.display.Markdown object>"
            ],
            "text/markdown": "**Relevance**: _0.5037377357188723_"
          },
          "metadata": {}
        },
        {
          "output_type": "display_data",
          "data": {
            "text/plain": [
              "<IPython.core.display.Markdown object>"
            ],
            "text/markdown": "**V Relevance**: _0.5037377357188723_"
          },
          "metadata": {}
        },
        {
          "output_type": "display_data",
          "data": {
            "text/plain": [
              "<IPython.core.display.Markdown object>"
            ],
            "text/markdown": "### <font color=\"#699\">MBAD DSBA6201 SP23 – Lina Zhou.pdf</font>"
          },
          "metadata": {}
        },
        {
          "output_type": "display_data",
          "data": {
            "text/plain": [
              "<IPython.core.display.Markdown object>"
            ],
            "text/markdown": "**DSBA 6201**: _Business Intelligence and Analytics_"
          },
          "metadata": {}
        },
        {
          "output_type": "display_data",
          "data": {
            "text/plain": [
              "<IPython.core.display.Markdown object>"
            ],
            "text/markdown": "**Instuctor**: _Lina Zhou_"
          },
          "metadata": {}
        },
        {
          "output_type": "display_data",
          "data": {
            "text/plain": [
              "<IPython.core.display.Markdown object>"
            ],
            "text/markdown": "**Relevance**: _0.32660400530402256_"
          },
          "metadata": {}
        },
        {
          "output_type": "display_data",
          "data": {
            "text/plain": [
              "<IPython.core.display.Markdown object>"
            ],
            "text/markdown": "**I Relevance**: _0.32660400530402256_"
          },
          "metadata": {}
        },
        {
          "output_type": "display_data",
          "data": {
            "text/plain": [
              "<IPython.core.display.Markdown object>"
            ],
            "text/markdown": "### <font color=\"#699\">DSBA-6201-Business-Intelligence-and-Analytics-Fall-2024-Chandra-Subramaniam.pdf</font>"
          },
          "metadata": {}
        },
        {
          "output_type": "display_data",
          "data": {
            "text/plain": [
              "<IPython.core.display.Markdown object>"
            ],
            "text/markdown": "**DSBA 6201**: _Business Intelligence and Analytics_"
          },
          "metadata": {}
        },
        {
          "output_type": "display_data",
          "data": {
            "text/plain": [
              "<IPython.core.display.Markdown object>"
            ],
            "text/markdown": "**Instuctor**: _Chandra Subramaniam_"
          },
          "metadata": {}
        },
        {
          "output_type": "display_data",
          "data": {
            "text/plain": [
              "<IPython.core.display.Markdown object>"
            ],
            "text/markdown": "**Relevance**: _0.15571830973981407_"
          },
          "metadata": {}
        },
        {
          "output_type": "display_data",
          "data": {
            "text/plain": [
              "<IPython.core.display.Markdown object>"
            ],
            "text/markdown": "**I Relevance**: _0.15571830973981407_"
          },
          "metadata": {}
        },
        {
          "output_type": "display_data",
          "data": {
            "text/plain": [
              "<IPython.core.display.Markdown object>"
            ],
            "text/markdown": "### <font color=\"#699\">DSBA-6201-Business-Intelligence-and-Analytics-Fall-2024-Kornelia-Bastin.pdf</font>"
          },
          "metadata": {}
        },
        {
          "output_type": "display_data",
          "data": {
            "text/plain": [
              "<IPython.core.display.Markdown object>"
            ],
            "text/markdown": "**DSBA 6201**: _Business Intelligence and Analytics_"
          },
          "metadata": {}
        },
        {
          "output_type": "display_data",
          "data": {
            "text/plain": [
              "<IPython.core.display.Markdown object>"
            ],
            "text/markdown": "**Instuctor**: _Kornelia Bastin_"
          },
          "metadata": {}
        },
        {
          "output_type": "display_data",
          "data": {
            "text/plain": [
              "<IPython.core.display.Markdown object>"
            ],
            "text/markdown": "**Relevance**: _0.15571830973981407_"
          },
          "metadata": {}
        },
        {
          "output_type": "display_data",
          "data": {
            "text/plain": [
              "<IPython.core.display.Markdown object>"
            ],
            "text/markdown": "**I Relevance**: _0.15571830973981407_"
          },
          "metadata": {}
        },
        {
          "output_type": "display_data",
          "data": {
            "text/plain": [
              "<IPython.core.display.Markdown object>"
            ],
            "text/markdown": "# <font color='#966'>Which topics does DSBA 6165 cover</font>"
          },
          "metadata": {}
        },
        {
          "output_type": "display_data",
          "data": {
            "text/plain": [
              "<IPython.core.display.Markdown object>"
            ],
            "text/markdown": "<font color='#44a'>**Sending**: _Which topics does DSBA 6165 cover_</font>"
          },
          "metadata": {}
        },
        {
          "output_type": "display_data",
          "data": {
            "text/plain": [
              "<IPython.core.display.Markdown object>"
            ],
            "text/markdown": "## Answer"
          },
          "metadata": {}
        },
        {
          "output_type": "display_data",
          "data": {
            "text/plain": [
              "<IPython.core.display.Markdown object>"
            ],
            "text/markdown": "DSBA 6165 is not explicitly mentioned in the provided content. However, it might be closely related to or part of a course series within the Data Science and Business Analytics program. The relevant course mentioned is DSBA 6100, titled \"Big Data Analytics for Competitive Advantage,\" which covers various topics including:\n\n1. **Data Analytics Overview**: Introduction to data analytics as a strategic resource.\n2. **Data Analytics Drivers and Challenges**: Discussion on the shift in data science and issues related to data utilization.\n3. **Data Sourcing and Management**: Acquisition, collection, storage, and analysis of big data.\n4. **Data Wrangling**: Cleaning, transforming, and preparing data for analysis, including practical sessions using SAS Enterprise Guide.\n5. **Data Visualization**: Utilizing tools like Tableau and Power BI for data exploration and visualization.\n6. **Machine Learning Models**: Trends and applications in current industries.\n7. **Text Analytics**: Involves case studies and applications, enhancing understanding of text data analysis.\n8. **Data Ethics and Privacy**: Discussion on ethical issues and privacy in data handling.\n9. **Group Project**: Application of course knowledge on real-world business problems using big data.\n\nFor more specific details on DSBA 6165, you may want to directly consult the course syllabus or contact the instructor associated with that course."
          },
          "metadata": {}
        },
        {
          "output_type": "display_data",
          "data": {
            "text/plain": [
              "<IPython.core.display.Markdown object>"
            ],
            "text/markdown": "## Retrieval"
          },
          "metadata": {}
        },
        {
          "output_type": "stream",
          "name": "stdout",
          "text": [
            "{\n",
            "  \"request\": \"Requesting information about the topics covered in DSBA 6165.\",\n",
            "  \"semantic_phrase\": \"topics covered in DSBA 6165\",\n",
            "  \"search_words\": \"DSBA 6165 OR topics OR course\",\n",
            "  \"metadata_fields\": {\n",
            "    \"instructor\": [],\n",
            "    \"course_number\": [\n",
            "      \"6165\"\n",
            "    ],\n",
            "    \"course_title\": []\n",
            "  }\n",
            "}\n"
          ]
        },
        {
          "output_type": "display_data",
          "data": {
            "text/plain": [
              "<IPython.core.display.Markdown object>"
            ],
            "text/markdown": "## Sources"
          },
          "metadata": {}
        },
        {
          "output_type": "display_data",
          "data": {
            "text/plain": [
              "<IPython.core.display.Markdown object>"
            ],
            "text/markdown": "### <font color=\"#699\">DSBA6100-U90_MBAD7090-U92_Spring 2023_Blaine Nashold – Daryl Nashold.pdf.C0003</font>"
          },
          "metadata": {}
        },
        {
          "output_type": "display_data",
          "data": {
            "text/plain": [
              "<IPython.core.display.Markdown object>"
            ],
            "text/markdown": "**DSBA 6100**: _Big Data Analytics for Competitive Advantage_"
          },
          "metadata": {}
        },
        {
          "output_type": "display_data",
          "data": {
            "text/plain": [
              "<IPython.core.display.Markdown object>"
            ],
            "text/markdown": "**Instuctor**: _Daryl Nashold_"
          },
          "metadata": {}
        },
        {
          "output_type": "display_data",
          "data": {
            "text/plain": [
              "<IPython.core.display.Markdown object>"
            ],
            "text/markdown": "**Relevance**: _0.5215058153661916_"
          },
          "metadata": {}
        },
        {
          "output_type": "display_data",
          "data": {
            "text/plain": [
              "<IPython.core.display.Markdown object>"
            ],
            "text/markdown": "**V Relevance**: _0.5215058153661916_"
          },
          "metadata": {}
        },
        {
          "output_type": "display_data",
          "data": {
            "text/plain": [
              "<IPython.core.display.Markdown object>"
            ],
            "text/markdown": "### <font color=\"#699\">DSBA 6162 – Zbyszek Ras.pdf.C0001</font>"
          },
          "metadata": {}
        },
        {
          "output_type": "display_data",
          "data": {
            "text/plain": [
              "<IPython.core.display.Markdown object>"
            ],
            "text/markdown": "**DSBA 6162**: _Knowledge Discovery in Databases_"
          },
          "metadata": {}
        },
        {
          "output_type": "display_data",
          "data": {
            "text/plain": [
              "<IPython.core.display.Markdown object>"
            ],
            "text/markdown": "**Instuctor**: _Zybszek Ras_"
          },
          "metadata": {}
        },
        {
          "output_type": "display_data",
          "data": {
            "text/plain": [
              "<IPython.core.display.Markdown object>"
            ],
            "text/markdown": "**Relevance**: _0.5212824483038451_"
          },
          "metadata": {}
        },
        {
          "output_type": "display_data",
          "data": {
            "text/plain": [
              "<IPython.core.display.Markdown object>"
            ],
            "text/markdown": "**V Relevance**: _0.5212824483038451_"
          },
          "metadata": {}
        },
        {
          "output_type": "display_data",
          "data": {
            "text/plain": [
              "<IPython.core.display.Markdown object>"
            ],
            "text/markdown": "### <font color=\"#699\">DSBA6100-U90_MBAD7090-U92_Spring 2023_Blaine Nashold – Daryl Nashold.pdf.C0001</font>"
          },
          "metadata": {}
        },
        {
          "output_type": "display_data",
          "data": {
            "text/plain": [
              "<IPython.core.display.Markdown object>"
            ],
            "text/markdown": "**DSBA 6100**: _Big Data Analytics for Competitive Advantage_"
          },
          "metadata": {}
        },
        {
          "output_type": "display_data",
          "data": {
            "text/plain": [
              "<IPython.core.display.Markdown object>"
            ],
            "text/markdown": "**Instuctor**: _Daryl Nashold_"
          },
          "metadata": {}
        },
        {
          "output_type": "display_data",
          "data": {
            "text/plain": [
              "<IPython.core.display.Markdown object>"
            ],
            "text/markdown": "**Relevance**: _0.5078880719555247_"
          },
          "metadata": {}
        },
        {
          "output_type": "display_data",
          "data": {
            "text/plain": [
              "<IPython.core.display.Markdown object>"
            ],
            "text/markdown": "**V Relevance**: _0.5078880719555247_"
          },
          "metadata": {}
        },
        {
          "output_type": "display_data",
          "data": {
            "text/plain": [
              "<IPython.core.display.Markdown object>"
            ],
            "text/markdown": "### <font color=\"#699\">DSBA 6010 Applied Computer Vision – Rick Chakra.C0002</font>"
          },
          "metadata": {}
        },
        {
          "output_type": "display_data",
          "data": {
            "text/plain": [
              "<IPython.core.display.Markdown object>"
            ],
            "text/markdown": "**DSBA 6010**: _Applied Computer Vision_"
          },
          "metadata": {}
        },
        {
          "output_type": "display_data",
          "data": {
            "text/plain": [
              "<IPython.core.display.Markdown object>"
            ],
            "text/markdown": "**Instuctor**: _Rick Chakra_"
          },
          "metadata": {}
        },
        {
          "output_type": "display_data",
          "data": {
            "text/plain": [
              "<IPython.core.display.Markdown object>"
            ],
            "text/markdown": "**Relevance**: _0.5059576904548663_"
          },
          "metadata": {}
        },
        {
          "output_type": "display_data",
          "data": {
            "text/plain": [
              "<IPython.core.display.Markdown object>"
            ],
            "text/markdown": "**V Relevance**: _0.5059576904548663_"
          },
          "metadata": {}
        },
        {
          "output_type": "display_data",
          "data": {
            "text/plain": [
              "<IPython.core.display.Markdown object>"
            ],
            "text/markdown": "### <font color=\"#699\">DSBA-6211-Advanced-Business-Analytics-Fall-2024-Kexin-Zhao.pdf.C0002</font>"
          },
          "metadata": {}
        },
        {
          "output_type": "display_data",
          "data": {
            "text/plain": [
              "<IPython.core.display.Markdown object>"
            ],
            "text/markdown": "**DSBA 6211**: _Advanced Business Analytics_"
          },
          "metadata": {}
        },
        {
          "output_type": "display_data",
          "data": {
            "text/plain": [
              "<IPython.core.display.Markdown object>"
            ],
            "text/markdown": "**Instuctor**: _Kexin Zhao_"
          },
          "metadata": {}
        },
        {
          "output_type": "display_data",
          "data": {
            "text/plain": [
              "<IPython.core.display.Markdown object>"
            ],
            "text/markdown": "**Relevance**: _0.504785608033621_"
          },
          "metadata": {}
        },
        {
          "output_type": "display_data",
          "data": {
            "text/plain": [
              "<IPython.core.display.Markdown object>"
            ],
            "text/markdown": "**V Relevance**: _0.504785608033621_"
          },
          "metadata": {}
        },
        {
          "output_type": "display_data",
          "data": {
            "text/plain": [
              "<IPython.core.display.Markdown object>"
            ],
            "text/markdown": "# <font color='#966'>Which professors have taught DSBA 6165</font>"
          },
          "metadata": {}
        },
        {
          "output_type": "display_data",
          "data": {
            "text/plain": [
              "<IPython.core.display.Markdown object>"
            ],
            "text/markdown": "<font color='#44a'>**Sending**: _Which professors have taught DSBA 6165_</font>"
          },
          "metadata": {}
        },
        {
          "output_type": "display_data",
          "data": {
            "text/plain": [
              "<IPython.core.display.Markdown object>"
            ],
            "text/markdown": "## Answer"
          },
          "metadata": {}
        },
        {
          "output_type": "display_data",
          "data": {
            "text/plain": [
              "<IPython.core.display.Markdown object>"
            ],
            "text/markdown": "The professor who has taught the course DSBA 6165: AI & Deep Learning is Dr. Albert Park."
          },
          "metadata": {}
        },
        {
          "output_type": "display_data",
          "data": {
            "text/plain": [
              "<IPython.core.display.Markdown object>"
            ],
            "text/markdown": "## Retrieval"
          },
          "metadata": {}
        },
        {
          "output_type": "stream",
          "name": "stdout",
          "text": [
            "{\n",
            "  \"request\": \"Find professors who taught DSBA 6165\",\n",
            "  \"semantic_phrase\": \"professors who taught DSBA 6165\",\n",
            "  \"search_words\": [\n",
            "    \"professors\",\n",
            "    \"taught\",\n",
            "    \"DSBA\",\n",
            "    \"6165\"\n",
            "  ],\n",
            "  \"metadata_fields\": {\n",
            "    \"instructor\": [],\n",
            "    \"course_number\": [\n",
            "      \"6165\"\n",
            "    ],\n",
            "    \"course_title\": []\n",
            "  }\n",
            "}\n"
          ]
        },
        {
          "output_type": "display_data",
          "data": {
            "text/plain": [
              "<IPython.core.display.Markdown object>"
            ],
            "text/markdown": "## Sources"
          },
          "metadata": {}
        },
        {
          "output_type": "display_data",
          "data": {
            "text/plain": [
              "<IPython.core.display.Markdown object>"
            ],
            "text/markdown": "### <font color=\"#699\">DSBA-6165-AI-and-Deep-Learning-Fall-2024-Albert-Park-1.pdf</font>"
          },
          "metadata": {}
        },
        {
          "output_type": "display_data",
          "data": {
            "text/plain": [
              "<IPython.core.display.Markdown object>"
            ],
            "text/markdown": "**DSBA 6165**: _AI and Deep Learning_"
          },
          "metadata": {}
        },
        {
          "output_type": "display_data",
          "data": {
            "text/plain": [
              "<IPython.core.display.Markdown object>"
            ],
            "text/markdown": "**Instuctor**: _Albert Park_"
          },
          "metadata": {}
        },
        {
          "output_type": "display_data",
          "data": {
            "text/plain": [
              "<IPython.core.display.Markdown object>"
            ],
            "text/markdown": "**Relevance**: _0.6989726422583095_"
          },
          "metadata": {}
        },
        {
          "output_type": "display_data",
          "data": {
            "text/plain": [
              "<IPython.core.display.Markdown object>"
            ],
            "text/markdown": "**I Relevance**: _0.6989726422583095_"
          },
          "metadata": {}
        },
        {
          "output_type": "display_data",
          "data": {
            "text/plain": [
              "<IPython.core.display.Markdown object>"
            ],
            "text/markdown": "### <font color=\"#699\">DSBA6100-U90_MBAD7090-U92_Spring 2023_Blaine Nashold – Daryl Nashold.pdf.C0003</font>"
          },
          "metadata": {}
        },
        {
          "output_type": "display_data",
          "data": {
            "text/plain": [
              "<IPython.core.display.Markdown object>"
            ],
            "text/markdown": "**DSBA 6100**: _Big Data Analytics for Competitive Advantage_"
          },
          "metadata": {}
        },
        {
          "output_type": "display_data",
          "data": {
            "text/plain": [
              "<IPython.core.display.Markdown object>"
            ],
            "text/markdown": "**Instuctor**: _Daryl Nashold_"
          },
          "metadata": {}
        },
        {
          "output_type": "display_data",
          "data": {
            "text/plain": [
              "<IPython.core.display.Markdown object>"
            ],
            "text/markdown": "**Relevance**: _0.5045661794218685_"
          },
          "metadata": {}
        },
        {
          "output_type": "display_data",
          "data": {
            "text/plain": [
              "<IPython.core.display.Markdown object>"
            ],
            "text/markdown": "**V Relevance**: _0.5045661794218685_"
          },
          "metadata": {}
        },
        {
          "output_type": "display_data",
          "data": {
            "text/plain": [
              "<IPython.core.display.Markdown object>"
            ],
            "text/markdown": "### <font color=\"#699\">DSBA6100-U90_MBAD7090-U92_Spring 2023_Blaine Nashold – Daryl Nashold.pdf.C0001</font>"
          },
          "metadata": {}
        },
        {
          "output_type": "display_data",
          "data": {
            "text/plain": [
              "<IPython.core.display.Markdown object>"
            ],
            "text/markdown": "**DSBA 6100**: _Big Data Analytics for Competitive Advantage_"
          },
          "metadata": {}
        },
        {
          "output_type": "display_data",
          "data": {
            "text/plain": [
              "<IPython.core.display.Markdown object>"
            ],
            "text/markdown": "**Instuctor**: _Daryl Nashold_"
          },
          "metadata": {}
        },
        {
          "output_type": "display_data",
          "data": {
            "text/plain": [
              "<IPython.core.display.Markdown object>"
            ],
            "text/markdown": "**Relevance**: _0.5016369443303182_"
          },
          "metadata": {}
        },
        {
          "output_type": "display_data",
          "data": {
            "text/plain": [
              "<IPython.core.display.Markdown object>"
            ],
            "text/markdown": "**V Relevance**: _0.5016369443303182_"
          },
          "metadata": {}
        },
        {
          "output_type": "display_data",
          "data": {
            "text/plain": [
              "<IPython.core.display.Markdown object>"
            ],
            "text/markdown": "### <font color=\"#699\">DSBA 6162 Knowledge Discovery in Databases (KDD) Xi (Sunshine) Niu.C0001</font>"
          },
          "metadata": {}
        },
        {
          "output_type": "display_data",
          "data": {
            "text/plain": [
              "<IPython.core.display.Markdown object>"
            ],
            "text/markdown": "**DSBA 6162**: _Knowledge Discovery in Databases (KDD)_"
          },
          "metadata": {}
        },
        {
          "output_type": "display_data",
          "data": {
            "text/plain": [
              "<IPython.core.display.Markdown object>"
            ],
            "text/markdown": "**Instuctor**: _Xi (Sunshine) Niu_"
          },
          "metadata": {}
        },
        {
          "output_type": "display_data",
          "data": {
            "text/plain": [
              "<IPython.core.display.Markdown object>"
            ],
            "text/markdown": "**Relevance**: _0.4997557105670952_"
          },
          "metadata": {}
        },
        {
          "output_type": "display_data",
          "data": {
            "text/plain": [
              "<IPython.core.display.Markdown object>"
            ],
            "text/markdown": "**V Relevance**: _0.4997557105670952_"
          },
          "metadata": {}
        },
        {
          "output_type": "display_data",
          "data": {
            "text/plain": [
              "<IPython.core.display.Markdown object>"
            ],
            "text/markdown": "### <font color=\"#699\">DSBA-6211-Advanced-Business-Analytics-Fall-2024-SungJune-Park.pdf.C0001</font>"
          },
          "metadata": {}
        },
        {
          "output_type": "display_data",
          "data": {
            "text/plain": [
              "<IPython.core.display.Markdown object>"
            ],
            "text/markdown": "**DSBA 6211**: _Advanced Business Analytics_"
          },
          "metadata": {}
        },
        {
          "output_type": "display_data",
          "data": {
            "text/plain": [
              "<IPython.core.display.Markdown object>"
            ],
            "text/markdown": "**Instuctor**: _Sungjune Park_"
          },
          "metadata": {}
        },
        {
          "output_type": "display_data",
          "data": {
            "text/plain": [
              "<IPython.core.display.Markdown object>"
            ],
            "text/markdown": "**Relevance**: _0.49884509199480637_"
          },
          "metadata": {}
        },
        {
          "output_type": "display_data",
          "data": {
            "text/plain": [
              "<IPython.core.display.Markdown object>"
            ],
            "text/markdown": "**V Relevance**: _0.49884509199480637_"
          },
          "metadata": {}
        },
        {
          "output_type": "display_data",
          "data": {
            "text/plain": [
              "<IPython.core.display.Markdown object>"
            ],
            "text/markdown": "### <font color=\"#699\">DSBA-6211-Advanced-Business-Analytics-Fall-2024-Kexin-Zhao.pdf.C0002</font>"
          },
          "metadata": {}
        },
        {
          "output_type": "display_data",
          "data": {
            "text/plain": [
              "<IPython.core.display.Markdown object>"
            ],
            "text/markdown": "**DSBA 6211**: _Advanced Business Analytics_"
          },
          "metadata": {}
        },
        {
          "output_type": "display_data",
          "data": {
            "text/plain": [
              "<IPython.core.display.Markdown object>"
            ],
            "text/markdown": "**Instuctor**: _Kexin Zhao_"
          },
          "metadata": {}
        },
        {
          "output_type": "display_data",
          "data": {
            "text/plain": [
              "<IPython.core.display.Markdown object>"
            ],
            "text/markdown": "**Relevance**: _0.49668680387918146_"
          },
          "metadata": {}
        },
        {
          "output_type": "display_data",
          "data": {
            "text/plain": [
              "<IPython.core.display.Markdown object>"
            ],
            "text/markdown": "**V Relevance**: _0.49668680387918146_"
          },
          "metadata": {}
        },
        {
          "output_type": "display_data",
          "data": {
            "text/plain": [
              "<IPython.core.display.Markdown object>"
            ],
            "text/markdown": "# <font color='#966'>Which professors have taught DSBA 6211</font>"
          },
          "metadata": {}
        },
        {
          "output_type": "display_data",
          "data": {
            "text/plain": [
              "<IPython.core.display.Markdown object>"
            ],
            "text/markdown": "<font color='#44a'>**Sending**: _Which professors have taught DSBA 6211_</font>"
          },
          "metadata": {}
        },
        {
          "output_type": "display_data",
          "data": {
            "text/plain": [
              "<IPython.core.display.Markdown object>"
            ],
            "text/markdown": "## Answer"
          },
          "metadata": {}
        },
        {
          "output_type": "display_data",
          "data": {
            "text/plain": [
              "<IPython.core.display.Markdown object>"
            ],
            "text/markdown": "The professors who have taught DSBA 6211 (Advanced Business Analytics) include:\n\n1. **Dr. Kexin Zhao** - for the Fall 2024 semester.\n2. **Dr. Sungjune Park** - for the Fall 2024 semester.\n3. **Dr. Kornelia Bastin** - for the Fall 2024 semester.\n4. **Dr. Ryan Wesslen** - for the Summer 2024 semester. \n\nThese instructors are responsible for delivering the course content related to business analytics techniques using Python, among other topics."
          },
          "metadata": {}
        },
        {
          "output_type": "display_data",
          "data": {
            "text/plain": [
              "<IPython.core.display.Markdown object>"
            ],
            "text/markdown": "## Retrieval"
          },
          "metadata": {}
        },
        {
          "output_type": "stream",
          "name": "stdout",
          "text": [
            "{\n",
            "  \"request\": \"List of professors who have taught DSBA 6211\",\n",
            "  \"semantic_phrase\": \"professors taught DSBA 6211\",\n",
            "  \"search_words\": [\n",
            "    \"professors\",\n",
            "    \"taught\",\n",
            "    \"DSBA 6211\"\n",
            "  ],\n",
            "  \"metadata_fields\": {\n",
            "    \"instructor\": [],\n",
            "    \"course_number\": [\n",
            "      \"6211\"\n",
            "    ],\n",
            "    \"course_title\": []\n",
            "  }\n",
            "}\n"
          ]
        },
        {
          "output_type": "display_data",
          "data": {
            "text/plain": [
              "<IPython.core.display.Markdown object>"
            ],
            "text/markdown": "## Sources"
          },
          "metadata": {}
        },
        {
          "output_type": "display_data",
          "data": {
            "text/plain": [
              "<IPython.core.display.Markdown object>"
            ],
            "text/markdown": "### <font color=\"#699\">DSBA-6211-Advanced-Business-Analytics-Fall-2024-Kexin-Zhao.pdf</font>"
          },
          "metadata": {}
        },
        {
          "output_type": "display_data",
          "data": {
            "text/plain": [
              "<IPython.core.display.Markdown object>"
            ],
            "text/markdown": "**DSBA 6211**: _Advanced Business Analytics_"
          },
          "metadata": {}
        },
        {
          "output_type": "display_data",
          "data": {
            "text/plain": [
              "<IPython.core.display.Markdown object>"
            ],
            "text/markdown": "**Instuctor**: _Kexin Zhao_"
          },
          "metadata": {}
        },
        {
          "output_type": "display_data",
          "data": {
            "text/plain": [
              "<IPython.core.display.Markdown object>"
            ],
            "text/markdown": "**Relevance**: _0.5465927035252601_"
          },
          "metadata": {}
        },
        {
          "output_type": "display_data",
          "data": {
            "text/plain": [
              "<IPython.core.display.Markdown object>"
            ],
            "text/markdown": "**I Relevance**: _0.5465927035252601_"
          },
          "metadata": {}
        },
        {
          "output_type": "display_data",
          "data": {
            "text/plain": [
              "<IPython.core.display.Markdown object>"
            ],
            "text/markdown": "### <font color=\"#699\">DSBA6100-U90_MBAD7090-U92_Spring 2023_Blaine Nashold – Daryl Nashold.pdf.C0001</font>"
          },
          "metadata": {}
        },
        {
          "output_type": "display_data",
          "data": {
            "text/plain": [
              "<IPython.core.display.Markdown object>"
            ],
            "text/markdown": "**DSBA 6100**: _Big Data Analytics for Competitive Advantage_"
          },
          "metadata": {}
        },
        {
          "output_type": "display_data",
          "data": {
            "text/plain": [
              "<IPython.core.display.Markdown object>"
            ],
            "text/markdown": "**Instuctor**: _Daryl Nashold_"
          },
          "metadata": {}
        },
        {
          "output_type": "display_data",
          "data": {
            "text/plain": [
              "<IPython.core.display.Markdown object>"
            ],
            "text/markdown": "**Relevance**: _0.5040621744590295_"
          },
          "metadata": {}
        },
        {
          "output_type": "display_data",
          "data": {
            "text/plain": [
              "<IPython.core.display.Markdown object>"
            ],
            "text/markdown": "**V Relevance**: _0.5040621744590295_"
          },
          "metadata": {}
        },
        {
          "output_type": "display_data",
          "data": {
            "text/plain": [
              "<IPython.core.display.Markdown object>"
            ],
            "text/markdown": "### <font color=\"#699\">DSBA6122-U90-2023Spring.pdf.C0001</font>"
          },
          "metadata": {}
        },
        {
          "output_type": "display_data",
          "data": {
            "text/plain": [
              "<IPython.core.display.Markdown object>"
            ],
            "text/markdown": "**DSBA 6122**: _Decision Modeling and Analysis_"
          },
          "metadata": {}
        },
        {
          "output_type": "display_data",
          "data": {
            "text/plain": [
              "<IPython.core.display.Markdown object>"
            ],
            "text/markdown": "**Instuctor**: _Xiuli He_"
          },
          "metadata": {}
        },
        {
          "output_type": "display_data",
          "data": {
            "text/plain": [
              "<IPython.core.display.Markdown object>"
            ],
            "text/markdown": "**Relevance**: _0.5003822087052201_"
          },
          "metadata": {}
        },
        {
          "output_type": "display_data",
          "data": {
            "text/plain": [
              "<IPython.core.display.Markdown object>"
            ],
            "text/markdown": "**V Relevance**: _0.5003822087052201_"
          },
          "metadata": {}
        },
        {
          "output_type": "display_data",
          "data": {
            "text/plain": [
              "<IPython.core.display.Markdown object>"
            ],
            "text/markdown": "### <font color=\"#699\">DSBA6100-U90_MBAD7090-U92_Spring 2023_Blaine Nashold – Daryl Nashold.pdf.C0003</font>"
          },
          "metadata": {}
        },
        {
          "output_type": "display_data",
          "data": {
            "text/plain": [
              "<IPython.core.display.Markdown object>"
            ],
            "text/markdown": "**DSBA 6100**: _Big Data Analytics for Competitive Advantage_"
          },
          "metadata": {}
        },
        {
          "output_type": "display_data",
          "data": {
            "text/plain": [
              "<IPython.core.display.Markdown object>"
            ],
            "text/markdown": "**Instuctor**: _Daryl Nashold_"
          },
          "metadata": {}
        },
        {
          "output_type": "display_data",
          "data": {
            "text/plain": [
              "<IPython.core.display.Markdown object>"
            ],
            "text/markdown": "**Relevance**: _0.5003147167780111_"
          },
          "metadata": {}
        },
        {
          "output_type": "display_data",
          "data": {
            "text/plain": [
              "<IPython.core.display.Markdown object>"
            ],
            "text/markdown": "**V Relevance**: _0.5003147167780111_"
          },
          "metadata": {}
        },
        {
          "output_type": "display_data",
          "data": {
            "text/plain": [
              "<IPython.core.display.Markdown object>"
            ],
            "text/markdown": "### <font color=\"#699\">DSBA-6211-Advanced-Business-Analytics-Fall-2024-SungJune-Park.pdf.C0001</font>"
          },
          "metadata": {}
        },
        {
          "output_type": "display_data",
          "data": {
            "text/plain": [
              "<IPython.core.display.Markdown object>"
            ],
            "text/markdown": "**DSBA 6211**: _Advanced Business Analytics_"
          },
          "metadata": {}
        },
        {
          "output_type": "display_data",
          "data": {
            "text/plain": [
              "<IPython.core.display.Markdown object>"
            ],
            "text/markdown": "**Instuctor**: _Sungjune Park_"
          },
          "metadata": {}
        },
        {
          "output_type": "display_data",
          "data": {
            "text/plain": [
              "<IPython.core.display.Markdown object>"
            ],
            "text/markdown": "**Relevance**: _0.4994397784953413_"
          },
          "metadata": {}
        },
        {
          "output_type": "display_data",
          "data": {
            "text/plain": [
              "<IPython.core.display.Markdown object>"
            ],
            "text/markdown": "**V Relevance**: _0.4994397784953413_"
          },
          "metadata": {}
        },
        {
          "output_type": "display_data",
          "data": {
            "text/plain": [
              "<IPython.core.display.Markdown object>"
            ],
            "text/markdown": "### <font color=\"#699\">DSBA-6208-Operations-Management-Fall-2024-Andy-Fraher.pdf.C0004</font>"
          },
          "metadata": {}
        },
        {
          "output_type": "display_data",
          "data": {
            "text/plain": [
              "<IPython.core.display.Markdown object>"
            ],
            "text/markdown": "**DSBA 6208**: _Operations Management_"
          },
          "metadata": {}
        },
        {
          "output_type": "display_data",
          "data": {
            "text/plain": [
              "<IPython.core.display.Markdown object>"
            ],
            "text/markdown": "**Instuctor**: _Andrew Fraher_"
          },
          "metadata": {}
        },
        {
          "output_type": "display_data",
          "data": {
            "text/plain": [
              "<IPython.core.display.Markdown object>"
            ],
            "text/markdown": "**Relevance**: _0.49883138723112747_"
          },
          "metadata": {}
        },
        {
          "output_type": "display_data",
          "data": {
            "text/plain": [
              "<IPython.core.display.Markdown object>"
            ],
            "text/markdown": "**V Relevance**: _0.49883138723112747_"
          },
          "metadata": {}
        },
        {
          "output_type": "display_data",
          "data": {
            "text/plain": [
              "<IPython.core.display.Markdown object>"
            ],
            "text/markdown": "### <font color=\"#699\">DSBA-6211-Advanced-Business-Analytics-Fall-2024-SungJune-Park.pdf</font>"
          },
          "metadata": {}
        },
        {
          "output_type": "display_data",
          "data": {
            "text/plain": [
              "<IPython.core.display.Markdown object>"
            ],
            "text/markdown": "**DSBA 6211**: _Advanced Business Analytics_"
          },
          "metadata": {}
        },
        {
          "output_type": "display_data",
          "data": {
            "text/plain": [
              "<IPython.core.display.Markdown object>"
            ],
            "text/markdown": "**Instuctor**: _Sungjune Park_"
          },
          "metadata": {}
        },
        {
          "output_type": "display_data",
          "data": {
            "text/plain": [
              "<IPython.core.display.Markdown object>"
            ],
            "text/markdown": "**Relevance**: _0.4267626374171731_"
          },
          "metadata": {}
        },
        {
          "output_type": "display_data",
          "data": {
            "text/plain": [
              "<IPython.core.display.Markdown object>"
            ],
            "text/markdown": "**I Relevance**: _0.4267626374171731_"
          },
          "metadata": {}
        },
        {
          "output_type": "display_data",
          "data": {
            "text/plain": [
              "<IPython.core.display.Markdown object>"
            ],
            "text/markdown": "### <font color=\"#699\">DSBA 6211 Advanced Business Analytics – Kornelia Bastin</font>"
          },
          "metadata": {}
        },
        {
          "output_type": "display_data",
          "data": {
            "text/plain": [
              "<IPython.core.display.Markdown object>"
            ],
            "text/markdown": "**DSBA 6211**: _Advanced Business Analytics_"
          },
          "metadata": {}
        },
        {
          "output_type": "display_data",
          "data": {
            "text/plain": [
              "<IPython.core.display.Markdown object>"
            ],
            "text/markdown": "**Instuctor**: _Kornelia Bastin_"
          },
          "metadata": {}
        },
        {
          "output_type": "display_data",
          "data": {
            "text/plain": [
              "<IPython.core.display.Markdown object>"
            ],
            "text/markdown": "**Relevance**: _0.389428092713928_"
          },
          "metadata": {}
        },
        {
          "output_type": "display_data",
          "data": {
            "text/plain": [
              "<IPython.core.display.Markdown object>"
            ],
            "text/markdown": "**I Relevance**: _0.389428092713928_"
          },
          "metadata": {}
        },
        {
          "output_type": "display_data",
          "data": {
            "text/plain": [
              "<IPython.core.display.Markdown object>"
            ],
            "text/markdown": "### <font color=\"#699\">DSBA-6211-Advanced-Business-Analytics-Summer-2024-Ryan-Wesslen.pdf</font>"
          },
          "metadata": {}
        },
        {
          "output_type": "display_data",
          "data": {
            "text/plain": [
              "<IPython.core.display.Markdown object>"
            ],
            "text/markdown": "**DSBA 6211**: _Advanced Business Analytics_"
          },
          "metadata": {}
        },
        {
          "output_type": "display_data",
          "data": {
            "text/plain": [
              "<IPython.core.display.Markdown object>"
            ],
            "text/markdown": "**Instuctor**: _Ryan Wesslen_"
          },
          "metadata": {}
        },
        {
          "output_type": "display_data",
          "data": {
            "text/plain": [
              "<IPython.core.display.Markdown object>"
            ],
            "text/markdown": "**Relevance**: _0.12725953962837333_"
          },
          "metadata": {}
        },
        {
          "output_type": "display_data",
          "data": {
            "text/plain": [
              "<IPython.core.display.Markdown object>"
            ],
            "text/markdown": "**I Relevance**: _0.12725953962837333_"
          },
          "metadata": {}
        },
        {
          "output_type": "display_data",
          "data": {
            "text/plain": [
              "<IPython.core.display.Markdown object>"
            ],
            "text/markdown": "# <font color='#966'>Which professors have taught DSBA 6156</font>"
          },
          "metadata": {}
        },
        {
          "output_type": "display_data",
          "data": {
            "text/plain": [
              "<IPython.core.display.Markdown object>"
            ],
            "text/markdown": "<font color='#44a'>**Sending**: _Which professors have taught DSBA 6156_</font>"
          },
          "metadata": {}
        },
        {
          "output_type": "display_data",
          "data": {
            "text/plain": [
              "<IPython.core.display.Markdown object>"
            ],
            "text/markdown": "## Answer"
          },
          "metadata": {}
        },
        {
          "output_type": "display_data",
          "data": {
            "text/plain": [
              "<IPython.core.display.Markdown object>"
            ],
            "text/markdown": "The professors who have taught DSBA 6156, Applied Machine Learning, are:\n\n1. **Rick Chakra** - He has taught this course in both Spring 2023 and Spring 2024 semesters. You can find more about him and his course details in the syllabus provided for these terms. \n\nIf you are looking for professors from specific previous semesters or have further inquiries, please let me know!"
          },
          "metadata": {}
        },
        {
          "output_type": "display_data",
          "data": {
            "text/plain": [
              "<IPython.core.display.Markdown object>"
            ],
            "text/markdown": "## Retrieval"
          },
          "metadata": {}
        },
        {
          "output_type": "stream",
          "name": "stdout",
          "text": [
            "{\n",
            "  \"request\": \"List professors who have taught DSBA 6156\",\n",
            "  \"semantic_phrase\": \"professors who have taught DSBA 6156\",\n",
            "  \"search_words\": [\n",
            "    \"professors\",\n",
            "    \"taught\",\n",
            "    \"DSBA\",\n",
            "    \"6156\"\n",
            "  ],\n",
            "  \"metadata_fields\": {\n",
            "    \"instructor\": [],\n",
            "    \"course_number\": [\n",
            "      \"6156\"\n",
            "    ],\n",
            "    \"course_title\": []\n",
            "  }\n",
            "}\n"
          ]
        },
        {
          "output_type": "display_data",
          "data": {
            "text/plain": [
              "<IPython.core.display.Markdown object>"
            ],
            "text/markdown": "## Sources"
          },
          "metadata": {}
        },
        {
          "output_type": "display_data",
          "data": {
            "text/plain": [
              "<IPython.core.display.Markdown object>"
            ],
            "text/markdown": "### <font color=\"#699\">DSBA6100-U90_MBAD7090-U92_Spring 2023_Blaine Nashold – Daryl Nashold.pdf.C0001</font>"
          },
          "metadata": {}
        },
        {
          "output_type": "display_data",
          "data": {
            "text/plain": [
              "<IPython.core.display.Markdown object>"
            ],
            "text/markdown": "**DSBA 6100**: _Big Data Analytics for Competitive Advantage_"
          },
          "metadata": {}
        },
        {
          "output_type": "display_data",
          "data": {
            "text/plain": [
              "<IPython.core.display.Markdown object>"
            ],
            "text/markdown": "**Instuctor**: _Daryl Nashold_"
          },
          "metadata": {}
        },
        {
          "output_type": "display_data",
          "data": {
            "text/plain": [
              "<IPython.core.display.Markdown object>"
            ],
            "text/markdown": "**Relevance**: _0.5044418999676659_"
          },
          "metadata": {}
        },
        {
          "output_type": "display_data",
          "data": {
            "text/plain": [
              "<IPython.core.display.Markdown object>"
            ],
            "text/markdown": "**V Relevance**: _0.5044418999676659_"
          },
          "metadata": {}
        },
        {
          "output_type": "display_data",
          "data": {
            "text/plain": [
              "<IPython.core.display.Markdown object>"
            ],
            "text/markdown": "### <font color=\"#699\">DSBA6100-U90_MBAD7090-U92_Spring 2023_Blaine Nashold – Daryl Nashold.pdf.C0003</font>"
          },
          "metadata": {}
        },
        {
          "output_type": "display_data",
          "data": {
            "text/plain": [
              "<IPython.core.display.Markdown object>"
            ],
            "text/markdown": "**DSBA 6100**: _Big Data Analytics for Competitive Advantage_"
          },
          "metadata": {}
        },
        {
          "output_type": "display_data",
          "data": {
            "text/plain": [
              "<IPython.core.display.Markdown object>"
            ],
            "text/markdown": "**Instuctor**: _Daryl Nashold_"
          },
          "metadata": {}
        },
        {
          "output_type": "display_data",
          "data": {
            "text/plain": [
              "<IPython.core.display.Markdown object>"
            ],
            "text/markdown": "**Relevance**: _0.5022204341245665_"
          },
          "metadata": {}
        },
        {
          "output_type": "display_data",
          "data": {
            "text/plain": [
              "<IPython.core.display.Markdown object>"
            ],
            "text/markdown": "**V Relevance**: _0.5022204341245665_"
          },
          "metadata": {}
        },
        {
          "output_type": "display_data",
          "data": {
            "text/plain": [
              "<IPython.core.display.Markdown object>"
            ],
            "text/markdown": "### <font color=\"#699\">DSBA-6211-Advanced-Business-Analytics-Fall-2024-SungJune-Park.pdf.C0001</font>"
          },
          "metadata": {}
        },
        {
          "output_type": "display_data",
          "data": {
            "text/plain": [
              "<IPython.core.display.Markdown object>"
            ],
            "text/markdown": "**DSBA 6211**: _Advanced Business Analytics_"
          },
          "metadata": {}
        },
        {
          "output_type": "display_data",
          "data": {
            "text/plain": [
              "<IPython.core.display.Markdown object>"
            ],
            "text/markdown": "**Instuctor**: _Sungjune Park_"
          },
          "metadata": {}
        },
        {
          "output_type": "display_data",
          "data": {
            "text/plain": [
              "<IPython.core.display.Markdown object>"
            ],
            "text/markdown": "**Relevance**: _0.50007585841773_"
          },
          "metadata": {}
        },
        {
          "output_type": "display_data",
          "data": {
            "text/plain": [
              "<IPython.core.display.Markdown object>"
            ],
            "text/markdown": "**V Relevance**: _0.50007585841773_"
          },
          "metadata": {}
        },
        {
          "output_type": "display_data",
          "data": {
            "text/plain": [
              "<IPython.core.display.Markdown object>"
            ],
            "text/markdown": "### <font color=\"#699\">DSBA 6162 Knowledge Discovery in Databases (KDD) Xi (Sunshine) Niu.C0001</font>"
          },
          "metadata": {}
        },
        {
          "output_type": "display_data",
          "data": {
            "text/plain": [
              "<IPython.core.display.Markdown object>"
            ],
            "text/markdown": "**DSBA 6162**: _Knowledge Discovery in Databases (KDD)_"
          },
          "metadata": {}
        },
        {
          "output_type": "display_data",
          "data": {
            "text/plain": [
              "<IPython.core.display.Markdown object>"
            ],
            "text/markdown": "**Instuctor**: _Xi (Sunshine) Niu_"
          },
          "metadata": {}
        },
        {
          "output_type": "display_data",
          "data": {
            "text/plain": [
              "<IPython.core.display.Markdown object>"
            ],
            "text/markdown": "**Relevance**: _0.49719064379684347_"
          },
          "metadata": {}
        },
        {
          "output_type": "display_data",
          "data": {
            "text/plain": [
              "<IPython.core.display.Markdown object>"
            ],
            "text/markdown": "**V Relevance**: _0.49719064379684347_"
          },
          "metadata": {}
        },
        {
          "output_type": "display_data",
          "data": {
            "text/plain": [
              "<IPython.core.display.Markdown object>"
            ],
            "text/markdown": "### <font color=\"#699\">DSBA-6010-Fall-2024-Steven-Jordan.pdf.C0001</font>"
          },
          "metadata": {}
        },
        {
          "output_type": "display_data",
          "data": {
            "text/plain": [
              "<IPython.core.display.Markdown object>"
            ],
            "text/markdown": "**DSBA 6010**: _Special Topics: Building & Leading Data Organizations_"
          },
          "metadata": {}
        },
        {
          "output_type": "display_data",
          "data": {
            "text/plain": [
              "<IPython.core.display.Markdown object>"
            ],
            "text/markdown": "**Instuctor**: _Steven Jordan_"
          },
          "metadata": {}
        },
        {
          "output_type": "display_data",
          "data": {
            "text/plain": [
              "<IPython.core.display.Markdown object>"
            ],
            "text/markdown": "**Relevance**: _0.4949908818643069_"
          },
          "metadata": {}
        },
        {
          "output_type": "display_data",
          "data": {
            "text/plain": [
              "<IPython.core.display.Markdown object>"
            ],
            "text/markdown": "**V Relevance**: _0.4949908818643069_"
          },
          "metadata": {}
        },
        {
          "output_type": "display_data",
          "data": {
            "text/plain": [
              "<IPython.core.display.Markdown object>"
            ],
            "text/markdown": "### <font color=\"#699\">Syllabus for 202310-Spring 2023-DSBA-6156-U90-Applied Machine Learning – Rick Chakra.pdf</font>"
          },
          "metadata": {}
        },
        {
          "output_type": "display_data",
          "data": {
            "text/plain": [
              "<IPython.core.display.Markdown object>"
            ],
            "text/markdown": "**DSBA 6156**: _Applied Machine Learning_"
          },
          "metadata": {}
        },
        {
          "output_type": "display_data",
          "data": {
            "text/plain": [
              "<IPython.core.display.Markdown object>"
            ],
            "text/markdown": "**Instuctor**: _Rick Chakra_"
          },
          "metadata": {}
        },
        {
          "output_type": "display_data",
          "data": {
            "text/plain": [
              "<IPython.core.display.Markdown object>"
            ],
            "text/markdown": "**Relevance**: _0.4920445099604514_"
          },
          "metadata": {}
        },
        {
          "output_type": "display_data",
          "data": {
            "text/plain": [
              "<IPython.core.display.Markdown object>"
            ],
            "text/markdown": "**I Relevance**: _0.4920445099604514_"
          },
          "metadata": {}
        },
        {
          "output_type": "display_data",
          "data": {
            "text/plain": [
              "<IPython.core.display.Markdown object>"
            ],
            "text/markdown": "### <font color=\"#699\">DSBA 6156 Applied Machine Learning – Rick Chakra</font>"
          },
          "metadata": {}
        },
        {
          "output_type": "display_data",
          "data": {
            "text/plain": [
              "<IPython.core.display.Markdown object>"
            ],
            "text/markdown": "**DSBA 6156**: _Applied Machine Learning_"
          },
          "metadata": {}
        },
        {
          "output_type": "display_data",
          "data": {
            "text/plain": [
              "<IPython.core.display.Markdown object>"
            ],
            "text/markdown": "**Instuctor**: _Rick Chakra_"
          },
          "metadata": {}
        },
        {
          "output_type": "display_data",
          "data": {
            "text/plain": [
              "<IPython.core.display.Markdown object>"
            ],
            "text/markdown": "**Relevance**: _0.4834573986274755_"
          },
          "metadata": {}
        },
        {
          "output_type": "display_data",
          "data": {
            "text/plain": [
              "<IPython.core.display.Markdown object>"
            ],
            "text/markdown": "**I Relevance**: _0.4834573986274755_"
          },
          "metadata": {}
        },
        {
          "output_type": "display_data",
          "data": {
            "text/plain": [
              "<IPython.core.display.Markdown object>"
            ],
            "text/markdown": "### <font color=\"#699\">DSBA-6156-Applied-Machine-Learning-Fall-2024-Rick-Chakra.pdf</font>"
          },
          "metadata": {}
        },
        {
          "output_type": "display_data",
          "data": {
            "text/plain": [
              "<IPython.core.display.Markdown object>"
            ],
            "text/markdown": "**DSBA 6156**: _Applied Machine Learning_"
          },
          "metadata": {}
        },
        {
          "output_type": "display_data",
          "data": {
            "text/plain": [
              "<IPython.core.display.Markdown object>"
            ],
            "text/markdown": "**Instuctor**: _Rick Chakra_"
          },
          "metadata": {}
        },
        {
          "output_type": "display_data",
          "data": {
            "text/plain": [
              "<IPython.core.display.Markdown object>"
            ],
            "text/markdown": "**Relevance**: _0.4521212207996513_"
          },
          "metadata": {}
        },
        {
          "output_type": "display_data",
          "data": {
            "text/plain": [
              "<IPython.core.display.Markdown object>"
            ],
            "text/markdown": "**I Relevance**: _0.4521212207996513_"
          },
          "metadata": {}
        },
        {
          "output_type": "display_data",
          "data": {
            "text/plain": [
              "<IPython.core.display.Markdown object>"
            ],
            "text/markdown": "# <font color='#966'>which professors teach courses that use aws, gcp or azure</font>"
          },
          "metadata": {}
        },
        {
          "output_type": "display_data",
          "data": {
            "text/plain": [
              "<IPython.core.display.Markdown object>"
            ],
            "text/markdown": "<font color='#44a'>**Sending**: _which professors teach courses that use aws, gcp or azure_</font>"
          },
          "metadata": {}
        },
        {
          "output_type": "display_data",
          "data": {
            "text/plain": [
              "<IPython.core.display.Markdown object>"
            ],
            "text/markdown": "## Answer"
          },
          "metadata": {}
        },
        {
          "output_type": "display_data",
          "data": {
            "text/plain": [
              "<IPython.core.display.Markdown object>"
            ],
            "text/markdown": "Professors who teach courses that utilize cloud platforms such as AWS, GCP, or Azure are as follows:\n\n1. **Colby Ford**:\n   - **Course**: Cloud Computing for Data Analysis (6190)\n   - **Description**: This course focuses on the basic principles of cloud computing for data-intensive applications and includes topics such as data platform architecture, data analytics, machine learning, and the deployment of cloud resources. It explicitly mentions the use of Azure Synapse and Azure Machine Learning.\n   - **Contact**: Email - colby.ford@uncc.edu\n\n2. **Pamela Thompson**:\n   - **Course**: Database Systems for Data Scientists (6160)\n   - **Description**: This course covers the use of cloud databases, specifically mentioning AWS and GCP as platforms with tutorials available to students. Students will also have access to tools like AWS and Qwiklabs for practical experience.\n   - **Contact**: Email - plthomps@uncc.edu\n\n3. **Aaron Lee**:\n   - **Course**: Database Systems for Data Scientists (6160)\n   - **Description**: Similar to Pamela Thompson's course, it focuses on database systems with coverage of modern cloud approaches, including access to AWS and GCP platforms.\n   - **Contact**: Email - alee175@charlotte.edu\n\n4. **Albert Park**:\n   - **Course**: AI and Deep Learning (6165)\n   - **Description**: While the syllabus does not specify AWS, GCP, or Azure directly, the course involves using deep learning frameworks (TensorFlow, PyTorch), which can utilize cloud environments.\n   - **Contact**: Email - al.park@uncc.edu\n\n5. **Shih-Hsiung Chou**:\n   - **Course**: Database Systems for Data Scientists (6160)\n   - **Description**: Emphasizes cloud approaches and databases in the cloud, providing students access to cloud technology for their projects.\n   - **Contact**: Email - schou6@charlotte.edu\n\nEach of these professors focuses on integrating cloud computing principles and tools into their coursework, ensuring that students gain hands-on experience with current technologies."
          },
          "metadata": {}
        },
        {
          "output_type": "display_data",
          "data": {
            "text/plain": [
              "<IPython.core.display.Markdown object>"
            ],
            "text/markdown": "## Retrieval"
          },
          "metadata": {}
        },
        {
          "output_type": "stream",
          "name": "stdout",
          "text": [
            "{\n",
            "  \"request\": \"List professors who teach courses that use AWS, GCP, or Azure.\",\n",
            "  \"semantic_phrase\": \"professors teaching courses using AWS, GCP, Azure\",\n",
            "  \"search_words\": [\n",
            "    \"AWS\",\n",
            "    \"GCP\",\n",
            "    \"Azure\"\n",
            "  ],\n",
            "  \"metadata_fields\": {}\n",
            "}\n"
          ]
        },
        {
          "output_type": "display_data",
          "data": {
            "text/plain": [
              "<IPython.core.display.Markdown object>"
            ],
            "text/markdown": "## Sources"
          },
          "metadata": {}
        },
        {
          "output_type": "display_data",
          "data": {
            "text/plain": [
              "<IPython.core.display.Markdown object>"
            ],
            "text/markdown": "### <font color=\"#699\">DSBA-6190_Syllabus_Spring2023 – Colby Ford.pdf.C0001</font>"
          },
          "metadata": {}
        },
        {
          "output_type": "display_data",
          "data": {
            "text/plain": [
              "<IPython.core.display.Markdown object>"
            ],
            "text/markdown": "**DSBA 6190**: _Cloud Computing for Data Analysis_"
          },
          "metadata": {}
        },
        {
          "output_type": "display_data",
          "data": {
            "text/plain": [
              "<IPython.core.display.Markdown object>"
            ],
            "text/markdown": "**Instuctor**: _Colby Ford_"
          },
          "metadata": {}
        },
        {
          "output_type": "display_data",
          "data": {
            "text/plain": [
              "<IPython.core.display.Markdown object>"
            ],
            "text/markdown": "**Relevance**: _0.48851160812328703_"
          },
          "metadata": {}
        },
        {
          "output_type": "display_data",
          "data": {
            "text/plain": [
              "<IPython.core.display.Markdown object>"
            ],
            "text/markdown": "**V Relevance**: _0.48851160812328703_"
          },
          "metadata": {}
        },
        {
          "output_type": "display_data",
          "data": {
            "text/plain": [
              "<IPython.core.display.Markdown object>"
            ],
            "text/markdown": "### <font color=\"#699\">DSBA-6190-Cloud-Computing-for-Data-Analysis-Fall-2024-Colby-Ford.pdf.C0001</font>"
          },
          "metadata": {}
        },
        {
          "output_type": "display_data",
          "data": {
            "text/plain": [
              "<IPython.core.display.Markdown object>"
            ],
            "text/markdown": "**DSBA 6190**: _Cloud Computing for Data Analysis_"
          },
          "metadata": {}
        },
        {
          "output_type": "display_data",
          "data": {
            "text/plain": [
              "<IPython.core.display.Markdown object>"
            ],
            "text/markdown": "**Instuctor**: _Colby Ford_"
          },
          "metadata": {}
        },
        {
          "output_type": "display_data",
          "data": {
            "text/plain": [
              "<IPython.core.display.Markdown object>"
            ],
            "text/markdown": "**Relevance**: _0.48834507030774454_"
          },
          "metadata": {}
        },
        {
          "output_type": "display_data",
          "data": {
            "text/plain": [
              "<IPython.core.display.Markdown object>"
            ],
            "text/markdown": "**V Relevance**: _0.48834507030774454_"
          },
          "metadata": {}
        },
        {
          "output_type": "display_data",
          "data": {
            "text/plain": [
              "<IPython.core.display.Markdown object>"
            ],
            "text/markdown": "### <font color=\"#699\">DSBA_HCIP-6160-Database-Systems-for-Data-Scientists-Fall-2024-Pamela-Thompson.pdf.C0001</font>"
          },
          "metadata": {}
        },
        {
          "output_type": "display_data",
          "data": {
            "text/plain": [
              "<IPython.core.display.Markdown object>"
            ],
            "text/markdown": "**DSBA 6160**: _Database Systems for Data Scientists_"
          },
          "metadata": {}
        },
        {
          "output_type": "display_data",
          "data": {
            "text/plain": [
              "<IPython.core.display.Markdown object>"
            ],
            "text/markdown": "**Instuctor**: _Pamela Thompson_"
          },
          "metadata": {}
        },
        {
          "output_type": "display_data",
          "data": {
            "text/plain": [
              "<IPython.core.display.Markdown object>"
            ],
            "text/markdown": "**Relevance**: _0.4768720732733485_"
          },
          "metadata": {}
        },
        {
          "output_type": "display_data",
          "data": {
            "text/plain": [
              "<IPython.core.display.Markdown object>"
            ],
            "text/markdown": "**V Relevance**: _0.4768720732733485_"
          },
          "metadata": {}
        },
        {
          "output_type": "display_data",
          "data": {
            "text/plain": [
              "<IPython.core.display.Markdown object>"
            ],
            "text/markdown": "### <font color=\"#699\">DSBA 6160 Database Systems for Data Scientists – Aaron Lee.C0001</font>"
          },
          "metadata": {}
        },
        {
          "output_type": "display_data",
          "data": {
            "text/plain": [
              "<IPython.core.display.Markdown object>"
            ],
            "text/markdown": "**DSBA 6160**: _Database Systems for Data Scientists_"
          },
          "metadata": {}
        },
        {
          "output_type": "display_data",
          "data": {
            "text/plain": [
              "<IPython.core.display.Markdown object>"
            ],
            "text/markdown": "**Instuctor**: _Aaron Lee_"
          },
          "metadata": {}
        },
        {
          "output_type": "display_data",
          "data": {
            "text/plain": [
              "<IPython.core.display.Markdown object>"
            ],
            "text/markdown": "**Relevance**: _0.4719371079677047_"
          },
          "metadata": {}
        },
        {
          "output_type": "display_data",
          "data": {
            "text/plain": [
              "<IPython.core.display.Markdown object>"
            ],
            "text/markdown": "**V Relevance**: _0.4719371079677047_"
          },
          "metadata": {}
        },
        {
          "output_type": "display_data",
          "data": {
            "text/plain": [
              "<IPython.core.display.Markdown object>"
            ],
            "text/markdown": "### <font color=\"#699\">DSBA-6165-AI-and-Deep-Learning-Fall-2024-Albert-Park-1.pdf.C0001</font>"
          },
          "metadata": {}
        },
        {
          "output_type": "display_data",
          "data": {
            "text/plain": [
              "<IPython.core.display.Markdown object>"
            ],
            "text/markdown": "**DSBA 6165**: _AI and Deep Learning_"
          },
          "metadata": {}
        },
        {
          "output_type": "display_data",
          "data": {
            "text/plain": [
              "<IPython.core.display.Markdown object>"
            ],
            "text/markdown": "**Instuctor**: _Albert Park_"
          },
          "metadata": {}
        },
        {
          "output_type": "display_data",
          "data": {
            "text/plain": [
              "<IPython.core.display.Markdown object>"
            ],
            "text/markdown": "**Relevance**: _0.4619596275007301_"
          },
          "metadata": {}
        },
        {
          "output_type": "display_data",
          "data": {
            "text/plain": [
              "<IPython.core.display.Markdown object>"
            ],
            "text/markdown": "**V Relevance**: _0.4619596275007301_"
          },
          "metadata": {}
        },
        {
          "output_type": "display_data",
          "data": {
            "text/plain": [
              "<IPython.core.display.Markdown object>"
            ],
            "text/markdown": "### <font color=\"#699\">DSBA_HCIP-6160-Database-Systems-for-Data-Scientists-Fall-2024-Pamela-Thompson.pdf</font>"
          },
          "metadata": {}
        },
        {
          "output_type": "display_data",
          "data": {
            "text/plain": [
              "<IPython.core.display.Markdown object>"
            ],
            "text/markdown": "**DSBA 6160**: _Database Systems for Data Scientists_"
          },
          "metadata": {}
        },
        {
          "output_type": "display_data",
          "data": {
            "text/plain": [
              "<IPython.core.display.Markdown object>"
            ],
            "text/markdown": "**Instuctor**: _Pamela Thompson_"
          },
          "metadata": {}
        },
        {
          "output_type": "display_data",
          "data": {
            "text/plain": [
              "<IPython.core.display.Markdown object>"
            ],
            "text/markdown": "**Relevance**: _0.40542818424362376_"
          },
          "metadata": {}
        },
        {
          "output_type": "display_data",
          "data": {
            "text/plain": [
              "<IPython.core.display.Markdown object>"
            ],
            "text/markdown": "**I Relevance**: _0.40542818424362376_"
          },
          "metadata": {}
        },
        {
          "output_type": "display_data",
          "data": {
            "text/plain": [
              "<IPython.core.display.Markdown object>"
            ],
            "text/markdown": "### <font color=\"#699\">DSBA 6160 Database Systems for Data Scientists – Aaron Lee</font>"
          },
          "metadata": {}
        },
        {
          "output_type": "display_data",
          "data": {
            "text/plain": [
              "<IPython.core.display.Markdown object>"
            ],
            "text/markdown": "**DSBA 6160**: _Database Systems for Data Scientists_"
          },
          "metadata": {}
        },
        {
          "output_type": "display_data",
          "data": {
            "text/plain": [
              "<IPython.core.display.Markdown object>"
            ],
            "text/markdown": "**Instuctor**: _Aaron Lee_"
          },
          "metadata": {}
        },
        {
          "output_type": "display_data",
          "data": {
            "text/plain": [
              "<IPython.core.display.Markdown object>"
            ],
            "text/markdown": "**Relevance**: _0.40542818424362376_"
          },
          "metadata": {}
        },
        {
          "output_type": "display_data",
          "data": {
            "text/plain": [
              "<IPython.core.display.Markdown object>"
            ],
            "text/markdown": "**I Relevance**: _0.40542818424362376_"
          },
          "metadata": {}
        },
        {
          "output_type": "display_data",
          "data": {
            "text/plain": [
              "<IPython.core.display.Markdown object>"
            ],
            "text/markdown": "### <font color=\"#699\">DSBA-6190-Cloud-Computing-for-Data-Analysis-Fall-2024-Colby-Ford.pdf</font>"
          },
          "metadata": {}
        },
        {
          "output_type": "display_data",
          "data": {
            "text/plain": [
              "<IPython.core.display.Markdown object>"
            ],
            "text/markdown": "**DSBA 6190**: _Cloud Computing for Data Analysis_"
          },
          "metadata": {}
        },
        {
          "output_type": "display_data",
          "data": {
            "text/plain": [
              "<IPython.core.display.Markdown object>"
            ],
            "text/markdown": "**Instuctor**: _Colby Ford_"
          },
          "metadata": {}
        },
        {
          "output_type": "display_data",
          "data": {
            "text/plain": [
              "<IPython.core.display.Markdown object>"
            ],
            "text/markdown": "**Relevance**: _0.33367066398469014_"
          },
          "metadata": {}
        },
        {
          "output_type": "display_data",
          "data": {
            "text/plain": [
              "<IPython.core.display.Markdown object>"
            ],
            "text/markdown": "**I Relevance**: _0.33367066398469014_"
          },
          "metadata": {}
        },
        {
          "output_type": "display_data",
          "data": {
            "text/plain": [
              "<IPython.core.display.Markdown object>"
            ],
            "text/markdown": "### <font color=\"#699\">DSBA-6190_Syllabus_Spring2023 – Colby Ford.pdf</font>"
          },
          "metadata": {}
        },
        {
          "output_type": "display_data",
          "data": {
            "text/plain": [
              "<IPython.core.display.Markdown object>"
            ],
            "text/markdown": "**DSBA 6190**: _Cloud Computing for Data Analysis_"
          },
          "metadata": {}
        },
        {
          "output_type": "display_data",
          "data": {
            "text/plain": [
              "<IPython.core.display.Markdown object>"
            ],
            "text/markdown": "**Instuctor**: _Colby Ford_"
          },
          "metadata": {}
        },
        {
          "output_type": "display_data",
          "data": {
            "text/plain": [
              "<IPython.core.display.Markdown object>"
            ],
            "text/markdown": "**Relevance**: _0.3049205695792699_"
          },
          "metadata": {}
        },
        {
          "output_type": "display_data",
          "data": {
            "text/plain": [
              "<IPython.core.display.Markdown object>"
            ],
            "text/markdown": "**I Relevance**: _0.3049205695792699_"
          },
          "metadata": {}
        },
        {
          "output_type": "display_data",
          "data": {
            "text/plain": [
              "<IPython.core.display.Markdown object>"
            ],
            "text/markdown": "### <font color=\"#699\">DSBA_HCIP-6160-Database-Systems-for-Data-Scientists-Fall-2024-Shih-Hsiung-Chou.pdf</font>"
          },
          "metadata": {}
        },
        {
          "output_type": "display_data",
          "data": {
            "text/plain": [
              "<IPython.core.display.Markdown object>"
            ],
            "text/markdown": "**DSBA 6160**: _Database Systems for Data Scientists_"
          },
          "metadata": {}
        },
        {
          "output_type": "display_data",
          "data": {
            "text/plain": [
              "<IPython.core.display.Markdown object>"
            ],
            "text/markdown": "**Instuctor**: _Shih-Hsiung Chou_"
          },
          "metadata": {}
        },
        {
          "output_type": "display_data",
          "data": {
            "text/plain": [
              "<IPython.core.display.Markdown object>"
            ],
            "text/markdown": "**Relevance**: _0.2652324898445952_"
          },
          "metadata": {}
        },
        {
          "output_type": "display_data",
          "data": {
            "text/plain": [
              "<IPython.core.display.Markdown object>"
            ],
            "text/markdown": "**I Relevance**: _0.2652324898445952_"
          },
          "metadata": {}
        },
        {
          "output_type": "display_data",
          "data": {
            "text/plain": [
              "<IPython.core.display.Markdown object>"
            ],
            "text/markdown": "### <font color=\"#699\">DSBA_HCIP_6160_Thompson_Spring_2023 – Pamela Thompson.pdf</font>"
          },
          "metadata": {}
        },
        {
          "output_type": "display_data",
          "data": {
            "text/plain": [
              "<IPython.core.display.Markdown object>"
            ],
            "text/markdown": "**DSBA 6160**: _Database Systems for Data Scientists_"
          },
          "metadata": {}
        },
        {
          "output_type": "display_data",
          "data": {
            "text/plain": [
              "<IPython.core.display.Markdown object>"
            ],
            "text/markdown": "**Instuctor**: _Pamela Thompson_"
          },
          "metadata": {}
        },
        {
          "output_type": "display_data",
          "data": {
            "text/plain": [
              "<IPython.core.display.Markdown object>"
            ],
            "text/markdown": "**Relevance**: _0.14994901948510247_"
          },
          "metadata": {}
        },
        {
          "output_type": "display_data",
          "data": {
            "text/plain": [
              "<IPython.core.display.Markdown object>"
            ],
            "text/markdown": "**I Relevance**: _0.14994901948510247_"
          },
          "metadata": {}
        },
        {
          "output_type": "display_data",
          "data": {
            "text/plain": [
              "<IPython.core.display.Markdown object>"
            ],
            "text/markdown": "# <font color='#966'>which professors teach courses that use ecxel</font>"
          },
          "metadata": {}
        },
        {
          "output_type": "display_data",
          "data": {
            "text/plain": [
              "<IPython.core.display.Markdown object>"
            ],
            "text/markdown": "<font color='#44a'>**Sending**: _which professors teach courses that use ecxel_</font>"
          },
          "metadata": {}
        },
        {
          "output_type": "display_data",
          "data": {
            "text/plain": [
              "<IPython.core.display.Markdown object>"
            ],
            "text/markdown": "## Answer"
          },
          "metadata": {}
        },
        {
          "output_type": "display_data",
          "data": {
            "text/plain": [
              "<IPython.core.display.Markdown object>"
            ],
            "text/markdown": "Professors who teach courses that utilize Excel include:\n\n1. **Dr. Xiuli He** - Course: **Decision Modeling and Analysis (6122)**  \n   - Emphasis on developing decision models and using Excel for solutions including optimization problems and various analytical techniques.\n\n2. **Dr. Angela Xia Liu** - Course: **Strategic Business Analytics (6276)**  \n   - Focuses on using Excel for statistical analysis, modeling, and decision recommendations within business contexts.\n\n3. **Dr. Andrew (Andy) Fraher** - Course: **Operations Management (6208)**  \n   - Uses Excel for solving problems related to supply chain management and decision-making processes.\n\n4. **Dr. D. Blaine Nashold, Jr.** - Course: **Data Analytics for Competitive Advantage (6100)**  \n   - Covers the use of various data analytics tools, including Excel, for data wrangling, visualization, and modeling.\n\n5. **Dr. Albert Park** - Course: **AI and Deep Learning (6165)**  \n   - While primarily focused on deep learning methodologies, the course may involve Excel in data analysis and preprocessing tasks.\n\nThese courses involve the application of Excel for various analytical and modeling tasks within their respective disciplines."
          },
          "metadata": {}
        },
        {
          "output_type": "display_data",
          "data": {
            "text/plain": [
              "<IPython.core.display.Markdown object>"
            ],
            "text/markdown": "## Retrieval"
          },
          "metadata": {}
        },
        {
          "output_type": "stream",
          "name": "stdout",
          "text": [
            "{\n",
            "  \"request\": \"List of professors teaching courses that use Excel\",\n",
            "  \"semantic_phrase\": \"professors teaching Excel courses\",\n",
            "  \"search_words\": [\n",
            "    \"professors\",\n",
            "    \"teaching\",\n",
            "    \"Excel\",\n",
            "    \"courses\"\n",
            "  ],\n",
            "  \"metadata_fields\": {}\n",
            "}\n"
          ]
        },
        {
          "output_type": "display_data",
          "data": {
            "text/plain": [
              "<IPython.core.display.Markdown object>"
            ],
            "text/markdown": "## Sources"
          },
          "metadata": {}
        },
        {
          "output_type": "display_data",
          "data": {
            "text/plain": [
              "<IPython.core.display.Markdown object>"
            ],
            "text/markdown": "### <font color=\"#699\">DSBA-6122-Decision-Modeling-and-Analysis-Fall-2024-Xiuli-He-1.pdf.C0001</font>"
          },
          "metadata": {}
        },
        {
          "output_type": "display_data",
          "data": {
            "text/plain": [
              "<IPython.core.display.Markdown object>"
            ],
            "text/markdown": "**DSBA 6122**: _Decision Modeling and Analysis_"
          },
          "metadata": {}
        },
        {
          "output_type": "display_data",
          "data": {
            "text/plain": [
              "<IPython.core.display.Markdown object>"
            ],
            "text/markdown": "**Instuctor**: _Xiuli He_"
          },
          "metadata": {}
        },
        {
          "output_type": "display_data",
          "data": {
            "text/plain": [
              "<IPython.core.display.Markdown object>"
            ],
            "text/markdown": "**Relevance**: _0.46161814377801674_"
          },
          "metadata": {}
        },
        {
          "output_type": "display_data",
          "data": {
            "text/plain": [
              "<IPython.core.display.Markdown object>"
            ],
            "text/markdown": "**V Relevance**: _0.46161814377801674_"
          },
          "metadata": {}
        },
        {
          "output_type": "display_data",
          "data": {
            "text/plain": [
              "<IPython.core.display.Markdown object>"
            ],
            "text/markdown": "### <font color=\"#699\">DSBA 6276 Strategic Business Analytics – Angela Xia Liu.C0001</font>"
          },
          "metadata": {}
        },
        {
          "output_type": "display_data",
          "data": {
            "text/plain": [
              "<IPython.core.display.Markdown object>"
            ],
            "text/markdown": "**DSBA 6276**: _Strategic Business Analytics_"
          },
          "metadata": {}
        },
        {
          "output_type": "display_data",
          "data": {
            "text/plain": [
              "<IPython.core.display.Markdown object>"
            ],
            "text/markdown": "**Instuctor**: _Angela Xia Liu_"
          },
          "metadata": {}
        },
        {
          "output_type": "display_data",
          "data": {
            "text/plain": [
              "<IPython.core.display.Markdown object>"
            ],
            "text/markdown": "**Relevance**: _0.4612601706461953_"
          },
          "metadata": {}
        },
        {
          "output_type": "display_data",
          "data": {
            "text/plain": [
              "<IPython.core.display.Markdown object>"
            ],
            "text/markdown": "**V Relevance**: _0.4612601706461953_"
          },
          "metadata": {}
        },
        {
          "output_type": "display_data",
          "data": {
            "text/plain": [
              "<IPython.core.display.Markdown object>"
            ],
            "text/markdown": "### <font color=\"#699\">MBAD_DSBA6276_Syllabus_spr 2023 – Angela Xia Liu.pdf.C0001</font>"
          },
          "metadata": {}
        },
        {
          "output_type": "display_data",
          "data": {
            "text/plain": [
              "<IPython.core.display.Markdown object>"
            ],
            "text/markdown": "**DSBA 6276**: _Strategic Business Analytics_"
          },
          "metadata": {}
        },
        {
          "output_type": "display_data",
          "data": {
            "text/plain": [
              "<IPython.core.display.Markdown object>"
            ],
            "text/markdown": "**Instuctor**: _Angela Liu_"
          },
          "metadata": {}
        },
        {
          "output_type": "display_data",
          "data": {
            "text/plain": [
              "<IPython.core.display.Markdown object>"
            ],
            "text/markdown": "**Relevance**: _0.4610409603114714_"
          },
          "metadata": {}
        },
        {
          "output_type": "display_data",
          "data": {
            "text/plain": [
              "<IPython.core.display.Markdown object>"
            ],
            "text/markdown": "**V Relevance**: _0.4610409603114714_"
          },
          "metadata": {}
        },
        {
          "output_type": "display_data",
          "data": {
            "text/plain": [
              "<IPython.core.display.Markdown object>"
            ],
            "text/markdown": "### <font color=\"#699\">DSBA6122-U90-2023Spring.pdf.C0001</font>"
          },
          "metadata": {}
        },
        {
          "output_type": "display_data",
          "data": {
            "text/plain": [
              "<IPython.core.display.Markdown object>"
            ],
            "text/markdown": "**DSBA 6122**: _Decision Modeling and Analysis_"
          },
          "metadata": {}
        },
        {
          "output_type": "display_data",
          "data": {
            "text/plain": [
              "<IPython.core.display.Markdown object>"
            ],
            "text/markdown": "**Instuctor**: _Xiuli He_"
          },
          "metadata": {}
        },
        {
          "output_type": "display_data",
          "data": {
            "text/plain": [
              "<IPython.core.display.Markdown object>"
            ],
            "text/markdown": "**Relevance**: _0.46017811354472415_"
          },
          "metadata": {}
        },
        {
          "output_type": "display_data",
          "data": {
            "text/plain": [
              "<IPython.core.display.Markdown object>"
            ],
            "text/markdown": "**V Relevance**: _0.46017811354472415_"
          },
          "metadata": {}
        },
        {
          "output_type": "display_data",
          "data": {
            "text/plain": [
              "<IPython.core.display.Markdown object>"
            ],
            "text/markdown": "### <font color=\"#699\">MBAD_DSBA6276_Syllabus_spr 2023 – Angela Xia Liu.pdf.C0004</font>"
          },
          "metadata": {}
        },
        {
          "output_type": "display_data",
          "data": {
            "text/plain": [
              "<IPython.core.display.Markdown object>"
            ],
            "text/markdown": "**DSBA 6276**: _Strategic Business Analytics_"
          },
          "metadata": {}
        },
        {
          "output_type": "display_data",
          "data": {
            "text/plain": [
              "<IPython.core.display.Markdown object>"
            ],
            "text/markdown": "**Instuctor**: _Angela Liu_"
          },
          "metadata": {}
        },
        {
          "output_type": "display_data",
          "data": {
            "text/plain": [
              "<IPython.core.display.Markdown object>"
            ],
            "text/markdown": "**Relevance**: _0.46014885734965677_"
          },
          "metadata": {}
        },
        {
          "output_type": "display_data",
          "data": {
            "text/plain": [
              "<IPython.core.display.Markdown object>"
            ],
            "text/markdown": "**V Relevance**: _0.46014885734965677_"
          },
          "metadata": {}
        },
        {
          "output_type": "display_data",
          "data": {
            "text/plain": [
              "<IPython.core.display.Markdown object>"
            ],
            "text/markdown": "### <font color=\"#699\">MBAD_DSBA6276_Syllabus_spr 2023 – Angela Xia Liu.pdf</font>"
          },
          "metadata": {}
        },
        {
          "output_type": "display_data",
          "data": {
            "text/plain": [
              "<IPython.core.display.Markdown object>"
            ],
            "text/markdown": "**DSBA 6276**: _Strategic Business Analytics_"
          },
          "metadata": {}
        },
        {
          "output_type": "display_data",
          "data": {
            "text/plain": [
              "<IPython.core.display.Markdown object>"
            ],
            "text/markdown": "**Instuctor**: _Angela Liu_"
          },
          "metadata": {}
        },
        {
          "output_type": "display_data",
          "data": {
            "text/plain": [
              "<IPython.core.display.Markdown object>"
            ],
            "text/markdown": "**Relevance**: _0.45507428669202366_"
          },
          "metadata": {}
        },
        {
          "output_type": "display_data",
          "data": {
            "text/plain": [
              "<IPython.core.display.Markdown object>"
            ],
            "text/markdown": "**I Relevance**: _0.45507428669202366_"
          },
          "metadata": {}
        },
        {
          "output_type": "display_data",
          "data": {
            "text/plain": [
              "<IPython.core.display.Markdown object>"
            ],
            "text/markdown": "### <font color=\"#699\">DSBA 6276 Strategic Business Analytics – Angela Xia Liu</font>"
          },
          "metadata": {}
        },
        {
          "output_type": "display_data",
          "data": {
            "text/plain": [
              "<IPython.core.display.Markdown object>"
            ],
            "text/markdown": "**DSBA 6276**: _Strategic Business Analytics_"
          },
          "metadata": {}
        },
        {
          "output_type": "display_data",
          "data": {
            "text/plain": [
              "<IPython.core.display.Markdown object>"
            ],
            "text/markdown": "**Instuctor**: _Angela Xia Liu_"
          },
          "metadata": {}
        },
        {
          "output_type": "display_data",
          "data": {
            "text/plain": [
              "<IPython.core.display.Markdown object>"
            ],
            "text/markdown": "**Relevance**: _0.454166305586939_"
          },
          "metadata": {}
        },
        {
          "output_type": "display_data",
          "data": {
            "text/plain": [
              "<IPython.core.display.Markdown object>"
            ],
            "text/markdown": "**I Relevance**: _0.454166305586939_"
          },
          "metadata": {}
        },
        {
          "output_type": "display_data",
          "data": {
            "text/plain": [
              "<IPython.core.display.Markdown object>"
            ],
            "text/markdown": "### <font color=\"#699\">DSBA6010-GEOG6030 Syllabus SP 2023 v30 – Jean-Claude Thill.pdf</font>"
          },
          "metadata": {}
        },
        {
          "output_type": "display_data",
          "data": {
            "text/plain": [
              "<IPython.core.display.Markdown object>"
            ],
            "text/markdown": "**DSBA 6010**: _Geospatial Data Analytics_"
          },
          "metadata": {}
        },
        {
          "output_type": "display_data",
          "data": {
            "text/plain": [
              "<IPython.core.display.Markdown object>"
            ],
            "text/markdown": "**Instuctor**: _Jean Claude Thill_"
          },
          "metadata": {}
        },
        {
          "output_type": "display_data",
          "data": {
            "text/plain": [
              "<IPython.core.display.Markdown object>"
            ],
            "text/markdown": "**Relevance**: _0.41208656136254396_"
          },
          "metadata": {}
        },
        {
          "output_type": "display_data",
          "data": {
            "text/plain": [
              "<IPython.core.display.Markdown object>"
            ],
            "text/markdown": "**I Relevance**: _0.41208656136254396_"
          },
          "metadata": {}
        },
        {
          "output_type": "display_data",
          "data": {
            "text/plain": [
              "<IPython.core.display.Markdown object>"
            ],
            "text/markdown": "### <font color=\"#699\">DSBA-6165-AI-and-Deep-Learning-Fall-2024-Albert-Park-1.pdf</font>"
          },
          "metadata": {}
        },
        {
          "output_type": "display_data",
          "data": {
            "text/plain": [
              "<IPython.core.display.Markdown object>"
            ],
            "text/markdown": "**DSBA 6165**: _AI and Deep Learning_"
          },
          "metadata": {}
        },
        {
          "output_type": "display_data",
          "data": {
            "text/plain": [
              "<IPython.core.display.Markdown object>"
            ],
            "text/markdown": "**Instuctor**: _Albert Park_"
          },
          "metadata": {}
        },
        {
          "output_type": "display_data",
          "data": {
            "text/plain": [
              "<IPython.core.display.Markdown object>"
            ],
            "text/markdown": "**Relevance**: _0.3921697886082339_"
          },
          "metadata": {}
        },
        {
          "output_type": "display_data",
          "data": {
            "text/plain": [
              "<IPython.core.display.Markdown object>"
            ],
            "text/markdown": "**I Relevance**: _0.3921697886082339_"
          },
          "metadata": {}
        },
        {
          "output_type": "display_data",
          "data": {
            "text/plain": [
              "<IPython.core.display.Markdown object>"
            ],
            "text/markdown": "### <font color=\"#699\">DSBA 6188 Text Mining and Information Retrieval – Chang Hsin Lee & Ryan Wesslen</font>"
          },
          "metadata": {}
        },
        {
          "output_type": "display_data",
          "data": {
            "text/plain": [
              "<IPython.core.display.Markdown object>"
            ],
            "text/markdown": "**DSBA 6188**: _Text Mining and Information Retrieval_"
          },
          "metadata": {}
        },
        {
          "output_type": "display_data",
          "data": {
            "text/plain": [
              "<IPython.core.display.Markdown object>"
            ],
            "text/markdown": "**Instuctor**: _Chang Hsin Lee_"
          },
          "metadata": {}
        },
        {
          "output_type": "display_data",
          "data": {
            "text/plain": [
              "<IPython.core.display.Markdown object>"
            ],
            "text/markdown": "**Relevance**: _0.37450924854639595_"
          },
          "metadata": {}
        },
        {
          "output_type": "display_data",
          "data": {
            "text/plain": [
              "<IPython.core.display.Markdown object>"
            ],
            "text/markdown": "**I Relevance**: _0.37450924854639595_"
          },
          "metadata": {}
        },
        {
          "output_type": "display_data",
          "data": {
            "text/plain": [
              "<IPython.core.display.Markdown object>"
            ],
            "text/markdown": "### <font color=\"#699\">DSBA-6208-Operations-Management-Fall-2024-Andy-Fraher.pdf</font>"
          },
          "metadata": {}
        },
        {
          "output_type": "display_data",
          "data": {
            "text/plain": [
              "<IPython.core.display.Markdown object>"
            ],
            "text/markdown": "**DSBA 6208**: _Operations Management_"
          },
          "metadata": {}
        },
        {
          "output_type": "display_data",
          "data": {
            "text/plain": [
              "<IPython.core.display.Markdown object>"
            ],
            "text/markdown": "**Instuctor**: _Andrew Fraher_"
          },
          "metadata": {}
        },
        {
          "output_type": "display_data",
          "data": {
            "text/plain": [
              "<IPython.core.display.Markdown object>"
            ],
            "text/markdown": "**Relevance**: _0.3622013746132356_"
          },
          "metadata": {}
        },
        {
          "output_type": "display_data",
          "data": {
            "text/plain": [
              "<IPython.core.display.Markdown object>"
            ],
            "text/markdown": "**I Relevance**: _0.3622013746132356_"
          },
          "metadata": {}
        },
        {
          "output_type": "display_data",
          "data": {
            "text/plain": [
              "<IPython.core.display.Markdown object>"
            ],
            "text/markdown": "### <font color=\"#699\">DSBA 6162 Knowledge Discovery in Databases (KDD) Xi (Sunshine) Niu</font>"
          },
          "metadata": {}
        },
        {
          "output_type": "display_data",
          "data": {
            "text/plain": [
              "<IPython.core.display.Markdown object>"
            ],
            "text/markdown": "**DSBA 6162**: _Knowledge Discovery in Databases (KDD)_"
          },
          "metadata": {}
        },
        {
          "output_type": "display_data",
          "data": {
            "text/plain": [
              "<IPython.core.display.Markdown object>"
            ],
            "text/markdown": "**Instuctor**: _Xi (Sunshine) Niu_"
          },
          "metadata": {}
        },
        {
          "output_type": "display_data",
          "data": {
            "text/plain": [
              "<IPython.core.display.Markdown object>"
            ],
            "text/markdown": "**Relevance**: _0.3425470656606059_"
          },
          "metadata": {}
        },
        {
          "output_type": "display_data",
          "data": {
            "text/plain": [
              "<IPython.core.display.Markdown object>"
            ],
            "text/markdown": "**I Relevance**: _0.3425470656606059_"
          },
          "metadata": {}
        },
        {
          "output_type": "display_data",
          "data": {
            "text/plain": [
              "<IPython.core.display.Markdown object>"
            ],
            "text/markdown": "### <font color=\"#699\">DSBA_HCIP-6162-Knowledge-Discovery-and-Databases-Fall-2024-Xi-Sunshine-Niu-1.pdf</font>"
          },
          "metadata": {}
        },
        {
          "output_type": "display_data",
          "data": {
            "text/plain": [
              "<IPython.core.display.Markdown object>"
            ],
            "text/markdown": "**DSBA 6162**: _Knowledge Discovery and Databases_"
          },
          "metadata": {}
        },
        {
          "output_type": "display_data",
          "data": {
            "text/plain": [
              "<IPython.core.display.Markdown object>"
            ],
            "text/markdown": "**Instuctor**: _Xi (Sunshine) Nu_"
          },
          "metadata": {}
        },
        {
          "output_type": "display_data",
          "data": {
            "text/plain": [
              "<IPython.core.display.Markdown object>"
            ],
            "text/markdown": "**Relevance**: _0.34046491440509874_"
          },
          "metadata": {}
        },
        {
          "output_type": "display_data",
          "data": {
            "text/plain": [
              "<IPython.core.display.Markdown object>"
            ],
            "text/markdown": "**I Relevance**: _0.34046491440509874_"
          },
          "metadata": {}
        },
        {
          "output_type": "display_data",
          "data": {
            "text/plain": [
              "<IPython.core.display.Markdown object>"
            ],
            "text/markdown": "### <font color=\"#699\">DSBA6188_Syllabus_Spring2023_Niu – Xi (Sunshine) Niu.pdf</font>"
          },
          "metadata": {}
        },
        {
          "output_type": "display_data",
          "data": {
            "text/plain": [
              "<IPython.core.display.Markdown object>"
            ],
            "text/markdown": "**DSBA 6188**: _Text Mining and Information Retrieval_"
          },
          "metadata": {}
        },
        {
          "output_type": "display_data",
          "data": {
            "text/plain": [
              "<IPython.core.display.Markdown object>"
            ],
            "text/markdown": "**Instuctor**: _Xi (Sunshine) Niu_"
          },
          "metadata": {}
        },
        {
          "output_type": "display_data",
          "data": {
            "text/plain": [
              "<IPython.core.display.Markdown object>"
            ],
            "text/markdown": "**Relevance**: _0.3364381973485561_"
          },
          "metadata": {}
        },
        {
          "output_type": "display_data",
          "data": {
            "text/plain": [
              "<IPython.core.display.Markdown object>"
            ],
            "text/markdown": "**I Relevance**: _0.3364381973485561_"
          },
          "metadata": {}
        },
        {
          "output_type": "display_data",
          "data": {
            "text/plain": [
              "<IPython.core.display.Markdown object>"
            ],
            "text/markdown": "### <font color=\"#699\">DSBA6100-U90_MBAD7090-U92_Spring 2023_Blaine Nashold – Daryl Nashold.pdf</font>"
          },
          "metadata": {}
        },
        {
          "output_type": "display_data",
          "data": {
            "text/plain": [
              "<IPython.core.display.Markdown object>"
            ],
            "text/markdown": "**DSBA 6100**: _Big Data Analytics for Competitive Advantage_"
          },
          "metadata": {}
        },
        {
          "output_type": "display_data",
          "data": {
            "text/plain": [
              "<IPython.core.display.Markdown object>"
            ],
            "text/markdown": "**Instuctor**: _Daryl Nashold_"
          },
          "metadata": {}
        },
        {
          "output_type": "display_data",
          "data": {
            "text/plain": [
              "<IPython.core.display.Markdown object>"
            ],
            "text/markdown": "**Relevance**: _0.32991790728736975_"
          },
          "metadata": {}
        },
        {
          "output_type": "display_data",
          "data": {
            "text/plain": [
              "<IPython.core.display.Markdown object>"
            ],
            "text/markdown": "**I Relevance**: _0.32991790728736975_"
          },
          "metadata": {}
        },
        {
          "output_type": "display_data",
          "data": {
            "text/plain": [
              "<IPython.core.display.Markdown object>"
            ],
            "text/markdown": "# <font color='#966'>Which courses cover geographical data and who teaches them?</font>"
          },
          "metadata": {}
        },
        {
          "output_type": "display_data",
          "data": {
            "text/plain": [
              "<IPython.core.display.Markdown object>"
            ],
            "text/markdown": "<font color='#44a'>**Sending**: _Which courses cover geographical data and who teaches them?_</font>"
          },
          "metadata": {}
        },
        {
          "output_type": "display_data",
          "data": {
            "text/plain": [
              "<IPython.core.display.Markdown object>"
            ],
            "text/markdown": "## Answer"
          },
          "metadata": {}
        },
        {
          "output_type": "display_data",
          "data": {
            "text/plain": [
              "<IPython.core.display.Markdown object>"
            ],
            "text/markdown": "The course that specifically covers geographical data is **Geospatial Data Analytics (DSBA 6010 / GEOG 6030)**. It is taught by **Instructor Jean Claude Thill**. The course focuses on handling and analyzing geospatial data, emphasizing R scripting for various geospatial analysis tasks.\n\nIf you're interested in this course, you can contact the instructor at jfthill@uncc.edu and visit his office at McEniry 432 during office hours on Thursdays from 1 PM to 2 PM or by appointment."
          },
          "metadata": {}
        },
        {
          "output_type": "display_data",
          "data": {
            "text/plain": [
              "<IPython.core.display.Markdown object>"
            ],
            "text/markdown": "## Retrieval"
          },
          "metadata": {}
        },
        {
          "output_type": "stream",
          "name": "stdout",
          "text": [
            "{\n",
            "  \"request\": \"Courses that cover geographical data and their instructors\",\n",
            "  \"semantic_phrase\": \"courses covering geographical data\",\n",
            "  \"search_words\": [\n",
            "    \"geographical\",\n",
            "    \"data\",\n",
            "    \"courses\",\n",
            "    \"teach\"\n",
            "  ],\n",
            "  \"metadata_fields\": {\n",
            "    \"instructor\": [],\n",
            "    \"course_number\": [],\n",
            "    \"course_title\": []\n",
            "  }\n",
            "}\n"
          ]
        },
        {
          "output_type": "display_data",
          "data": {
            "text/plain": [
              "<IPython.core.display.Markdown object>"
            ],
            "text/markdown": "## Sources"
          },
          "metadata": {}
        },
        {
          "output_type": "display_data",
          "data": {
            "text/plain": [
              "<IPython.core.display.Markdown object>"
            ],
            "text/markdown": "### <font color=\"#699\">DSBA6010-GEOG6030 Syllabus SP 2023 v30 – Jean-Claude Thill.pdf</font>"
          },
          "metadata": {}
        },
        {
          "output_type": "display_data",
          "data": {
            "text/plain": [
              "<IPython.core.display.Markdown object>"
            ],
            "text/markdown": "**DSBA 6010**: _Geospatial Data Analytics_"
          },
          "metadata": {}
        },
        {
          "output_type": "display_data",
          "data": {
            "text/plain": [
              "<IPython.core.display.Markdown object>"
            ],
            "text/markdown": "**Instuctor**: _Jean Claude Thill_"
          },
          "metadata": {}
        },
        {
          "output_type": "display_data",
          "data": {
            "text/plain": [
              "<IPython.core.display.Markdown object>"
            ],
            "text/markdown": "**Relevance**: _0.705694132116679_"
          },
          "metadata": {}
        },
        {
          "output_type": "display_data",
          "data": {
            "text/plain": [
              "<IPython.core.display.Markdown object>"
            ],
            "text/markdown": "**I Relevance**: _0.705694132116679_"
          },
          "metadata": {}
        },
        {
          "output_type": "display_data",
          "data": {
            "text/plain": [
              "<IPython.core.display.Markdown object>"
            ],
            "text/markdown": "### <font color=\"#699\">DSBA6010-GEOG6030 Syllabus SP 2023 v30 – Jean-Claude Thill.pdf.C0003</font>"
          },
          "metadata": {}
        },
        {
          "output_type": "display_data",
          "data": {
            "text/plain": [
              "<IPython.core.display.Markdown object>"
            ],
            "text/markdown": "**DSBA 6010**: _Geospatial Data Analytics_"
          },
          "metadata": {}
        },
        {
          "output_type": "display_data",
          "data": {
            "text/plain": [
              "<IPython.core.display.Markdown object>"
            ],
            "text/markdown": "**Instuctor**: _Jean Claude Thill_"
          },
          "metadata": {}
        },
        {
          "output_type": "display_data",
          "data": {
            "text/plain": [
              "<IPython.core.display.Markdown object>"
            ],
            "text/markdown": "**Relevance**: _0.5327228506075048_"
          },
          "metadata": {}
        },
        {
          "output_type": "display_data",
          "data": {
            "text/plain": [
              "<IPython.core.display.Markdown object>"
            ],
            "text/markdown": "**V Relevance**: _0.5327228506075048_"
          },
          "metadata": {}
        },
        {
          "output_type": "display_data",
          "data": {
            "text/plain": [
              "<IPython.core.display.Markdown object>"
            ],
            "text/markdown": "### <font color=\"#699\">DSBA6010-GEOG6030 Syllabus SP 2023 v30 – Jean-Claude Thill.pdf.C0002</font>"
          },
          "metadata": {}
        },
        {
          "output_type": "display_data",
          "data": {
            "text/plain": [
              "<IPython.core.display.Markdown object>"
            ],
            "text/markdown": "**DSBA 6010**: _Geospatial Data Analytics_"
          },
          "metadata": {}
        },
        {
          "output_type": "display_data",
          "data": {
            "text/plain": [
              "<IPython.core.display.Markdown object>"
            ],
            "text/markdown": "**Instuctor**: _Jean Claude Thill_"
          },
          "metadata": {}
        },
        {
          "output_type": "display_data",
          "data": {
            "text/plain": [
              "<IPython.core.display.Markdown object>"
            ],
            "text/markdown": "**Relevance**: _0.5323715293009049_"
          },
          "metadata": {}
        },
        {
          "output_type": "display_data",
          "data": {
            "text/plain": [
              "<IPython.core.display.Markdown object>"
            ],
            "text/markdown": "**V Relevance**: _0.5323715293009049_"
          },
          "metadata": {}
        },
        {
          "output_type": "display_data",
          "data": {
            "text/plain": [
              "<IPython.core.display.Markdown object>"
            ],
            "text/markdown": "### <font color=\"#699\">DSBA6010-GEOG6030 Syllabus SP 2023 v30 – Jean-Claude Thill.pdf.C0001</font>"
          },
          "metadata": {}
        },
        {
          "output_type": "display_data",
          "data": {
            "text/plain": [
              "<IPython.core.display.Markdown object>"
            ],
            "text/markdown": "**DSBA 6010**: _Geospatial Data Analytics_"
          },
          "metadata": {}
        },
        {
          "output_type": "display_data",
          "data": {
            "text/plain": [
              "<IPython.core.display.Markdown object>"
            ],
            "text/markdown": "**Instuctor**: _Jean Claude Thill_"
          },
          "metadata": {}
        },
        {
          "output_type": "display_data",
          "data": {
            "text/plain": [
              "<IPython.core.display.Markdown object>"
            ],
            "text/markdown": "**Relevance**: _0.4860819862600817_"
          },
          "metadata": {}
        },
        {
          "output_type": "display_data",
          "data": {
            "text/plain": [
              "<IPython.core.display.Markdown object>"
            ],
            "text/markdown": "**V Relevance**: _0.4860819862600817_"
          },
          "metadata": {}
        },
        {
          "output_type": "display_data",
          "data": {
            "text/plain": [
              "<IPython.core.display.Markdown object>"
            ],
            "text/markdown": "### <font color=\"#699\">DSBA 6162 – Zbyszek Ras.pdf.C0001</font>"
          },
          "metadata": {}
        },
        {
          "output_type": "display_data",
          "data": {
            "text/plain": [
              "<IPython.core.display.Markdown object>"
            ],
            "text/markdown": "**DSBA 6162**: _Knowledge Discovery in Databases_"
          },
          "metadata": {}
        },
        {
          "output_type": "display_data",
          "data": {
            "text/plain": [
              "<IPython.core.display.Markdown object>"
            ],
            "text/markdown": "**Instuctor**: _Zybszek Ras_"
          },
          "metadata": {}
        },
        {
          "output_type": "display_data",
          "data": {
            "text/plain": [
              "<IPython.core.display.Markdown object>"
            ],
            "text/markdown": "**Relevance**: _0.4859542858374289_"
          },
          "metadata": {}
        },
        {
          "output_type": "display_data",
          "data": {
            "text/plain": [
              "<IPython.core.display.Markdown object>"
            ],
            "text/markdown": "**V Relevance**: _0.4859542858374289_"
          },
          "metadata": {}
        },
        {
          "output_type": "display_data",
          "data": {
            "text/plain": [
              "<IPython.core.display.Markdown object>"
            ],
            "text/markdown": "### <font color=\"#699\">DSBA 6162 Knowledge Discovery in Databases (KDD) Xi (Sunshine) Niu.C0001</font>"
          },
          "metadata": {}
        },
        {
          "output_type": "display_data",
          "data": {
            "text/plain": [
              "<IPython.core.display.Markdown object>"
            ],
            "text/markdown": "**DSBA 6162**: _Knowledge Discovery in Databases (KDD)_"
          },
          "metadata": {}
        },
        {
          "output_type": "display_data",
          "data": {
            "text/plain": [
              "<IPython.core.display.Markdown object>"
            ],
            "text/markdown": "**Instuctor**: _Xi (Sunshine) Niu_"
          },
          "metadata": {}
        },
        {
          "output_type": "display_data",
          "data": {
            "text/plain": [
              "<IPython.core.display.Markdown object>"
            ],
            "text/markdown": "**Relevance**: _0.45958790422505336_"
          },
          "metadata": {}
        },
        {
          "output_type": "display_data",
          "data": {
            "text/plain": [
              "<IPython.core.display.Markdown object>"
            ],
            "text/markdown": "**V Relevance**: _0.45958790422505336_"
          },
          "metadata": {}
        },
        {
          "output_type": "display_data",
          "data": {
            "text/plain": [
              "<IPython.core.display.Markdown object>"
            ],
            "text/markdown": "### <font color=\"#699\">Spring 2023 DSBA and HCIP 6400 – Doug Hague.pdf</font>"
          },
          "metadata": {}
        },
        {
          "output_type": "display_data",
          "data": {
            "text/plain": [
              "<IPython.core.display.Markdown object>"
            ],
            "text/markdown": "**DSBA 6400**: _Internship_"
          },
          "metadata": {}
        },
        {
          "output_type": "display_data",
          "data": {
            "text/plain": [
              "<IPython.core.display.Markdown object>"
            ],
            "text/markdown": "**Instuctor**: _Doug Hague_"
          },
          "metadata": {}
        },
        {
          "output_type": "display_data",
          "data": {
            "text/plain": [
              "<IPython.core.display.Markdown object>"
            ],
            "text/markdown": "**Relevance**: _0.35463019850231176_"
          },
          "metadata": {}
        },
        {
          "output_type": "display_data",
          "data": {
            "text/plain": [
              "<IPython.core.display.Markdown object>"
            ],
            "text/markdown": "**I Relevance**: _0.35463019850231176_"
          },
          "metadata": {}
        },
        {
          "output_type": "display_data",
          "data": {
            "text/plain": [
              "<IPython.core.display.Markdown object>"
            ],
            "text/markdown": "### <font color=\"#699\">DSBA 6162 Knowledge Discovery in Databases (KDD) Xi (Sunshine) Niu</font>"
          },
          "metadata": {}
        },
        {
          "output_type": "display_data",
          "data": {
            "text/plain": [
              "<IPython.core.display.Markdown object>"
            ],
            "text/markdown": "**DSBA 6162**: _Knowledge Discovery in Databases (KDD)_"
          },
          "metadata": {}
        },
        {
          "output_type": "display_data",
          "data": {
            "text/plain": [
              "<IPython.core.display.Markdown object>"
            ],
            "text/markdown": "**Instuctor**: _Xi (Sunshine) Niu_"
          },
          "metadata": {}
        },
        {
          "output_type": "display_data",
          "data": {
            "text/plain": [
              "<IPython.core.display.Markdown object>"
            ],
            "text/markdown": "**Relevance**: _0.33588564692813205_"
          },
          "metadata": {}
        },
        {
          "output_type": "display_data",
          "data": {
            "text/plain": [
              "<IPython.core.display.Markdown object>"
            ],
            "text/markdown": "**I Relevance**: _0.33588564692813205_"
          },
          "metadata": {}
        },
        {
          "output_type": "display_data",
          "data": {
            "text/plain": [
              "<IPython.core.display.Markdown object>"
            ],
            "text/markdown": "### <font color=\"#699\">DSBA-6190_Syllabus_Spring2023 – Colby Ford.pdf</font>"
          },
          "metadata": {}
        },
        {
          "output_type": "display_data",
          "data": {
            "text/plain": [
              "<IPython.core.display.Markdown object>"
            ],
            "text/markdown": "**DSBA 6190**: _Cloud Computing for Data Analysis_"
          },
          "metadata": {}
        },
        {
          "output_type": "display_data",
          "data": {
            "text/plain": [
              "<IPython.core.display.Markdown object>"
            ],
            "text/markdown": "**Instuctor**: _Colby Ford_"
          },
          "metadata": {}
        },
        {
          "output_type": "display_data",
          "data": {
            "text/plain": [
              "<IPython.core.display.Markdown object>"
            ],
            "text/markdown": "**Relevance**: _0.33571350535327477_"
          },
          "metadata": {}
        },
        {
          "output_type": "display_data",
          "data": {
            "text/plain": [
              "<IPython.core.display.Markdown object>"
            ],
            "text/markdown": "**I Relevance**: _0.33571350535327477_"
          },
          "metadata": {}
        },
        {
          "output_type": "display_data",
          "data": {
            "text/plain": [
              "<IPython.core.display.Markdown object>"
            ],
            "text/markdown": "### <font color=\"#699\">DSBA_HCIP-6162-Knowledge-Discovery-and-Databases-Fall-2024-Xi-Sunshine-Niu-1.pdf</font>"
          },
          "metadata": {}
        },
        {
          "output_type": "display_data",
          "data": {
            "text/plain": [
              "<IPython.core.display.Markdown object>"
            ],
            "text/markdown": "**DSBA 6162**: _Knowledge Discovery and Databases_"
          },
          "metadata": {}
        },
        {
          "output_type": "display_data",
          "data": {
            "text/plain": [
              "<IPython.core.display.Markdown object>"
            ],
            "text/markdown": "**Instuctor**: _Xi (Sunshine) Nu_"
          },
          "metadata": {}
        },
        {
          "output_type": "display_data",
          "data": {
            "text/plain": [
              "<IPython.core.display.Markdown object>"
            ],
            "text/markdown": "**Relevance**: _0.33520002560935624_"
          },
          "metadata": {}
        },
        {
          "output_type": "display_data",
          "data": {
            "text/plain": [
              "<IPython.core.display.Markdown object>"
            ],
            "text/markdown": "**I Relevance**: _0.33520002560935624_"
          },
          "metadata": {}
        },
        {
          "output_type": "display_data",
          "data": {
            "text/plain": [
              "<IPython.core.display.Markdown object>"
            ],
            "text/markdown": "### <font color=\"#699\">DSBA-6190-Cloud-Computing-for-Data-Analysis-Fall-2024-Colby-Ford.pdf</font>"
          },
          "metadata": {}
        },
        {
          "output_type": "display_data",
          "data": {
            "text/plain": [
              "<IPython.core.display.Markdown object>"
            ],
            "text/markdown": "**DSBA 6190**: _Cloud Computing for Data Analysis_"
          },
          "metadata": {}
        },
        {
          "output_type": "display_data",
          "data": {
            "text/plain": [
              "<IPython.core.display.Markdown object>"
            ],
            "text/markdown": "**Instuctor**: _Colby Ford_"
          },
          "metadata": {}
        },
        {
          "output_type": "display_data",
          "data": {
            "text/plain": [
              "<IPython.core.display.Markdown object>"
            ],
            "text/markdown": "**Relevance**: _0.33504946286905424_"
          },
          "metadata": {}
        },
        {
          "output_type": "display_data",
          "data": {
            "text/plain": [
              "<IPython.core.display.Markdown object>"
            ],
            "text/markdown": "**I Relevance**: _0.33504946286905424_"
          },
          "metadata": {}
        },
        {
          "output_type": "display_data",
          "data": {
            "text/plain": [
              "<IPython.core.display.Markdown object>"
            ],
            "text/markdown": "### <font color=\"#699\">DSBA-6188-Text-Mining-and-Information-Retrieval-Fall-2024-Depeng-Xu.pdf</font>"
          },
          "metadata": {}
        },
        {
          "output_type": "display_data",
          "data": {
            "text/plain": [
              "<IPython.core.display.Markdown object>"
            ],
            "text/markdown": "**DSBA 6188**: _Text Mining and Information Retrieval_"
          },
          "metadata": {}
        },
        {
          "output_type": "display_data",
          "data": {
            "text/plain": [
              "<IPython.core.display.Markdown object>"
            ],
            "text/markdown": "**Instuctor**: _Depeng Zu_"
          },
          "metadata": {}
        },
        {
          "output_type": "display_data",
          "data": {
            "text/plain": [
              "<IPython.core.display.Markdown object>"
            ],
            "text/markdown": "**Relevance**: _0.3246543693146704_"
          },
          "metadata": {}
        },
        {
          "output_type": "display_data",
          "data": {
            "text/plain": [
              "<IPython.core.display.Markdown object>"
            ],
            "text/markdown": "**I Relevance**: _0.3246543693146704_"
          },
          "metadata": {}
        },
        {
          "output_type": "display_data",
          "data": {
            "text/plain": [
              "<IPython.core.display.Markdown object>"
            ],
            "text/markdown": "### <font color=\"#699\">DSBA6188_Syllabus_Spring2023_Niu – Xi (Sunshine) Niu.pdf</font>"
          },
          "metadata": {}
        },
        {
          "output_type": "display_data",
          "data": {
            "text/plain": [
              "<IPython.core.display.Markdown object>"
            ],
            "text/markdown": "**DSBA 6188**: _Text Mining and Information Retrieval_"
          },
          "metadata": {}
        },
        {
          "output_type": "display_data",
          "data": {
            "text/plain": [
              "<IPython.core.display.Markdown object>"
            ],
            "text/markdown": "**Instuctor**: _Xi (Sunshine) Niu_"
          },
          "metadata": {}
        },
        {
          "output_type": "display_data",
          "data": {
            "text/plain": [
              "<IPython.core.display.Markdown object>"
            ],
            "text/markdown": "**Relevance**: _0.3243966056043654_"
          },
          "metadata": {}
        },
        {
          "output_type": "display_data",
          "data": {
            "text/plain": [
              "<IPython.core.display.Markdown object>"
            ],
            "text/markdown": "**I Relevance**: _0.3243966056043654_"
          },
          "metadata": {}
        },
        {
          "output_type": "display_data",
          "data": {
            "text/plain": [
              "<IPython.core.display.Markdown object>"
            ],
            "text/markdown": "### <font color=\"#699\">Damien_Patrick_Williams_-_DSBA_6010_-_26287 – Damien Williams.pdf</font>"
          },
          "metadata": {}
        },
        {
          "output_type": "display_data",
          "data": {
            "text/plain": [
              "<IPython.core.display.Markdown object>"
            ],
            "text/markdown": "**DSBA 6010**: _Disability, Technology, & Artificial Intelligence_"
          },
          "metadata": {}
        },
        {
          "output_type": "display_data",
          "data": {
            "text/plain": [
              "<IPython.core.display.Markdown object>"
            ],
            "text/markdown": "**Instuctor**: _Damien Williams_"
          },
          "metadata": {}
        },
        {
          "output_type": "display_data",
          "data": {
            "text/plain": [
              "<IPython.core.display.Markdown object>"
            ],
            "text/markdown": "**Relevance**: _0.32349473072141255_"
          },
          "metadata": {}
        },
        {
          "output_type": "display_data",
          "data": {
            "text/plain": [
              "<IPython.core.display.Markdown object>"
            ],
            "text/markdown": "**I Relevance**: _0.32349473072141255_"
          },
          "metadata": {}
        },
        {
          "output_type": "display_data",
          "data": {
            "text/plain": [
              "<IPython.core.display.Markdown object>"
            ],
            "text/markdown": "### <font color=\"#699\">MBAD_DSBA6276_Syllabus_spr 2023 – Angela Xia Liu.pdf</font>"
          },
          "metadata": {}
        },
        {
          "output_type": "display_data",
          "data": {
            "text/plain": [
              "<IPython.core.display.Markdown object>"
            ],
            "text/markdown": "**DSBA 6276**: _Strategic Business Analytics_"
          },
          "metadata": {}
        },
        {
          "output_type": "display_data",
          "data": {
            "text/plain": [
              "<IPython.core.display.Markdown object>"
            ],
            "text/markdown": "**Instuctor**: _Angela Liu_"
          },
          "metadata": {}
        },
        {
          "output_type": "display_data",
          "data": {
            "text/plain": [
              "<IPython.core.display.Markdown object>"
            ],
            "text/markdown": "**Relevance**: _0.3197654625519809_"
          },
          "metadata": {}
        },
        {
          "output_type": "display_data",
          "data": {
            "text/plain": [
              "<IPython.core.display.Markdown object>"
            ],
            "text/markdown": "**I Relevance**: _0.3197654625519809_"
          },
          "metadata": {}
        },
        {
          "output_type": "display_data",
          "data": {
            "text/plain": [
              "<IPython.core.display.Markdown object>"
            ],
            "text/markdown": "# <font color='#966'>Which courses deal with KNN and which ones deal with k-means (what is the difference between k-means and KNN</font>"
          },
          "metadata": {}
        },
        {
          "output_type": "display_data",
          "data": {
            "text/plain": [
              "<IPython.core.display.Markdown object>"
            ],
            "text/markdown": "<font color='#44a'>**Sending**: _Which courses deal with KNN and which ones deal with k-means (what is the difference between k-means and KNN_</font>"
          },
          "metadata": {}
        },
        {
          "output_type": "display_data",
          "data": {
            "text/plain": [
              "<IPython.core.display.Markdown object>"
            ],
            "text/markdown": "## Answer"
          },
          "metadata": {}
        },
        {
          "output_type": "display_data",
          "data": {
            "text/plain": [
              "<IPython.core.display.Markdown object>"
            ],
            "text/markdown": "The courses that deal with KNN (K-Nearest Neighbors) and K-means clustering can be identified as follows:\n\n### Courses Covering KNN:\n1. **Applied Machine Learning (6156)** - This course discusses various machine learning methods, likely including KNN, given its focus on similarity-based learning and several machine learning algorithms.\n2. **Strategic Business Analytics (6276)** - This course mentions predictive data mining techniques, which typically include KNN among various analytics methodologies.\n\n### Courses Covering K-means:\n1. **Knowledge Discovery in Databases (6162)** - This course includes cluster analysis, where K-means is a standard algorithm.\n2. **Advanced Business Analytics (6211)** - K-means is often covered in courses dealing with clustering and analytics.\n3. **Business Intelligence and Analytics (6201)** - This course also covers clustering as part of its broader analytics curriculum.\n\n### Difference Between K-means and KNN:\n- **K-means Clustering**: \n  - A **clustering algorithm** that partitions data into K distinct groups based on feature similarity. It works by minimizing the variance within each cluster and optimizing the distance between the data points and the centroid of the clusters.\n  - Primarily used for unsupervised learning tasks to identify natural groupings in data.\n  \n- **K-Nearest Neighbors (KNN)**:\n  - A **classification (or regression) algorithm** that classifies a data point based on how its neighbors are classified. It considers the “K” closest training examples in the feature space and makes predictions based on majority voting (for classification) or averaging (for regression).\n  - KNN is often used in supervised learning scenarios where labeled data is available.\n\n### Summary:\nIn essence, K-means is about grouping data without predefined labels (unsupervised), while KNN is about classifying new data points based on the labeled data (supervised)."
          },
          "metadata": {}
        },
        {
          "output_type": "display_data",
          "data": {
            "text/plain": [
              "<IPython.core.display.Markdown object>"
            ],
            "text/markdown": "## Retrieval"
          },
          "metadata": {}
        },
        {
          "output_type": "stream",
          "name": "stdout",
          "text": [
            "{\n",
            "  \"request\": \"List courses related to KNN and k-means, and explain the difference between them.\",\n",
            "  \"semantic_phrase\": \"KNN k-means courses difference explanation\",\n",
            "  \"search_words\": [\n",
            "    \"KNN\",\n",
            "    \"k-means\",\n",
            "    \"courses\",\n",
            "    \"difference\"\n",
            "  ],\n",
            "  \"metadata_fields\": {\n",
            "    \"instructor\": [],\n",
            "    \"course_number\": [],\n",
            "    \"course_title\": []\n",
            "  }\n",
            "}\n"
          ]
        },
        {
          "output_type": "display_data",
          "data": {
            "text/plain": [
              "<IPython.core.display.Markdown object>"
            ],
            "text/markdown": "## Sources"
          },
          "metadata": {}
        },
        {
          "output_type": "display_data",
          "data": {
            "text/plain": [
              "<IPython.core.display.Markdown object>"
            ],
            "text/markdown": "### <font color=\"#699\">DSBA 6162 – Zbyszek Ras.pdf.C0001</font>"
          },
          "metadata": {}
        },
        {
          "output_type": "display_data",
          "data": {
            "text/plain": [
              "<IPython.core.display.Markdown object>"
            ],
            "text/markdown": "**DSBA 6162**: _Knowledge Discovery in Databases_"
          },
          "metadata": {}
        },
        {
          "output_type": "display_data",
          "data": {
            "text/plain": [
              "<IPython.core.display.Markdown object>"
            ],
            "text/markdown": "**Instuctor**: _Zybszek Ras_"
          },
          "metadata": {}
        },
        {
          "output_type": "display_data",
          "data": {
            "text/plain": [
              "<IPython.core.display.Markdown object>"
            ],
            "text/markdown": "**Relevance**: _0.4265070475842222_"
          },
          "metadata": {}
        },
        {
          "output_type": "display_data",
          "data": {
            "text/plain": [
              "<IPython.core.display.Markdown object>"
            ],
            "text/markdown": "**V Relevance**: _0.4265070475842222_"
          },
          "metadata": {}
        },
        {
          "output_type": "display_data",
          "data": {
            "text/plain": [
              "<IPython.core.display.Markdown object>"
            ],
            "text/markdown": "### <font color=\"#699\">DSBA 6162 Knowledge Discovery in Databases (KDD) Xi (Sunshine) Niu.C0001</font>"
          },
          "metadata": {}
        },
        {
          "output_type": "display_data",
          "data": {
            "text/plain": [
              "<IPython.core.display.Markdown object>"
            ],
            "text/markdown": "**DSBA 6162**: _Knowledge Discovery in Databases (KDD)_"
          },
          "metadata": {}
        },
        {
          "output_type": "display_data",
          "data": {
            "text/plain": [
              "<IPython.core.display.Markdown object>"
            ],
            "text/markdown": "**Instuctor**: _Xi (Sunshine) Niu_"
          },
          "metadata": {}
        },
        {
          "output_type": "display_data",
          "data": {
            "text/plain": [
              "<IPython.core.display.Markdown object>"
            ],
            "text/markdown": "**Relevance**: _0.425212158543978_"
          },
          "metadata": {}
        },
        {
          "output_type": "display_data",
          "data": {
            "text/plain": [
              "<IPython.core.display.Markdown object>"
            ],
            "text/markdown": "**V Relevance**: _0.425212158543978_"
          },
          "metadata": {}
        },
        {
          "output_type": "display_data",
          "data": {
            "text/plain": [
              "<IPython.core.display.Markdown object>"
            ],
            "text/markdown": "### <font color=\"#699\">DSBA 6156 Applied Machine Learning – Rick Chakra.C0001</font>"
          },
          "metadata": {}
        },
        {
          "output_type": "display_data",
          "data": {
            "text/plain": [
              "<IPython.core.display.Markdown object>"
            ],
            "text/markdown": "**DSBA 6156**: _Applied Machine Learning_"
          },
          "metadata": {}
        },
        {
          "output_type": "display_data",
          "data": {
            "text/plain": [
              "<IPython.core.display.Markdown object>"
            ],
            "text/markdown": "**Instuctor**: _Rick Chakra_"
          },
          "metadata": {}
        },
        {
          "output_type": "display_data",
          "data": {
            "text/plain": [
              "<IPython.core.display.Markdown object>"
            ],
            "text/markdown": "**Relevance**: _0.41846314336726376_"
          },
          "metadata": {}
        },
        {
          "output_type": "display_data",
          "data": {
            "text/plain": [
              "<IPython.core.display.Markdown object>"
            ],
            "text/markdown": "**V Relevance**: _0.41846314336726376_"
          },
          "metadata": {}
        },
        {
          "output_type": "display_data",
          "data": {
            "text/plain": [
              "<IPython.core.display.Markdown object>"
            ],
            "text/markdown": "### <font color=\"#699\">DSBA-6156-Applied-Machine-Learning-Fall-2024-Rick-Chakra.pdf.C0001</font>"
          },
          "metadata": {}
        },
        {
          "output_type": "display_data",
          "data": {
            "text/plain": [
              "<IPython.core.display.Markdown object>"
            ],
            "text/markdown": "**DSBA 6156**: _Applied Machine Learning_"
          },
          "metadata": {}
        },
        {
          "output_type": "display_data",
          "data": {
            "text/plain": [
              "<IPython.core.display.Markdown object>"
            ],
            "text/markdown": "**Instuctor**: _Rick Chakra_"
          },
          "metadata": {}
        },
        {
          "output_type": "display_data",
          "data": {
            "text/plain": [
              "<IPython.core.display.Markdown object>"
            ],
            "text/markdown": "**Relevance**: _0.41654809545350946_"
          },
          "metadata": {}
        },
        {
          "output_type": "display_data",
          "data": {
            "text/plain": [
              "<IPython.core.display.Markdown object>"
            ],
            "text/markdown": "**V Relevance**: _0.41654809545350946_"
          },
          "metadata": {}
        },
        {
          "output_type": "display_data",
          "data": {
            "text/plain": [
              "<IPython.core.display.Markdown object>"
            ],
            "text/markdown": "### <font color=\"#699\">DSBA_HCIP-6162-Knowledge-Discovery-and-Databases-Fall-2024-Xi-Sunshine-Niu-1.pdf.C0001</font>"
          },
          "metadata": {}
        },
        {
          "output_type": "display_data",
          "data": {
            "text/plain": [
              "<IPython.core.display.Markdown object>"
            ],
            "text/markdown": "**DSBA 6162**: _Knowledge Discovery and Databases_"
          },
          "metadata": {}
        },
        {
          "output_type": "display_data",
          "data": {
            "text/plain": [
              "<IPython.core.display.Markdown object>"
            ],
            "text/markdown": "**Instuctor**: _Xi (Sunshine) Nu_"
          },
          "metadata": {}
        },
        {
          "output_type": "display_data",
          "data": {
            "text/plain": [
              "<IPython.core.display.Markdown object>"
            ],
            "text/markdown": "**Relevance**: _0.4124288024354545_"
          },
          "metadata": {}
        },
        {
          "output_type": "display_data",
          "data": {
            "text/plain": [
              "<IPython.core.display.Markdown object>"
            ],
            "text/markdown": "**V Relevance**: _0.4124288024354545_"
          },
          "metadata": {}
        },
        {
          "output_type": "display_data",
          "data": {
            "text/plain": [
              "<IPython.core.display.Markdown object>"
            ],
            "text/markdown": "### <font color=\"#699\">DSBA 6211 Advanced Business Analytics – Kornelia Bastin</font>"
          },
          "metadata": {}
        },
        {
          "output_type": "display_data",
          "data": {
            "text/plain": [
              "<IPython.core.display.Markdown object>"
            ],
            "text/markdown": "**DSBA 6211**: _Advanced Business Analytics_"
          },
          "metadata": {}
        },
        {
          "output_type": "display_data",
          "data": {
            "text/plain": [
              "<IPython.core.display.Markdown object>"
            ],
            "text/markdown": "**Instuctor**: _Kornelia Bastin_"
          },
          "metadata": {}
        },
        {
          "output_type": "display_data",
          "data": {
            "text/plain": [
              "<IPython.core.display.Markdown object>"
            ],
            "text/markdown": "**Relevance**: _0.3620263704084826_"
          },
          "metadata": {}
        },
        {
          "output_type": "display_data",
          "data": {
            "text/plain": [
              "<IPython.core.display.Markdown object>"
            ],
            "text/markdown": "**I Relevance**: _0.3620263704084826_"
          },
          "metadata": {}
        },
        {
          "output_type": "display_data",
          "data": {
            "text/plain": [
              "<IPython.core.display.Markdown object>"
            ],
            "text/markdown": "### <font color=\"#699\">DSBA-6201-Business-Intelligence-and-Analytics-Fall-2024-Chandra-Subramaniam.pdf</font>"
          },
          "metadata": {}
        },
        {
          "output_type": "display_data",
          "data": {
            "text/plain": [
              "<IPython.core.display.Markdown object>"
            ],
            "text/markdown": "**DSBA 6201**: _Business Intelligence and Analytics_"
          },
          "metadata": {}
        },
        {
          "output_type": "display_data",
          "data": {
            "text/plain": [
              "<IPython.core.display.Markdown object>"
            ],
            "text/markdown": "**Instuctor**: _Chandra Subramaniam_"
          },
          "metadata": {}
        },
        {
          "output_type": "display_data",
          "data": {
            "text/plain": [
              "<IPython.core.display.Markdown object>"
            ],
            "text/markdown": "**Relevance**: _0.34629462360520125_"
          },
          "metadata": {}
        },
        {
          "output_type": "display_data",
          "data": {
            "text/plain": [
              "<IPython.core.display.Markdown object>"
            ],
            "text/markdown": "**I Relevance**: _0.34629462360520125_"
          },
          "metadata": {}
        },
        {
          "output_type": "display_data",
          "data": {
            "text/plain": [
              "<IPython.core.display.Markdown object>"
            ],
            "text/markdown": "### <font color=\"#699\">DSBA-6201-Business-Intelligence-and-Analytics-Fall-2024-Kornelia-Bastin.pdf</font>"
          },
          "metadata": {}
        },
        {
          "output_type": "display_data",
          "data": {
            "text/plain": [
              "<IPython.core.display.Markdown object>"
            ],
            "text/markdown": "**DSBA 6201**: _Business Intelligence and Analytics_"
          },
          "metadata": {}
        },
        {
          "output_type": "display_data",
          "data": {
            "text/plain": [
              "<IPython.core.display.Markdown object>"
            ],
            "text/markdown": "**Instuctor**: _Kornelia Bastin_"
          },
          "metadata": {}
        },
        {
          "output_type": "display_data",
          "data": {
            "text/plain": [
              "<IPython.core.display.Markdown object>"
            ],
            "text/markdown": "**Relevance**: _0.34629462360520125_"
          },
          "metadata": {}
        },
        {
          "output_type": "display_data",
          "data": {
            "text/plain": [
              "<IPython.core.display.Markdown object>"
            ],
            "text/markdown": "**I Relevance**: _0.34629462360520125_"
          },
          "metadata": {}
        },
        {
          "output_type": "display_data",
          "data": {
            "text/plain": [
              "<IPython.core.display.Markdown object>"
            ],
            "text/markdown": "### <font color=\"#699\">DSBA-6208-Operations-Management-Fall-2024-Andy-Fraher.pdf</font>"
          },
          "metadata": {}
        },
        {
          "output_type": "display_data",
          "data": {
            "text/plain": [
              "<IPython.core.display.Markdown object>"
            ],
            "text/markdown": "**DSBA 6208**: _Operations Management_"
          },
          "metadata": {}
        },
        {
          "output_type": "display_data",
          "data": {
            "text/plain": [
              "<IPython.core.display.Markdown object>"
            ],
            "text/markdown": "**Instuctor**: _Andrew Fraher_"
          },
          "metadata": {}
        },
        {
          "output_type": "display_data",
          "data": {
            "text/plain": [
              "<IPython.core.display.Markdown object>"
            ],
            "text/markdown": "**Relevance**: _0.34189184310516757_"
          },
          "metadata": {}
        },
        {
          "output_type": "display_data",
          "data": {
            "text/plain": [
              "<IPython.core.display.Markdown object>"
            ],
            "text/markdown": "**I Relevance**: _0.34189184310516757_"
          },
          "metadata": {}
        },
        {
          "output_type": "display_data",
          "data": {
            "text/plain": [
              "<IPython.core.display.Markdown object>"
            ],
            "text/markdown": "### <font color=\"#699\">Damien_Patrick_Williams_-_DSBA_6010_-_26287 – Damien Williams.pdf</font>"
          },
          "metadata": {}
        },
        {
          "output_type": "display_data",
          "data": {
            "text/plain": [
              "<IPython.core.display.Markdown object>"
            ],
            "text/markdown": "**DSBA 6010**: _Disability, Technology, & Artificial Intelligence_"
          },
          "metadata": {}
        },
        {
          "output_type": "display_data",
          "data": {
            "text/plain": [
              "<IPython.core.display.Markdown object>"
            ],
            "text/markdown": "**Instuctor**: _Damien Williams_"
          },
          "metadata": {}
        },
        {
          "output_type": "display_data",
          "data": {
            "text/plain": [
              "<IPython.core.display.Markdown object>"
            ],
            "text/markdown": "**Relevance**: _0.3381933405417958_"
          },
          "metadata": {}
        },
        {
          "output_type": "display_data",
          "data": {
            "text/plain": [
              "<IPython.core.display.Markdown object>"
            ],
            "text/markdown": "**I Relevance**: _0.3381933405417958_"
          },
          "metadata": {}
        },
        {
          "output_type": "display_data",
          "data": {
            "text/plain": [
              "<IPython.core.display.Markdown object>"
            ],
            "text/markdown": "### <font color=\"#699\">DSBA-6211-Advanced-Business-Analytics-Fall-2024-Kexin-Zhao.pdf</font>"
          },
          "metadata": {}
        },
        {
          "output_type": "display_data",
          "data": {
            "text/plain": [
              "<IPython.core.display.Markdown object>"
            ],
            "text/markdown": "**DSBA 6211**: _Advanced Business Analytics_"
          },
          "metadata": {}
        },
        {
          "output_type": "display_data",
          "data": {
            "text/plain": [
              "<IPython.core.display.Markdown object>"
            ],
            "text/markdown": "**Instuctor**: _Kexin Zhao_"
          },
          "metadata": {}
        },
        {
          "output_type": "display_data",
          "data": {
            "text/plain": [
              "<IPython.core.display.Markdown object>"
            ],
            "text/markdown": "**Relevance**: _0.32585880631109_"
          },
          "metadata": {}
        },
        {
          "output_type": "display_data",
          "data": {
            "text/plain": [
              "<IPython.core.display.Markdown object>"
            ],
            "text/markdown": "**I Relevance**: _0.32585880631109_"
          },
          "metadata": {}
        },
        {
          "output_type": "display_data",
          "data": {
            "text/plain": [
              "<IPython.core.display.Markdown object>"
            ],
            "text/markdown": "### <font color=\"#699\">DSBA 6188 Text Mining and Information Retrieval – Chang Hsin Lee & Ryan Wesslen</font>"
          },
          "metadata": {}
        },
        {
          "output_type": "display_data",
          "data": {
            "text/plain": [
              "<IPython.core.display.Markdown object>"
            ],
            "text/markdown": "**DSBA 6188**: _Text Mining and Information Retrieval_"
          },
          "metadata": {}
        },
        {
          "output_type": "display_data",
          "data": {
            "text/plain": [
              "<IPython.core.display.Markdown object>"
            ],
            "text/markdown": "**Instuctor**: _Chang Hsin Lee_"
          },
          "metadata": {}
        },
        {
          "output_type": "display_data",
          "data": {
            "text/plain": [
              "<IPython.core.display.Markdown object>"
            ],
            "text/markdown": "**Relevance**: _0.30544201626977574_"
          },
          "metadata": {}
        },
        {
          "output_type": "display_data",
          "data": {
            "text/plain": [
              "<IPython.core.display.Markdown object>"
            ],
            "text/markdown": "**I Relevance**: _0.30544201626977574_"
          },
          "metadata": {}
        },
        {
          "output_type": "display_data",
          "data": {
            "text/plain": [
              "<IPython.core.display.Markdown object>"
            ],
            "text/markdown": "### <font color=\"#699\">DSBA 6276 Strategic Business Analytics – Angela Xia Liu</font>"
          },
          "metadata": {}
        },
        {
          "output_type": "display_data",
          "data": {
            "text/plain": [
              "<IPython.core.display.Markdown object>"
            ],
            "text/markdown": "**DSBA 6276**: _Strategic Business Analytics_"
          },
          "metadata": {}
        },
        {
          "output_type": "display_data",
          "data": {
            "text/plain": [
              "<IPython.core.display.Markdown object>"
            ],
            "text/markdown": "**Instuctor**: _Angela Xia Liu_"
          },
          "metadata": {}
        },
        {
          "output_type": "display_data",
          "data": {
            "text/plain": [
              "<IPython.core.display.Markdown object>"
            ],
            "text/markdown": "**Relevance**: _0.30262333730706664_"
          },
          "metadata": {}
        },
        {
          "output_type": "display_data",
          "data": {
            "text/plain": [
              "<IPython.core.display.Markdown object>"
            ],
            "text/markdown": "**I Relevance**: _0.30262333730706664_"
          },
          "metadata": {}
        },
        {
          "output_type": "display_data",
          "data": {
            "text/plain": [
              "<IPython.core.display.Markdown object>"
            ],
            "text/markdown": "### <font color=\"#699\">MBAD_DSBA6276_Syllabus_spr 2023 – Angela Xia Liu.pdf</font>"
          },
          "metadata": {}
        },
        {
          "output_type": "display_data",
          "data": {
            "text/plain": [
              "<IPython.core.display.Markdown object>"
            ],
            "text/markdown": "**DSBA 6276**: _Strategic Business Analytics_"
          },
          "metadata": {}
        },
        {
          "output_type": "display_data",
          "data": {
            "text/plain": [
              "<IPython.core.display.Markdown object>"
            ],
            "text/markdown": "**Instuctor**: _Angela Liu_"
          },
          "metadata": {}
        },
        {
          "output_type": "display_data",
          "data": {
            "text/plain": [
              "<IPython.core.display.Markdown object>"
            ],
            "text/markdown": "**Relevance**: _0.30241152558576384_"
          },
          "metadata": {}
        },
        {
          "output_type": "display_data",
          "data": {
            "text/plain": [
              "<IPython.core.display.Markdown object>"
            ],
            "text/markdown": "**I Relevance**: _0.30241152558576384_"
          },
          "metadata": {}
        },
        {
          "output_type": "display_data",
          "data": {
            "text/plain": [
              "<IPython.core.display.Markdown object>"
            ],
            "text/markdown": "### <font color=\"#699\">DSBA-6277-Social-Media-Marketing-and-Analytics-Fall-2024-Nima-Jalali.pdf</font>"
          },
          "metadata": {}
        },
        {
          "output_type": "display_data",
          "data": {
            "text/plain": [
              "<IPython.core.display.Markdown object>"
            ],
            "text/markdown": "**DSBA 6277**: _Social Media Marketing and Analytics_"
          },
          "metadata": {}
        },
        {
          "output_type": "display_data",
          "data": {
            "text/plain": [
              "<IPython.core.display.Markdown object>"
            ],
            "text/markdown": "**Instuctor**: _Nima Jalali_"
          },
          "metadata": {}
        },
        {
          "output_type": "display_data",
          "data": {
            "text/plain": [
              "<IPython.core.display.Markdown object>"
            ],
            "text/markdown": "**Relevance**: _0.2630642138320036_"
          },
          "metadata": {}
        },
        {
          "output_type": "display_data",
          "data": {
            "text/plain": [
              "<IPython.core.display.Markdown object>"
            ],
            "text/markdown": "**I Relevance**: _0.2630642138320036_"
          },
          "metadata": {}
        },
        {
          "output_type": "display_data",
          "data": {
            "text/plain": [
              "<IPython.core.display.Markdown object>"
            ],
            "text/markdown": "# <font color='#966'>Please compare and contrast the topics covered in DSBA 6188 and DSBA 6190 (include the list of professors that taught each course)</font>"
          },
          "metadata": {}
        },
        {
          "output_type": "display_data",
          "data": {
            "text/plain": [
              "<IPython.core.display.Markdown object>"
            ],
            "text/markdown": "<font color='#44a'>**Sending**: _Please compare and contrast the topics covered in DSBA 6188 and DSBA 6190 (include the list of professors that taught each course)_</font>"
          },
          "metadata": {}
        },
        {
          "output_type": "display_data",
          "data": {
            "text/plain": [
              "<IPython.core.display.Markdown object>"
            ],
            "text/markdown": "## Answer"
          },
          "metadata": {}
        },
        {
          "output_type": "display_data",
          "data": {
            "text/plain": [
              "<IPython.core.display.Markdown object>"
            ],
            "text/markdown": "### Course Comparison: DSBA 6188 vs. DSBA 6190\n\n#### Instructors:\n- **DSBA 6188 (Text Mining and Information Retrieval)**: Dr. Xi (Sunshine) Niu, and Teaching Assistant Mr. Chieh Wu.\n- **DSBA 6190 (Cloud Computing for Data Analysis)**: Dr. Colby Ford.\n\n#### Course Description:\n- **DSBA 6188**:\n  - Focuses on techniques for analyzing large amounts of text data and covers information retrieval. \n  - Explores natural language processing (NLP) including word association mining, topic modeling, and text classification.\n  - Utilizes Python for practical skills and includes various readings related to text mining and retrieval.\n  \n- **DSBA 6190**:\n  - Centers on cloud computing, specifically for data-intensive applications.\n  - Discusses cloud technologies, scalable deployment of cloud resources, containerized applications, and machine learning model training in cloud environments.\n  - Includes hands-on labs and exercises designed to apply concepts in real-world scenarios.\n\n#### Topics Covered:\n- **Text Mining and Information Retrieval (DSBA 6188)**:\n  - General techniques for text analysis and information retrieval models.\n  - Word association mining, topic modeling, text classification, and evaluations in information retrieval.\n  - Emphasis on statistical and heuristic approaches in text mining.\n\n- **Cloud Computing for Data Analysis (DSBA 6190)**:\n  - Principles of cloud computing, including management of cloud resources and architectures.\n  - Essentials of data lakes, containerization with Docker/Kubernetes, distributed computing (e.g., Apache Spark), and machine learning applications in the cloud.\n  - Focuses on practical implementation through labs on data platforms and machine learning.\n\n#### Learning Outcomes:\n- **DSBA 6188**:\n  - Understand and apply text processing techniques.\n  - Develop skills to retrieve and analyze text data effectively.\n  \n- **DSBA 6190**:\n  - Comprehend the advantages of cloud architecture to support data analytics.\n  - Ability to build scalable, end-to-end solutions utilizing cloud services.\n\n#### Prerequisites:\n- **DSBA 6188**:\n  - Basic knowledge of computer science and programming; comfort with probability and statistics.\n  \n- **DSBA 6190**:\n  - Strong programming skills and familiarity with Python, SQL, machine learning concepts, and statistical methods.\n\n#### Grading Methods:\n- **DSBA 6188**:\n  - Includes quizzes, homework, and a term project.\n  - Total points capped at 100, with grades distributed on a scale from A (90-101) to U (below 70).\n\n- **DSBA 6190**:\n  - Grading based on various labs, midterm and final exams, mirroring applied project-based assessments.\n  - A total of 1000 points is available, grades range from A (900-1000 points) to F (below 700 points).\n\n### Summary\nBoth courses cover advanced data analytics practices but cater to different aspects of data handling. **DSBA 6188** specializes in text data analysis and NLP techniques while **DSBA 6190** is structured around the use of cloud computing for data analytics applications. The key differences lie in the types of data each course emphasizes (text vs. cloud infrastructure) and the specific technologies and methodologies each employs."
          },
          "metadata": {}
        },
        {
          "output_type": "display_data",
          "data": {
            "text/plain": [
              "<IPython.core.display.Markdown object>"
            ],
            "text/markdown": "## Retrieval"
          },
          "metadata": {}
        },
        {
          "output_type": "stream",
          "name": "stdout",
          "text": [
            "{\n",
            "  \"request\": \"Compare and contrast the topics covered in DSBA 6188 and DSBA 6190, including the list of professors that taught each course.\",\n",
            "  \"semantic_phrase\": \"compare and contrast topics DSBA 6188 DSBA 6190\",\n",
            "  \"search_words\": [\n",
            "    \"DSBA\",\n",
            "    \"6188\",\n",
            "    \"6190\",\n",
            "    \"compare\",\n",
            "    \"contrast\",\n",
            "    \"topics\",\n",
            "    \"professors\"\n",
            "  ],\n",
            "  \"metadata_fields\": {\n",
            "    \"instructor\": [],\n",
            "    \"course_number\": [\n",
            "      \"6188\",\n",
            "      \"6190\"\n",
            "    ],\n",
            "    \"course_title\": []\n",
            "  }\n",
            "}\n"
          ]
        },
        {
          "output_type": "display_data",
          "data": {
            "text/plain": [
              "<IPython.core.display.Markdown object>"
            ],
            "text/markdown": "## Sources"
          },
          "metadata": {}
        },
        {
          "output_type": "display_data",
          "data": {
            "text/plain": [
              "<IPython.core.display.Markdown object>"
            ],
            "text/markdown": "### <font color=\"#699\">DSBA-6190-Cloud-Computing-for-Data-Analysis-Fall-2024-Colby-Ford.pdf</font>"
          },
          "metadata": {}
        },
        {
          "output_type": "display_data",
          "data": {
            "text/plain": [
              "<IPython.core.display.Markdown object>"
            ],
            "text/markdown": "**DSBA 6190**: _Cloud Computing for Data Analysis_"
          },
          "metadata": {}
        },
        {
          "output_type": "display_data",
          "data": {
            "text/plain": [
              "<IPython.core.display.Markdown object>"
            ],
            "text/markdown": "**Instuctor**: _Colby Ford_"
          },
          "metadata": {}
        },
        {
          "output_type": "display_data",
          "data": {
            "text/plain": [
              "<IPython.core.display.Markdown object>"
            ],
            "text/markdown": "**Relevance**: _0.6099121399010047_"
          },
          "metadata": {}
        },
        {
          "output_type": "display_data",
          "data": {
            "text/plain": [
              "<IPython.core.display.Markdown object>"
            ],
            "text/markdown": "**I Relevance**: _0.6099121399010047_"
          },
          "metadata": {}
        },
        {
          "output_type": "display_data",
          "data": {
            "text/plain": [
              "<IPython.core.display.Markdown object>"
            ],
            "text/markdown": "### <font color=\"#699\">DSBA-6190_Syllabus_Spring2023 – Colby Ford.pdf</font>"
          },
          "metadata": {}
        },
        {
          "output_type": "display_data",
          "data": {
            "text/plain": [
              "<IPython.core.display.Markdown object>"
            ],
            "text/markdown": "**DSBA 6190**: _Cloud Computing for Data Analysis_"
          },
          "metadata": {}
        },
        {
          "output_type": "display_data",
          "data": {
            "text/plain": [
              "<IPython.core.display.Markdown object>"
            ],
            "text/markdown": "**Instuctor**: _Colby Ford_"
          },
          "metadata": {}
        },
        {
          "output_type": "display_data",
          "data": {
            "text/plain": [
              "<IPython.core.display.Markdown object>"
            ],
            "text/markdown": "**Relevance**: _0.6093413863730116_"
          },
          "metadata": {}
        },
        {
          "output_type": "display_data",
          "data": {
            "text/plain": [
              "<IPython.core.display.Markdown object>"
            ],
            "text/markdown": "**I Relevance**: _0.6093413863730116_"
          },
          "metadata": {}
        },
        {
          "output_type": "display_data",
          "data": {
            "text/plain": [
              "<IPython.core.display.Markdown object>"
            ],
            "text/markdown": "### <font color=\"#699\">DSBA6188_Syllabus_Spring2023_Niu – Xi (Sunshine) Niu.pdf</font>"
          },
          "metadata": {}
        },
        {
          "output_type": "display_data",
          "data": {
            "text/plain": [
              "<IPython.core.display.Markdown object>"
            ],
            "text/markdown": "**DSBA 6188**: _Text Mining and Information Retrieval_"
          },
          "metadata": {}
        },
        {
          "output_type": "display_data",
          "data": {
            "text/plain": [
              "<IPython.core.display.Markdown object>"
            ],
            "text/markdown": "**Instuctor**: _Xi (Sunshine) Niu_"
          },
          "metadata": {}
        },
        {
          "output_type": "display_data",
          "data": {
            "text/plain": [
              "<IPython.core.display.Markdown object>"
            ],
            "text/markdown": "**Relevance**: _0.5640362384016309_"
          },
          "metadata": {}
        },
        {
          "output_type": "display_data",
          "data": {
            "text/plain": [
              "<IPython.core.display.Markdown object>"
            ],
            "text/markdown": "**I Relevance**: _0.5640362384016309_"
          },
          "metadata": {}
        },
        {
          "output_type": "display_data",
          "data": {
            "text/plain": [
              "<IPython.core.display.Markdown object>"
            ],
            "text/markdown": "### <font color=\"#699\">DSBA 6162 – Zbyszek Ras.pdf.C0001</font>"
          },
          "metadata": {}
        },
        {
          "output_type": "display_data",
          "data": {
            "text/plain": [
              "<IPython.core.display.Markdown object>"
            ],
            "text/markdown": "**DSBA 6162**: _Knowledge Discovery in Databases_"
          },
          "metadata": {}
        },
        {
          "output_type": "display_data",
          "data": {
            "text/plain": [
              "<IPython.core.display.Markdown object>"
            ],
            "text/markdown": "**Instuctor**: _Zybszek Ras_"
          },
          "metadata": {}
        },
        {
          "output_type": "display_data",
          "data": {
            "text/plain": [
              "<IPython.core.display.Markdown object>"
            ],
            "text/markdown": "**Relevance**: _0.47191647886262195_"
          },
          "metadata": {}
        },
        {
          "output_type": "display_data",
          "data": {
            "text/plain": [
              "<IPython.core.display.Markdown object>"
            ],
            "text/markdown": "**V Relevance**: _0.47191647886262195_"
          },
          "metadata": {}
        },
        {
          "output_type": "display_data",
          "data": {
            "text/plain": [
              "<IPython.core.display.Markdown object>"
            ],
            "text/markdown": "### <font color=\"#699\">DSBA 6010 Applied Computer Vision – Rick Chakra.C0002</font>"
          },
          "metadata": {}
        },
        {
          "output_type": "display_data",
          "data": {
            "text/plain": [
              "<IPython.core.display.Markdown object>"
            ],
            "text/markdown": "**DSBA 6010**: _Applied Computer Vision_"
          },
          "metadata": {}
        },
        {
          "output_type": "display_data",
          "data": {
            "text/plain": [
              "<IPython.core.display.Markdown object>"
            ],
            "text/markdown": "**Instuctor**: _Rick Chakra_"
          },
          "metadata": {}
        },
        {
          "output_type": "display_data",
          "data": {
            "text/plain": [
              "<IPython.core.display.Markdown object>"
            ],
            "text/markdown": "**Relevance**: _0.46910534929793923_"
          },
          "metadata": {}
        },
        {
          "output_type": "display_data",
          "data": {
            "text/plain": [
              "<IPython.core.display.Markdown object>"
            ],
            "text/markdown": "**V Relevance**: _0.46910534929793923_"
          },
          "metadata": {}
        },
        {
          "output_type": "display_data",
          "data": {
            "text/plain": [
              "<IPython.core.display.Markdown object>"
            ],
            "text/markdown": "### <font color=\"#699\">DSBA-6208-Operations-Management-Fall-2024-Andy-Fraher.pdf.C0004</font>"
          },
          "metadata": {}
        },
        {
          "output_type": "display_data",
          "data": {
            "text/plain": [
              "<IPython.core.display.Markdown object>"
            ],
            "text/markdown": "**DSBA 6208**: _Operations Management_"
          },
          "metadata": {}
        },
        {
          "output_type": "display_data",
          "data": {
            "text/plain": [
              "<IPython.core.display.Markdown object>"
            ],
            "text/markdown": "**Instuctor**: _Andrew Fraher_"
          },
          "metadata": {}
        },
        {
          "output_type": "display_data",
          "data": {
            "text/plain": [
              "<IPython.core.display.Markdown object>"
            ],
            "text/markdown": "**Relevance**: _0.4647262961616545_"
          },
          "metadata": {}
        },
        {
          "output_type": "display_data",
          "data": {
            "text/plain": [
              "<IPython.core.display.Markdown object>"
            ],
            "text/markdown": "**V Relevance**: _0.4647262961616545_"
          },
          "metadata": {}
        },
        {
          "output_type": "display_data",
          "data": {
            "text/plain": [
              "<IPython.core.display.Markdown object>"
            ],
            "text/markdown": "### <font color=\"#699\">DSBA6100-U90_MBAD7090-U92_Spring 2023_Blaine Nashold – Daryl Nashold.pdf.C0003</font>"
          },
          "metadata": {}
        },
        {
          "output_type": "display_data",
          "data": {
            "text/plain": [
              "<IPython.core.display.Markdown object>"
            ],
            "text/markdown": "**DSBA 6100**: _Big Data Analytics for Competitive Advantage_"
          },
          "metadata": {}
        },
        {
          "output_type": "display_data",
          "data": {
            "text/plain": [
              "<IPython.core.display.Markdown object>"
            ],
            "text/markdown": "**Instuctor**: _Daryl Nashold_"
          },
          "metadata": {}
        },
        {
          "output_type": "display_data",
          "data": {
            "text/plain": [
              "<IPython.core.display.Markdown object>"
            ],
            "text/markdown": "**Relevance**: _0.45753241874206685_"
          },
          "metadata": {}
        },
        {
          "output_type": "display_data",
          "data": {
            "text/plain": [
              "<IPython.core.display.Markdown object>"
            ],
            "text/markdown": "**V Relevance**: _0.45753241874206685_"
          },
          "metadata": {}
        },
        {
          "output_type": "display_data",
          "data": {
            "text/plain": [
              "<IPython.core.display.Markdown object>"
            ],
            "text/markdown": "### <font color=\"#699\">DSBA-6188-Text-Mining-and-Information-Retrieval-Fall-2024-Depeng-Xu.pdf</font>"
          },
          "metadata": {}
        },
        {
          "output_type": "display_data",
          "data": {
            "text/plain": [
              "<IPython.core.display.Markdown object>"
            ],
            "text/markdown": "**DSBA 6188**: _Text Mining and Information Retrieval_"
          },
          "metadata": {}
        },
        {
          "output_type": "display_data",
          "data": {
            "text/plain": [
              "<IPython.core.display.Markdown object>"
            ],
            "text/markdown": "**Instuctor**: _Depeng Zu_"
          },
          "metadata": {}
        },
        {
          "output_type": "display_data",
          "data": {
            "text/plain": [
              "<IPython.core.display.Markdown object>"
            ],
            "text/markdown": "**Relevance**: _0.4529194676604117_"
          },
          "metadata": {}
        },
        {
          "output_type": "display_data",
          "data": {
            "text/plain": [
              "<IPython.core.display.Markdown object>"
            ],
            "text/markdown": "**I Relevance**: _0.4529194676604117_"
          },
          "metadata": {}
        },
        {
          "output_type": "display_data",
          "data": {
            "text/plain": [
              "<IPython.core.display.Markdown object>"
            ],
            "text/markdown": "### <font color=\"#699\">DSBA-6211-Advanced-Business-Analytics-Fall-2024-Kexin-Zhao.pdf.C0002</font>"
          },
          "metadata": {}
        },
        {
          "output_type": "display_data",
          "data": {
            "text/plain": [
              "<IPython.core.display.Markdown object>"
            ],
            "text/markdown": "**DSBA 6211**: _Advanced Business Analytics_"
          },
          "metadata": {}
        },
        {
          "output_type": "display_data",
          "data": {
            "text/plain": [
              "<IPython.core.display.Markdown object>"
            ],
            "text/markdown": "**Instuctor**: _Kexin Zhao_"
          },
          "metadata": {}
        },
        {
          "output_type": "display_data",
          "data": {
            "text/plain": [
              "<IPython.core.display.Markdown object>"
            ],
            "text/markdown": "**Relevance**: _0.45059900937713016_"
          },
          "metadata": {}
        },
        {
          "output_type": "display_data",
          "data": {
            "text/plain": [
              "<IPython.core.display.Markdown object>"
            ],
            "text/markdown": "**V Relevance**: _0.45059900937713016_"
          },
          "metadata": {}
        },
        {
          "output_type": "display_data",
          "data": {
            "text/plain": [
              "<IPython.core.display.Markdown object>"
            ],
            "text/markdown": "### <font color=\"#699\">DSBA 6188 Text Mining and Information Retrieval – Chang Hsin Lee & Ryan Wesslen</font>"
          },
          "metadata": {}
        },
        {
          "output_type": "display_data",
          "data": {
            "text/plain": [
              "<IPython.core.display.Markdown object>"
            ],
            "text/markdown": "**DSBA 6188**: _Text Mining and Information Retrieval_"
          },
          "metadata": {}
        },
        {
          "output_type": "display_data",
          "data": {
            "text/plain": [
              "<IPython.core.display.Markdown object>"
            ],
            "text/markdown": "**Instuctor**: _Chang Hsin Lee_"
          },
          "metadata": {}
        },
        {
          "output_type": "display_data",
          "data": {
            "text/plain": [
              "<IPython.core.display.Markdown object>"
            ],
            "text/markdown": "**Relevance**: _0.13129650787262198_"
          },
          "metadata": {}
        },
        {
          "output_type": "display_data",
          "data": {
            "text/plain": [
              "<IPython.core.display.Markdown object>"
            ],
            "text/markdown": "**I Relevance**: _0.13129650787262198_"
          },
          "metadata": {}
        },
        {
          "output_type": "display_data",
          "data": {
            "text/plain": [
              "<IPython.core.display.Markdown object>"
            ],
            "text/markdown": "# <font color='#966'>IF I am taking DSBA 6010 the LLM Course please compare impact of adding DSBA 6190 vs DSBA 6188 in how it might round out my preparedness for industry</font>"
          },
          "metadata": {}
        },
        {
          "output_type": "display_data",
          "data": {
            "text/plain": [
              "<IPython.core.display.Markdown object>"
            ],
            "text/markdown": "<font color='#44a'>**Sending**: _IF I am taking DSBA 6010 the LLM Course please compare impact of adding DSBA 6190 vs DSBA 6188 in how it might round out my preparedness for industry_</font>"
          },
          "metadata": {}
        },
        {
          "output_type": "display_data",
          "data": {
            "text/plain": [
              "<IPython.core.display.Markdown object>"
            ],
            "text/markdown": "## Answer"
          },
          "metadata": {}
        },
        {
          "output_type": "display_data",
          "data": {
            "text/plain": [
              "<IPython.core.display.Markdown object>"
            ],
            "text/markdown": "When considering the decision to add either DSBA 6190 (Cloud Computing for Data Analysis) or DSBA 6188 (Text Mining and Information Retrieval) alongside DSBA 6010 (Applied Computer Vision), it's vital to understand how each course could enhance your preparedness for the industry, especially in data science and analytics.\n\n### DSBA 6190: Cloud Computing for Data Analysis\n**Relevance to Industry Preparedness:**\n1. **Focus on Scalability**: As businesses increasingly rely on cloud solutions for data storage and processing, understanding cloud infrastructures (like Azure and AWS) is essential. DSBA 6190 provides knowledge on cloud management, distributed computing, and scalable architectures which are pivotal for handling large datasets.\n   \n2. **Integration of Machine Learning Models**: The course addresses machine learning and deep learning model training and deployment using cloud technologies. This aligns well with DSBA 6010's focus on computer vision applications through deep learning, allowing you to leverage models effectively in cloud environments.\n\n3. **Broad Industry Applications**: Cloud computing is a critical skill across various industries as it enables companies to be more agile and maintain cost-effective data strategies. The skills learned in this course will make you competitive in roles that involve data architecture, cloud data processing, and analytics.\n\n### DSBA 6188: Text Mining and Information Retrieval\n**Relevance to Industry Preparedness:**\n1. **Natural Language Processing (NLP) Skills**: Text mining is becoming more important in numerous fields such as marketing, customer service, and product development, especially as companies leverage text data for insights. Completing this course would provide essential skills in NLP and text classification, complementing the analytical aspects of DSBA 6010.\n\n2. **Data Integration Techniques**: Understanding how to extract insights from both visual and text data allows for a more comprehensive data analysis approach. This can enhance your capability to work on multimodal data projects that involve image and text data—particularly valuable in industries like e-commerce or social media analytics.\n\n3. **Real-World Application**: The course covers practical implementation using Python, which is concurrent with the programming found in DSBA 6010. This hands-on experience will bolster your ability to develop projects that require both computer vision and text analytics.\n\n### Summary\n- **Choosing DSBA 6190 (Cloud Computing)**:\n   - Gain expertise in scalable cloud solutions and data architecture.\n   - Enhance skills in deploying machine learning models in cloud environments.\n   - Broaden your employability across tech-centric industries.\n\n- **Choosing DSBA 6188 (Text Mining)**:\n   - Develop crucial NLP skills for analyzing vast amounts of text data.\n   - Understand integration techniques for multimodal data analysis.\n   - Add depth to your analytics skill set, particularly for roles focused on business intelligence and customer insights.\n\n### Conclusion\nIf your goal is to strengthen your data analysis capabilities with an industry-focus on cloud technology and machine learning implementation, **choose DSBA 6190**. Alternatively, if you have a keen interest in natural language processing and leveraging diverse data forms like text in addition to image data from DSBA 6010, **opt for DSBA 6188**. Both courses will enrich your preparation for the industry, but the best choice depends on your career aspirations and interests in specific data science areas."
          },
          "metadata": {}
        },
        {
          "output_type": "display_data",
          "data": {
            "text/plain": [
              "<IPython.core.display.Markdown object>"
            ],
            "text/markdown": "## Retrieval"
          },
          "metadata": {}
        },
        {
          "output_type": "stream",
          "name": "stdout",
          "text": [
            "{\n",
            "  \"request\": \"Compare the impact of adding DSBA 6190 vs DSBA 6188 on preparedness for the industry while taking DSBA 6010.\",\n",
            "  \"semantic_phrase\": \"impact of adding DSBA 6190 vs DSBA 6188 on industry preparedness\",\n",
            "  \"search_words\": [\n",
            "    \"DSBA 6190\",\n",
            "    \"DSBA 6188\",\n",
            "    \"preparedness\",\n",
            "    \"industry\",\n",
            "    \"DSBA 6010\"\n",
            "  ],\n",
            "  \"metadata_fields\": {\n",
            "    \"instructor\": [],\n",
            "    \"course_number\": [\n",
            "      \"6010\",\n",
            "      \"6190\",\n",
            "      \"6188\"\n",
            "    ],\n",
            "    \"course_title\": []\n",
            "  }\n",
            "}\n"
          ]
        },
        {
          "output_type": "display_data",
          "data": {
            "text/plain": [
              "<IPython.core.display.Markdown object>"
            ],
            "text/markdown": "## Sources"
          },
          "metadata": {}
        },
        {
          "output_type": "display_data",
          "data": {
            "text/plain": [
              "<IPython.core.display.Markdown object>"
            ],
            "text/markdown": "### <font color=\"#699\">DSBA 6010 Applied Computer Vision – Rick Chakra</font>"
          },
          "metadata": {}
        },
        {
          "output_type": "display_data",
          "data": {
            "text/plain": [
              "<IPython.core.display.Markdown object>"
            ],
            "text/markdown": "**DSBA 6010**: _Applied Computer Vision_"
          },
          "metadata": {}
        },
        {
          "output_type": "display_data",
          "data": {
            "text/plain": [
              "<IPython.core.display.Markdown object>"
            ],
            "text/markdown": "**Instuctor**: _Rick Chakra_"
          },
          "metadata": {}
        },
        {
          "output_type": "display_data",
          "data": {
            "text/plain": [
              "<IPython.core.display.Markdown object>"
            ],
            "text/markdown": "**Relevance**: _0.5955030530567268_"
          },
          "metadata": {}
        },
        {
          "output_type": "display_data",
          "data": {
            "text/plain": [
              "<IPython.core.display.Markdown object>"
            ],
            "text/markdown": "**I Relevance**: _0.5955030530567268_"
          },
          "metadata": {}
        },
        {
          "output_type": "display_data",
          "data": {
            "text/plain": [
              "<IPython.core.display.Markdown object>"
            ],
            "text/markdown": "### <font color=\"#699\">DSBA-6190-Cloud-Computing-for-Data-Analysis-Fall-2024-Colby-Ford.pdf</font>"
          },
          "metadata": {}
        },
        {
          "output_type": "display_data",
          "data": {
            "text/plain": [
              "<IPython.core.display.Markdown object>"
            ],
            "text/markdown": "**DSBA 6190**: _Cloud Computing for Data Analysis_"
          },
          "metadata": {}
        },
        {
          "output_type": "display_data",
          "data": {
            "text/plain": [
              "<IPython.core.display.Markdown object>"
            ],
            "text/markdown": "**Instuctor**: _Colby Ford_"
          },
          "metadata": {}
        },
        {
          "output_type": "display_data",
          "data": {
            "text/plain": [
              "<IPython.core.display.Markdown object>"
            ],
            "text/markdown": "**Relevance**: _0.5073425095132829_"
          },
          "metadata": {}
        },
        {
          "output_type": "display_data",
          "data": {
            "text/plain": [
              "<IPython.core.display.Markdown object>"
            ],
            "text/markdown": "**I Relevance**: _0.5073425095132829_"
          },
          "metadata": {}
        },
        {
          "output_type": "display_data",
          "data": {
            "text/plain": [
              "<IPython.core.display.Markdown object>"
            ],
            "text/markdown": "### <font color=\"#699\">DSBA-6190_Syllabus_Spring2023 – Colby Ford.pdf</font>"
          },
          "metadata": {}
        },
        {
          "output_type": "display_data",
          "data": {
            "text/plain": [
              "<IPython.core.display.Markdown object>"
            ],
            "text/markdown": "**DSBA 6190**: _Cloud Computing for Data Analysis_"
          },
          "metadata": {}
        },
        {
          "output_type": "display_data",
          "data": {
            "text/plain": [
              "<IPython.core.display.Markdown object>"
            ],
            "text/markdown": "**Instuctor**: _Colby Ford_"
          },
          "metadata": {}
        },
        {
          "output_type": "display_data",
          "data": {
            "text/plain": [
              "<IPython.core.display.Markdown object>"
            ],
            "text/markdown": "**Relevance**: _0.5031502759487221_"
          },
          "metadata": {}
        },
        {
          "output_type": "display_data",
          "data": {
            "text/plain": [
              "<IPython.core.display.Markdown object>"
            ],
            "text/markdown": "**I Relevance**: _0.5031502759487221_"
          },
          "metadata": {}
        },
        {
          "output_type": "display_data",
          "data": {
            "text/plain": [
              "<IPython.core.display.Markdown object>"
            ],
            "text/markdown": "### <font color=\"#699\">DSBA 6162 – Zbyszek Ras.pdf.C0001</font>"
          },
          "metadata": {}
        },
        {
          "output_type": "display_data",
          "data": {
            "text/plain": [
              "<IPython.core.display.Markdown object>"
            ],
            "text/markdown": "**DSBA 6162**: _Knowledge Discovery in Databases_"
          },
          "metadata": {}
        },
        {
          "output_type": "display_data",
          "data": {
            "text/plain": [
              "<IPython.core.display.Markdown object>"
            ],
            "text/markdown": "**Instuctor**: _Zybszek Ras_"
          },
          "metadata": {}
        },
        {
          "output_type": "display_data",
          "data": {
            "text/plain": [
              "<IPython.core.display.Markdown object>"
            ],
            "text/markdown": "**Relevance**: _0.44330892492482843_"
          },
          "metadata": {}
        },
        {
          "output_type": "display_data",
          "data": {
            "text/plain": [
              "<IPython.core.display.Markdown object>"
            ],
            "text/markdown": "**V Relevance**: _0.44330892492482843_"
          },
          "metadata": {}
        },
        {
          "output_type": "display_data",
          "data": {
            "text/plain": [
              "<IPython.core.display.Markdown object>"
            ],
            "text/markdown": "### <font color=\"#699\">DSBA-6208-Operations-Management-Fall-2024-Andy-Fraher.pdf.C0004</font>"
          },
          "metadata": {}
        },
        {
          "output_type": "display_data",
          "data": {
            "text/plain": [
              "<IPython.core.display.Markdown object>"
            ],
            "text/markdown": "**DSBA 6208**: _Operations Management_"
          },
          "metadata": {}
        },
        {
          "output_type": "display_data",
          "data": {
            "text/plain": [
              "<IPython.core.display.Markdown object>"
            ],
            "text/markdown": "**Instuctor**: _Andrew Fraher_"
          },
          "metadata": {}
        },
        {
          "output_type": "display_data",
          "data": {
            "text/plain": [
              "<IPython.core.display.Markdown object>"
            ],
            "text/markdown": "**Relevance**: _0.4425065175040369_"
          },
          "metadata": {}
        },
        {
          "output_type": "display_data",
          "data": {
            "text/plain": [
              "<IPython.core.display.Markdown object>"
            ],
            "text/markdown": "**V Relevance**: _0.4425065175040369_"
          },
          "metadata": {}
        },
        {
          "output_type": "display_data",
          "data": {
            "text/plain": [
              "<IPython.core.display.Markdown object>"
            ],
            "text/markdown": "### <font color=\"#699\">DSBA-6208-Operations-Management-Fall-2024-Andy-Fraher.pdf.C0003</font>"
          },
          "metadata": {}
        },
        {
          "output_type": "display_data",
          "data": {
            "text/plain": [
              "<IPython.core.display.Markdown object>"
            ],
            "text/markdown": "**DSBA 6208**: _Operations Management_"
          },
          "metadata": {}
        },
        {
          "output_type": "display_data",
          "data": {
            "text/plain": [
              "<IPython.core.display.Markdown object>"
            ],
            "text/markdown": "**Instuctor**: _Andrew Fraher_"
          },
          "metadata": {}
        },
        {
          "output_type": "display_data",
          "data": {
            "text/plain": [
              "<IPython.core.display.Markdown object>"
            ],
            "text/markdown": "**Relevance**: _0.4211526616947344_"
          },
          "metadata": {}
        },
        {
          "output_type": "display_data",
          "data": {
            "text/plain": [
              "<IPython.core.display.Markdown object>"
            ],
            "text/markdown": "**V Relevance**: _0.4211526616947344_"
          },
          "metadata": {}
        },
        {
          "output_type": "display_data",
          "data": {
            "text/plain": [
              "<IPython.core.display.Markdown object>"
            ],
            "text/markdown": "### <font color=\"#699\">DSBA6122-U90-2023Spring.pdf.C0001</font>"
          },
          "metadata": {}
        },
        {
          "output_type": "display_data",
          "data": {
            "text/plain": [
              "<IPython.core.display.Markdown object>"
            ],
            "text/markdown": "**DSBA 6122**: _Decision Modeling and Analysis_"
          },
          "metadata": {}
        },
        {
          "output_type": "display_data",
          "data": {
            "text/plain": [
              "<IPython.core.display.Markdown object>"
            ],
            "text/markdown": "**Instuctor**: _Xiuli He_"
          },
          "metadata": {}
        },
        {
          "output_type": "display_data",
          "data": {
            "text/plain": [
              "<IPython.core.display.Markdown object>"
            ],
            "text/markdown": "**Relevance**: _0.4187699997104566_"
          },
          "metadata": {}
        },
        {
          "output_type": "display_data",
          "data": {
            "text/plain": [
              "<IPython.core.display.Markdown object>"
            ],
            "text/markdown": "**V Relevance**: _0.4187699997104566_"
          },
          "metadata": {}
        },
        {
          "output_type": "display_data",
          "data": {
            "text/plain": [
              "<IPython.core.display.Markdown object>"
            ],
            "text/markdown": "### <font color=\"#699\">DSBA 6010 Applied Computer Vision – Rick Chakra.C0002</font>"
          },
          "metadata": {}
        },
        {
          "output_type": "display_data",
          "data": {
            "text/plain": [
              "<IPython.core.display.Markdown object>"
            ],
            "text/markdown": "**DSBA 6010**: _Applied Computer Vision_"
          },
          "metadata": {}
        },
        {
          "output_type": "display_data",
          "data": {
            "text/plain": [
              "<IPython.core.display.Markdown object>"
            ],
            "text/markdown": "**Instuctor**: _Rick Chakra_"
          },
          "metadata": {}
        },
        {
          "output_type": "display_data",
          "data": {
            "text/plain": [
              "<IPython.core.display.Markdown object>"
            ],
            "text/markdown": "**Relevance**: _0.41586436308653296_"
          },
          "metadata": {}
        },
        {
          "output_type": "display_data",
          "data": {
            "text/plain": [
              "<IPython.core.display.Markdown object>"
            ],
            "text/markdown": "**V Relevance**: _0.41586436308653296_"
          },
          "metadata": {}
        },
        {
          "output_type": "display_data",
          "data": {
            "text/plain": [
              "<IPython.core.display.Markdown object>"
            ],
            "text/markdown": "### <font color=\"#699\">DSBA-6010-Fall-2024-Steven-Jordan.pdf</font>"
          },
          "metadata": {}
        },
        {
          "output_type": "display_data",
          "data": {
            "text/plain": [
              "<IPython.core.display.Markdown object>"
            ],
            "text/markdown": "**DSBA 6010**: _Special Topics: Building & Leading Data Organizations_"
          },
          "metadata": {}
        },
        {
          "output_type": "display_data",
          "data": {
            "text/plain": [
              "<IPython.core.display.Markdown object>"
            ],
            "text/markdown": "**Instuctor**: _Steven Jordan_"
          },
          "metadata": {}
        },
        {
          "output_type": "display_data",
          "data": {
            "text/plain": [
              "<IPython.core.display.Markdown object>"
            ],
            "text/markdown": "**Relevance**: _0.3782643634324453_"
          },
          "metadata": {}
        },
        {
          "output_type": "display_data",
          "data": {
            "text/plain": [
              "<IPython.core.display.Markdown object>"
            ],
            "text/markdown": "**I Relevance**: _0.3782643634324453_"
          },
          "metadata": {}
        },
        {
          "output_type": "display_data",
          "data": {
            "text/plain": [
              "<IPython.core.display.Markdown object>"
            ],
            "text/markdown": "### <font color=\"#699\">DSBA-6188-Text-Mining-and-Information-Retrieval-Fall-2024-Depeng-Xu.pdf</font>"
          },
          "metadata": {}
        },
        {
          "output_type": "display_data",
          "data": {
            "text/plain": [
              "<IPython.core.display.Markdown object>"
            ],
            "text/markdown": "**DSBA 6188**: _Text Mining and Information Retrieval_"
          },
          "metadata": {}
        },
        {
          "output_type": "display_data",
          "data": {
            "text/plain": [
              "<IPython.core.display.Markdown object>"
            ],
            "text/markdown": "**Instuctor**: _Depeng Zu_"
          },
          "metadata": {}
        },
        {
          "output_type": "display_data",
          "data": {
            "text/plain": [
              "<IPython.core.display.Markdown object>"
            ],
            "text/markdown": "**Relevance**: _0.35101895008650164_"
          },
          "metadata": {}
        },
        {
          "output_type": "display_data",
          "data": {
            "text/plain": [
              "<IPython.core.display.Markdown object>"
            ],
            "text/markdown": "**I Relevance**: _0.35101895008650164_"
          },
          "metadata": {}
        },
        {
          "output_type": "display_data",
          "data": {
            "text/plain": [
              "<IPython.core.display.Markdown object>"
            ],
            "text/markdown": "### <font color=\"#699\">DSBA6188_Syllabus_Spring2023_Niu – Xi (Sunshine) Niu.pdf</font>"
          },
          "metadata": {}
        },
        {
          "output_type": "display_data",
          "data": {
            "text/plain": [
              "<IPython.core.display.Markdown object>"
            ],
            "text/markdown": "**DSBA 6188**: _Text Mining and Information Retrieval_"
          },
          "metadata": {}
        },
        {
          "output_type": "display_data",
          "data": {
            "text/plain": [
              "<IPython.core.display.Markdown object>"
            ],
            "text/markdown": "**Instuctor**: _Xi (Sunshine) Niu_"
          },
          "metadata": {}
        },
        {
          "output_type": "display_data",
          "data": {
            "text/plain": [
              "<IPython.core.display.Markdown object>"
            ],
            "text/markdown": "**Relevance**: _0.35101895008650164_"
          },
          "metadata": {}
        },
        {
          "output_type": "display_data",
          "data": {
            "text/plain": [
              "<IPython.core.display.Markdown object>"
            ],
            "text/markdown": "**I Relevance**: _0.35101895008650164_"
          },
          "metadata": {}
        },
        {
          "output_type": "display_data",
          "data": {
            "text/plain": [
              "<IPython.core.display.Markdown object>"
            ],
            "text/markdown": "### <font color=\"#699\">DSBA-6010-Model-Risk-Management-Fal</font>"
          },
          "metadata": {}
        },
        {
          "output_type": "display_data",
          "data": {
            "text/plain": [
              "<IPython.core.display.Markdown object>"
            ],
            "text/markdown": "**DSBA 6010**: _Special Topic: Model Risk Management_"
          },
          "metadata": {}
        },
        {
          "output_type": "display_data",
          "data": {
            "text/plain": [
              "<IPython.core.display.Markdown object>"
            ],
            "text/markdown": "**Instuctor**: _Robert Fox_"
          },
          "metadata": {}
        },
        {
          "output_type": "display_data",
          "data": {
            "text/plain": [
              "<IPython.core.display.Markdown object>"
            ],
            "text/markdown": "**Relevance**: _0.289341777475865_"
          },
          "metadata": {}
        },
        {
          "output_type": "display_data",
          "data": {
            "text/plain": [
              "<IPython.core.display.Markdown object>"
            ],
            "text/markdown": "**I Relevance**: _0.289341777475865_"
          },
          "metadata": {}
        },
        {
          "output_type": "display_data",
          "data": {
            "text/plain": [
              "<IPython.core.display.Markdown object>"
            ],
            "text/markdown": "### <font color=\"#699\">Damien_Patrick_Williams_-_DSBA_6010_-_26287 – Damien Williams.pdf</font>"
          },
          "metadata": {}
        },
        {
          "output_type": "display_data",
          "data": {
            "text/plain": [
              "<IPython.core.display.Markdown object>"
            ],
            "text/markdown": "**DSBA 6010**: _Disability, Technology, & Artificial Intelligence_"
          },
          "metadata": {}
        },
        {
          "output_type": "display_data",
          "data": {
            "text/plain": [
              "<IPython.core.display.Markdown object>"
            ],
            "text/markdown": "**Instuctor**: _Damien Williams_"
          },
          "metadata": {}
        },
        {
          "output_type": "display_data",
          "data": {
            "text/plain": [
              "<IPython.core.display.Markdown object>"
            ],
            "text/markdown": "**Relevance**: _0.25032653235857455_"
          },
          "metadata": {}
        },
        {
          "output_type": "display_data",
          "data": {
            "text/plain": [
              "<IPython.core.display.Markdown object>"
            ],
            "text/markdown": "**I Relevance**: _0.25032653235857455_"
          },
          "metadata": {}
        },
        {
          "output_type": "display_data",
          "data": {
            "text/plain": [
              "<IPython.core.display.Markdown object>"
            ],
            "text/markdown": "### <font color=\"#699\">DSBA-6010-Applications-of-Large-Language-Models-Fall-2024-Ryan-Wesslen.pdf</font>"
          },
          "metadata": {}
        },
        {
          "output_type": "display_data",
          "data": {
            "text/plain": [
              "<IPython.core.display.Markdown object>"
            ],
            "text/markdown": "**DSBA 6010**: _Applications of Large Language Models_"
          },
          "metadata": {}
        },
        {
          "output_type": "display_data",
          "data": {
            "text/plain": [
              "<IPython.core.display.Markdown object>"
            ],
            "text/markdown": "**Instuctor**: _Ryan Wesslen_"
          },
          "metadata": {}
        },
        {
          "output_type": "display_data",
          "data": {
            "text/plain": [
              "<IPython.core.display.Markdown object>"
            ],
            "text/markdown": "**Relevance**: _0.24853119899123102_"
          },
          "metadata": {}
        },
        {
          "output_type": "display_data",
          "data": {
            "text/plain": [
              "<IPython.core.display.Markdown object>"
            ],
            "text/markdown": "**I Relevance**: _0.24853119899123102_"
          },
          "metadata": {}
        },
        {
          "output_type": "display_data",
          "data": {
            "text/plain": [
              "<IPython.core.display.Markdown object>"
            ],
            "text/markdown": "### <font color=\"#699\">DSBA6010-GEOG6030 Syllabus SP 2023 v30 – Jean-Claude Thill.pdf</font>"
          },
          "metadata": {}
        },
        {
          "output_type": "display_data",
          "data": {
            "text/plain": [
              "<IPython.core.display.Markdown object>"
            ],
            "text/markdown": "**DSBA 6010**: _Geospatial Data Analytics_"
          },
          "metadata": {}
        },
        {
          "output_type": "display_data",
          "data": {
            "text/plain": [
              "<IPython.core.display.Markdown object>"
            ],
            "text/markdown": "**Instuctor**: _Jean Claude Thill_"
          },
          "metadata": {}
        },
        {
          "output_type": "display_data",
          "data": {
            "text/plain": [
              "<IPython.core.display.Markdown object>"
            ],
            "text/markdown": "**Relevance**: _0.2440761290126638_"
          },
          "metadata": {}
        },
        {
          "output_type": "display_data",
          "data": {
            "text/plain": [
              "<IPython.core.display.Markdown object>"
            ],
            "text/markdown": "**I Relevance**: _0.2440761290126638_"
          },
          "metadata": {}
        },
        {
          "output_type": "display_data",
          "data": {
            "text/plain": [
              "<IPython.core.display.Markdown object>"
            ],
            "text/markdown": "# <font color='#966'>IF I am taking DSBA 6010 the LLM Course please compare impact of adding DSBA 6190 vs DSBA 6188 in how it might round out my preparedness for industry including potential overlap</font>"
          },
          "metadata": {}
        },
        {
          "output_type": "display_data",
          "data": {
            "text/plain": [
              "<IPython.core.display.Markdown object>"
            ],
            "text/markdown": "<font color='#44a'>**Sending**: _IF I am taking DSBA 6010 the LLM Course please compare impact of adding DSBA 6190 vs DSBA 6188 in how it might round out my preparedness for industry including potential overlap_</font>"
          },
          "metadata": {}
        },
        {
          "output_type": "display_data",
          "data": {
            "text/plain": [
              "<IPython.core.display.Markdown object>"
            ],
            "text/markdown": "## Answer"
          },
          "metadata": {}
        },
        {
          "output_type": "display_data",
          "data": {
            "text/plain": [
              "<IPython.core.display.Markdown object>"
            ],
            "text/markdown": "When considering the addition of either **DSBA 6190 (Cloud Computing for Data Analysis)** or **DSBA 6188 (Text Mining and Information Retrieval)** to your ongoing DSBA 6010 LLM course, it’s essential to evaluate how each course aligns with industry needs and how they might enhance your preparedness for data science roles.\n\n### DSBA 6190 - Cloud Computing for Data Analysis:\n1. **Focus on Scalable Solutions**: This course deals with the architecture needed to handle big data. It covers cloud technologies, data lakes, and distributed computing, all crucial for modern data analysis, especially in environments dealing with large datasets.\n2. **Hands-On Implementation**: The course involves practical labs that enable students to engage with real-world cloud resources and models, including practical applications of machine learning in cloud environments.\n3. **Industry Relevance**: Many companies are shifting to cloud-based data solutions for efficiency and scalability. Knowledge gained here is directly applicable in positions requiring data engineering and analytics in cloud environments.\n\n**Overlap with DSBA 6010**: Since DSBA 6010 focuses on advanced analytics and predictive modeling, DSBA 6190 complements it by providing the underlying infrastructure and deployment techniques necessary for scaling these models in production environments.\n\n### DSBA 6188 - Text Mining and Information Retrieval:\n1. **Focus on Natural Language Processing (NLP)**: This course dives into techniques for extracting information from text data, including word association mining, topic modeling, and classification. Given the explosion of unstructured text data, these skills are highly sought after.\n2. **Practical Applications**: You will engage with Python coding to implement various NLP techniques, making it practical for those looking to enter fields where text analytics is crucial, such as marketing analysis, customer feedback interpretation, and social media sentiment analysis.\n3. **Growing Field**: With the rise of AI technologies and chatbots, expertise in text mining aligns well with current job market trends - especially valuable in businesses seeking to leverage customer interactions through textual data.\n\n**Overlap with DSBA 6010**: Both courses involve data analysis, but DSBA 6188 specifically zeroes in on unstructured data, adding depth to your analytical skill set in the realm of natural language processing, directly linking with LLMs due to their text data handling capabilities.\n\n### Conclusion:\nChoosing between **DSBA 6190** and **DSBA 6188** depends on your career aspirations:\n\n- If you're looking to work more with structured data management on cloud platforms or you are interested in data engineering roles, **DSBA 6190** is the better fit.\n- If your goal is to leverage floating text data for sentiment analysis, chatbots, or any application where natural language processing is key, **DSBA 6188** would add significant value to your skill set.\n\nUltimately, both courses significantly enhance your readiness for industry roles, with contextual strengths in different trades of data science. Balancing them based on your career path insights will maximize your academic and professional outcomes."
          },
          "metadata": {}
        },
        {
          "output_type": "display_data",
          "data": {
            "text/plain": [
              "<IPython.core.display.Markdown object>"
            ],
            "text/markdown": "## Retrieval"
          },
          "metadata": {}
        },
        {
          "output_type": "stream",
          "name": "stdout",
          "text": [
            "{\n",
            "  \"request\": \"Compare the impact of adding DSBA 6190 vs DSBA 6188 on my preparedness for the industry while taking DSBA 6010, including potential overlap.\",\n",
            "  \"semantic_phrase\": \"impact of DSBA 6190 vs DSBA 6188 on industry preparedness\",\n",
            "  \"search_words\": [\n",
            "    \"DSBA 6010\",\n",
            "    \"DSBA 6190\",\n",
            "    \"DSBA 6188\",\n",
            "    \"course comparison\",\n",
            "    \"preparedness for industry\"\n",
            "  ],\n",
            "  \"metadata_fields\": {\n",
            "    \"instructor\": [],\n",
            "    \"course_number\": [],\n",
            "    \"course_title\": []\n",
            "  }\n",
            "}\n"
          ]
        },
        {
          "output_type": "display_data",
          "data": {
            "text/plain": [
              "<IPython.core.display.Markdown object>"
            ],
            "text/markdown": "## Sources"
          },
          "metadata": {}
        },
        {
          "output_type": "display_data",
          "data": {
            "text/plain": [
              "<IPython.core.display.Markdown object>"
            ],
            "text/markdown": "### <font color=\"#699\">DSBA-6190-Cloud-Computing-for-Data-Analysis-Fall-2024-Colby-Ford.pdf</font>"
          },
          "metadata": {}
        },
        {
          "output_type": "display_data",
          "data": {
            "text/plain": [
              "<IPython.core.display.Markdown object>"
            ],
            "text/markdown": "**DSBA 6190**: _Cloud Computing for Data Analysis_"
          },
          "metadata": {}
        },
        {
          "output_type": "display_data",
          "data": {
            "text/plain": [
              "<IPython.core.display.Markdown object>"
            ],
            "text/markdown": "**Instuctor**: _Colby Ford_"
          },
          "metadata": {}
        },
        {
          "output_type": "display_data",
          "data": {
            "text/plain": [
              "<IPython.core.display.Markdown object>"
            ],
            "text/markdown": "**Relevance**: _0.4573425095132829_"
          },
          "metadata": {}
        },
        {
          "output_type": "display_data",
          "data": {
            "text/plain": [
              "<IPython.core.display.Markdown object>"
            ],
            "text/markdown": "**I Relevance**: _0.4573425095132829_"
          },
          "metadata": {}
        },
        {
          "output_type": "display_data",
          "data": {
            "text/plain": [
              "<IPython.core.display.Markdown object>"
            ],
            "text/markdown": "### <font color=\"#699\">DSBA-6190_Syllabus_Spring2023 – Colby Ford.pdf</font>"
          },
          "metadata": {}
        },
        {
          "output_type": "display_data",
          "data": {
            "text/plain": [
              "<IPython.core.display.Markdown object>"
            ],
            "text/markdown": "**DSBA 6190**: _Cloud Computing for Data Analysis_"
          },
          "metadata": {}
        },
        {
          "output_type": "display_data",
          "data": {
            "text/plain": [
              "<IPython.core.display.Markdown object>"
            ],
            "text/markdown": "**Instuctor**: _Colby Ford_"
          },
          "metadata": {}
        },
        {
          "output_type": "display_data",
          "data": {
            "text/plain": [
              "<IPython.core.display.Markdown object>"
            ],
            "text/markdown": "**Relevance**: _0.45315027594872215_"
          },
          "metadata": {}
        },
        {
          "output_type": "display_data",
          "data": {
            "text/plain": [
              "<IPython.core.display.Markdown object>"
            ],
            "text/markdown": "**I Relevance**: _0.45315027594872215_"
          },
          "metadata": {}
        },
        {
          "output_type": "display_data",
          "data": {
            "text/plain": [
              "<IPython.core.display.Markdown object>"
            ],
            "text/markdown": "### <font color=\"#699\">DSBA-6208-Operations-Management-Fall-2024-Andy-Fraher.pdf.C0004</font>"
          },
          "metadata": {}
        },
        {
          "output_type": "display_data",
          "data": {
            "text/plain": [
              "<IPython.core.display.Markdown object>"
            ],
            "text/markdown": "**DSBA 6208**: _Operations Management_"
          },
          "metadata": {}
        },
        {
          "output_type": "display_data",
          "data": {
            "text/plain": [
              "<IPython.core.display.Markdown object>"
            ],
            "text/markdown": "**Instuctor**: _Andrew Fraher_"
          },
          "metadata": {}
        },
        {
          "output_type": "display_data",
          "data": {
            "text/plain": [
              "<IPython.core.display.Markdown object>"
            ],
            "text/markdown": "**Relevance**: _0.449599468494891_"
          },
          "metadata": {}
        },
        {
          "output_type": "display_data",
          "data": {
            "text/plain": [
              "<IPython.core.display.Markdown object>"
            ],
            "text/markdown": "**V Relevance**: _0.449599468494891_"
          },
          "metadata": {}
        },
        {
          "output_type": "display_data",
          "data": {
            "text/plain": [
              "<IPython.core.display.Markdown object>"
            ],
            "text/markdown": "### <font color=\"#699\">DSBA 6162 – Zbyszek Ras.pdf.C0001</font>"
          },
          "metadata": {}
        },
        {
          "output_type": "display_data",
          "data": {
            "text/plain": [
              "<IPython.core.display.Markdown object>"
            ],
            "text/markdown": "**DSBA 6162**: _Knowledge Discovery in Databases_"
          },
          "metadata": {}
        },
        {
          "output_type": "display_data",
          "data": {
            "text/plain": [
              "<IPython.core.display.Markdown object>"
            ],
            "text/markdown": "**Instuctor**: _Zybszek Ras_"
          },
          "metadata": {}
        },
        {
          "output_type": "display_data",
          "data": {
            "text/plain": [
              "<IPython.core.display.Markdown object>"
            ],
            "text/markdown": "**Relevance**: _0.4493354008691342_"
          },
          "metadata": {}
        },
        {
          "output_type": "display_data",
          "data": {
            "text/plain": [
              "<IPython.core.display.Markdown object>"
            ],
            "text/markdown": "**V Relevance**: _0.4493354008691342_"
          },
          "metadata": {}
        },
        {
          "output_type": "display_data",
          "data": {
            "text/plain": [
              "<IPython.core.display.Markdown object>"
            ],
            "text/markdown": "### <font color=\"#699\">DSBA-6208-Operations-Management-Fall-2024-Andy-Fraher.pdf.C0003</font>"
          },
          "metadata": {}
        },
        {
          "output_type": "display_data",
          "data": {
            "text/plain": [
              "<IPython.core.display.Markdown object>"
            ],
            "text/markdown": "**DSBA 6208**: _Operations Management_"
          },
          "metadata": {}
        },
        {
          "output_type": "display_data",
          "data": {
            "text/plain": [
              "<IPython.core.display.Markdown object>"
            ],
            "text/markdown": "**Instuctor**: _Andrew Fraher_"
          },
          "metadata": {}
        },
        {
          "output_type": "display_data",
          "data": {
            "text/plain": [
              "<IPython.core.display.Markdown object>"
            ],
            "text/markdown": "**Relevance**: _0.42718752743569377_"
          },
          "metadata": {}
        },
        {
          "output_type": "display_data",
          "data": {
            "text/plain": [
              "<IPython.core.display.Markdown object>"
            ],
            "text/markdown": "**V Relevance**: _0.42718752743569377_"
          },
          "metadata": {}
        },
        {
          "output_type": "display_data",
          "data": {
            "text/plain": [
              "<IPython.core.display.Markdown object>"
            ],
            "text/markdown": "### <font color=\"#699\">DSBA 6010 Applied Computer Vision – Rick Chakra.C0002</font>"
          },
          "metadata": {}
        },
        {
          "output_type": "display_data",
          "data": {
            "text/plain": [
              "<IPython.core.display.Markdown object>"
            ],
            "text/markdown": "**DSBA 6010**: _Applied Computer Vision_"
          },
          "metadata": {}
        },
        {
          "output_type": "display_data",
          "data": {
            "text/plain": [
              "<IPython.core.display.Markdown object>"
            ],
            "text/markdown": "**Instuctor**: _Rick Chakra_"
          },
          "metadata": {}
        },
        {
          "output_type": "display_data",
          "data": {
            "text/plain": [
              "<IPython.core.display.Markdown object>"
            ],
            "text/markdown": "**Relevance**: _0.4214196482365534_"
          },
          "metadata": {}
        },
        {
          "output_type": "display_data",
          "data": {
            "text/plain": [
              "<IPython.core.display.Markdown object>"
            ],
            "text/markdown": "**V Relevance**: _0.4214196482365534_"
          },
          "metadata": {}
        },
        {
          "output_type": "display_data",
          "data": {
            "text/plain": [
              "<IPython.core.display.Markdown object>"
            ],
            "text/markdown": "### <font color=\"#699\">DSBA6122-U90-2023Spring.pdf.C0001</font>"
          },
          "metadata": {}
        },
        {
          "output_type": "display_data",
          "data": {
            "text/plain": [
              "<IPython.core.display.Markdown object>"
            ],
            "text/markdown": "**DSBA 6122**: _Decision Modeling and Analysis_"
          },
          "metadata": {}
        },
        {
          "output_type": "display_data",
          "data": {
            "text/plain": [
              "<IPython.core.display.Markdown object>"
            ],
            "text/markdown": "**Instuctor**: _Xiuli He_"
          },
          "metadata": {}
        },
        {
          "output_type": "display_data",
          "data": {
            "text/plain": [
              "<IPython.core.display.Markdown object>"
            ],
            "text/markdown": "**Relevance**: _0.4214071789356693_"
          },
          "metadata": {}
        },
        {
          "output_type": "display_data",
          "data": {
            "text/plain": [
              "<IPython.core.display.Markdown object>"
            ],
            "text/markdown": "**V Relevance**: _0.4214071789356693_"
          },
          "metadata": {}
        },
        {
          "output_type": "display_data",
          "data": {
            "text/plain": [
              "<IPython.core.display.Markdown object>"
            ],
            "text/markdown": "### <font color=\"#699\">DSBA 6010 Applied Computer Vision – Rick Chakra</font>"
          },
          "metadata": {}
        },
        {
          "output_type": "display_data",
          "data": {
            "text/plain": [
              "<IPython.core.display.Markdown object>"
            ],
            "text/markdown": "**DSBA 6010**: _Applied Computer Vision_"
          },
          "metadata": {}
        },
        {
          "output_type": "display_data",
          "data": {
            "text/plain": [
              "<IPython.core.display.Markdown object>"
            ],
            "text/markdown": "**Instuctor**: _Rick Chakra_"
          },
          "metadata": {}
        },
        {
          "output_type": "display_data",
          "data": {
            "text/plain": [
              "<IPython.core.display.Markdown object>"
            ],
            "text/markdown": "**Relevance**: _0.4101017162593575_"
          },
          "metadata": {}
        },
        {
          "output_type": "display_data",
          "data": {
            "text/plain": [
              "<IPython.core.display.Markdown object>"
            ],
            "text/markdown": "**I Relevance**: _0.4101017162593575_"
          },
          "metadata": {}
        },
        {
          "output_type": "display_data",
          "data": {
            "text/plain": [
              "<IPython.core.display.Markdown object>"
            ],
            "text/markdown": "### <font color=\"#699\">DSBA-6188-Text-Mining-and-Information-Retrieval-Fall-2024-Depeng-Xu.pdf</font>"
          },
          "metadata": {}
        },
        {
          "output_type": "display_data",
          "data": {
            "text/plain": [
              "<IPython.core.display.Markdown object>"
            ],
            "text/markdown": "**DSBA 6188**: _Text Mining and Information Retrieval_"
          },
          "metadata": {}
        },
        {
          "output_type": "display_data",
          "data": {
            "text/plain": [
              "<IPython.core.display.Markdown object>"
            ],
            "text/markdown": "**Instuctor**: _Depeng Zu_"
          },
          "metadata": {}
        },
        {
          "output_type": "display_data",
          "data": {
            "text/plain": [
              "<IPython.core.display.Markdown object>"
            ],
            "text/markdown": "**Relevance**: _0.3010189500865016_"
          },
          "metadata": {}
        },
        {
          "output_type": "display_data",
          "data": {
            "text/plain": [
              "<IPython.core.display.Markdown object>"
            ],
            "text/markdown": "**I Relevance**: _0.3010189500865016_"
          },
          "metadata": {}
        },
        {
          "output_type": "display_data",
          "data": {
            "text/plain": [
              "<IPython.core.display.Markdown object>"
            ],
            "text/markdown": "### <font color=\"#699\">DSBA6188_Syllabus_Spring2023_Niu – Xi (Sunshine) Niu.pdf</font>"
          },
          "metadata": {}
        },
        {
          "output_type": "display_data",
          "data": {
            "text/plain": [
              "<IPython.core.display.Markdown object>"
            ],
            "text/markdown": "**DSBA 6188**: _Text Mining and Information Retrieval_"
          },
          "metadata": {}
        },
        {
          "output_type": "display_data",
          "data": {
            "text/plain": [
              "<IPython.core.display.Markdown object>"
            ],
            "text/markdown": "**Instuctor**: _Xi (Sunshine) Niu_"
          },
          "metadata": {}
        },
        {
          "output_type": "display_data",
          "data": {
            "text/plain": [
              "<IPython.core.display.Markdown object>"
            ],
            "text/markdown": "**Relevance**: _0.3010189500865016_"
          },
          "metadata": {}
        },
        {
          "output_type": "display_data",
          "data": {
            "text/plain": [
              "<IPython.core.display.Markdown object>"
            ],
            "text/markdown": "**I Relevance**: _0.3010189500865016_"
          },
          "metadata": {}
        },
        {
          "output_type": "display_data",
          "data": {
            "text/plain": [
              "<IPython.core.display.Markdown object>"
            ],
            "text/markdown": "### <font color=\"#699\">DSBA-6010-Model-Risk-Management-Fal</font>"
          },
          "metadata": {}
        },
        {
          "output_type": "display_data",
          "data": {
            "text/plain": [
              "<IPython.core.display.Markdown object>"
            ],
            "text/markdown": "**DSBA 6010**: _Special Topic: Model Risk Management_"
          },
          "metadata": {}
        },
        {
          "output_type": "display_data",
          "data": {
            "text/plain": [
              "<IPython.core.display.Markdown object>"
            ],
            "text/markdown": "**Instuctor**: _Robert Fox_"
          },
          "metadata": {}
        },
        {
          "output_type": "display_data",
          "data": {
            "text/plain": [
              "<IPython.core.display.Markdown object>"
            ],
            "text/markdown": "**Relevance**: _0.239341777475865_"
          },
          "metadata": {}
        },
        {
          "output_type": "display_data",
          "data": {
            "text/plain": [
              "<IPython.core.display.Markdown object>"
            ],
            "text/markdown": "**I Relevance**: _0.239341777475865_"
          },
          "metadata": {}
        },
        {
          "output_type": "display_data",
          "data": {
            "text/plain": [
              "<IPython.core.display.Markdown object>"
            ],
            "text/markdown": "### <font color=\"#699\">Damien_Patrick_Williams_-_DSBA_6010_-_26287 – Damien Williams.pdf</font>"
          },
          "metadata": {}
        },
        {
          "output_type": "display_data",
          "data": {
            "text/plain": [
              "<IPython.core.display.Markdown object>"
            ],
            "text/markdown": "**DSBA 6010**: _Disability, Technology, & Artificial Intelligence_"
          },
          "metadata": {}
        },
        {
          "output_type": "display_data",
          "data": {
            "text/plain": [
              "<IPython.core.display.Markdown object>"
            ],
            "text/markdown": "**Instuctor**: _Damien Williams_"
          },
          "metadata": {}
        },
        {
          "output_type": "display_data",
          "data": {
            "text/plain": [
              "<IPython.core.display.Markdown object>"
            ],
            "text/markdown": "**Relevance**: _0.20032653235857456_"
          },
          "metadata": {}
        },
        {
          "output_type": "display_data",
          "data": {
            "text/plain": [
              "<IPython.core.display.Markdown object>"
            ],
            "text/markdown": "**I Relevance**: _0.20032653235857456_"
          },
          "metadata": {}
        },
        {
          "output_type": "display_data",
          "data": {
            "text/plain": [
              "<IPython.core.display.Markdown object>"
            ],
            "text/markdown": "### <font color=\"#699\">DSBA-6010-Applications-of-Large-Language-Models-Fall-2024-Ryan-Wesslen.pdf</font>"
          },
          "metadata": {}
        },
        {
          "output_type": "display_data",
          "data": {
            "text/plain": [
              "<IPython.core.display.Markdown object>"
            ],
            "text/markdown": "**DSBA 6010**: _Applications of Large Language Models_"
          },
          "metadata": {}
        },
        {
          "output_type": "display_data",
          "data": {
            "text/plain": [
              "<IPython.core.display.Markdown object>"
            ],
            "text/markdown": "**Instuctor**: _Ryan Wesslen_"
          },
          "metadata": {}
        },
        {
          "output_type": "display_data",
          "data": {
            "text/plain": [
              "<IPython.core.display.Markdown object>"
            ],
            "text/markdown": "**Relevance**: _0.198531198991231_"
          },
          "metadata": {}
        },
        {
          "output_type": "display_data",
          "data": {
            "text/plain": [
              "<IPython.core.display.Markdown object>"
            ],
            "text/markdown": "**I Relevance**: _0.198531198991231_"
          },
          "metadata": {}
        },
        {
          "output_type": "display_data",
          "data": {
            "text/plain": [
              "<IPython.core.display.Markdown object>"
            ],
            "text/markdown": "### <font color=\"#699\">DSBA6010-GEOG6030 Syllabus SP 2023 v30 – Jean-Claude Thill.pdf</font>"
          },
          "metadata": {}
        },
        {
          "output_type": "display_data",
          "data": {
            "text/plain": [
              "<IPython.core.display.Markdown object>"
            ],
            "text/markdown": "**DSBA 6010**: _Geospatial Data Analytics_"
          },
          "metadata": {}
        },
        {
          "output_type": "display_data",
          "data": {
            "text/plain": [
              "<IPython.core.display.Markdown object>"
            ],
            "text/markdown": "**Instuctor**: _Jean Claude Thill_"
          },
          "metadata": {}
        },
        {
          "output_type": "display_data",
          "data": {
            "text/plain": [
              "<IPython.core.display.Markdown object>"
            ],
            "text/markdown": "**Relevance**: _0.1940761290126638_"
          },
          "metadata": {}
        },
        {
          "output_type": "display_data",
          "data": {
            "text/plain": [
              "<IPython.core.display.Markdown object>"
            ],
            "text/markdown": "**I Relevance**: _0.1940761290126638_"
          },
          "metadata": {}
        },
        {
          "output_type": "display_data",
          "data": {
            "text/plain": [
              "<IPython.core.display.Markdown object>"
            ],
            "text/markdown": "### <font color=\"#699\">DSBA-6010-Fall-2024-Steven-Jordan.pdf</font>"
          },
          "metadata": {}
        },
        {
          "output_type": "display_data",
          "data": {
            "text/plain": [
              "<IPython.core.display.Markdown object>"
            ],
            "text/markdown": "**DSBA 6010**: _Special Topics: Building & Leading Data Organizations_"
          },
          "metadata": {}
        },
        {
          "output_type": "display_data",
          "data": {
            "text/plain": [
              "<IPython.core.display.Markdown object>"
            ],
            "text/markdown": "**Instuctor**: _Steven Jordan_"
          },
          "metadata": {}
        },
        {
          "output_type": "display_data",
          "data": {
            "text/plain": [
              "<IPython.core.display.Markdown object>"
            ],
            "text/markdown": "**Relevance**: _0.1780510975336301_"
          },
          "metadata": {}
        },
        {
          "output_type": "display_data",
          "data": {
            "text/plain": [
              "<IPython.core.display.Markdown object>"
            ],
            "text/markdown": "**I Relevance**: _0.1780510975336301_"
          },
          "metadata": {}
        },
        {
          "output_type": "display_data",
          "data": {
            "text/plain": [
              "<IPython.core.display.Markdown object>"
            ],
            "text/markdown": "# <font color='#966'>IF I am taking DSBA 6010 (Applications of Large Language Models), taught by Professor Ryan, please compare impact of adding DSBA 6190 vs DSBA 6188 in how it might round out my preparedness for industry including potential overlap</font>"
          },
          "metadata": {}
        },
        {
          "output_type": "display_data",
          "data": {
            "text/plain": [
              "<IPython.core.display.Markdown object>"
            ],
            "text/markdown": "<font color='#44a'>**Sending**: _IF I am taking DSBA 6010 (Applications of Large Language Models), taught by Professor Ryan, please compare impact of adding DSBA 6190 vs DSBA 6188 in how it might round out my preparedness for industry including potential overlap_</font>"
          },
          "metadata": {}
        },
        {
          "output_type": "display_data",
          "data": {
            "text/plain": [
              "<IPython.core.display.Markdown object>"
            ],
            "text/markdown": "## Answer"
          },
          "metadata": {}
        },
        {
          "output_type": "display_data",
          "data": {
            "text/plain": [
              "<IPython.core.display.Markdown object>"
            ],
            "text/markdown": "Taking DSBA 6010 (Applications of Large Language Models) under Professor Ryan will provide you with a solid foundation in leveraging AI technologies, particularly in natural language processing and the applications of large language models (LLMs). Now, let's compare the potential impacts of adding DSBA 6190 (Advanced Data Analytics) versus DSBA 6188 (Data Visualization and Communication) to your curriculum in terms of how each course may round out your preparedness for the industry, including any overlaps.\n\n### DSBA 6190: Advanced Data Analytics\n**Impact:**\n1. **Analytics Skills**: This course will enhance your ability to analyze and interpret complex datasets, which is crucial when working with LLMs. You will learn techniques for predictive modeling and advanced statistical methods, which can complement the understanding you gain in DSBA 6010 about data-driven applications.\n  \n2. **Integration with LLMs**: Knowledge from DSBA 6190 could improve your ability to derive insights from the outputs of LLMs, enabling you to better evaluate and implement AI-driven models in business contexts.\n\n3. **Industry Relevance**: The advanced analytics skills you acquire will make you more marketable in data-driven roles, especially those requiring expertise in machine learning and predictive analytics.\n\n**Overlap**:\n- While both courses focus on data, DSBA 6190 delves deeper into quantitative analysis, which may be a bit redundant if DSBA 6010 covers statistical elements related to LLMs.\n\n### DSBA 6188: Data Visualization and Communication\n**Impact:**\n1. **Effective Communication**: Mastering the art of data visualization will empower you to present complex model outputs (like those from LLMs) in understandable formats. This skill is particularly valuable in business settings where data storytelling is key.\n\n2. **Complementary Skills**: This course will augment your ability to communicate analytical insights effectively, making you a more versatile professional who can bridge technical findings and business strategy.\n\n3. **Use of Tools**: Learning various visualization tools will equip you with practical skills that can enhance your project presentations and reports in both DSBA 6010 and future roles.\n\n**Overlap**:\n- There may be some thematic overlap in the visualization of data results; however, DSBA 6188 would focus more on principles of effective communication and visual design rather than on the specific analytics that DSBA 6190 would tackle.\n\n### Conclusion\nBoth DSBA 6190 and DSBA 6188 will add value to your skill set, but they do so in different ways. If your main priority is to deepen technical proficiency and analytical capabilities in data interpretation, **choose DSBA 6190**. Conversely, if you want to enhance your ability to convey complex information in an accessible manner, **select DSBA 6188**.\n\nIn summary:\n- **DSBA 6190**: Better for deep analytics and preparation for roles requiring advanced data interpretation.\n- **DSBA 6188**: Ideal for honing communication skills, essential for roles that demand the ability to present data insights clearly.\n\nUltimately, the best choice depends on your career goals and the specific skills you wish to develop alongside your expertise in large language models."
          },
          "metadata": {}
        },
        {
          "output_type": "display_data",
          "data": {
            "text/plain": [
              "<IPython.core.display.Markdown object>"
            ],
            "text/markdown": "## Retrieval"
          },
          "metadata": {}
        },
        {
          "output_type": "stream",
          "name": "stdout",
          "text": [
            "{\n",
            "  \"request\": \"Compare the impact of adding DSBA 6190 vs DSBA 6188 to my DSBA 6010 course for industry preparedness and potential overlap.\",\n",
            "  \"semantic_phrase\": \"impact of DSBA 6190 vs DSBA 6188 on industry preparedness\",\n",
            "  \"search_words\": [\n",
            "    \"DSBA 6190\",\n",
            "    \"DSBA 6188\",\n",
            "    \"DSBA 6010\",\n",
            "    \"preparedness for industry\",\n",
            "    \"overlap\"\n",
            "  ],\n",
            "  \"metadata_fields\": {\n",
            "    \"instructor\": [\n",
            "      \"Ryan\"\n",
            "    ],\n",
            "    \"course_number\": [\n",
            "      \"6190\",\n",
            "      \"6188\"\n",
            "    ],\n",
            "    \"course_title\": []\n",
            "  }\n",
            "}\n"
          ]
        },
        {
          "output_type": "display_data",
          "data": {
            "text/plain": [
              "<IPython.core.display.Markdown object>"
            ],
            "text/markdown": "## Sources"
          },
          "metadata": {}
        },
        {
          "output_type": "display_data",
          "data": {
            "text/plain": [
              "<IPython.core.display.Markdown object>"
            ],
            "text/markdown": "### <font color=\"#699\">DSBA-6208-Operations-Management-Fall-2024-Andy-Fraher.pdf.C0004</font>"
          },
          "metadata": {}
        },
        {
          "output_type": "display_data",
          "data": {
            "text/plain": [
              "<IPython.core.display.Markdown object>"
            ],
            "text/markdown": "**DSBA 6208**: _Operations Management_"
          },
          "metadata": {}
        },
        {
          "output_type": "display_data",
          "data": {
            "text/plain": [
              "<IPython.core.display.Markdown object>"
            ],
            "text/markdown": "**Instuctor**: _Andrew Fraher_"
          },
          "metadata": {}
        },
        {
          "output_type": "display_data",
          "data": {
            "text/plain": [
              "<IPython.core.display.Markdown object>"
            ],
            "text/markdown": "**Relevance**: _0.4496492341588795_"
          },
          "metadata": {}
        },
        {
          "output_type": "display_data",
          "data": {
            "text/plain": [
              "<IPython.core.display.Markdown object>"
            ],
            "text/markdown": "**V Relevance**: _0.4496492341588795_"
          },
          "metadata": {}
        },
        {
          "output_type": "display_data",
          "data": {
            "text/plain": [
              "<IPython.core.display.Markdown object>"
            ],
            "text/markdown": "### <font color=\"#699\">DSBA 6162 – Zbyszek Ras.pdf.C0001</font>"
          },
          "metadata": {}
        },
        {
          "output_type": "display_data",
          "data": {
            "text/plain": [
              "<IPython.core.display.Markdown object>"
            ],
            "text/markdown": "**DSBA 6162**: _Knowledge Discovery in Databases_"
          },
          "metadata": {}
        },
        {
          "output_type": "display_data",
          "data": {
            "text/plain": [
              "<IPython.core.display.Markdown object>"
            ],
            "text/markdown": "**Instuctor**: _Zybszek Ras_"
          },
          "metadata": {}
        },
        {
          "output_type": "display_data",
          "data": {
            "text/plain": [
              "<IPython.core.display.Markdown object>"
            ],
            "text/markdown": "**Relevance**: _0.4493781508229404_"
          },
          "metadata": {}
        },
        {
          "output_type": "display_data",
          "data": {
            "text/plain": [
              "<IPython.core.display.Markdown object>"
            ],
            "text/markdown": "**V Relevance**: _0.4493781508229404_"
          },
          "metadata": {}
        },
        {
          "output_type": "display_data",
          "data": {
            "text/plain": [
              "<IPython.core.display.Markdown object>"
            ],
            "text/markdown": "### <font color=\"#699\">DSBA-6208-Operations-Management-Fall-2024-Andy-Fraher.pdf.C0003</font>"
          },
          "metadata": {}
        },
        {
          "output_type": "display_data",
          "data": {
            "text/plain": [
              "<IPython.core.display.Markdown object>"
            ],
            "text/markdown": "**DSBA 6208**: _Operations Management_"
          },
          "metadata": {}
        },
        {
          "output_type": "display_data",
          "data": {
            "text/plain": [
              "<IPython.core.display.Markdown object>"
            ],
            "text/markdown": "**Instuctor**: _Andrew Fraher_"
          },
          "metadata": {}
        },
        {
          "output_type": "display_data",
          "data": {
            "text/plain": [
              "<IPython.core.display.Markdown object>"
            ],
            "text/markdown": "**Relevance**: _0.4272244043368588_"
          },
          "metadata": {}
        },
        {
          "output_type": "display_data",
          "data": {
            "text/plain": [
              "<IPython.core.display.Markdown object>"
            ],
            "text/markdown": "**V Relevance**: _0.4272244043368588_"
          },
          "metadata": {}
        },
        {
          "output_type": "display_data",
          "data": {
            "text/plain": [
              "<IPython.core.display.Markdown object>"
            ],
            "text/markdown": "### <font color=\"#699\">DSBA 6010 Applied Computer Vision – Rick Chakra.C0002</font>"
          },
          "metadata": {}
        },
        {
          "output_type": "display_data",
          "data": {
            "text/plain": [
              "<IPython.core.display.Markdown object>"
            ],
            "text/markdown": "**DSBA 6010**: _Applied Computer Vision_"
          },
          "metadata": {}
        },
        {
          "output_type": "display_data",
          "data": {
            "text/plain": [
              "<IPython.core.display.Markdown object>"
            ],
            "text/markdown": "**Instuctor**: _Rick Chakra_"
          },
          "metadata": {}
        },
        {
          "output_type": "display_data",
          "data": {
            "text/plain": [
              "<IPython.core.display.Markdown object>"
            ],
            "text/markdown": "**Relevance**: _0.4214547525401384_"
          },
          "metadata": {}
        },
        {
          "output_type": "display_data",
          "data": {
            "text/plain": [
              "<IPython.core.display.Markdown object>"
            ],
            "text/markdown": "**V Relevance**: _0.4214547525401384_"
          },
          "metadata": {}
        },
        {
          "output_type": "display_data",
          "data": {
            "text/plain": [
              "<IPython.core.display.Markdown object>"
            ],
            "text/markdown": "### <font color=\"#699\">DSBA6122-U90-2023Spring.pdf.C0001</font>"
          },
          "metadata": {}
        },
        {
          "output_type": "display_data",
          "data": {
            "text/plain": [
              "<IPython.core.display.Markdown object>"
            ],
            "text/markdown": "**DSBA 6122**: _Decision Modeling and Analysis_"
          },
          "metadata": {}
        },
        {
          "output_type": "display_data",
          "data": {
            "text/plain": [
              "<IPython.core.display.Markdown object>"
            ],
            "text/markdown": "**Instuctor**: _Xiuli He_"
          },
          "metadata": {}
        },
        {
          "output_type": "display_data",
          "data": {
            "text/plain": [
              "<IPython.core.display.Markdown object>"
            ],
            "text/markdown": "**Relevance**: _0.42142832849112716_"
          },
          "metadata": {}
        },
        {
          "output_type": "display_data",
          "data": {
            "text/plain": [
              "<IPython.core.display.Markdown object>"
            ],
            "text/markdown": "**V Relevance**: _0.42142832849112716_"
          },
          "metadata": {}
        },
        {
          "output_type": "display_data",
          "data": {
            "text/plain": [
              "<IPython.core.display.Markdown object>"
            ],
            "text/markdown": "# <font color='#966'>IF I am taking DSBA 6010 (Applications of Large Language Models), taught by Professor Ryan, please compare impact of adding DSBA 6190 vs DSBA 6188 in how it might round out my preparedness for industry including potential overlap. Please list the topics covered in each course</font>"
          },
          "metadata": {}
        },
        {
          "output_type": "display_data",
          "data": {
            "text/plain": [
              "<IPython.core.display.Markdown object>"
            ],
            "text/markdown": "<font color='#44a'>**Sending**: _IF I am taking DSBA 6010 (Applications of Large Language Models), taught by Professor Ryan, please compare impact of adding DSBA 6190 vs DSBA 6188 in how it might round out my preparedness for industry including potential overlap. Please list the topics covered in each course_</font>"
          },
          "metadata": {}
        },
        {
          "output_type": "display_data",
          "data": {
            "text/plain": [
              "<IPython.core.display.Markdown object>"
            ],
            "text/markdown": "## Answer"
          },
          "metadata": {}
        },
        {
          "output_type": "display_data",
          "data": {
            "text/plain": [
              "<IPython.core.display.Markdown object>"
            ],
            "text/markdown": "To evaluate the impact of taking DSBA 6190 (Big Data Analytics for Competitive Advantage) versus DSBA 6188 on your preparedness for industry while enrolled in DSBA 6010 (Applications of Large Language Models), we can compare the courses in terms of content, focus, and potential overlap.\n\n### Course Content Comparison\n\n**DSBA 6010 (Applications of Large Language Models)**:\n- Focuses specifically on large language models (LLMs) and their applications.\n- Covers topics related to the functionality, development, and implications of LLMs in various domains.\n\n**DSBA 6190 - Big Data Analytics for Competitive Advantage**:\n- Introduces the use of data analytics as a strategic resource.\n- Topics include:\n  - Data sourcing and management\n  - Data wrangling, cleaning, and preparation\n  - Data visualization and exploration using tools like Tableau and Power BI\n  - Machine learning models and industry trends\n  - Text analytics\n  - Data ethics and privacy issues\n  - Real-world case studies and applications in business contexts.\n\n**DSBA 6188 (similar course not explicitly referenced in content)**:\nWhile the specific topics for DSBA 6188 are not provided, if we assume it's related to data analytics or modeling techniques relevant to business or technology settings, typical content might include:\n- Advanced analytics techniques (e.g., predictive modeling)\n- Statistical analysis methods\n- Data mining processes\n- Integrating analytics into business decision-making.\n\n### Impact on Industry Preparedness and Overlap\n\n- **DSBA 6190** provides a broader understanding of data analytics in a business context, focusing on leveraging big data for strategic advantages. Its emphasis on practical applications and tools aligns well with industry expectations, particularly for roles focusing on data-driven decision-making.\n\n- **DSBA 6188**, if it indeed intersects with advanced analytics and modeling, may complement your knowledge in areas like predictive analytics and statistical methods. This could round out your skillset for roles requiring deeper analytical capabilities, particularly in modeling and forecasting.\n\n### Overlap Considerations\n\n- **Overlap Between DSBA 6010 and DSBA 6190**: Both courses may include topics on machine learning and text analytics (especially if text mining is covered in 6190), but DSBA 6010 will dive deeper into the implications and specific architectures of LLMs.\n\n- **Overlap Between DSBA 6010 and DSBA 6188**: Depending on the focus of DSBA 6188, there might be some overlap, especially if it includes sections on data processing and machine learning. Such overlap may reinforce your understanding but could also focus more on traditional analytical methods.\n\n### Conclusion\n\nAdding **DSBA 6190** may provide you with a well-rounded view of how big data analytics integrates with language models from a business perspective, enhancing your industry preparedness especially in roles that leverage such analytics for strategic decision-making.\n\nIn contrast, **DSBA 6188** (if aligned with advanced modeling techniques) can deepen your analytical skills, potentially making you better equipped for technical roles that require a strong grounding in data modeling and analytics.\n\nUltimately, your decision might depend on whether your career goals lean more towards strategic application of analytics (favoring DSBA 6190) or technical prowess in data analysis (favoring DSBA 6188)."
          },
          "metadata": {}
        },
        {
          "output_type": "display_data",
          "data": {
            "text/plain": [
              "<IPython.core.display.Markdown object>"
            ],
            "text/markdown": "## Retrieval"
          },
          "metadata": {}
        },
        {
          "output_type": "stream",
          "name": "stdout",
          "text": [
            "{\n",
            "  \"request\": \"Compare the impact of adding DSBA 6190 vs DSBA 6188 to my coursework and list the topics covered in each course.\",\n",
            "  \"semantic_phrase\": \"Compare DSBA 6190 and DSBA 6188 for industry preparedness and course topics.\",\n",
            "  \"search_words\": [\n",
            "    \"DSBA 6190\",\n",
            "    \"DSBA 6188\",\n",
            "    \"course topics\",\n",
            "    \"industry preparedness\",\n",
            "    \"course comparison\"\n",
            "  ],\n",
            "  \"metadata_fields\": {\n",
            "    \"instructor\": [\n",
            "      \"Ryan\"\n",
            "    ],\n",
            "    \"course_number\": [\n",
            "      \"6190\",\n",
            "      \"6188\"\n",
            "    ],\n",
            "    \"course_title\": []\n",
            "  }\n",
            "}\n"
          ]
        },
        {
          "output_type": "display_data",
          "data": {
            "text/plain": [
              "<IPython.core.display.Markdown object>"
            ],
            "text/markdown": "## Sources"
          },
          "metadata": {}
        },
        {
          "output_type": "display_data",
          "data": {
            "text/plain": [
              "<IPython.core.display.Markdown object>"
            ],
            "text/markdown": "### <font color=\"#699\">DSBA 6162 – Zbyszek Ras.pdf.C0001</font>"
          },
          "metadata": {}
        },
        {
          "output_type": "display_data",
          "data": {
            "text/plain": [
              "<IPython.core.display.Markdown object>"
            ],
            "text/markdown": "**DSBA 6162**: _Knowledge Discovery in Databases_"
          },
          "metadata": {}
        },
        {
          "output_type": "display_data",
          "data": {
            "text/plain": [
              "<IPython.core.display.Markdown object>"
            ],
            "text/markdown": "**Instuctor**: _Zybszek Ras_"
          },
          "metadata": {}
        },
        {
          "output_type": "display_data",
          "data": {
            "text/plain": [
              "<IPython.core.display.Markdown object>"
            ],
            "text/markdown": "**Relevance**: _0.483869698743149_"
          },
          "metadata": {}
        },
        {
          "output_type": "display_data",
          "data": {
            "text/plain": [
              "<IPython.core.display.Markdown object>"
            ],
            "text/markdown": "**V Relevance**: _0.483869698743149_"
          },
          "metadata": {}
        },
        {
          "output_type": "display_data",
          "data": {
            "text/plain": [
              "<IPython.core.display.Markdown object>"
            ],
            "text/markdown": "### <font color=\"#699\">DSBA-6208-Operations-Management-Fall-2024-Andy-Fraher.pdf.C0004</font>"
          },
          "metadata": {}
        },
        {
          "output_type": "display_data",
          "data": {
            "text/plain": [
              "<IPython.core.display.Markdown object>"
            ],
            "text/markdown": "**DSBA 6208**: _Operations Management_"
          },
          "metadata": {}
        },
        {
          "output_type": "display_data",
          "data": {
            "text/plain": [
              "<IPython.core.display.Markdown object>"
            ],
            "text/markdown": "**Instuctor**: _Andrew Fraher_"
          },
          "metadata": {}
        },
        {
          "output_type": "display_data",
          "data": {
            "text/plain": [
              "<IPython.core.display.Markdown object>"
            ],
            "text/markdown": "**Relevance**: _0.4708287500829279_"
          },
          "metadata": {}
        },
        {
          "output_type": "display_data",
          "data": {
            "text/plain": [
              "<IPython.core.display.Markdown object>"
            ],
            "text/markdown": "**V Relevance**: _0.4708287500829279_"
          },
          "metadata": {}
        },
        {
          "output_type": "display_data",
          "data": {
            "text/plain": [
              "<IPython.core.display.Markdown object>"
            ],
            "text/markdown": "### <font color=\"#699\">DSBA6100-U90_MBAD7090-U92_Spring 2023_Blaine Nashold – Daryl Nashold.pdf.C0003</font>"
          },
          "metadata": {}
        },
        {
          "output_type": "display_data",
          "data": {
            "text/plain": [
              "<IPython.core.display.Markdown object>"
            ],
            "text/markdown": "**DSBA 6100**: _Big Data Analytics for Competitive Advantage_"
          },
          "metadata": {}
        },
        {
          "output_type": "display_data",
          "data": {
            "text/plain": [
              "<IPython.core.display.Markdown object>"
            ],
            "text/markdown": "**Instuctor**: _Daryl Nashold_"
          },
          "metadata": {}
        },
        {
          "output_type": "display_data",
          "data": {
            "text/plain": [
              "<IPython.core.display.Markdown object>"
            ],
            "text/markdown": "**Relevance**: _0.4484357632926869_"
          },
          "metadata": {}
        },
        {
          "output_type": "display_data",
          "data": {
            "text/plain": [
              "<IPython.core.display.Markdown object>"
            ],
            "text/markdown": "**V Relevance**: _0.4484357632926869_"
          },
          "metadata": {}
        },
        {
          "output_type": "display_data",
          "data": {
            "text/plain": [
              "<IPython.core.display.Markdown object>"
            ],
            "text/markdown": "### <font color=\"#699\">DSBA 6010 Applied Computer Vision – Rick Chakra.C0002</font>"
          },
          "metadata": {}
        },
        {
          "output_type": "display_data",
          "data": {
            "text/plain": [
              "<IPython.core.display.Markdown object>"
            ],
            "text/markdown": "**DSBA 6010**: _Applied Computer Vision_"
          },
          "metadata": {}
        },
        {
          "output_type": "display_data",
          "data": {
            "text/plain": [
              "<IPython.core.display.Markdown object>"
            ],
            "text/markdown": "**Instuctor**: _Rick Chakra_"
          },
          "metadata": {}
        },
        {
          "output_type": "display_data",
          "data": {
            "text/plain": [
              "<IPython.core.display.Markdown object>"
            ],
            "text/markdown": "**Relevance**: _0.44667429351583815_"
          },
          "metadata": {}
        },
        {
          "output_type": "display_data",
          "data": {
            "text/plain": [
              "<IPython.core.display.Markdown object>"
            ],
            "text/markdown": "**V Relevance**: _0.44667429351583815_"
          },
          "metadata": {}
        },
        {
          "output_type": "display_data",
          "data": {
            "text/plain": [
              "<IPython.core.display.Markdown object>"
            ],
            "text/markdown": "### <font color=\"#699\">DSBA6100-U90_MBAD7090-U92_Spring 2023_Blaine Nashold – Daryl Nashold.pdf.C0001</font>"
          },
          "metadata": {}
        },
        {
          "output_type": "display_data",
          "data": {
            "text/plain": [
              "<IPython.core.display.Markdown object>"
            ],
            "text/markdown": "**DSBA 6100**: _Big Data Analytics for Competitive Advantage_"
          },
          "metadata": {}
        },
        {
          "output_type": "display_data",
          "data": {
            "text/plain": [
              "<IPython.core.display.Markdown object>"
            ],
            "text/markdown": "**Instuctor**: _Daryl Nashold_"
          },
          "metadata": {}
        },
        {
          "output_type": "display_data",
          "data": {
            "text/plain": [
              "<IPython.core.display.Markdown object>"
            ],
            "text/markdown": "**Relevance**: _0.4437482242496964_"
          },
          "metadata": {}
        },
        {
          "output_type": "display_data",
          "data": {
            "text/plain": [
              "<IPython.core.display.Markdown object>"
            ],
            "text/markdown": "**V Relevance**: _0.4437482242496964_"
          },
          "metadata": {}
        },
        {
          "output_type": "display_data",
          "data": {
            "text/plain": [
              "<IPython.core.display.Markdown object>"
            ],
            "text/markdown": "# <font color='#966'>Please review all of the Syllabi for DSBA 6188 and list all of the topics covered, all of the instructors that teach it and indicate which instructor covers each topic</font>"
          },
          "metadata": {}
        },
        {
          "output_type": "display_data",
          "data": {
            "text/plain": [
              "<IPython.core.display.Markdown object>"
            ],
            "text/markdown": "<font color='#44a'>**Sending**: _Please review all of the Syllabi for DSBA 6188 and list all of the topics covered, all of the instructors that teach it and indicate which instructor covers each topic_</font>"
          },
          "metadata": {}
        },
        {
          "output_type": "display_data",
          "data": {
            "text/plain": [
              "<IPython.core.display.Markdown object>"
            ],
            "text/markdown": "## Answer"
          },
          "metadata": {}
        },
        {
          "output_type": "display_data",
          "data": {
            "text/plain": [
              "<IPython.core.display.Markdown object>"
            ],
            "text/markdown": "Here is a summary of the topics covered in the course DSBA 6188 (Text Mining and Information Retrieval), along with the instructors and the topics they cover:\n\n### Topics Covered\n1. Basic Concepts\n2. Word Association Mining\n3. Topic Modeling I\n4. Topic Modeling II\n5. Text Classification\n6. Retrieval Model I: Boolean Retrieval\n7. Retrieval Model II: Vector Space Model I\n8. Retrieval Model II: Vector Space Model II\n9. Evaluations in Information Retrieval\n10. Retrieval Model III: Probabilistic Information Retrieval\n11. Retrieval Model IV: Web Search\n12. Overview of Deep Learning\n13. Retrieval Model V: Deep Learning Models for Information Retrieval\n\n### Instructors\n- **Dr. Depeng Xu**\n  - Covers all topics listed above.\n  \n- **Dr. Xi (Sunshine) Niu**\n  - Covers all topics listed above in a similar structure.\n\n- **Dr. Chang Hsin Lee**\n  - Covers all topics listed above but emphasizes natural language processing advancements, including the impact of large language models.\n\n- **Dr. Ryan Wesslen**\n  - Co-instructor alongside Dr. Chang Hsin Lee, involved in the instruction of the same topics.\n\n### Summary\nEach instructor teaches similar content, focusing on the critical aspects of text mining and information retrieval, with some variation in emphasis on contemporary tools and approaches such as natural language processing and deep learning models."
          },
          "metadata": {}
        },
        {
          "output_type": "display_data",
          "data": {
            "text/plain": [
              "<IPython.core.display.Markdown object>"
            ],
            "text/markdown": "## Retrieval"
          },
          "metadata": {}
        },
        {
          "output_type": "stream",
          "name": "stdout",
          "text": [
            "{\n",
            "  \"request\": \"Review all the syllabi for DSBA 6188 and list all topics covered along with the instructors who teach each topic.\",\n",
            "  \"semantic_phrase\": \"Review DSBA 6188 syllabi topics and instructors\",\n",
            "  \"search_words\": [\n",
            "    \"DSBA 6188\",\n",
            "    \"syllabi\",\n",
            "    \"instructors\",\n",
            "    \"topics\",\n",
            "    \"covered\"\n",
            "  ],\n",
            "  \"metadata_fields\": {\n",
            "    \"instructor\": [],\n",
            "    \"course_number\": [\n",
            "      \"6188\"\n",
            "    ],\n",
            "    \"course_title\": []\n",
            "  }\n",
            "}\n"
          ]
        },
        {
          "output_type": "display_data",
          "data": {
            "text/plain": [
              "<IPython.core.display.Markdown object>"
            ],
            "text/markdown": "## Sources"
          },
          "metadata": {}
        },
        {
          "output_type": "display_data",
          "data": {
            "text/plain": [
              "<IPython.core.display.Markdown object>"
            ],
            "text/markdown": "### <font color=\"#699\">DSBA-6188-Text-Mining-and-Information-Retrieval-Fall-2024-Depeng-Xu.pdf</font>"
          },
          "metadata": {}
        },
        {
          "output_type": "display_data",
          "data": {
            "text/plain": [
              "<IPython.core.display.Markdown object>"
            ],
            "text/markdown": "**DSBA 6188**: _Text Mining and Information Retrieval_"
          },
          "metadata": {}
        },
        {
          "output_type": "display_data",
          "data": {
            "text/plain": [
              "<IPython.core.display.Markdown object>"
            ],
            "text/markdown": "**Instuctor**: _Depeng Zu_"
          },
          "metadata": {}
        },
        {
          "output_type": "display_data",
          "data": {
            "text/plain": [
              "<IPython.core.display.Markdown object>"
            ],
            "text/markdown": "**Relevance**: _0.6313454322667875_"
          },
          "metadata": {}
        },
        {
          "output_type": "display_data",
          "data": {
            "text/plain": [
              "<IPython.core.display.Markdown object>"
            ],
            "text/markdown": "**I Relevance**: _0.6313454322667875_"
          },
          "metadata": {}
        },
        {
          "output_type": "display_data",
          "data": {
            "text/plain": [
              "<IPython.core.display.Markdown object>"
            ],
            "text/markdown": "### <font color=\"#699\">DSBA6188_Syllabus_Spring2023_Niu – Xi (Sunshine) Niu.pdf</font>"
          },
          "metadata": {}
        },
        {
          "output_type": "display_data",
          "data": {
            "text/plain": [
              "<IPython.core.display.Markdown object>"
            ],
            "text/markdown": "**DSBA 6188**: _Text Mining and Information Retrieval_"
          },
          "metadata": {}
        },
        {
          "output_type": "display_data",
          "data": {
            "text/plain": [
              "<IPython.core.display.Markdown object>"
            ],
            "text/markdown": "**Instuctor**: _Xi (Sunshine) Niu_"
          },
          "metadata": {}
        },
        {
          "output_type": "display_data",
          "data": {
            "text/plain": [
              "<IPython.core.display.Markdown object>"
            ],
            "text/markdown": "**Relevance**: _0.6313454322667875_"
          },
          "metadata": {}
        },
        {
          "output_type": "display_data",
          "data": {
            "text/plain": [
              "<IPython.core.display.Markdown object>"
            ],
            "text/markdown": "**I Relevance**: _0.6313454322667875_"
          },
          "metadata": {}
        },
        {
          "output_type": "display_data",
          "data": {
            "text/plain": [
              "<IPython.core.display.Markdown object>"
            ],
            "text/markdown": "### <font color=\"#699\">DSBA-6208-Operations-Management-Fall-2024-Andy-Fraher.pdf.C0004</font>"
          },
          "metadata": {}
        },
        {
          "output_type": "display_data",
          "data": {
            "text/plain": [
              "<IPython.core.display.Markdown object>"
            ],
            "text/markdown": "**DSBA 6208**: _Operations Management_"
          },
          "metadata": {}
        },
        {
          "output_type": "display_data",
          "data": {
            "text/plain": [
              "<IPython.core.display.Markdown object>"
            ],
            "text/markdown": "**Instuctor**: _Andrew Fraher_"
          },
          "metadata": {}
        },
        {
          "output_type": "display_data",
          "data": {
            "text/plain": [
              "<IPython.core.display.Markdown object>"
            ],
            "text/markdown": "**Relevance**: _0.5235978816295784_"
          },
          "metadata": {}
        },
        {
          "output_type": "display_data",
          "data": {
            "text/plain": [
              "<IPython.core.display.Markdown object>"
            ],
            "text/markdown": "**V Relevance**: _0.5235978816295784_"
          },
          "metadata": {}
        },
        {
          "output_type": "display_data",
          "data": {
            "text/plain": [
              "<IPython.core.display.Markdown object>"
            ],
            "text/markdown": "### <font color=\"#699\">DSBA6100-U90_MBAD7090-U92_Spring 2023_Blaine Nashold – Daryl Nashold.pdf.C0003</font>"
          },
          "metadata": {}
        },
        {
          "output_type": "display_data",
          "data": {
            "text/plain": [
              "<IPython.core.display.Markdown object>"
            ],
            "text/markdown": "**DSBA 6100**: _Big Data Analytics for Competitive Advantage_"
          },
          "metadata": {}
        },
        {
          "output_type": "display_data",
          "data": {
            "text/plain": [
              "<IPython.core.display.Markdown object>"
            ],
            "text/markdown": "**Instuctor**: _Daryl Nashold_"
          },
          "metadata": {}
        },
        {
          "output_type": "display_data",
          "data": {
            "text/plain": [
              "<IPython.core.display.Markdown object>"
            ],
            "text/markdown": "**Relevance**: _0.5096686330745986_"
          },
          "metadata": {}
        },
        {
          "output_type": "display_data",
          "data": {
            "text/plain": [
              "<IPython.core.display.Markdown object>"
            ],
            "text/markdown": "**V Relevance**: _0.5096686330745986_"
          },
          "metadata": {}
        },
        {
          "output_type": "display_data",
          "data": {
            "text/plain": [
              "<IPython.core.display.Markdown object>"
            ],
            "text/markdown": "### <font color=\"#699\">DSBA 6500 Complex Adaptive Systems – Mirsad Hadzikadic.C0001</font>"
          },
          "metadata": {}
        },
        {
          "output_type": "display_data",
          "data": {
            "text/plain": [
              "<IPython.core.display.Markdown object>"
            ],
            "text/markdown": "**DSBA 6500**: _Complex Adaptive Systems_"
          },
          "metadata": {}
        },
        {
          "output_type": "display_data",
          "data": {
            "text/plain": [
              "<IPython.core.display.Markdown object>"
            ],
            "text/markdown": "**Instuctor**: _Mirsad Hadzikadic_"
          },
          "metadata": {}
        },
        {
          "output_type": "display_data",
          "data": {
            "text/plain": [
              "<IPython.core.display.Markdown object>"
            ],
            "text/markdown": "**Relevance**: _0.507607448193967_"
          },
          "metadata": {}
        },
        {
          "output_type": "display_data",
          "data": {
            "text/plain": [
              "<IPython.core.display.Markdown object>"
            ],
            "text/markdown": "**V Relevance**: _0.507607448193967_"
          },
          "metadata": {}
        },
        {
          "output_type": "display_data",
          "data": {
            "text/plain": [
              "<IPython.core.display.Markdown object>"
            ],
            "text/markdown": "### <font color=\"#699\">DSBA-6010-Model-Risk-Management-Fal.C0001</font>"
          },
          "metadata": {}
        },
        {
          "output_type": "display_data",
          "data": {
            "text/plain": [
              "<IPython.core.display.Markdown object>"
            ],
            "text/markdown": "**DSBA 6010**: _Special Topic: Model Risk Management_"
          },
          "metadata": {}
        },
        {
          "output_type": "display_data",
          "data": {
            "text/plain": [
              "<IPython.core.display.Markdown object>"
            ],
            "text/markdown": "**Instuctor**: _Robert Fox_"
          },
          "metadata": {}
        },
        {
          "output_type": "display_data",
          "data": {
            "text/plain": [
              "<IPython.core.display.Markdown object>"
            ],
            "text/markdown": "**Relevance**: _0.5055248602969586_"
          },
          "metadata": {}
        },
        {
          "output_type": "display_data",
          "data": {
            "text/plain": [
              "<IPython.core.display.Markdown object>"
            ],
            "text/markdown": "**V Relevance**: _0.5055248602969586_"
          },
          "metadata": {}
        },
        {
          "output_type": "display_data",
          "data": {
            "text/plain": [
              "<IPython.core.display.Markdown object>"
            ],
            "text/markdown": "### <font color=\"#699\">DSBA_HCIP_6160_Thompson_Spring_2023 – Pamela Thompson.pdf.C0003</font>"
          },
          "metadata": {}
        },
        {
          "output_type": "display_data",
          "data": {
            "text/plain": [
              "<IPython.core.display.Markdown object>"
            ],
            "text/markdown": "**DSBA 6160**: _Database Systems for Data Scientists_"
          },
          "metadata": {}
        },
        {
          "output_type": "display_data",
          "data": {
            "text/plain": [
              "<IPython.core.display.Markdown object>"
            ],
            "text/markdown": "**Instuctor**: _Pamela Thompson_"
          },
          "metadata": {}
        },
        {
          "output_type": "display_data",
          "data": {
            "text/plain": [
              "<IPython.core.display.Markdown object>"
            ],
            "text/markdown": "**Relevance**: _0.5019916637603368_"
          },
          "metadata": {}
        },
        {
          "output_type": "display_data",
          "data": {
            "text/plain": [
              "<IPython.core.display.Markdown object>"
            ],
            "text/markdown": "**V Relevance**: _0.5019916637603368_"
          },
          "metadata": {}
        },
        {
          "output_type": "display_data",
          "data": {
            "text/plain": [
              "<IPython.core.display.Markdown object>"
            ],
            "text/markdown": "### <font color=\"#699\">DSBA 6188 Text Mining and Information Retrieval – Chang Hsin Lee & Ryan Wesslen</font>"
          },
          "metadata": {}
        },
        {
          "output_type": "display_data",
          "data": {
            "text/plain": [
              "<IPython.core.display.Markdown object>"
            ],
            "text/markdown": "**DSBA 6188**: _Text Mining and Information Retrieval_"
          },
          "metadata": {}
        },
        {
          "output_type": "display_data",
          "data": {
            "text/plain": [
              "<IPython.core.display.Markdown object>"
            ],
            "text/markdown": "**Instuctor**: _Chang Hsin Lee_"
          },
          "metadata": {}
        },
        {
          "output_type": "display_data",
          "data": {
            "text/plain": [
              "<IPython.core.display.Markdown object>"
            ],
            "text/markdown": "**Relevance**: _0.30787758493503337_"
          },
          "metadata": {}
        },
        {
          "output_type": "display_data",
          "data": {
            "text/plain": [
              "<IPython.core.display.Markdown object>"
            ],
            "text/markdown": "**I Relevance**: _0.30787758493503337_"
          },
          "metadata": {}
        }
      ]
    }
  ]
}