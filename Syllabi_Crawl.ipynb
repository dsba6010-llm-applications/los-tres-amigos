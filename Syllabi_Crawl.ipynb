{
  "nbformat": 4,
  "nbformat_minor": 0,
  "metadata": {
    "colab": {
      "provenance": [],
      "toc_visible": true,
      "authorship_tag": "ABX9TyNofZbYAhSOYAM27Ex43UAv",
      "include_colab_link": true
    },
    "kernelspec": {
      "name": "python3",
      "display_name": "Python 3"
    },
    "language_info": {
      "name": "python"
    }
  },
  "cells": [
    {
      "cell_type": "markdown",
      "metadata": {
        "id": "view-in-github",
        "colab_type": "text"
      },
      "source": [
        "<a href=\"https://colab.research.google.com/github/dsba6010-llm-applications/los-tres-amigos/blob/main/Syllabi_Crawl.ipynb\" target=\"_parent\"><img src=\"https://colab.research.google.com/assets/colab-badge.svg\" alt=\"Open In Colab\"/></a>"
      ]
    },
    {
      "cell_type": "markdown",
      "source": [
        "# Example Beautiful Soup Spider\n",
        "\n",
        "* https://chatgpt.com/share/66ecea93-c990-8007-8258-538cd80c00f5\n",
        "* https://docs.scrapy.org/en/latest/topics/architecture.html\n",
        "\n",
        "Tried Scrapy and could not get it to work\n"
      ],
      "metadata": {
        "id": "RnB9UiQ3dc_S"
      }
    },
    {
      "cell_type": "code",
      "source": [
        "!pip install scrapy\n",
        "!pip install PyPDF2\n",
        "!pip install crochet\n",
        "# Install the Python SDK\n",
        "!pip install -q -U google-generativeai"
      ],
      "metadata": {
        "colab": {
          "base_uri": "https://localhost:8080/"
        },
        "id": "j8BOyPueg6_G",
        "outputId": "7d3b2e6c-6e3c-492f-fab1-6e8bb55062e6"
      },
      "execution_count": null,
      "outputs": [
        {
          "output_type": "stream",
          "name": "stdout",
          "text": [
            "Collecting scrapy\n",
            "  Downloading Scrapy-2.11.2-py2.py3-none-any.whl.metadata (5.3 kB)\n",
            "Collecting Twisted>=18.9.0 (from scrapy)\n",
            "  Downloading twisted-24.7.0-py3-none-any.whl.metadata (18 kB)\n",
            "Requirement already satisfied: cryptography>=36.0.0 in /usr/local/lib/python3.10/dist-packages (from scrapy) (43.0.1)\n",
            "Collecting cssselect>=0.9.1 (from scrapy)\n",
            "  Downloading cssselect-1.2.0-py2.py3-none-any.whl.metadata (2.2 kB)\n",
            "Collecting itemloaders>=1.0.1 (from scrapy)\n",
            "  Downloading itemloaders-1.3.2-py3-none-any.whl.metadata (3.9 kB)\n",
            "Collecting parsel>=1.5.0 (from scrapy)\n",
            "  Downloading parsel-1.9.1-py2.py3-none-any.whl.metadata (11 kB)\n",
            "Requirement already satisfied: pyOpenSSL>=21.0.0 in /usr/local/lib/python3.10/dist-packages (from scrapy) (24.2.1)\n",
            "Collecting queuelib>=1.4.2 (from scrapy)\n",
            "  Downloading queuelib-1.7.0-py2.py3-none-any.whl.metadata (5.7 kB)\n",
            "Collecting service-identity>=18.1.0 (from scrapy)\n",
            "  Downloading service_identity-24.1.0-py3-none-any.whl.metadata (4.8 kB)\n",
            "Collecting w3lib>=1.17.0 (from scrapy)\n",
            "  Downloading w3lib-2.2.1-py3-none-any.whl.metadata (2.1 kB)\n",
            "Collecting zope.interface>=5.1.0 (from scrapy)\n",
            "  Downloading zope.interface-7.1.0-cp310-cp310-manylinux_2_5_x86_64.manylinux1_x86_64.manylinux_2_17_x86_64.manylinux2014_x86_64.whl.metadata (43 kB)\n",
            "\u001b[2K     \u001b[90m━━━━━━━━━━━━━━━━━━━━━━━━━━━━━━━━━━━━━━━━\u001b[0m \u001b[32m43.9/43.9 kB\u001b[0m \u001b[31m1.0 MB/s\u001b[0m eta \u001b[36m0:00:00\u001b[0m\n",
            "\u001b[?25hCollecting protego>=0.1.15 (from scrapy)\n",
            "  Downloading Protego-0.3.1-py2.py3-none-any.whl.metadata (5.9 kB)\n",
            "Collecting itemadapter>=0.1.0 (from scrapy)\n",
            "  Downloading itemadapter-0.9.0-py3-none-any.whl.metadata (17 kB)\n",
            "Requirement already satisfied: setuptools in /usr/local/lib/python3.10/dist-packages (from scrapy) (75.1.0)\n",
            "Requirement already satisfied: packaging in /usr/local/lib/python3.10/dist-packages (from scrapy) (24.1)\n",
            "Collecting tldextract (from scrapy)\n",
            "  Downloading tldextract-5.1.2-py3-none-any.whl.metadata (11 kB)\n",
            "Requirement already satisfied: lxml>=4.4.1 in /usr/local/lib/python3.10/dist-packages (from scrapy) (4.9.4)\n",
            "Requirement already satisfied: defusedxml>=0.7.1 in /usr/local/lib/python3.10/dist-packages (from scrapy) (0.7.1)\n",
            "Collecting PyDispatcher>=2.0.5 (from scrapy)\n",
            "  Downloading PyDispatcher-2.0.7-py3-none-any.whl.metadata (2.4 kB)\n",
            "Requirement already satisfied: cffi>=1.12 in /usr/local/lib/python3.10/dist-packages (from cryptography>=36.0.0->scrapy) (1.17.1)\n",
            "Collecting jmespath>=0.9.5 (from itemloaders>=1.0.1->scrapy)\n",
            "  Downloading jmespath-1.0.1-py3-none-any.whl.metadata (7.6 kB)\n",
            "Requirement already satisfied: attrs>=19.1.0 in /usr/local/lib/python3.10/dist-packages (from service-identity>=18.1.0->scrapy) (24.2.0)\n",
            "Requirement already satisfied: pyasn1 in /usr/local/lib/python3.10/dist-packages (from service-identity>=18.1.0->scrapy) (0.6.1)\n",
            "Requirement already satisfied: pyasn1-modules in /usr/local/lib/python3.10/dist-packages (from service-identity>=18.1.0->scrapy) (0.4.1)\n",
            "Collecting automat>=0.8.0 (from Twisted>=18.9.0->scrapy)\n",
            "  Downloading Automat-24.8.1-py3-none-any.whl.metadata (8.4 kB)\n",
            "Collecting constantly>=15.1 (from Twisted>=18.9.0->scrapy)\n",
            "  Downloading constantly-23.10.4-py3-none-any.whl.metadata (1.8 kB)\n",
            "Collecting hyperlink>=17.1.1 (from Twisted>=18.9.0->scrapy)\n",
            "  Downloading hyperlink-21.0.0-py2.py3-none-any.whl.metadata (1.5 kB)\n",
            "Collecting incremental>=24.7.0 (from Twisted>=18.9.0->scrapy)\n",
            "  Downloading incremental-24.7.2-py3-none-any.whl.metadata (8.1 kB)\n",
            "Requirement already satisfied: typing-extensions>=4.2.0 in /usr/local/lib/python3.10/dist-packages (from Twisted>=18.9.0->scrapy) (4.12.2)\n",
            "Requirement already satisfied: idna in /usr/local/lib/python3.10/dist-packages (from tldextract->scrapy) (3.10)\n",
            "Requirement already satisfied: requests>=2.1.0 in /usr/local/lib/python3.10/dist-packages (from tldextract->scrapy) (2.32.3)\n",
            "Collecting requests-file>=1.4 (from tldextract->scrapy)\n",
            "  Downloading requests_file-2.1.0-py2.py3-none-any.whl.metadata (1.7 kB)\n",
            "Requirement already satisfied: filelock>=3.0.8 in /usr/local/lib/python3.10/dist-packages (from tldextract->scrapy) (3.16.1)\n",
            "Requirement already satisfied: pycparser in /usr/local/lib/python3.10/dist-packages (from cffi>=1.12->cryptography>=36.0.0->scrapy) (2.22)\n",
            "Requirement already satisfied: tomli in /usr/local/lib/python3.10/dist-packages (from incremental>=24.7.0->Twisted>=18.9.0->scrapy) (2.0.2)\n",
            "Requirement already satisfied: charset-normalizer<4,>=2 in /usr/local/lib/python3.10/dist-packages (from requests>=2.1.0->tldextract->scrapy) (3.4.0)\n",
            "Requirement already satisfied: urllib3<3,>=1.21.1 in /usr/local/lib/python3.10/dist-packages (from requests>=2.1.0->tldextract->scrapy) (2.2.3)\n",
            "Requirement already satisfied: certifi>=2017.4.17 in /usr/local/lib/python3.10/dist-packages (from requests>=2.1.0->tldextract->scrapy) (2024.8.30)\n",
            "Downloading Scrapy-2.11.2-py2.py3-none-any.whl (290 kB)\n",
            "\u001b[2K   \u001b[90m━━━━━━━━━━━━━━━━━━━━━━━━━━━━━━━━━━━━━━━━\u001b[0m \u001b[32m290.1/290.1 kB\u001b[0m \u001b[31m6.6 MB/s\u001b[0m eta \u001b[36m0:00:00\u001b[0m\n",
            "\u001b[?25hDownloading cssselect-1.2.0-py2.py3-none-any.whl (18 kB)\n",
            "Downloading itemadapter-0.9.0-py3-none-any.whl (11 kB)\n",
            "Downloading itemloaders-1.3.2-py3-none-any.whl (12 kB)\n",
            "Downloading parsel-1.9.1-py2.py3-none-any.whl (17 kB)\n",
            "Downloading Protego-0.3.1-py2.py3-none-any.whl (8.5 kB)\n",
            "Downloading PyDispatcher-2.0.7-py3-none-any.whl (12 kB)\n",
            "Downloading queuelib-1.7.0-py2.py3-none-any.whl (13 kB)\n",
            "Downloading service_identity-24.1.0-py3-none-any.whl (12 kB)\n",
            "Downloading twisted-24.7.0-py3-none-any.whl (3.2 MB)\n",
            "\u001b[2K   \u001b[90m━━━━━━━━━━━━━━━━━━━━━━━━━━━━━━━━━━━━━━━━\u001b[0m \u001b[32m3.2/3.2 MB\u001b[0m \u001b[31m21.0 MB/s\u001b[0m eta \u001b[36m0:00:00\u001b[0m\n",
            "\u001b[?25hDownloading w3lib-2.2.1-py3-none-any.whl (21 kB)\n",
            "Downloading zope.interface-7.1.0-cp310-cp310-manylinux_2_5_x86_64.manylinux1_x86_64.manylinux_2_17_x86_64.manylinux2014_x86_64.whl (254 kB)\n",
            "\u001b[2K   \u001b[90m━━━━━━━━━━━━━━━━━━━━━━━━━━━━━━━━━━━━━━━━\u001b[0m \u001b[32m254.3/254.3 kB\u001b[0m \u001b[31m11.3 MB/s\u001b[0m eta \u001b[36m0:00:00\u001b[0m\n",
            "\u001b[?25hDownloading tldextract-5.1.2-py3-none-any.whl (97 kB)\n",
            "\u001b[2K   \u001b[90m━━━━━━━━━━━━━━━━━━━━━━━━━━━━━━━━━━━━━━━━\u001b[0m \u001b[32m97.6/97.6 kB\u001b[0m \u001b[31m2.4 MB/s\u001b[0m eta \u001b[36m0:00:00\u001b[0m\n",
            "\u001b[?25hDownloading Automat-24.8.1-py3-none-any.whl (42 kB)\n",
            "\u001b[2K   \u001b[90m━━━━━━━━━━━━━━━━━━━━━━━━━━━━━━━━━━━━━━━━\u001b[0m \u001b[32m42.6/42.6 kB\u001b[0m \u001b[31m2.4 MB/s\u001b[0m eta \u001b[36m0:00:00\u001b[0m\n",
            "\u001b[?25hDownloading constantly-23.10.4-py3-none-any.whl (13 kB)\n",
            "Downloading hyperlink-21.0.0-py2.py3-none-any.whl (74 kB)\n",
            "\u001b[2K   \u001b[90m━━━━━━━━━━━━━━━━━━━━━━━━━━━━━━━━━━━━━━━━\u001b[0m \u001b[32m74.6/74.6 kB\u001b[0m \u001b[31m3.8 MB/s\u001b[0m eta \u001b[36m0:00:00\u001b[0m\n",
            "\u001b[?25hDownloading incremental-24.7.2-py3-none-any.whl (20 kB)\n",
            "Downloading jmespath-1.0.1-py3-none-any.whl (20 kB)\n",
            "Downloading requests_file-2.1.0-py2.py3-none-any.whl (4.2 kB)\n",
            "Installing collected packages: PyDispatcher, zope.interface, w3lib, queuelib, protego, jmespath, itemadapter, incremental, hyperlink, cssselect, constantly, automat, Twisted, requests-file, parsel, tldextract, service-identity, itemloaders, scrapy\n",
            "Successfully installed PyDispatcher-2.0.7 Twisted-24.7.0 automat-24.8.1 constantly-23.10.4 cssselect-1.2.0 hyperlink-21.0.0 incremental-24.7.2 itemadapter-0.9.0 itemloaders-1.3.2 jmespath-1.0.1 parsel-1.9.1 protego-0.3.1 queuelib-1.7.0 requests-file-2.1.0 scrapy-2.11.2 service-identity-24.1.0 tldextract-5.1.2 w3lib-2.2.1 zope.interface-7.1.0\n",
            "Collecting PyPDF2\n",
            "  Downloading pypdf2-3.0.1-py3-none-any.whl.metadata (6.8 kB)\n",
            "Downloading pypdf2-3.0.1-py3-none-any.whl (232 kB)\n",
            "\u001b[2K   \u001b[90m━━━━━━━━━━━━━━━━━━━━━━━━━━━━━━━━━━━━━━━━\u001b[0m \u001b[32m232.6/232.6 kB\u001b[0m \u001b[31m11.5 MB/s\u001b[0m eta \u001b[36m0:00:00\u001b[0m\n",
            "\u001b[?25hInstalling collected packages: PyPDF2\n",
            "Successfully installed PyPDF2-3.0.1\n",
            "Collecting crochet\n",
            "  Downloading crochet-2.1.1-py3-none-any.whl.metadata (10 kB)\n",
            "Requirement already satisfied: Twisted>=16.0 in /usr/local/lib/python3.10/dist-packages (from crochet) (24.7.0)\n",
            "Requirement already satisfied: wrapt in /usr/local/lib/python3.10/dist-packages (from crochet) (1.16.0)\n",
            "Requirement already satisfied: attrs>=21.3.0 in /usr/local/lib/python3.10/dist-packages (from Twisted>=16.0->crochet) (24.2.0)\n",
            "Requirement already satisfied: automat>=0.8.0 in /usr/local/lib/python3.10/dist-packages (from Twisted>=16.0->crochet) (24.8.1)\n",
            "Requirement already satisfied: constantly>=15.1 in /usr/local/lib/python3.10/dist-packages (from Twisted>=16.0->crochet) (23.10.4)\n",
            "Requirement already satisfied: hyperlink>=17.1.1 in /usr/local/lib/python3.10/dist-packages (from Twisted>=16.0->crochet) (21.0.0)\n",
            "Requirement already satisfied: incremental>=24.7.0 in /usr/local/lib/python3.10/dist-packages (from Twisted>=16.0->crochet) (24.7.2)\n",
            "Requirement already satisfied: typing-extensions>=4.2.0 in /usr/local/lib/python3.10/dist-packages (from Twisted>=16.0->crochet) (4.12.2)\n",
            "Requirement already satisfied: zope-interface>=5 in /usr/local/lib/python3.10/dist-packages (from Twisted>=16.0->crochet) (7.1.0)\n",
            "Requirement already satisfied: idna>=2.5 in /usr/local/lib/python3.10/dist-packages (from hyperlink>=17.1.1->Twisted>=16.0->crochet) (3.10)\n",
            "Requirement already satisfied: setuptools>=61.0 in /usr/local/lib/python3.10/dist-packages (from incremental>=24.7.0->Twisted>=16.0->crochet) (75.1.0)\n",
            "Requirement already satisfied: tomli in /usr/local/lib/python3.10/dist-packages (from incremental>=24.7.0->Twisted>=16.0->crochet) (2.0.2)\n",
            "Downloading crochet-2.1.1-py3-none-any.whl (31 kB)\n",
            "Installing collected packages: crochet\n",
            "Successfully installed crochet-2.1.1\n",
            "\u001b[2K   \u001b[90m━━━━━━━━━━━━━━━━━━━━━━━━━━━━━━━━━━━━━━━━\u001b[0m \u001b[32m160.8/160.8 kB\u001b[0m \u001b[31m9.8 MB/s\u001b[0m eta \u001b[36m0:00:00\u001b[0m\n",
            "\u001b[2K   \u001b[90m━━━━━━━━━━━━━━━━━━━━━━━━━━━━━━━━━━━━━━━━\u001b[0m \u001b[32m760.0/760.0 kB\u001b[0m \u001b[31m40.3 MB/s\u001b[0m eta \u001b[36m0:00:00\u001b[0m\n",
            "\u001b[?25h"
          ]
        }
      ]
    },
    {
      "cell_type": "markdown",
      "source": [
        "## Imports"
      ],
      "metadata": {
        "id": "XHanLc8etWTn"
      }
    },
    {
      "cell_type": "code",
      "source": [
        "# Gemini\n",
        "import google.generativeai as genai\n",
        "from google.colab import userdata\n",
        "from google.generativeai.types import HarmCategory, HarmBlockThreshold\n",
        "import time\n",
        "\n",
        "# Core Python Libraries\n",
        "import json\n",
        "import os\n",
        "import sys\n",
        "import requests\n",
        "\n",
        "from datetime import date, datetime\n",
        "from scipy.optimize import minimize\n",
        "\n",
        "# Data Science Specific Libraries\n",
        "import pandas as pd\n",
        "import numpy as np\n",
        "\n",
        "# Google Collab Goodies\n",
        "from IPython.display import display_markdown, display_html\n",
        "from google.colab import data_table\n",
        "data_table.enable_dataframe_formatter()\n",
        "from google.colab import drive\n",
        "\n",
        "import networkx as nx\n",
        "import matplotlib.pyplot as plt\n",
        "import plotly.graph_objects as go\n",
        "\n",
        "from PIL import Image, ImageOps\n",
        "from PIL.ExifTags import TAGS\n",
        "\n",
        "from scipy.spatial.distance import pdist, squareform\n",
        "import sklearn.metrics.pairwise as smp\n",
        "\n",
        "from os import symlink\n",
        "import re\n",
        "import requests\n",
        "from bs4 import BeautifulSoup\n",
        "import json\n",
        "\n",
        "import requests\n",
        "import PyPDF2\n",
        "from io import BytesIO\n",
        "from copy import deepcopy\n",
        "\n",
        "# Google Collab Goodies\n",
        "from IPython.display import display_markdown, display_html\n",
        "from google.colab import data_table\n",
        "data_table.enable_dataframe_formatter()\n",
        "from google.colab import drive"
      ],
      "metadata": {
        "id": "nQ60NlJktYMa"
      },
      "execution_count": null,
      "outputs": []
    },
    {
      "cell_type": "markdown",
      "source": [
        "## Mount Drive"
      ],
      "metadata": {
        "id": "ByuR4ShtBMHP"
      }
    },
    {
      "cell_type": "code",
      "source": [
        "SYLLABI_DOCS= '/content/drive/MyDrive/Syllabi'\n",
        "# Mount The Data Folder\n",
        "drive.mount('/content/drive')"
      ],
      "metadata": {
        "colab": {
          "base_uri": "https://localhost:8080/"
        },
        "id": "fBsKDH8bBP26",
        "outputId": "0ac4f2a7-49f7-48d0-86bc-2f532f99e2e0"
      },
      "execution_count": null,
      "outputs": [
        {
          "output_type": "stream",
          "name": "stdout",
          "text": [
            "Mounted at /content/drive\n"
          ]
        }
      ]
    },
    {
      "cell_type": "markdown",
      "source": [
        "## BeautifulSoup\n",
        "\n",
        "* https://chatgpt.com/share/66ecea93-c990-8007-8258-538cd80c00f5\n",
        "* https://chatgpt.com/share/66f640a6-97ec-8007-96a4-7c31741707c7"
      ],
      "metadata": {
        "id": "259bTrI2o05p"
      }
    },
    {
      "cell_type": "code",
      "source": [
        "\n",
        "\n",
        "# This is the element that has the Syllabi links\n",
        "def find_basic_list_ul(soup):\n",
        "    return soup.find('ul', class_='basic-list')\n",
        "\n",
        "# Function to scrape a for links that meet a specific criteria\n",
        "def scrape_webpage_for_links(url,callback):\n",
        "    sylinks = list()\n",
        "    # Send a GET request to the URL\n",
        "    response = requests.get(url)\n",
        "\n",
        "    # Check if the request was successful\n",
        "    if response.status_code == 200:\n",
        "        # Parse the HTML content\n",
        "        soup = BeautifulSoup(response.content, 'html.parser')\n",
        "        ul = callback(soup)\n",
        "        # Extract links\n",
        "        links = [(a.get_text(), a['href']) for a in ul.find_all('a', href=True)]\n",
        "\n",
        "        print('\\nLinks:')\n",
        "        for link_text, link_url in links:\n",
        "            sylinks.append(dict({\"link\": link_url, \"title\": link_text.strip()}))\n",
        "    else:\n",
        "        print(f'Failed to retrieve the webpage. Status code: {response.status_code}')\n",
        "    return sylinks\n",
        "\n",
        "# Function to scrape a webpage not using this anymore\n",
        "def scrape_webpage(url):\n",
        "    # Send a GET request to the URL\n",
        "    response = requests.get(url)\n",
        "\n",
        "    # Check if the request was successful\n",
        "    if response.status_code == 200:\n",
        "        # Parse the HTML content\n",
        "        soup = BeautifulSoup(response.content, 'html.parser')\n",
        "\n",
        "        # Extract the title\n",
        "        title = soup.title.string if soup.title else 'No Title'\n",
        "\n",
        "        # Extract paragraphs\n",
        "        paragraphs = [p.get_text() for p in soup.find_all('p')]\n",
        "\n",
        "        # Extract links\n",
        "        links = [(a.get_text(), a['href']) for a in soup.find_all('a', href=True)]\n",
        "\n",
        "        # Print the results\n",
        "        print(f'Title: {title}')\n",
        "        print('Paragraphs:')\n",
        "        for para in paragraphs:\n",
        "            print(para)\n",
        "\n",
        "        print('\\nLinks:')\n",
        "        for link_text, link_url in links:\n",
        "            print(f'{link_text}: {link_url}')\n",
        "    else:\n",
        "        print(f'Failed to retrieve the webpage. Status code: {response.status_code}')\n",
        "\n",
        "# Get content and put it into memory\n",
        "def download_to_memory(url):\n",
        "    try:\n",
        "        # Send the GET request with streaming enabled\n",
        "        response = requests.get(url, stream=True)\n",
        "\n",
        "        if response.status_code == 200:\n",
        "            # Create an in-memory bytes buffer\n",
        "            file_in_memory = BytesIO()\n",
        "\n",
        "            # Read and accumulate chunks into the memory buffer\n",
        "            for chunk in response.iter_content(chunk_size=1024):\n",
        "                if chunk:\n",
        "                    file_in_memory.write(chunk)\n",
        "\n",
        "            # Optionally, reset the pointer to the beginning of the stream\n",
        "            file_in_memory.seek(0)\n",
        "\n",
        "            print(f\"Downloaded {url} into memory\")\n",
        "            return file_in_memory  # Return the in-memory file-like object\n",
        "\n",
        "        else:\n",
        "            print(f\"Failed to download {url}: {response.status_code}\")\n",
        "            return None\n",
        "    except Exception as e:\n",
        "        print(f\"Error downloading {url}: {e}\")\n",
        "        return None\n",
        "\n",
        "# Function to download and extract text from a PDF\n",
        "def extract_pdf_content(pdf_url, filename=None):\n",
        "    # Send a GET request to the PDF URL\n",
        "    response = requests.get(pdf_url)\n",
        "\n",
        "    # Check if the request was successful\n",
        "    if response.status_code == 200:\n",
        "        # Open the PDF file from the response content\n",
        "        pdf_file = BytesIO(response.content)\n",
        "\n",
        "        if filename:\n",
        "          with open(f\"{SYLLABI_DOCS}/{filename}\", \"wb\") as f:\n",
        "              f.write(pdf_file.read())\n",
        "          print(f\"PDF saved as '{filename}'\")\n",
        "\n",
        "\n",
        "        # Create a PDF reader object\n",
        "        pdf_reader = PyPDF2.PdfReader(pdf_file)\n",
        "\n",
        "        # Extract text from each page\n",
        "        text = ''\n",
        "        for page in pdf_reader.pages:\n",
        "            text += page.extract_text() or ''  # Append text, handle None\n",
        "\n",
        "        # Print the extracted text\n",
        "        return text\n",
        "    else:\n",
        "        print(f'Failed to retrieve the PDF. Status code: {response.status_code}')\n",
        "\n"
      ],
      "metadata": {
        "id": "uh-K3kZ2pXMI"
      },
      "execution_count": null,
      "outputs": []
    },
    {
      "cell_type": "code",
      "source": [
        "\n",
        "# URL to scrape\n",
        "url = 'https://dsba.charlotte.edu/syllabi/'\n",
        "document_title = 'DSBA'\n",
        "sylinks = scrape_webpage_for_links(url,find_basic_list_ul)\n",
        "doclinks = list()\n",
        "for linkitem in sylinks:\n",
        "    try:\n",
        "        display_markdown(f\"### Fetching {linkitem['title']}\", raw=True)\n",
        "        sub_page_response = requests.get(linkitem[\"link\"])\n",
        "        #print(f\"Fetched {linkitem['link']}\")\n",
        "        if sub_page_response.status_code == 200:\n",
        "            sub_soup = BeautifulSoup(sub_page_response.content, 'html.parser')\n",
        "            #print(f\"Parsed {linkitem['link']}\")\n",
        "            # Find all PDF or DOCX links in the sub-pages\n",
        "            file_links = [(a_tag.get_text(), a_tag['href']) for a_tag in sub_soup.find_all('a', href=True)\n",
        "            if re.search(r'\\.(pdf|docx)$', a_tag['href']) and document_title.lower() in a_tag.text.lower()]\n",
        "            display_markdown(f\" -- _Found {len(file_links)} files in {linkitem['link']}_\",raw=True)\n",
        "            for link_text, link_url in file_links:\n",
        "                # TODO:  fix this to handle docx\n",
        "                content = extract_pdf_content(link_url, filename=link_text)\n",
        "                # print(content)\n",
        "                doclinks.append(dict({\"link\": link_url, \"filename\": link_text, \"parent\":linkitem[\"link\"], \"title\": linkitem[\"title\"], \"content\": content}))\n",
        "    except Exception as e:\n",
        "        print(f\"Error fetching or parsing link {linkitem['link']}: {e}\")\n",
        "\n",
        "#print(json.dumps(doclinks,indent=2))\n",
        "df=pd.DataFrame(doclinks)\n",
        "display(df.drop(columns=['content']))\n",
        "\n"
      ],
      "metadata": {
        "colab": {
          "base_uri": "https://localhost:8080/",
          "height": 7746
        },
        "id": "SVYiyO0Rq2u1",
        "outputId": "50e25e62-9d70-4525-dfc3-9d7995cee2f3"
      },
      "execution_count": null,
      "outputs": [
        {
          "output_type": "stream",
          "name": "stdout",
          "text": [
            "\n",
            "Links:\n"
          ]
        },
        {
          "output_type": "display_data",
          "data": {
            "text/markdown": "### Fetching DSBA 5122 Visual Analytics and Storytelling, Fall 2024 – Robert Fox"
          },
          "metadata": {}
        },
        {
          "output_type": "display_data",
          "data": {
            "text/markdown": " -- _Found 1 files in https://dsba.charlotte.edu/2024/10/10/dsba-hcip-6160-database-systems-for-data-scientists-fall-2024-robert-fox/_"
          },
          "metadata": {}
        },
        {
          "output_type": "stream",
          "name": "stdout",
          "text": [
            "PDF saved as 'DSBA_HCIP-5122-Visual-Analytics-and-Storytelling-Fall-2024-Robert-Fox.pdf'\n"
          ]
        },
        {
          "output_type": "display_data",
          "data": {
            "text/markdown": "### Fetching DSBA 6010 Applications of Large Language Models, Fall 2024 – Ryan Wesslen"
          },
          "metadata": {}
        },
        {
          "output_type": "display_data",
          "data": {
            "text/markdown": " -- _Found 1 files in https://dsba.charlotte.edu/2024/10/10/dsba-6010-applications-of-large-language-models-fall-2024-ryan-wesslen/_"
          },
          "metadata": {}
        },
        {
          "output_type": "stream",
          "name": "stdout",
          "text": [
            "PDF saved as 'DSBA-6010-Applications-of-Large-Language-Models-Fall-2024-Ryan-Wesslen.pdf'\n"
          ]
        },
        {
          "output_type": "display_data",
          "data": {
            "text/markdown": "### Fetching DSBA 6010 Applied Computer Vision, Spring 2024 – Rick Chakra"
          },
          "metadata": {}
        },
        {
          "output_type": "display_data",
          "data": {
            "text/markdown": " -- _Found 1 files in https://dsba.charlotte.edu/2024/03/12/dsba-6010-applied-computer-vision-rick-chakra/_"
          },
          "metadata": {}
        },
        {
          "output_type": "stream",
          "name": "stdout",
          "text": [
            "PDF saved as 'DSBA 6010 Applied Computer Vision – Rick Chakra'\n"
          ]
        },
        {
          "output_type": "display_data",
          "data": {
            "text/markdown": "### Fetching DSBA 6010 Disability, Technology, & Artificial Intelligence, Spring 2023 – Damien Williams"
          },
          "metadata": {}
        },
        {
          "output_type": "display_data",
          "data": {
            "text/markdown": " -- _Found 1 files in https://dsba.charlotte.edu/dsba-6010-disability-technology-artificial-intelligence/_"
          },
          "metadata": {}
        },
        {
          "output_type": "stream",
          "name": "stdout",
          "text": [
            "PDF saved as 'Damien_Patrick_Williams_-_DSBA_6010_-_26287 – Damien Williams.pdf'\n"
          ]
        },
        {
          "output_type": "display_data",
          "data": {
            "text/markdown": "### Fetching DSBA 6010 Geospatial Data Analytics, Spring 2023 – Jean Claude Thill"
          },
          "metadata": {}
        },
        {
          "output_type": "display_data",
          "data": {
            "text/markdown": " -- _Found 1 files in https://dsba.charlotte.edu/dsba-6010-geospatial-data-analytics/_"
          },
          "metadata": {}
        },
        {
          "output_type": "stream",
          "name": "stdout",
          "text": [
            "PDF saved as 'DSBA6010-GEOG6030 Syllabus SP 2023 v30 – Jean-Claude Thill.pdf'\n"
          ]
        },
        {
          "output_type": "display_data",
          "data": {
            "text/markdown": "### Fetching DSBA 6010 Special Topic: Model Risk Management, Fall 2024 – Robert Fox"
          },
          "metadata": {}
        },
        {
          "output_type": "display_data",
          "data": {
            "text/markdown": " -- _Found 1 files in https://dsba.charlotte.edu/2024/10/10/dsba-6010-special-topic-model-risk-management-fall-2024-robert-fox/_"
          },
          "metadata": {}
        },
        {
          "output_type": "stream",
          "name": "stdout",
          "text": [
            "PDF saved as 'DSBA-6010-Model-Risk-Management-Fal'\n"
          ]
        },
        {
          "output_type": "display_data",
          "data": {
            "text/markdown": "### Fetching DSBA 6010 Special Topics: AI in Healthcare, Fall 2024 – Yaorong Ge"
          },
          "metadata": {}
        },
        {
          "output_type": "display_data",
          "data": {
            "text/markdown": " -- _Found 0 files in https://dsba.charlotte.edu/2024/10/10/dsba-6010-special-topics-ai-in-healthcare-fall-2024-yaorong-ge/_"
          },
          "metadata": {}
        },
        {
          "output_type": "display_data",
          "data": {
            "text/markdown": "### Fetching DSBA 6010 Special Topics: Building & Leading Data Organizations, Fall 2024 – Steven Jordan"
          },
          "metadata": {}
        },
        {
          "output_type": "display_data",
          "data": {
            "text/markdown": " -- _Found 1 files in https://dsba.charlotte.edu/2024/10/10/dsba-6010-special-topics-building-leading-data-organizations-fall-2024-steven-jordan/_"
          },
          "metadata": {}
        },
        {
          "output_type": "stream",
          "name": "stdout",
          "text": [
            "PDF saved as 'DSBA-6010-Fall-2024-Steven-Jordan.pdf'\n"
          ]
        },
        {
          "output_type": "display_data",
          "data": {
            "text/markdown": "### Fetching DSBA 6010 Traffic Safety, Spring 2023 – Srinivas Pulugurtha"
          },
          "metadata": {}
        },
        {
          "output_type": "display_data",
          "data": {
            "text/markdown": " -- _Found 0 files in https://dsba.charlotte.edu/dsba-6010-traffic-safety/_"
          },
          "metadata": {}
        },
        {
          "output_type": "display_data",
          "data": {
            "text/markdown": "### Fetching DSBA 6100 Big Data Analytics for Competitive Advantage, Spring 2023 – Daryl Nashold"
          },
          "metadata": {}
        },
        {
          "output_type": "display_data",
          "data": {
            "text/markdown": " -- _Found 1 files in https://dsba.charlotte.edu/dsba-6100-big-data-analytics-competitive-advantage-0/_"
          },
          "metadata": {}
        },
        {
          "output_type": "stream",
          "name": "stdout",
          "text": [
            "PDF saved as 'DSBA6100-U90_MBAD7090-U92_Spring 2023_Blaine Nashold – Daryl Nashold.pdf'\n"
          ]
        },
        {
          "output_type": "display_data",
          "data": {
            "text/markdown": "### Fetching DSBA 6112 Graduate Econometrics, Fall 2024 – Kelly Vosters"
          },
          "metadata": {}
        },
        {
          "output_type": "display_data",
          "data": {
            "text/markdown": " -- _Found 1 files in https://dsba.charlotte.edu/2024/10/10/dsba-econ-6112-graduate-econometrics-fall-2024-kelly-vosters/_"
          },
          "metadata": {}
        },
        {
          "output_type": "stream",
          "name": "stdout",
          "text": [
            "PDF saved as 'DSBA-6112-Graduate-Econometrics-Fall-2024-Kelly-Vosters.pdf'\n"
          ]
        },
        {
          "output_type": "display_data",
          "data": {
            "text/markdown": "### Fetching DSBA 6112 Graduate Econometrics, Spring 2023 – Kelly Vosters"
          },
          "metadata": {}
        },
        {
          "output_type": "display_data",
          "data": {
            "text/markdown": " -- _Found 1 files in https://dsba.charlotte.edu/dsba-6112-graduate-econometrics-2/_"
          },
          "metadata": {}
        },
        {
          "output_type": "stream",
          "name": "stdout",
          "text": [
            "PDF saved as 'DSBA6112-U90_202310 – Kelly Vosters.pdf'\n"
          ]
        },
        {
          "output_type": "display_data",
          "data": {
            "text/markdown": "### Fetching DSBA 6112 Graduate Econometrics, Spring 2024 – Kelly Vosters"
          },
          "metadata": {}
        },
        {
          "output_type": "display_data",
          "data": {
            "text/markdown": " -- _Found 1 files in https://dsba.charlotte.edu/2024/03/12/dsba-6112-graduate-econometrics-kelly-vosters/_"
          },
          "metadata": {}
        },
        {
          "output_type": "stream",
          "name": "stdout",
          "text": [
            "PDF saved as 'DSBA 6112 Graduate Econometrics – Kelly Vosters'\n"
          ]
        },
        {
          "output_type": "display_data",
          "data": {
            "text/markdown": "### Fetching DSBA 6115 Statistical Learning with Big Data, Fall 2024 – Jiancheng Jiang"
          },
          "metadata": {}
        },
        {
          "output_type": "display_data",
          "data": {
            "text/markdown": " -- _Found 1 files in https://dsba.charlotte.edu/2024/10/10/dsba-6115-statistical-learning-with-big-data-fall-2024-jiancheng-jiang/_"
          },
          "metadata": {}
        },
        {
          "output_type": "stream",
          "name": "stdout",
          "text": [
            "PDF saved as 'DSBA-6115-Fall-2024-Jiancheng-Jiang.pdf'\n"
          ]
        },
        {
          "output_type": "display_data",
          "data": {
            "text/markdown": "### Fetching DSBA 6122 Decision Modeling and Analysis, Fall 2024 – Xiuli He"
          },
          "metadata": {}
        },
        {
          "output_type": "display_data",
          "data": {
            "text/markdown": " -- _Found 1 files in https://dsba.charlotte.edu/2024/10/10/dsba-mbad-6122-decision-modeling-and-analysis-fall-2024-xiuli-he/_"
          },
          "metadata": {}
        },
        {
          "output_type": "stream",
          "name": "stdout",
          "text": [
            "PDF saved as 'DSBA-6122-Decision-Modeling-and-Analysis-Fall-2024-Xiuli-He-1.pdf'\n"
          ]
        },
        {
          "output_type": "display_data",
          "data": {
            "text/markdown": "### Fetching DSBA 6122 Decision Modeling and Analysis, Spring 2023 – Xiuli He"
          },
          "metadata": {}
        },
        {
          "output_type": "display_data",
          "data": {
            "text/markdown": " -- _Found 1 files in https://dsba.charlotte.edu/dsba-6122-decision-modeling-and-analysis-0/_"
          },
          "metadata": {}
        },
        {
          "output_type": "stream",
          "name": "stdout",
          "text": [
            "PDF saved as 'DSBA6122-U90-2023Spring.pdf'\n"
          ]
        },
        {
          "output_type": "display_data",
          "data": {
            "text/markdown": "### Fetching DSBA 6156 Applied Machine Learning, Fall 2024 – Rick Chakra"
          },
          "metadata": {}
        },
        {
          "output_type": "display_data",
          "data": {
            "text/markdown": " -- _Found 1 files in https://dsba.charlotte.edu/2024/10/10/dsba-6156-applied-machine-learning-fall-2024-rick-chakra/_"
          },
          "metadata": {}
        },
        {
          "output_type": "stream",
          "name": "stdout",
          "text": [
            "PDF saved as 'DSBA-6156-Applied-Machine-Learning-Fall-2024-Rick-Chakra.pdf'\n"
          ]
        },
        {
          "output_type": "display_data",
          "data": {
            "text/markdown": "### Fetching DSBA 6156 Applied Machine Learning, Spring 2023 – Joseph Tenini"
          },
          "metadata": {}
        },
        {
          "output_type": "display_data",
          "data": {
            "text/markdown": " -- _Found 0 files in https://dsba.charlotte.edu/dsba-6156-applied-machine-learning-4/_"
          },
          "metadata": {}
        },
        {
          "output_type": "display_data",
          "data": {
            "text/markdown": "### Fetching DSBA 6156 Applied Machine Learning, Spring 2023 – Rick Chakra"
          },
          "metadata": {}
        },
        {
          "output_type": "display_data",
          "data": {
            "text/markdown": " -- _Found 1 files in https://dsba.charlotte.edu/dsba-6156-applied-machine-learning-5/_"
          },
          "metadata": {}
        },
        {
          "output_type": "stream",
          "name": "stdout",
          "text": [
            "PDF saved as 'Syllabus for 202310-Spring 2023-DSBA-6156-U90-Applied Machine Learning – Rick Chakra.pdf'\n"
          ]
        },
        {
          "output_type": "display_data",
          "data": {
            "text/markdown": "### Fetching DSBA 6156 Applied Machine Learning, Spring 2024 – Rick Chakra"
          },
          "metadata": {}
        },
        {
          "output_type": "display_data",
          "data": {
            "text/markdown": " -- _Found 1 files in https://dsba.charlotte.edu/2024/03/12/dsba-6156-applied-machine-learning-rick-chakra/_"
          },
          "metadata": {}
        },
        {
          "output_type": "stream",
          "name": "stdout",
          "text": [
            "PDF saved as 'DSBA 6156 Applied Machine Learning – Rick Chakra'\n"
          ]
        },
        {
          "output_type": "display_data",
          "data": {
            "text/markdown": "### Fetching DSBA 6160 Database Systems for Data Scientists, Fall 2024 – Pamela Thompson"
          },
          "metadata": {}
        },
        {
          "output_type": "display_data",
          "data": {
            "text/markdown": " -- _Found 1 files in https://dsba.charlotte.edu/2024/10/10/dsba-6160-database-systems-for-data-scientists-fall-2024-pamela-thompson/_"
          },
          "metadata": {}
        },
        {
          "output_type": "stream",
          "name": "stdout",
          "text": [
            "PDF saved as 'DSBA_HCIP-6160-Database-Systems-for-Data-Scientists-Fall-2024-Pamela-Thompson.pdf'\n"
          ]
        },
        {
          "output_type": "display_data",
          "data": {
            "text/markdown": "### Fetching DSBA 6160 Database Systems for Data Scientists, Fall 2024 – Shih-Hsiung Chou"
          },
          "metadata": {}
        },
        {
          "output_type": "display_data",
          "data": {
            "text/markdown": " -- _Found 1 files in https://dsba.charlotte.edu/2024/10/10/dsba-6160-database-systems-for-data-scientists-fall-2024-shih-hsiung-chou/_"
          },
          "metadata": {}
        },
        {
          "output_type": "stream",
          "name": "stdout",
          "text": [
            "PDF saved as 'DSBA_HCIP-6160-Database-Systems-for-Data-Scientists-Fall-2024-Shih-Hsiung-Chou.pdf'\n"
          ]
        },
        {
          "output_type": "display_data",
          "data": {
            "text/markdown": "### Fetching DSBA 6160 Database Systems for Data Scientists, Spring 2023 – Pamela Thompson"
          },
          "metadata": {}
        },
        {
          "output_type": "display_data",
          "data": {
            "text/markdown": " -- _Found 1 files in https://dsba.charlotte.edu/dsba-6160-database-systems-data-scientists-2/_"
          },
          "metadata": {}
        },
        {
          "output_type": "stream",
          "name": "stdout",
          "text": [
            "PDF saved as 'DSBA_HCIP_6160_Thompson_Spring_2023 – Pamela Thompson.pdf'\n"
          ]
        },
        {
          "output_type": "display_data",
          "data": {
            "text/markdown": "### Fetching DSBA 6160 Database Systems for Data Scientists, Spring 2023 – Stephen Rohrer"
          },
          "metadata": {}
        },
        {
          "output_type": "display_data",
          "data": {
            "text/markdown": " -- _Found 1 files in https://dsba.charlotte.edu/dsba-6160-database-systems-data-scientists-4/_"
          },
          "metadata": {}
        },
        {
          "output_type": "stream",
          "name": "stdout",
          "text": [
            "Failed to retrieve the PDF. Status code: 404\n"
          ]
        },
        {
          "output_type": "display_data",
          "data": {
            "text/markdown": "### Fetching DSBA 6160 Database Systems for Data Scientists, Spring 2024 – Aaron Lee"
          },
          "metadata": {}
        },
        {
          "output_type": "display_data",
          "data": {
            "text/markdown": " -- _Found 1 files in https://dsba.charlotte.edu/2024/03/12/dsba-6160-database-systems-for-data-scientists-aaron-lee/_"
          },
          "metadata": {}
        },
        {
          "output_type": "stream",
          "name": "stdout",
          "text": [
            "PDF saved as 'DSBA 6160 Database Systems for Data Scientists – Aaron Lee'\n"
          ]
        },
        {
          "output_type": "display_data",
          "data": {
            "text/markdown": "### Fetching DSBA 6160 Database Systems for Data Scientists, Spring 2024 – Katie Hanks"
          },
          "metadata": {}
        },
        {
          "output_type": "display_data",
          "data": {
            "text/markdown": " -- _Found 1 files in https://dsba.charlotte.edu/dsba-6160-database-systems-data-scientists-3/_"
          },
          "metadata": {}
        },
        {
          "output_type": "stream",
          "name": "stdout",
          "text": [
            "PDF saved as 'Syllabus – DSBA-HCIP-6160_Spring_2023 – Katie Hanks.pdf'\n"
          ]
        },
        {
          "output_type": "display_data",
          "data": {
            "text/markdown": "### Fetching DSBA 6160 Database Systems for Data Scientists, Spring 2024 – Stephen Rohrer"
          },
          "metadata": {}
        },
        {
          "output_type": "display_data",
          "data": {
            "text/markdown": " -- _Found 1 files in https://dsba.charlotte.edu/2024/03/12/dsba-6160-database-systems-for-data-scientists-stephen-rohrer/_"
          },
          "metadata": {}
        },
        {
          "output_type": "stream",
          "name": "stdout",
          "text": [
            "PDF saved as 'DSBA 6160 Database Systems for Data Scientists – Stephen Rohrer'\n",
            "Error fetching or parsing link https://dsba.charlotte.edu/2024/03/12/dsba-6160-database-systems-for-data-scientists-stephen-rohrer/: EOF marker not found\n"
          ]
        },
        {
          "output_type": "display_data",
          "data": {
            "text/markdown": "### Fetching DSBA 6162 Knowledge Discovery and Databases, Fall 2024 – Xi (Sunshine) Nu"
          },
          "metadata": {}
        },
        {
          "output_type": "display_data",
          "data": {
            "text/markdown": " -- _Found 1 files in https://dsba.charlotte.edu/2024/10/10/dsba-6162-knowledge-discovery-and-databases-fall-2024-xi-sunshine-nu/_"
          },
          "metadata": {}
        },
        {
          "output_type": "stream",
          "name": "stdout",
          "text": [
            "PDF saved as 'DSBA_HCIP-6162-Knowledge-Discovery-and-Databases-Fall-2024-Xi-Sunshine-Niu-1.pdf'\n"
          ]
        },
        {
          "output_type": "display_data",
          "data": {
            "text/markdown": "### Fetching DSBA 6162 Knowledge Discovery in Databases (KDD), Spring 2024 – Xi (Sunshine) Niu"
          },
          "metadata": {}
        },
        {
          "output_type": "display_data",
          "data": {
            "text/markdown": " -- _Found 1 files in https://dsba.charlotte.edu/2024/03/12/dsba6162_syllabus_spring2024-xi-sunshine-niu/_"
          },
          "metadata": {}
        },
        {
          "output_type": "stream",
          "name": "stdout",
          "text": [
            "PDF saved as 'DSBA 6162 Knowledge Discovery in Databases (KDD) Xi (Sunshine) Niu'\n"
          ]
        },
        {
          "output_type": "display_data",
          "data": {
            "text/markdown": "### Fetching DSBA 6162 Knowledge Discovery in Databases Section, Spring 2023 – Zybszek Ras"
          },
          "metadata": {}
        },
        {
          "output_type": "display_data",
          "data": {
            "text/markdown": " -- _Found 1 files in https://dsba.charlotte.edu/dsba-6162-knowledge-discovery-databases-1/_"
          },
          "metadata": {}
        },
        {
          "output_type": "stream",
          "name": "stdout",
          "text": [
            "PDF saved as 'DSBA 6162 – Zbyszek Ras.pdf'\n"
          ]
        },
        {
          "output_type": "display_data",
          "data": {
            "text/markdown": "### Fetching DSBA 6165 AI and Deep Learning, Fall 2024 – Albert Park"
          },
          "metadata": {}
        },
        {
          "output_type": "display_data",
          "data": {
            "text/markdown": " -- _Found 1 files in https://dsba.charlotte.edu/2024/10/10/dsba-6165-ai-and-deep-learning-fall-2024-albert-park/_"
          },
          "metadata": {}
        },
        {
          "output_type": "stream",
          "name": "stdout",
          "text": [
            "PDF saved as 'DSBA-6165-AI-and-Deep-Learning-Fall-2024-Albert-Park-1.pdf'\n"
          ]
        },
        {
          "output_type": "display_data",
          "data": {
            "text/markdown": "### Fetching DSBA 6165 Artificial Intelligence & Deep Learning, Spring 2024- Minwoo Lee"
          },
          "metadata": {}
        },
        {
          "output_type": "display_data",
          "data": {
            "text/markdown": " -- _Found 0 files in https://dsba.charlotte.edu/2024/03/12/dsba-6165-artificial-intelligence-deep-learning-minwoo-lee/_"
          },
          "metadata": {}
        },
        {
          "output_type": "display_data",
          "data": {
            "text/markdown": "### Fetching DSBA 6188 Text Mining and Information Retrieval, Fall 2024 – Depeng Zu"
          },
          "metadata": {}
        },
        {
          "output_type": "display_data",
          "data": {
            "text/markdown": " -- _Found 1 files in https://dsba.charlotte.edu/2024/10/10/dsba-6188-text-mining-and-information-retrieval-fall-2024-depeng-zu/_"
          },
          "metadata": {}
        },
        {
          "output_type": "stream",
          "name": "stdout",
          "text": [
            "PDF saved as 'DSBA-6188-Text-Mining-and-Information-Retrieval-Fall-2024-Depeng-Xu.pdf'\n"
          ]
        },
        {
          "output_type": "display_data",
          "data": {
            "text/markdown": "### Fetching DSBA 6188 Text Mining and Information Retrieval, Spring 2023 – Xi (Sunshine) Niu"
          },
          "metadata": {}
        },
        {
          "output_type": "display_data",
          "data": {
            "text/markdown": " -- _Found 1 files in https://dsba.charlotte.edu/dsba-6188-text-mining-and-information-retrieval/_"
          },
          "metadata": {}
        },
        {
          "output_type": "stream",
          "name": "stdout",
          "text": [
            "PDF saved as 'DSBA6188_Syllabus_Spring2023_Niu – Xi (Sunshine) Niu.pdf'\n"
          ]
        },
        {
          "output_type": "display_data",
          "data": {
            "text/markdown": "### Fetching DSBA 6188 Text Mining and Information Retrieval, Spring 2024 – Chang Hsin Lee"
          },
          "metadata": {}
        },
        {
          "output_type": "display_data",
          "data": {
            "text/markdown": " -- _Found 1 files in https://dsba.charlotte.edu/2024/03/12/dsba-6188-text-mining-and-information-retrieval-chang-hsin-lee/_"
          },
          "metadata": {}
        },
        {
          "output_type": "stream",
          "name": "stdout",
          "text": [
            "PDF saved as 'DSBA 6188 Text Mining and Information Retrieval – Chang Hsin Lee & Ryan Wesslen'\n"
          ]
        },
        {
          "output_type": "display_data",
          "data": {
            "text/markdown": "### Fetching DSBA 6190 Cloud Computing for Data Analysis, Fall 2024 – Colby Ford"
          },
          "metadata": {}
        },
        {
          "output_type": "display_data",
          "data": {
            "text/markdown": " -- _Found 1 files in https://dsba.charlotte.edu/2024/10/10/dsba-6190-cloud-computing-for-data-analysis-fall-2024-colby-ford/_"
          },
          "metadata": {}
        },
        {
          "output_type": "stream",
          "name": "stdout",
          "text": [
            "PDF saved as 'DSBA-6190-Cloud-Computing-for-Data-Analysis-Fall-2024-Colby-Ford.pdf'\n"
          ]
        },
        {
          "output_type": "display_data",
          "data": {
            "text/markdown": "### Fetching DSBA 6190 Cloud Computing for Data Analysis, Spring 2023 – Colby Ford"
          },
          "metadata": {}
        },
        {
          "output_type": "display_data",
          "data": {
            "text/markdown": " -- _Found 1 files in https://dsba.charlotte.edu/dsba-6190-cloud-computing-data-analysis-2/_"
          },
          "metadata": {}
        },
        {
          "output_type": "stream",
          "name": "stdout",
          "text": [
            "PDF saved as 'DSBA-6190_Syllabus_Spring2023 – Colby Ford.pdf'\n"
          ]
        },
        {
          "output_type": "display_data",
          "data": {
            "text/markdown": "### Fetching DSBA 6201 Business Intelligence and Analytics, Fall 2024 – Chandra Subramaniam"
          },
          "metadata": {}
        },
        {
          "output_type": "display_data",
          "data": {
            "text/markdown": " -- _Found 1 files in https://dsba.charlotte.edu/2024/10/10/dsba-6201-business-intelligence-and-analytics-fall-2024-chandra-subramaniam/_"
          },
          "metadata": {}
        },
        {
          "output_type": "stream",
          "name": "stdout",
          "text": [
            "PDF saved as 'DSBA-6201-Business-Intelligence-and-Analytics-Fall-2024-Chandra-Subramaniam.pdf'\n"
          ]
        },
        {
          "output_type": "display_data",
          "data": {
            "text/markdown": "### Fetching DSBA 6201 Business Intelligence and Analytics, Fall 2024 – Kornelia Bastin"
          },
          "metadata": {}
        },
        {
          "output_type": "display_data",
          "data": {
            "text/markdown": " -- _Found 1 files in https://dsba.charlotte.edu/2024/10/10/dsba-6201-business-intelligence-and-analytics-fall-2024-kornelia-bastin/_"
          },
          "metadata": {}
        },
        {
          "output_type": "stream",
          "name": "stdout",
          "text": [
            "PDF saved as 'DSBA-6201-Business-Intelligence-and-Analytics-Fall-2024-Kornelia-Bastin.pdf'\n"
          ]
        },
        {
          "output_type": "display_data",
          "data": {
            "text/markdown": "### Fetching DSBA 6201 Business Intelligence and Analytics, Spring 2023 – Lina Zhou"
          },
          "metadata": {}
        },
        {
          "output_type": "display_data",
          "data": {
            "text/markdown": " -- _Found 1 files in https://dsba.charlotte.edu/dsba-6201-business-intelligence-and-analytics-7/_"
          },
          "metadata": {}
        },
        {
          "output_type": "stream",
          "name": "stdout",
          "text": [
            "PDF saved as 'MBAD DSBA6201 SP23 – Lina Zhou.pdf'\n"
          ]
        },
        {
          "output_type": "display_data",
          "data": {
            "text/markdown": "### Fetching DSBA 6201 Business Intelligence and Analytics, Spring 2023 – Monica Johar"
          },
          "metadata": {}
        },
        {
          "output_type": "display_data",
          "data": {
            "text/markdown": " -- _Found 1 files in https://dsba.charlotte.edu/dsba-6201-business-intelligence-and-analytics-6/_"
          },
          "metadata": {}
        },
        {
          "output_type": "stream",
          "name": "stdout",
          "text": [
            "PDF saved as 'MBAD DSBA 6201 Spring 2023 Syllabus (2).pdf'\n"
          ]
        },
        {
          "output_type": "display_data",
          "data": {
            "text/markdown": "### Fetching DSBA 6207 Business Project Management, Spring 2023 – Brad Williams"
          },
          "metadata": {}
        },
        {
          "output_type": "display_data",
          "data": {
            "text/markdown": " -- _Found 0 files in https://dsba.charlotte.edu/dsba-6207-business-project-management/_"
          },
          "metadata": {}
        },
        {
          "output_type": "display_data",
          "data": {
            "text/markdown": "### Fetching DSBA 6208 Operations Management, Fall 2024 – Andrew Fraher"
          },
          "metadata": {}
        },
        {
          "output_type": "display_data",
          "data": {
            "text/markdown": " -- _Found 1 files in https://dsba.charlotte.edu/2024/10/10/dsba-mbad-6208-operations-management-fall-2024-andrew-fraher/_"
          },
          "metadata": {}
        },
        {
          "output_type": "stream",
          "name": "stdout",
          "text": [
            "PDF saved as 'DSBA-6208-Operations-Management-Fall-2024-Andy-Fraher.pdf'\n"
          ]
        },
        {
          "output_type": "display_data",
          "data": {
            "text/markdown": "### Fetching DSBA 6211 Advanced Business Analytics, Fall 2024 – Kexin Zhao"
          },
          "metadata": {}
        },
        {
          "output_type": "display_data",
          "data": {
            "text/markdown": " -- _Found 1 files in https://dsba.charlotte.edu/2024/10/10/dsba-6211-advanced-business-analytics-fall-2024-kexin-zhao/_"
          },
          "metadata": {}
        },
        {
          "output_type": "stream",
          "name": "stdout",
          "text": [
            "PDF saved as 'DSBA-6211-Advanced-Business-Analytics-Fall-2024-Kexin-Zhao.pdf'\n"
          ]
        },
        {
          "output_type": "display_data",
          "data": {
            "text/markdown": "### Fetching DSBA 6211 Advanced Business Analytics, Fall 2024 – Sungjune Park"
          },
          "metadata": {}
        },
        {
          "output_type": "display_data",
          "data": {
            "text/markdown": " -- _Found 1 files in https://dsba.charlotte.edu/2024/10/10/dsba-mbad-6211-advanced-business-analytics-fall-2024-sungjune-park/_"
          },
          "metadata": {}
        },
        {
          "output_type": "stream",
          "name": "stdout",
          "text": [
            "PDF saved as 'DSBA-6211-Advanced-Business-Analytics-Fall-2024-SungJune-Park.pdf'\n"
          ]
        },
        {
          "output_type": "display_data",
          "data": {
            "text/markdown": "### Fetching DSBA 6211 Advanced Business Analytics, Spring 2023 – Kexin Zhao"
          },
          "metadata": {}
        },
        {
          "output_type": "display_data",
          "data": {
            "text/markdown": " -- _Found 0 files in https://dsba.charlotte.edu/dsba-6211-advanced-business-analytics-3/_"
          },
          "metadata": {}
        },
        {
          "output_type": "display_data",
          "data": {
            "text/markdown": "### Fetching DSBA 6211 Advanced Business Analytics, Spring 2023 – Xue Guo"
          },
          "metadata": {}
        },
        {
          "output_type": "display_data",
          "data": {
            "text/markdown": " -- _Found 0 files in https://dsba.charlotte.edu/dsba-6211-advanced-business-analytics/_"
          },
          "metadata": {}
        },
        {
          "output_type": "display_data",
          "data": {
            "text/markdown": "### Fetching DSBA 6211 Advanced Business Analytics, Spring 2024 – Kornelia Bastin"
          },
          "metadata": {}
        },
        {
          "output_type": "display_data",
          "data": {
            "text/markdown": " -- _Found 1 files in https://dsba.charlotte.edu/2024/03/12/dsba-6211-advanced-business-analytics-kornelia-bastin/_"
          },
          "metadata": {}
        },
        {
          "output_type": "stream",
          "name": "stdout",
          "text": [
            "PDF saved as 'DSBA 6211 Advanced Business Analytics – Kornelia Bastin'\n"
          ]
        },
        {
          "output_type": "display_data",
          "data": {
            "text/markdown": "### Fetching DSBA 6211 Advanced Business Analytics, Spring 2024 – Xue Guo"
          },
          "metadata": {}
        },
        {
          "output_type": "display_data",
          "data": {
            "text/markdown": " -- _Found 1 files in https://dsba.charlotte.edu/2024/03/12/dsba-6211-advanced-business-analytics-xue-guo/_"
          },
          "metadata": {}
        },
        {
          "output_type": "stream",
          "name": "stdout",
          "text": [
            "PDF saved as 'DSBA 6211 Advanced Business Analytics – Xue Guo'\n",
            "Error fetching or parsing link https://dsba.charlotte.edu/2024/03/12/dsba-6211-advanced-business-analytics-xue-guo/: EOF marker not found\n"
          ]
        },
        {
          "output_type": "display_data",
          "data": {
            "text/markdown": "### Fetching DSBA 6211 Advanced Business Analytics, Summer 2024 – Ryan Wesslen"
          },
          "metadata": {}
        },
        {
          "output_type": "display_data",
          "data": {
            "text/markdown": " -- _Found 1 files in https://dsba.charlotte.edu/2024/10/10/dsba-mbad-6211-advanced-business-analytics-summer-2024-ryan-wesslen/_"
          },
          "metadata": {}
        },
        {
          "output_type": "stream",
          "name": "stdout",
          "text": [
            "PDF saved as 'DSBA-6211-Advanced-Business-Analytics-Summer-2024-Ryan-Wesslen.pdf'\n"
          ]
        },
        {
          "output_type": "display_data",
          "data": {
            "text/markdown": "### Fetching DSBA 6236 Network Science, Fall 2024 – Mirsad Hadzikadic"
          },
          "metadata": {}
        },
        {
          "output_type": "display_data",
          "data": {
            "text/markdown": " -- _Found 1 files in https://dsba.charlotte.edu/2024/10/10/dsba-6236-network-science-fall-2024-mirsad-hadzikadic/_"
          },
          "metadata": {}
        },
        {
          "output_type": "stream",
          "name": "stdout",
          "text": [
            "PDF saved as 'DSBA-6326-Network-Science-Fall-2024-Mirsad-Hadzikadic.pdf'\n"
          ]
        },
        {
          "output_type": "display_data",
          "data": {
            "text/markdown": "### Fetching DSBA 6276 Strategic Business Analytics, Spring 2023 – Angela Liu"
          },
          "metadata": {}
        },
        {
          "output_type": "display_data",
          "data": {
            "text/markdown": " -- _Found 1 files in https://dsba.charlotte.edu/dsba-6276-strategic-business-analytics-1/_"
          },
          "metadata": {}
        },
        {
          "output_type": "stream",
          "name": "stdout",
          "text": [
            "PDF saved as 'MBAD_DSBA6276_Syllabus_spr 2023 – Angela Xia Liu.pdf'\n"
          ]
        },
        {
          "output_type": "display_data",
          "data": {
            "text/markdown": "### Fetching DSBA 6276 Strategic Business Analytics, Spring 2024 – Angela Xia Liu"
          },
          "metadata": {}
        },
        {
          "output_type": "display_data",
          "data": {
            "text/markdown": " -- _Found 1 files in https://dsba.charlotte.edu/2024/03/12/dsba-6276-strategic-business-analytics-angela-xia-liu/_"
          },
          "metadata": {}
        },
        {
          "output_type": "stream",
          "name": "stdout",
          "text": [
            "PDF saved as 'DSBA 6276 Strategic Business Analytics – Angela Xia Liu'\n"
          ]
        },
        {
          "output_type": "display_data",
          "data": {
            "text/markdown": "### Fetching DSBA 6277 Social Media Marketing and Analytics, Fall 2024 – Nima Jalali"
          },
          "metadata": {}
        },
        {
          "output_type": "display_data",
          "data": {
            "text/markdown": " -- _Found 1 files in https://dsba.charlotte.edu/2024/10/10/dsba-mbad-6277-social-media-marketing-and-analytics-fall-2024-nima-jalali/_"
          },
          "metadata": {}
        },
        {
          "output_type": "stream",
          "name": "stdout",
          "text": [
            "PDF saved as 'DSBA-6277-Social-Media-Marketing-and-Analytics-Fall-2024-Nima-Jalali.pdf'\n"
          ]
        },
        {
          "output_type": "display_data",
          "data": {
            "text/markdown": "### Fetching DSBA 6284 Digital Marketing Analytics, Spring 2023 – Ming Chen"
          },
          "metadata": {}
        },
        {
          "output_type": "display_data",
          "data": {
            "text/markdown": " -- _Found 1 files in https://dsba.charlotte.edu/dsba-6284-digital-marketing-analytics/_"
          },
          "metadata": {}
        },
        {
          "output_type": "stream",
          "name": "stdout",
          "text": [
            "PDF saved as 'DSBA6284 Syllabus_Ming Chen – Ming Chen.pdf'\n"
          ]
        },
        {
          "output_type": "display_data",
          "data": {
            "text/markdown": "### Fetching DSBA 6284 Digital Marketing Analytics, Spring 2024 – Ming Chen"
          },
          "metadata": {}
        },
        {
          "output_type": "display_data",
          "data": {
            "text/markdown": " -- _Found 1 files in https://dsba.charlotte.edu/2024/03/12/dsba-6284-digital-marketing-analytics-ming-chen/_"
          },
          "metadata": {}
        },
        {
          "output_type": "stream",
          "name": "stdout",
          "text": [
            "PDF saved as 'DSBA 6284 Digital Marketing Analytics – Ming Chen'\n"
          ]
        },
        {
          "output_type": "display_data",
          "data": {
            "text/markdown": "### Fetching DSBA 6400 Internship, Spring 2023 – Doug Hague"
          },
          "metadata": {}
        },
        {
          "output_type": "display_data",
          "data": {
            "text/markdown": " -- _Found 1 files in https://dsba.charlotte.edu/dsba-6400-internship-2/_"
          },
          "metadata": {}
        },
        {
          "output_type": "stream",
          "name": "stdout",
          "text": [
            "PDF saved as 'Spring 2023 DSBA and HCIP 6400 – Doug Hague.pdf'\n"
          ]
        },
        {
          "output_type": "display_data",
          "data": {
            "text/markdown": "### Fetching DSBA 6500 Complex Adaptive Systems, Spring 2024 – Mirsad Hadzikadic"
          },
          "metadata": {}
        },
        {
          "output_type": "display_data",
          "data": {
            "text/markdown": " -- _Found 1 files in https://dsba.charlotte.edu/2024/03/12/dsba-6500-complex-adaptive-systems-mirsad-hadzikadic/_"
          },
          "metadata": {}
        },
        {
          "output_type": "stream",
          "name": "stdout",
          "text": [
            "PDF saved as 'DSBA 6500 Complex Adaptive Systems – Mirsad Hadzikadic'\n"
          ]
        },
        {
          "output_type": "display_data",
          "data": {
            "text/plain": [
              "                                                 link  \\\n",
              "0   https://dsba.charlotte.edu/wp-content/uploads/...   \n",
              "1   https://dsba.charlotte.edu/wp-content/uploads/...   \n",
              "2   https://dsba.charlotte.edu/wp-content/uploads/...   \n",
              "3   https://dsba.charlotte.edu/wp-content/uploads/...   \n",
              "4   https://dsba.charlotte.edu/wp-content/uploads/...   \n",
              "5   https://dsba.charlotte.edu/wp-content/uploads/...   \n",
              "6   https://dsba.charlotte.edu/wp-content/uploads/...   \n",
              "7   https://dsba.charlotte.edu/wp-content/uploads/...   \n",
              "8   https://dsba.charlotte.edu/wp-content/uploads/...   \n",
              "9   https://dsba.charlotte.edu/wp-content/uploads/...   \n",
              "10  https://dsba.charlotte.edu/wp-content/uploads/...   \n",
              "11  https://dsba.charlotte.edu/wp-content/uploads/...   \n",
              "12  https://dsba.charlotte.edu/wp-content/uploads/...   \n",
              "13  https://dsba.charlotte.edu/wp-content/uploads/...   \n",
              "14  https://dsba.charlotte.edu/wp-content/uploads/...   \n",
              "15  https://dsba.charlotte.edu/wp-content/uploads/...   \n",
              "16  https://dsba.charlotte.edu/wp-content/uploads/...   \n",
              "17  https://dsba.charlotte.edu/wp-content/uploads/...   \n",
              "18  https://dsba.charlotte.edu/wp-content/uploads/...   \n",
              "19  https://dsba.charlotte.edu/wp-content/uploads/...   \n",
              "20  https://dsba.charlotte.edu/sites/dsba.charlott...   \n",
              "21  https://dsba.charlotte.edu/wp-content/uploads/...   \n",
              "22  https://dsba.charlotte.edu/wp-content/uploads/...   \n",
              "23  https://dsba.charlotte.edu/wp-content/uploads/...   \n",
              "24  https://dsba.charlotte.edu/wp-content/uploads/...   \n",
              "25  https://dsba.charlotte.edu/wp-content/uploads/...   \n",
              "26  https://dsba.charlotte.edu/wp-content/uploads/...   \n",
              "27  https://dsba.charlotte.edu/wp-content/uploads/...   \n",
              "28  https://dsba.charlotte.edu/wp-content/uploads/...   \n",
              "29  https://dsba.charlotte.edu/wp-content/uploads/...   \n",
              "30  https://dsba.charlotte.edu/wp-content/uploads/...   \n",
              "31  https://dsba.charlotte.edu/wp-content/uploads/...   \n",
              "32  https://dsba.charlotte.edu/wp-content/uploads/...   \n",
              "33  https://dsba.charlotte.edu/wp-content/uploads/...   \n",
              "34  https://dsba.charlotte.edu/wp-content/uploads/...   \n",
              "35  https://dsba.charlotte.edu/wp-content/uploads/...   \n",
              "36  https://dsba.charlotte.edu/wp-content/uploads/...   \n",
              "37  https://dsba.charlotte.edu/wp-content/uploads/...   \n",
              "38  https://dsba.charlotte.edu/wp-content/uploads/...   \n",
              "39  https://dsba.charlotte.edu/wp-content/uploads/...   \n",
              "40  https://dsba.charlotte.edu/wp-content/uploads/...   \n",
              "41  https://dsba.charlotte.edu/wp-content/uploads/...   \n",
              "42  https://dsba.charlotte.edu/wp-content/uploads/...   \n",
              "43  https://dsba.charlotte.edu/wp-content/uploads/...   \n",
              "44  https://dsba.charlotte.edu/wp-content/uploads/...   \n",
              "45  https://dsba.charlotte.edu/wp-content/uploads/...   \n",
              "46  https://dsba.charlotte.edu/wp-content/uploads/...   \n",
              "47  https://dsba.charlotte.edu/wp-content/uploads/...   \n",
              "48  https://dsba.charlotte.edu/wp-content/uploads/...   \n",
              "\n",
              "                                             filename  \\\n",
              "0   DSBA_HCIP-5122-Visual-Analytics-and-Storytelli...   \n",
              "1   DSBA-6010-Applications-of-Large-Language-Model...   \n",
              "2     DSBA 6010 Applied Computer Vision – Rick Chakra   \n",
              "3   Damien_Patrick_Williams_-_DSBA_6010_-_26287 – ...   \n",
              "4   DSBA6010-GEOG6030 Syllabus SP 2023 v30 – Jean-...   \n",
              "5                 DSBA-6010-Model-Risk-Management-Fal   \n",
              "6               DSBA-6010-Fall-2024-Steven-Jordan.pdf   \n",
              "7   DSBA6100-U90_MBAD7090-U92_Spring 2023_Blaine N...   \n",
              "8   DSBA-6112-Graduate-Econometrics-Fall-2024-Kell...   \n",
              "9             DSBA6112-U90_202310 – Kelly Vosters.pdf   \n",
              "10    DSBA 6112 Graduate Econometrics – Kelly Vosters   \n",
              "11            DSBA-6115-Fall-2024-Jiancheng-Jiang.pdf   \n",
              "12  DSBA-6122-Decision-Modeling-and-Analysis-Fall-...   \n",
              "13                        DSBA6122-U90-2023Spring.pdf   \n",
              "14  DSBA-6156-Applied-Machine-Learning-Fall-2024-R...   \n",
              "15  Syllabus for 202310-Spring 2023-DSBA-6156-U90-...   \n",
              "16   DSBA 6156 Applied Machine Learning – Rick Chakra   \n",
              "17  DSBA_HCIP-6160-Database-Systems-for-Data-Scien...   \n",
              "18  DSBA_HCIP-6160-Database-Systems-for-Data-Scien...   \n",
              "19  DSBA_HCIP_6160_Thompson_Spring_2023 – Pamela T...   \n",
              "20  Syllabus – DSBA-HCIP-6160_Spring_2023 _rev4.0....   \n",
              "21  DSBA 6160 Database Systems for Data Scientists...   \n",
              "22  Syllabus – DSBA-HCIP-6160_Spring_2023 – Katie ...   \n",
              "23  DSBA_HCIP-6162-Knowledge-Discovery-and-Databas...   \n",
              "24  DSBA 6162 Knowledge Discovery in Databases (KD...   \n",
              "25                        DSBA 6162 – Zbyszek Ras.pdf   \n",
              "26  DSBA-6165-AI-and-Deep-Learning-Fall-2024-Alber...   \n",
              "27  DSBA-6188-Text-Mining-and-Information-Retrieva...   \n",
              "28  DSBA6188_Syllabus_Spring2023_Niu – Xi (Sunshin...   \n",
              "29  DSBA 6188 Text Mining and Information Retrieva...   \n",
              "30  DSBA-6190-Cloud-Computing-for-Data-Analysis-Fa...   \n",
              "31     DSBA-6190_Syllabus_Spring2023 – Colby Ford.pdf   \n",
              "32  DSBA-6201-Business-Intelligence-and-Analytics-...   \n",
              "33  DSBA-6201-Business-Intelligence-and-Analytics-...   \n",
              "34                 MBAD DSBA6201 SP23 – Lina Zhou.pdf   \n",
              "35        MBAD DSBA 6201 Spring 2023 Syllabus (2).pdf   \n",
              "36  DSBA-6208-Operations-Management-Fall-2024-Andy...   \n",
              "37  DSBA-6211-Advanced-Business-Analytics-Fall-202...   \n",
              "38  DSBA-6211-Advanced-Business-Analytics-Fall-202...   \n",
              "39  DSBA 6211 Advanced Business Analytics – Kornel...   \n",
              "40  DSBA-6211-Advanced-Business-Analytics-Summer-2...   \n",
              "41  DSBA-6326-Network-Science-Fall-2024-Mirsad-Had...   \n",
              "42  MBAD_DSBA6276_Syllabus_spr 2023 – Angela Xia L...   \n",
              "43  DSBA 6276 Strategic Business Analytics – Angel...   \n",
              "44  DSBA-6277-Social-Media-Marketing-and-Analytics...   \n",
              "45        DSBA6284 Syllabus_Ming Chen – Ming Chen.pdf   \n",
              "46  DSBA 6284 Digital Marketing Analytics – Ming Chen   \n",
              "47    Spring 2023 DSBA and HCIP 6400 – Doug Hague.pdf   \n",
              "48  DSBA 6500 Complex Adaptive Systems – Mirsad Ha...   \n",
              "\n",
              "                                               parent  \\\n",
              "0   https://dsba.charlotte.edu/2024/10/10/dsba-hci...   \n",
              "1   https://dsba.charlotte.edu/2024/10/10/dsba-601...   \n",
              "2   https://dsba.charlotte.edu/2024/03/12/dsba-601...   \n",
              "3   https://dsba.charlotte.edu/dsba-6010-disabilit...   \n",
              "4   https://dsba.charlotte.edu/dsba-6010-geospatia...   \n",
              "5   https://dsba.charlotte.edu/2024/10/10/dsba-601...   \n",
              "6   https://dsba.charlotte.edu/2024/10/10/dsba-601...   \n",
              "7   https://dsba.charlotte.edu/dsba-6100-big-data-...   \n",
              "8   https://dsba.charlotte.edu/2024/10/10/dsba-eco...   \n",
              "9   https://dsba.charlotte.edu/dsba-6112-graduate-...   \n",
              "10  https://dsba.charlotte.edu/2024/03/12/dsba-611...   \n",
              "11  https://dsba.charlotte.edu/2024/10/10/dsba-611...   \n",
              "12  https://dsba.charlotte.edu/2024/10/10/dsba-mba...   \n",
              "13  https://dsba.charlotte.edu/dsba-6122-decision-...   \n",
              "14  https://dsba.charlotte.edu/2024/10/10/dsba-615...   \n",
              "15  https://dsba.charlotte.edu/dsba-6156-applied-m...   \n",
              "16  https://dsba.charlotte.edu/2024/03/12/dsba-615...   \n",
              "17  https://dsba.charlotte.edu/2024/10/10/dsba-616...   \n",
              "18  https://dsba.charlotte.edu/2024/10/10/dsba-616...   \n",
              "19  https://dsba.charlotte.edu/dsba-6160-database-...   \n",
              "20  https://dsba.charlotte.edu/dsba-6160-database-...   \n",
              "21  https://dsba.charlotte.edu/2024/03/12/dsba-616...   \n",
              "22  https://dsba.charlotte.edu/dsba-6160-database-...   \n",
              "23  https://dsba.charlotte.edu/2024/10/10/dsba-616...   \n",
              "24  https://dsba.charlotte.edu/2024/03/12/dsba6162...   \n",
              "25  https://dsba.charlotte.edu/dsba-6162-knowledge...   \n",
              "26  https://dsba.charlotte.edu/2024/10/10/dsba-616...   \n",
              "27  https://dsba.charlotte.edu/2024/10/10/dsba-618...   \n",
              "28  https://dsba.charlotte.edu/dsba-6188-text-mini...   \n",
              "29  https://dsba.charlotte.edu/2024/03/12/dsba-618...   \n",
              "30  https://dsba.charlotte.edu/2024/10/10/dsba-619...   \n",
              "31  https://dsba.charlotte.edu/dsba-6190-cloud-com...   \n",
              "32  https://dsba.charlotte.edu/2024/10/10/dsba-620...   \n",
              "33  https://dsba.charlotte.edu/2024/10/10/dsba-620...   \n",
              "34  https://dsba.charlotte.edu/dsba-6201-business-...   \n",
              "35  https://dsba.charlotte.edu/dsba-6201-business-...   \n",
              "36  https://dsba.charlotte.edu/2024/10/10/dsba-mba...   \n",
              "37  https://dsba.charlotte.edu/2024/10/10/dsba-621...   \n",
              "38  https://dsba.charlotte.edu/2024/10/10/dsba-mba...   \n",
              "39  https://dsba.charlotte.edu/2024/03/12/dsba-621...   \n",
              "40  https://dsba.charlotte.edu/2024/10/10/dsba-mba...   \n",
              "41  https://dsba.charlotte.edu/2024/10/10/dsba-623...   \n",
              "42  https://dsba.charlotte.edu/dsba-6276-strategic...   \n",
              "43  https://dsba.charlotte.edu/2024/03/12/dsba-627...   \n",
              "44  https://dsba.charlotte.edu/2024/10/10/dsba-mba...   \n",
              "45  https://dsba.charlotte.edu/dsba-6284-digital-m...   \n",
              "46  https://dsba.charlotte.edu/2024/03/12/dsba-628...   \n",
              "47  https://dsba.charlotte.edu/dsba-6400-internshi...   \n",
              "48  https://dsba.charlotte.edu/2024/03/12/dsba-650...   \n",
              "\n",
              "                                                title  \n",
              "0   DSBA 5122 Visual Analytics and Storytelling, F...  \n",
              "1   DSBA 6010 Applications of Large Language Model...  \n",
              "2   DSBA 6010 Applied Computer Vision, Spring 2024...  \n",
              "3   DSBA 6010 Disability, Technology, & Artificial...  \n",
              "4   DSBA 6010 Geospatial Data Analytics, Spring 20...  \n",
              "5   DSBA 6010 Special Topic: Model Risk Management...  \n",
              "6   DSBA 6010 Special Topics: Building & Leading D...  \n",
              "7   DSBA 6100 Big Data Analytics for Competitive A...  \n",
              "8   DSBA 6112 Graduate Econometrics, Fall 2024 – K...  \n",
              "9   DSBA 6112 Graduate Econometrics, Spring 2023 –...  \n",
              "10  DSBA 6112 Graduate Econometrics, Spring 2024 –...  \n",
              "11  DSBA 6115 Statistical Learning with Big Data, ...  \n",
              "12  DSBA 6122 Decision Modeling and Analysis, Fall...  \n",
              "13  DSBA 6122 Decision Modeling and Analysis, Spri...  \n",
              "14  DSBA 6156 Applied Machine Learning, Fall 2024 ...  \n",
              "15  DSBA 6156 Applied Machine Learning, Spring 202...  \n",
              "16  DSBA 6156 Applied Machine Learning, Spring 202...  \n",
              "17  DSBA 6160 Database Systems for Data Scientists...  \n",
              "18  DSBA 6160 Database Systems for Data Scientists...  \n",
              "19  DSBA 6160 Database Systems for Data Scientists...  \n",
              "20  DSBA 6160 Database Systems for Data Scientists...  \n",
              "21  DSBA 6160 Database Systems for Data Scientists...  \n",
              "22  DSBA 6160 Database Systems for Data Scientists...  \n",
              "23  DSBA 6162 Knowledge Discovery and Databases, F...  \n",
              "24  DSBA 6162 Knowledge Discovery in Databases (KD...  \n",
              "25  DSBA 6162 Knowledge Discovery in Databases Sec...  \n",
              "26  DSBA 6165 AI and Deep Learning, Fall 2024 – Al...  \n",
              "27  DSBA 6188 Text Mining and Information Retrieva...  \n",
              "28  DSBA 6188 Text Mining and Information Retrieva...  \n",
              "29  DSBA 6188 Text Mining and Information Retrieva...  \n",
              "30  DSBA 6190 Cloud Computing for Data Analysis, F...  \n",
              "31  DSBA 6190 Cloud Computing for Data Analysis, S...  \n",
              "32  DSBA 6201 Business Intelligence and Analytics,...  \n",
              "33  DSBA 6201 Business Intelligence and Analytics,...  \n",
              "34  DSBA 6201 Business Intelligence and Analytics,...  \n",
              "35  DSBA 6201 Business Intelligence and Analytics,...  \n",
              "36  DSBA 6208 Operations Management, Fall 2024 – A...  \n",
              "37  DSBA 6211 Advanced Business Analytics, Fall 20...  \n",
              "38  DSBA 6211 Advanced Business Analytics, Fall 20...  \n",
              "39  DSBA 6211 Advanced Business Analytics, Spring ...  \n",
              "40  DSBA 6211 Advanced Business Analytics, Summer ...  \n",
              "41  DSBA 6236 Network Science, Fall 2024 – Mirsad ...  \n",
              "42  DSBA 6276 Strategic Business Analytics, Spring...  \n",
              "43  DSBA 6276 Strategic Business Analytics, Spring...  \n",
              "44  DSBA 6277 Social Media Marketing and Analytics...  \n",
              "45  DSBA 6284 Digital Marketing Analytics, Spring ...  \n",
              "46  DSBA 6284 Digital Marketing Analytics, Spring ...  \n",
              "47     DSBA 6400 Internship, Spring 2023 – Doug Hague  \n",
              "48  DSBA 6500 Complex Adaptive Systems, Spring 202...  "
            ],
            "text/html": [
              "\n",
              "  <div id=\"df-758d52cb-9f8f-4c12-be9a-420deef12135\" class=\"colab-df-container\">\n",
              "    <div>\n",
              "<style scoped>\n",
              "    .dataframe tbody tr th:only-of-type {\n",
              "        vertical-align: middle;\n",
              "    }\n",
              "\n",
              "    .dataframe tbody tr th {\n",
              "        vertical-align: top;\n",
              "    }\n",
              "\n",
              "    .dataframe thead th {\n",
              "        text-align: right;\n",
              "    }\n",
              "</style>\n",
              "<table border=\"1\" class=\"dataframe\">\n",
              "  <thead>\n",
              "    <tr style=\"text-align: right;\">\n",
              "      <th></th>\n",
              "      <th>link</th>\n",
              "      <th>filename</th>\n",
              "      <th>parent</th>\n",
              "      <th>title</th>\n",
              "    </tr>\n",
              "  </thead>\n",
              "  <tbody>\n",
              "    <tr>\n",
              "      <th>0</th>\n",
              "      <td>https://dsba.charlotte.edu/wp-content/uploads/...</td>\n",
              "      <td>DSBA_HCIP-5122-Visual-Analytics-and-Storytelli...</td>\n",
              "      <td>https://dsba.charlotte.edu/2024/10/10/dsba-hci...</td>\n",
              "      <td>DSBA 5122 Visual Analytics and Storytelling, F...</td>\n",
              "    </tr>\n",
              "    <tr>\n",
              "      <th>1</th>\n",
              "      <td>https://dsba.charlotte.edu/wp-content/uploads/...</td>\n",
              "      <td>DSBA-6010-Applications-of-Large-Language-Model...</td>\n",
              "      <td>https://dsba.charlotte.edu/2024/10/10/dsba-601...</td>\n",
              "      <td>DSBA 6010 Applications of Large Language Model...</td>\n",
              "    </tr>\n",
              "    <tr>\n",
              "      <th>2</th>\n",
              "      <td>https://dsba.charlotte.edu/wp-content/uploads/...</td>\n",
              "      <td>DSBA 6010 Applied Computer Vision – Rick Chakra</td>\n",
              "      <td>https://dsba.charlotte.edu/2024/03/12/dsba-601...</td>\n",
              "      <td>DSBA 6010 Applied Computer Vision, Spring 2024...</td>\n",
              "    </tr>\n",
              "    <tr>\n",
              "      <th>3</th>\n",
              "      <td>https://dsba.charlotte.edu/wp-content/uploads/...</td>\n",
              "      <td>Damien_Patrick_Williams_-_DSBA_6010_-_26287 – ...</td>\n",
              "      <td>https://dsba.charlotte.edu/dsba-6010-disabilit...</td>\n",
              "      <td>DSBA 6010 Disability, Technology, &amp; Artificial...</td>\n",
              "    </tr>\n",
              "    <tr>\n",
              "      <th>4</th>\n",
              "      <td>https://dsba.charlotte.edu/wp-content/uploads/...</td>\n",
              "      <td>DSBA6010-GEOG6030 Syllabus SP 2023 v30 – Jean-...</td>\n",
              "      <td>https://dsba.charlotte.edu/dsba-6010-geospatia...</td>\n",
              "      <td>DSBA 6010 Geospatial Data Analytics, Spring 20...</td>\n",
              "    </tr>\n",
              "    <tr>\n",
              "      <th>5</th>\n",
              "      <td>https://dsba.charlotte.edu/wp-content/uploads/...</td>\n",
              "      <td>DSBA-6010-Model-Risk-Management-Fal</td>\n",
              "      <td>https://dsba.charlotte.edu/2024/10/10/dsba-601...</td>\n",
              "      <td>DSBA 6010 Special Topic: Model Risk Management...</td>\n",
              "    </tr>\n",
              "    <tr>\n",
              "      <th>6</th>\n",
              "      <td>https://dsba.charlotte.edu/wp-content/uploads/...</td>\n",
              "      <td>DSBA-6010-Fall-2024-Steven-Jordan.pdf</td>\n",
              "      <td>https://dsba.charlotte.edu/2024/10/10/dsba-601...</td>\n",
              "      <td>DSBA 6010 Special Topics: Building &amp; Leading D...</td>\n",
              "    </tr>\n",
              "    <tr>\n",
              "      <th>7</th>\n",
              "      <td>https://dsba.charlotte.edu/wp-content/uploads/...</td>\n",
              "      <td>DSBA6100-U90_MBAD7090-U92_Spring 2023_Blaine N...</td>\n",
              "      <td>https://dsba.charlotte.edu/dsba-6100-big-data-...</td>\n",
              "      <td>DSBA 6100 Big Data Analytics for Competitive A...</td>\n",
              "    </tr>\n",
              "    <tr>\n",
              "      <th>8</th>\n",
              "      <td>https://dsba.charlotte.edu/wp-content/uploads/...</td>\n",
              "      <td>DSBA-6112-Graduate-Econometrics-Fall-2024-Kell...</td>\n",
              "      <td>https://dsba.charlotte.edu/2024/10/10/dsba-eco...</td>\n",
              "      <td>DSBA 6112 Graduate Econometrics, Fall 2024 – K...</td>\n",
              "    </tr>\n",
              "    <tr>\n",
              "      <th>9</th>\n",
              "      <td>https://dsba.charlotte.edu/wp-content/uploads/...</td>\n",
              "      <td>DSBA6112-U90_202310 – Kelly Vosters.pdf</td>\n",
              "      <td>https://dsba.charlotte.edu/dsba-6112-graduate-...</td>\n",
              "      <td>DSBA 6112 Graduate Econometrics, Spring 2023 –...</td>\n",
              "    </tr>\n",
              "    <tr>\n",
              "      <th>10</th>\n",
              "      <td>https://dsba.charlotte.edu/wp-content/uploads/...</td>\n",
              "      <td>DSBA 6112 Graduate Econometrics – Kelly Vosters</td>\n",
              "      <td>https://dsba.charlotte.edu/2024/03/12/dsba-611...</td>\n",
              "      <td>DSBA 6112 Graduate Econometrics, Spring 2024 –...</td>\n",
              "    </tr>\n",
              "    <tr>\n",
              "      <th>11</th>\n",
              "      <td>https://dsba.charlotte.edu/wp-content/uploads/...</td>\n",
              "      <td>DSBA-6115-Fall-2024-Jiancheng-Jiang.pdf</td>\n",
              "      <td>https://dsba.charlotte.edu/2024/10/10/dsba-611...</td>\n",
              "      <td>DSBA 6115 Statistical Learning with Big Data, ...</td>\n",
              "    </tr>\n",
              "    <tr>\n",
              "      <th>12</th>\n",
              "      <td>https://dsba.charlotte.edu/wp-content/uploads/...</td>\n",
              "      <td>DSBA-6122-Decision-Modeling-and-Analysis-Fall-...</td>\n",
              "      <td>https://dsba.charlotte.edu/2024/10/10/dsba-mba...</td>\n",
              "      <td>DSBA 6122 Decision Modeling and Analysis, Fall...</td>\n",
              "    </tr>\n",
              "    <tr>\n",
              "      <th>13</th>\n",
              "      <td>https://dsba.charlotte.edu/wp-content/uploads/...</td>\n",
              "      <td>DSBA6122-U90-2023Spring.pdf</td>\n",
              "      <td>https://dsba.charlotte.edu/dsba-6122-decision-...</td>\n",
              "      <td>DSBA 6122 Decision Modeling and Analysis, Spri...</td>\n",
              "    </tr>\n",
              "    <tr>\n",
              "      <th>14</th>\n",
              "      <td>https://dsba.charlotte.edu/wp-content/uploads/...</td>\n",
              "      <td>DSBA-6156-Applied-Machine-Learning-Fall-2024-R...</td>\n",
              "      <td>https://dsba.charlotte.edu/2024/10/10/dsba-615...</td>\n",
              "      <td>DSBA 6156 Applied Machine Learning, Fall 2024 ...</td>\n",
              "    </tr>\n",
              "    <tr>\n",
              "      <th>15</th>\n",
              "      <td>https://dsba.charlotte.edu/wp-content/uploads/...</td>\n",
              "      <td>Syllabus for 202310-Spring 2023-DSBA-6156-U90-...</td>\n",
              "      <td>https://dsba.charlotte.edu/dsba-6156-applied-m...</td>\n",
              "      <td>DSBA 6156 Applied Machine Learning, Spring 202...</td>\n",
              "    </tr>\n",
              "    <tr>\n",
              "      <th>16</th>\n",
              "      <td>https://dsba.charlotte.edu/wp-content/uploads/...</td>\n",
              "      <td>DSBA 6156 Applied Machine Learning – Rick Chakra</td>\n",
              "      <td>https://dsba.charlotte.edu/2024/03/12/dsba-615...</td>\n",
              "      <td>DSBA 6156 Applied Machine Learning, Spring 202...</td>\n",
              "    </tr>\n",
              "    <tr>\n",
              "      <th>17</th>\n",
              "      <td>https://dsba.charlotte.edu/wp-content/uploads/...</td>\n",
              "      <td>DSBA_HCIP-6160-Database-Systems-for-Data-Scien...</td>\n",
              "      <td>https://dsba.charlotte.edu/2024/10/10/dsba-616...</td>\n",
              "      <td>DSBA 6160 Database Systems for Data Scientists...</td>\n",
              "    </tr>\n",
              "    <tr>\n",
              "      <th>18</th>\n",
              "      <td>https://dsba.charlotte.edu/wp-content/uploads/...</td>\n",
              "      <td>DSBA_HCIP-6160-Database-Systems-for-Data-Scien...</td>\n",
              "      <td>https://dsba.charlotte.edu/2024/10/10/dsba-616...</td>\n",
              "      <td>DSBA 6160 Database Systems for Data Scientists...</td>\n",
              "    </tr>\n",
              "    <tr>\n",
              "      <th>19</th>\n",
              "      <td>https://dsba.charlotte.edu/wp-content/uploads/...</td>\n",
              "      <td>DSBA_HCIP_6160_Thompson_Spring_2023 – Pamela T...</td>\n",
              "      <td>https://dsba.charlotte.edu/dsba-6160-database-...</td>\n",
              "      <td>DSBA 6160 Database Systems for Data Scientists...</td>\n",
              "    </tr>\n",
              "    <tr>\n",
              "      <th>20</th>\n",
              "      <td>https://dsba.charlotte.edu/sites/dsba.charlott...</td>\n",
              "      <td>Syllabus – DSBA-HCIP-6160_Spring_2023 _rev4.0....</td>\n",
              "      <td>https://dsba.charlotte.edu/dsba-6160-database-...</td>\n",
              "      <td>DSBA 6160 Database Systems for Data Scientists...</td>\n",
              "    </tr>\n",
              "    <tr>\n",
              "      <th>21</th>\n",
              "      <td>https://dsba.charlotte.edu/wp-content/uploads/...</td>\n",
              "      <td>DSBA 6160 Database Systems for Data Scientists...</td>\n",
              "      <td>https://dsba.charlotte.edu/2024/03/12/dsba-616...</td>\n",
              "      <td>DSBA 6160 Database Systems for Data Scientists...</td>\n",
              "    </tr>\n",
              "    <tr>\n",
              "      <th>22</th>\n",
              "      <td>https://dsba.charlotte.edu/wp-content/uploads/...</td>\n",
              "      <td>Syllabus – DSBA-HCIP-6160_Spring_2023 – Katie ...</td>\n",
              "      <td>https://dsba.charlotte.edu/dsba-6160-database-...</td>\n",
              "      <td>DSBA 6160 Database Systems for Data Scientists...</td>\n",
              "    </tr>\n",
              "    <tr>\n",
              "      <th>23</th>\n",
              "      <td>https://dsba.charlotte.edu/wp-content/uploads/...</td>\n",
              "      <td>DSBA_HCIP-6162-Knowledge-Discovery-and-Databas...</td>\n",
              "      <td>https://dsba.charlotte.edu/2024/10/10/dsba-616...</td>\n",
              "      <td>DSBA 6162 Knowledge Discovery and Databases, F...</td>\n",
              "    </tr>\n",
              "    <tr>\n",
              "      <th>24</th>\n",
              "      <td>https://dsba.charlotte.edu/wp-content/uploads/...</td>\n",
              "      <td>DSBA 6162 Knowledge Discovery in Databases (KD...</td>\n",
              "      <td>https://dsba.charlotte.edu/2024/03/12/dsba6162...</td>\n",
              "      <td>DSBA 6162 Knowledge Discovery in Databases (KD...</td>\n",
              "    </tr>\n",
              "    <tr>\n",
              "      <th>25</th>\n",
              "      <td>https://dsba.charlotte.edu/wp-content/uploads/...</td>\n",
              "      <td>DSBA 6162 – Zbyszek Ras.pdf</td>\n",
              "      <td>https://dsba.charlotte.edu/dsba-6162-knowledge...</td>\n",
              "      <td>DSBA 6162 Knowledge Discovery in Databases Sec...</td>\n",
              "    </tr>\n",
              "    <tr>\n",
              "      <th>26</th>\n",
              "      <td>https://dsba.charlotte.edu/wp-content/uploads/...</td>\n",
              "      <td>DSBA-6165-AI-and-Deep-Learning-Fall-2024-Alber...</td>\n",
              "      <td>https://dsba.charlotte.edu/2024/10/10/dsba-616...</td>\n",
              "      <td>DSBA 6165 AI and Deep Learning, Fall 2024 – Al...</td>\n",
              "    </tr>\n",
              "    <tr>\n",
              "      <th>27</th>\n",
              "      <td>https://dsba.charlotte.edu/wp-content/uploads/...</td>\n",
              "      <td>DSBA-6188-Text-Mining-and-Information-Retrieva...</td>\n",
              "      <td>https://dsba.charlotte.edu/2024/10/10/dsba-618...</td>\n",
              "      <td>DSBA 6188 Text Mining and Information Retrieva...</td>\n",
              "    </tr>\n",
              "    <tr>\n",
              "      <th>28</th>\n",
              "      <td>https://dsba.charlotte.edu/wp-content/uploads/...</td>\n",
              "      <td>DSBA6188_Syllabus_Spring2023_Niu – Xi (Sunshin...</td>\n",
              "      <td>https://dsba.charlotte.edu/dsba-6188-text-mini...</td>\n",
              "      <td>DSBA 6188 Text Mining and Information Retrieva...</td>\n",
              "    </tr>\n",
              "    <tr>\n",
              "      <th>29</th>\n",
              "      <td>https://dsba.charlotte.edu/wp-content/uploads/...</td>\n",
              "      <td>DSBA 6188 Text Mining and Information Retrieva...</td>\n",
              "      <td>https://dsba.charlotte.edu/2024/03/12/dsba-618...</td>\n",
              "      <td>DSBA 6188 Text Mining and Information Retrieva...</td>\n",
              "    </tr>\n",
              "    <tr>\n",
              "      <th>30</th>\n",
              "      <td>https://dsba.charlotte.edu/wp-content/uploads/...</td>\n",
              "      <td>DSBA-6190-Cloud-Computing-for-Data-Analysis-Fa...</td>\n",
              "      <td>https://dsba.charlotte.edu/2024/10/10/dsba-619...</td>\n",
              "      <td>DSBA 6190 Cloud Computing for Data Analysis, F...</td>\n",
              "    </tr>\n",
              "    <tr>\n",
              "      <th>31</th>\n",
              "      <td>https://dsba.charlotte.edu/wp-content/uploads/...</td>\n",
              "      <td>DSBA-6190_Syllabus_Spring2023 – Colby Ford.pdf</td>\n",
              "      <td>https://dsba.charlotte.edu/dsba-6190-cloud-com...</td>\n",
              "      <td>DSBA 6190 Cloud Computing for Data Analysis, S...</td>\n",
              "    </tr>\n",
              "    <tr>\n",
              "      <th>32</th>\n",
              "      <td>https://dsba.charlotte.edu/wp-content/uploads/...</td>\n",
              "      <td>DSBA-6201-Business-Intelligence-and-Analytics-...</td>\n",
              "      <td>https://dsba.charlotte.edu/2024/10/10/dsba-620...</td>\n",
              "      <td>DSBA 6201 Business Intelligence and Analytics,...</td>\n",
              "    </tr>\n",
              "    <tr>\n",
              "      <th>33</th>\n",
              "      <td>https://dsba.charlotte.edu/wp-content/uploads/...</td>\n",
              "      <td>DSBA-6201-Business-Intelligence-and-Analytics-...</td>\n",
              "      <td>https://dsba.charlotte.edu/2024/10/10/dsba-620...</td>\n",
              "      <td>DSBA 6201 Business Intelligence and Analytics,...</td>\n",
              "    </tr>\n",
              "    <tr>\n",
              "      <th>34</th>\n",
              "      <td>https://dsba.charlotte.edu/wp-content/uploads/...</td>\n",
              "      <td>MBAD DSBA6201 SP23 – Lina Zhou.pdf</td>\n",
              "      <td>https://dsba.charlotte.edu/dsba-6201-business-...</td>\n",
              "      <td>DSBA 6201 Business Intelligence and Analytics,...</td>\n",
              "    </tr>\n",
              "    <tr>\n",
              "      <th>35</th>\n",
              "      <td>https://dsba.charlotte.edu/wp-content/uploads/...</td>\n",
              "      <td>MBAD DSBA 6201 Spring 2023 Syllabus (2).pdf</td>\n",
              "      <td>https://dsba.charlotte.edu/dsba-6201-business-...</td>\n",
              "      <td>DSBA 6201 Business Intelligence and Analytics,...</td>\n",
              "    </tr>\n",
              "    <tr>\n",
              "      <th>36</th>\n",
              "      <td>https://dsba.charlotte.edu/wp-content/uploads/...</td>\n",
              "      <td>DSBA-6208-Operations-Management-Fall-2024-Andy...</td>\n",
              "      <td>https://dsba.charlotte.edu/2024/10/10/dsba-mba...</td>\n",
              "      <td>DSBA 6208 Operations Management, Fall 2024 – A...</td>\n",
              "    </tr>\n",
              "    <tr>\n",
              "      <th>37</th>\n",
              "      <td>https://dsba.charlotte.edu/wp-content/uploads/...</td>\n",
              "      <td>DSBA-6211-Advanced-Business-Analytics-Fall-202...</td>\n",
              "      <td>https://dsba.charlotte.edu/2024/10/10/dsba-621...</td>\n",
              "      <td>DSBA 6211 Advanced Business Analytics, Fall 20...</td>\n",
              "    </tr>\n",
              "    <tr>\n",
              "      <th>38</th>\n",
              "      <td>https://dsba.charlotte.edu/wp-content/uploads/...</td>\n",
              "      <td>DSBA-6211-Advanced-Business-Analytics-Fall-202...</td>\n",
              "      <td>https://dsba.charlotte.edu/2024/10/10/dsba-mba...</td>\n",
              "      <td>DSBA 6211 Advanced Business Analytics, Fall 20...</td>\n",
              "    </tr>\n",
              "    <tr>\n",
              "      <th>39</th>\n",
              "      <td>https://dsba.charlotte.edu/wp-content/uploads/...</td>\n",
              "      <td>DSBA 6211 Advanced Business Analytics – Kornel...</td>\n",
              "      <td>https://dsba.charlotte.edu/2024/03/12/dsba-621...</td>\n",
              "      <td>DSBA 6211 Advanced Business Analytics, Spring ...</td>\n",
              "    </tr>\n",
              "    <tr>\n",
              "      <th>40</th>\n",
              "      <td>https://dsba.charlotte.edu/wp-content/uploads/...</td>\n",
              "      <td>DSBA-6211-Advanced-Business-Analytics-Summer-2...</td>\n",
              "      <td>https://dsba.charlotte.edu/2024/10/10/dsba-mba...</td>\n",
              "      <td>DSBA 6211 Advanced Business Analytics, Summer ...</td>\n",
              "    </tr>\n",
              "    <tr>\n",
              "      <th>41</th>\n",
              "      <td>https://dsba.charlotte.edu/wp-content/uploads/...</td>\n",
              "      <td>DSBA-6326-Network-Science-Fall-2024-Mirsad-Had...</td>\n",
              "      <td>https://dsba.charlotte.edu/2024/10/10/dsba-623...</td>\n",
              "      <td>DSBA 6236 Network Science, Fall 2024 – Mirsad ...</td>\n",
              "    </tr>\n",
              "    <tr>\n",
              "      <th>42</th>\n",
              "      <td>https://dsba.charlotte.edu/wp-content/uploads/...</td>\n",
              "      <td>MBAD_DSBA6276_Syllabus_spr 2023 – Angela Xia L...</td>\n",
              "      <td>https://dsba.charlotte.edu/dsba-6276-strategic...</td>\n",
              "      <td>DSBA 6276 Strategic Business Analytics, Spring...</td>\n",
              "    </tr>\n",
              "    <tr>\n",
              "      <th>43</th>\n",
              "      <td>https://dsba.charlotte.edu/wp-content/uploads/...</td>\n",
              "      <td>DSBA 6276 Strategic Business Analytics – Angel...</td>\n",
              "      <td>https://dsba.charlotte.edu/2024/03/12/dsba-627...</td>\n",
              "      <td>DSBA 6276 Strategic Business Analytics, Spring...</td>\n",
              "    </tr>\n",
              "    <tr>\n",
              "      <th>44</th>\n",
              "      <td>https://dsba.charlotte.edu/wp-content/uploads/...</td>\n",
              "      <td>DSBA-6277-Social-Media-Marketing-and-Analytics...</td>\n",
              "      <td>https://dsba.charlotte.edu/2024/10/10/dsba-mba...</td>\n",
              "      <td>DSBA 6277 Social Media Marketing and Analytics...</td>\n",
              "    </tr>\n",
              "    <tr>\n",
              "      <th>45</th>\n",
              "      <td>https://dsba.charlotte.edu/wp-content/uploads/...</td>\n",
              "      <td>DSBA6284 Syllabus_Ming Chen – Ming Chen.pdf</td>\n",
              "      <td>https://dsba.charlotte.edu/dsba-6284-digital-m...</td>\n",
              "      <td>DSBA 6284 Digital Marketing Analytics, Spring ...</td>\n",
              "    </tr>\n",
              "    <tr>\n",
              "      <th>46</th>\n",
              "      <td>https://dsba.charlotte.edu/wp-content/uploads/...</td>\n",
              "      <td>DSBA 6284 Digital Marketing Analytics – Ming Chen</td>\n",
              "      <td>https://dsba.charlotte.edu/2024/03/12/dsba-628...</td>\n",
              "      <td>DSBA 6284 Digital Marketing Analytics, Spring ...</td>\n",
              "    </tr>\n",
              "    <tr>\n",
              "      <th>47</th>\n",
              "      <td>https://dsba.charlotte.edu/wp-content/uploads/...</td>\n",
              "      <td>Spring 2023 DSBA and HCIP 6400 – Doug Hague.pdf</td>\n",
              "      <td>https://dsba.charlotte.edu/dsba-6400-internshi...</td>\n",
              "      <td>DSBA 6400 Internship, Spring 2023 – Doug Hague</td>\n",
              "    </tr>\n",
              "    <tr>\n",
              "      <th>48</th>\n",
              "      <td>https://dsba.charlotte.edu/wp-content/uploads/...</td>\n",
              "      <td>DSBA 6500 Complex Adaptive Systems – Mirsad Ha...</td>\n",
              "      <td>https://dsba.charlotte.edu/2024/03/12/dsba-650...</td>\n",
              "      <td>DSBA 6500 Complex Adaptive Systems, Spring 202...</td>\n",
              "    </tr>\n",
              "  </tbody>\n",
              "</table>\n",
              "</div>\n",
              "    <div class=\"colab-df-buttons\">\n",
              "\n",
              "  <div class=\"colab-df-container\">\n",
              "    <button class=\"colab-df-convert\" onclick=\"convertToInteractive('df-758d52cb-9f8f-4c12-be9a-420deef12135')\"\n",
              "            title=\"Convert this dataframe to an interactive table.\"\n",
              "            style=\"display:none;\">\n",
              "\n",
              "  <svg xmlns=\"http://www.w3.org/2000/svg\" height=\"24px\" viewBox=\"0 -960 960 960\">\n",
              "    <path d=\"M120-120v-720h720v720H120Zm60-500h600v-160H180v160Zm220 220h160v-160H400v160Zm0 220h160v-160H400v160ZM180-400h160v-160H180v160Zm440 0h160v-160H620v160ZM180-180h160v-160H180v160Zm440 0h160v-160H620v160Z\"/>\n",
              "  </svg>\n",
              "    </button>\n",
              "\n",
              "  <style>\n",
              "    .colab-df-container {\n",
              "      display:flex;\n",
              "      gap: 12px;\n",
              "    }\n",
              "\n",
              "    .colab-df-convert {\n",
              "      background-color: #E8F0FE;\n",
              "      border: none;\n",
              "      border-radius: 50%;\n",
              "      cursor: pointer;\n",
              "      display: none;\n",
              "      fill: #1967D2;\n",
              "      height: 32px;\n",
              "      padding: 0 0 0 0;\n",
              "      width: 32px;\n",
              "    }\n",
              "\n",
              "    .colab-df-convert:hover {\n",
              "      background-color: #E2EBFA;\n",
              "      box-shadow: 0px 1px 2px rgba(60, 64, 67, 0.3), 0px 1px 3px 1px rgba(60, 64, 67, 0.15);\n",
              "      fill: #174EA6;\n",
              "    }\n",
              "\n",
              "    .colab-df-buttons div {\n",
              "      margin-bottom: 4px;\n",
              "    }\n",
              "\n",
              "    [theme=dark] .colab-df-convert {\n",
              "      background-color: #3B4455;\n",
              "      fill: #D2E3FC;\n",
              "    }\n",
              "\n",
              "    [theme=dark] .colab-df-convert:hover {\n",
              "      background-color: #434B5C;\n",
              "      box-shadow: 0px 1px 3px 1px rgba(0, 0, 0, 0.15);\n",
              "      filter: drop-shadow(0px 1px 2px rgba(0, 0, 0, 0.3));\n",
              "      fill: #FFFFFF;\n",
              "    }\n",
              "  </style>\n",
              "\n",
              "    <script>\n",
              "      const buttonEl =\n",
              "        document.querySelector('#df-758d52cb-9f8f-4c12-be9a-420deef12135 button.colab-df-convert');\n",
              "      buttonEl.style.display =\n",
              "        google.colab.kernel.accessAllowed ? 'block' : 'none';\n",
              "\n",
              "      async function convertToInteractive(key) {\n",
              "        const element = document.querySelector('#df-758d52cb-9f8f-4c12-be9a-420deef12135');\n",
              "        const dataTable =\n",
              "          await google.colab.kernel.invokeFunction('convertToInteractive',\n",
              "                                                    [key], {});\n",
              "        if (!dataTable) return;\n",
              "\n",
              "        const docLinkHtml = 'Like what you see? Visit the ' +\n",
              "          '<a target=\"_blank\" href=https://colab.research.google.com/notebooks/data_table.ipynb>data table notebook</a>'\n",
              "          + ' to learn more about interactive tables.';\n",
              "        element.innerHTML = '';\n",
              "        dataTable['output_type'] = 'display_data';\n",
              "        await google.colab.output.renderOutput(dataTable, element);\n",
              "        const docLink = document.createElement('div');\n",
              "        docLink.innerHTML = docLinkHtml;\n",
              "        element.appendChild(docLink);\n",
              "      }\n",
              "    </script>\n",
              "  </div>\n",
              "\n",
              "\n",
              "<div id=\"df-8003428c-3ef8-40fd-ad88-1059ae44395c\">\n",
              "  <button class=\"colab-df-quickchart\" onclick=\"quickchart('df-8003428c-3ef8-40fd-ad88-1059ae44395c')\"\n",
              "            title=\"Suggest charts\"\n",
              "            style=\"display:none;\">\n",
              "\n",
              "<svg xmlns=\"http://www.w3.org/2000/svg\" height=\"24px\"viewBox=\"0 0 24 24\"\n",
              "     width=\"24px\">\n",
              "    <g>\n",
              "        <path d=\"M19 3H5c-1.1 0-2 .9-2 2v14c0 1.1.9 2 2 2h14c1.1 0 2-.9 2-2V5c0-1.1-.9-2-2-2zM9 17H7v-7h2v7zm4 0h-2V7h2v10zm4 0h-2v-4h2v4z\"/>\n",
              "    </g>\n",
              "</svg>\n",
              "  </button>\n",
              "\n",
              "<style>\n",
              "  .colab-df-quickchart {\n",
              "      --bg-color: #E8F0FE;\n",
              "      --fill-color: #1967D2;\n",
              "      --hover-bg-color: #E2EBFA;\n",
              "      --hover-fill-color: #174EA6;\n",
              "      --disabled-fill-color: #AAA;\n",
              "      --disabled-bg-color: #DDD;\n",
              "  }\n",
              "\n",
              "  [theme=dark] .colab-df-quickchart {\n",
              "      --bg-color: #3B4455;\n",
              "      --fill-color: #D2E3FC;\n",
              "      --hover-bg-color: #434B5C;\n",
              "      --hover-fill-color: #FFFFFF;\n",
              "      --disabled-bg-color: #3B4455;\n",
              "      --disabled-fill-color: #666;\n",
              "  }\n",
              "\n",
              "  .colab-df-quickchart {\n",
              "    background-color: var(--bg-color);\n",
              "    border: none;\n",
              "    border-radius: 50%;\n",
              "    cursor: pointer;\n",
              "    display: none;\n",
              "    fill: var(--fill-color);\n",
              "    height: 32px;\n",
              "    padding: 0;\n",
              "    width: 32px;\n",
              "  }\n",
              "\n",
              "  .colab-df-quickchart:hover {\n",
              "    background-color: var(--hover-bg-color);\n",
              "    box-shadow: 0 1px 2px rgba(60, 64, 67, 0.3), 0 1px 3px 1px rgba(60, 64, 67, 0.15);\n",
              "    fill: var(--button-hover-fill-color);\n",
              "  }\n",
              "\n",
              "  .colab-df-quickchart-complete:disabled,\n",
              "  .colab-df-quickchart-complete:disabled:hover {\n",
              "    background-color: var(--disabled-bg-color);\n",
              "    fill: var(--disabled-fill-color);\n",
              "    box-shadow: none;\n",
              "  }\n",
              "\n",
              "  .colab-df-spinner {\n",
              "    border: 2px solid var(--fill-color);\n",
              "    border-color: transparent;\n",
              "    border-bottom-color: var(--fill-color);\n",
              "    animation:\n",
              "      spin 1s steps(1) infinite;\n",
              "  }\n",
              "\n",
              "  @keyframes spin {\n",
              "    0% {\n",
              "      border-color: transparent;\n",
              "      border-bottom-color: var(--fill-color);\n",
              "      border-left-color: var(--fill-color);\n",
              "    }\n",
              "    20% {\n",
              "      border-color: transparent;\n",
              "      border-left-color: var(--fill-color);\n",
              "      border-top-color: var(--fill-color);\n",
              "    }\n",
              "    30% {\n",
              "      border-color: transparent;\n",
              "      border-left-color: var(--fill-color);\n",
              "      border-top-color: var(--fill-color);\n",
              "      border-right-color: var(--fill-color);\n",
              "    }\n",
              "    40% {\n",
              "      border-color: transparent;\n",
              "      border-right-color: var(--fill-color);\n",
              "      border-top-color: var(--fill-color);\n",
              "    }\n",
              "    60% {\n",
              "      border-color: transparent;\n",
              "      border-right-color: var(--fill-color);\n",
              "    }\n",
              "    80% {\n",
              "      border-color: transparent;\n",
              "      border-right-color: var(--fill-color);\n",
              "      border-bottom-color: var(--fill-color);\n",
              "    }\n",
              "    90% {\n",
              "      border-color: transparent;\n",
              "      border-bottom-color: var(--fill-color);\n",
              "    }\n",
              "  }\n",
              "</style>\n",
              "\n",
              "  <script>\n",
              "    async function quickchart(key) {\n",
              "      const quickchartButtonEl =\n",
              "        document.querySelector('#' + key + ' button');\n",
              "      quickchartButtonEl.disabled = true;  // To prevent multiple clicks.\n",
              "      quickchartButtonEl.classList.add('colab-df-spinner');\n",
              "      try {\n",
              "        const charts = await google.colab.kernel.invokeFunction(\n",
              "            'suggestCharts', [key], {});\n",
              "      } catch (error) {\n",
              "        console.error('Error during call to suggestCharts:', error);\n",
              "      }\n",
              "      quickchartButtonEl.classList.remove('colab-df-spinner');\n",
              "      quickchartButtonEl.classList.add('colab-df-quickchart-complete');\n",
              "    }\n",
              "    (() => {\n",
              "      let quickchartButtonEl =\n",
              "        document.querySelector('#df-8003428c-3ef8-40fd-ad88-1059ae44395c button');\n",
              "      quickchartButtonEl.style.display =\n",
              "        google.colab.kernel.accessAllowed ? 'block' : 'none';\n",
              "    })();\n",
              "  </script>\n",
              "</div>\n",
              "\n",
              "    </div>\n",
              "  </div>\n"
            ],
            "application/vnd.google.colaboratory.intrinsic+json": {
              "type": "dataframe",
              "summary": "{\n  \"name\": \"display(df\",\n  \"rows\": 49,\n  \"fields\": [\n    {\n      \"column\": \"link\",\n      \"properties\": {\n        \"dtype\": \"string\",\n        \"num_unique_values\": 49,\n        \"samples\": [\n          \"https://dsba.charlotte.edu/wp-content/uploads/sites/719/2023/09/DSBA6122-U90-2023Spring.pdf\",\n          \"https://dsba.charlotte.edu/wp-content/uploads/sites/719/2023/09/DSBA6284-Syllabus_Ming-Chen-Ming-Chen.pdf\",\n          \"https://dsba.charlotte.edu/wp-content/uploads/sites/719/2023/09/Spring-2023-DSBA-and-HCIP-6400-Doug-Hague.pdf\"\n        ],\n        \"semantic_type\": \"\",\n        \"description\": \"\"\n      }\n    },\n    {\n      \"column\": \"filename\",\n      \"properties\": {\n        \"dtype\": \"string\",\n        \"num_unique_values\": 49,\n        \"samples\": [\n          \"DSBA6122-U90-2023Spring.pdf\",\n          \"DSBA6284 Syllabus_Ming Chen \\u2013 Ming Chen.pdf\",\n          \"Spring 2023 DSBA and HCIP 6400 \\u2013 Doug Hague.pdf\"\n        ],\n        \"semantic_type\": \"\",\n        \"description\": \"\"\n      }\n    },\n    {\n      \"column\": \"parent\",\n      \"properties\": {\n        \"dtype\": \"string\",\n        \"num_unique_values\": 49,\n        \"samples\": [\n          \"https://dsba.charlotte.edu/dsba-6122-decision-modeling-and-analysis-0/\",\n          \"https://dsba.charlotte.edu/dsba-6284-digital-marketing-analytics/\",\n          \"https://dsba.charlotte.edu/dsba-6400-internship-2/\"\n        ],\n        \"semantic_type\": \"\",\n        \"description\": \"\"\n      }\n    },\n    {\n      \"column\": \"title\",\n      \"properties\": {\n        \"dtype\": \"string\",\n        \"num_unique_values\": 49,\n        \"samples\": [\n          \"DSBA 6122 Decision Modeling and Analysis, Spring 2023 \\u2013 Xiuli He\",\n          \"DSBA 6284 Digital Marketing Analytics, Spring 2023 \\u2013 Ming Chen\",\n          \"DSBA 6400 Internship, Spring 2023 \\u2013 Doug Hague\"\n        ],\n        \"semantic_type\": \"\",\n        \"description\": \"\"\n      }\n    }\n  ]\n}"
            },
            "application/vnd.google.colaboratory.module+javascript": "\n      import \"https://ssl.gstatic.com/colaboratory/data_table/81954c9606dcf997/data_table.js\";\n\n      const table = window.createDataTable({\n        data: [[{\n            'v': 0,\n            'f': \"0\",\n        },\n\"https://dsba.charlotte.edu/wp-content/uploads/sites/719/2024/10/DSBA_HCIP-5122-Visual-Analytics-and-Storytelling-Fall-2024-Robert-Fox.pdf\",\n\"DSBA_HCIP-5122-Visual-Analytics-and-Storytelling-Fall-2024-Robert-Fox.pdf\",\n\"https://dsba.charlotte.edu/2024/10/10/dsba-hcip-6160-database-systems-for-data-scientists-fall-2024-robert-fox/\",\n\"DSBA 5122 Visual Analytics and Storytelling, Fall 2024 \\u2013 Robert Fox\"],\n [{\n            'v': 1,\n            'f': \"1\",\n        },\n\"https://dsba.charlotte.edu/wp-content/uploads/sites/719/2024/10/DSBA-6010-Applications-of-Large-Language-Models-Fall-2024-Ryan-Wesslen.pdf\",\n\"DSBA-6010-Applications-of-Large-Language-Models-Fall-2024-Ryan-Wesslen.pdf\",\n\"https://dsba.charlotte.edu/2024/10/10/dsba-6010-applications-of-large-language-models-fall-2024-ryan-wesslen/\",\n\"DSBA 6010 Applications of Large Language Models, Fall 2024 \\u2013 Ryan Wesslen\"],\n [{\n            'v': 2,\n            'f': \"2\",\n        },\n\"https://dsba.charlotte.edu/wp-content/uploads/sites/719/2024/03/Syllabus-for-202410-Spring-2024-DSBA-6010-U90-Applied-Computer-Vision-Rick-Chakra.pdf\",\n\"DSBA 6010 Applied Computer Vision \\u2013 Rick Chakra\",\n\"https://dsba.charlotte.edu/2024/03/12/dsba-6010-applied-computer-vision-rick-chakra/\",\n\"DSBA 6010 Applied Computer Vision, Spring 2024 \\u2013 Rick Chakra\"],\n [{\n            'v': 3,\n            'f': \"3\",\n        },\n\"https://dsba.charlotte.edu/wp-content/uploads/sites/719/2023/09/Damien_Patrick_Williams_-_DSBA_6010_-_26287-Damien-Williams.pdf\",\n\"Damien_Patrick_Williams_-_DSBA_6010_-_26287 \\u2013 Damien Williams.pdf\",\n\"https://dsba.charlotte.edu/dsba-6010-disability-technology-artificial-intelligence/\",\n\"DSBA 6010 Disability, Technology, & Artificial Intelligence, Spring 2023 \\u2013 Damien Williams\"],\n [{\n            'v': 4,\n            'f': \"4\",\n        },\n\"https://dsba.charlotte.edu/wp-content/uploads/sites/719/2023/09/DSBA6010-GEOG6030-Syllabus-SP-2023-v30-Jean-Claude-Thill.pdf\",\n\"DSBA6010-GEOG6030 Syllabus SP 2023 v30 \\u2013 Jean-Claude Thill.pdf\",\n\"https://dsba.charlotte.edu/dsba-6010-geospatial-data-analytics/\",\n\"DSBA 6010 Geospatial Data Analytics, Spring 2023 \\u2013 Jean Claude Thill\"],\n [{\n            'v': 5,\n            'f': \"5\",\n        },\n\"https://dsba.charlotte.edu/wp-content/uploads/sites/719/2024/10/DSBA-6010-Model-Risk-Management-Fall-2024-Robert-Fox.pdf\",\n\"DSBA-6010-Model-Risk-Management-Fal\",\n\"https://dsba.charlotte.edu/2024/10/10/dsba-6010-special-topic-model-risk-management-fall-2024-robert-fox/\",\n\"DSBA 6010 Special Topic: Model Risk Management, Fall 2024 \\u2013 Robert Fox\"],\n [{\n            'v': 6,\n            'f': \"6\",\n        },\n\"https://dsba.charlotte.edu/wp-content/uploads/sites/719/2024/10/DSBA-6010-Fall-2024-Steven-Jordan.pdf\",\n\"DSBA-6010-Fall-2024-Steven-Jordan.pdf\",\n\"https://dsba.charlotte.edu/2024/10/10/dsba-6010-special-topics-building-leading-data-organizations-fall-2024-steven-jordan/\",\n\"DSBA 6010 Special Topics: Building & Leading Data Organizations, Fall 2024 \\u2013 Steven Jordan\"],\n [{\n            'v': 7,\n            'f': \"7\",\n        },\n\"https://dsba.charlotte.edu/wp-content/uploads/sites/719/2023/09/DSBA6100-U90_MBAD7090-U92_Spring-2023_Blaine-Nashold-Daryl-Nashold.pdf\",\n\"DSBA6100-U90_MBAD7090-U92_Spring 2023_Blaine Nashold \\u2013 Daryl Nashold.pdf\",\n\"https://dsba.charlotte.edu/dsba-6100-big-data-analytics-competitive-advantage-0/\",\n\"DSBA 6100 Big Data Analytics for Competitive Advantage, Spring 2023 \\u2013 Daryl Nashold\"],\n [{\n            'v': 8,\n            'f': \"8\",\n        },\n\"https://dsba.charlotte.edu/wp-content/uploads/sites/719/2024/10/DSBA-6112-Graduate-Econometrics-Fall-2024-Kelly-Vosters.pdf\",\n\"DSBA-6112-Graduate-Econometrics-Fall-2024-Kelly-Vosters.pdf\",\n\"https://dsba.charlotte.edu/2024/10/10/dsba-econ-6112-graduate-econometrics-fall-2024-kelly-vosters/\",\n\"DSBA 6112 Graduate Econometrics, Fall 2024 \\u2013 Kelly Vosters\"],\n [{\n            'v': 9,\n            'f': \"9\",\n        },\n\"https://dsba.charlotte.edu/wp-content/uploads/sites/719/2023/09/DSBA6112-U90_202310-Kelly-Vosters.pdf\",\n\"DSBA6112-U90_202310 \\u2013 Kelly Vosters.pdf\",\n\"https://dsba.charlotte.edu/dsba-6112-graduate-econometrics-2/\",\n\"DSBA 6112 Graduate Econometrics, Spring 2023 \\u2013 Kelly Vosters\"],\n [{\n            'v': 10,\n            'f': \"10\",\n        },\n\"https://dsba.charlotte.edu/wp-content/uploads/sites/719/2024/03/DSBA6112-U90_202410-Kelly-Vosters.pdf\",\n\"DSBA 6112 Graduate Econometrics \\u2013 Kelly Vosters\",\n\"https://dsba.charlotte.edu/2024/03/12/dsba-6112-graduate-econometrics-kelly-vosters/\",\n\"DSBA 6112 Graduate Econometrics, Spring 2024 \\u2013 Kelly Vosters\"],\n [{\n            'v': 11,\n            'f': \"11\",\n        },\n\"https://dsba.charlotte.edu/wp-content/uploads/sites/719/2024/10/DSBA-6115-Fall-2024-Jiancheng-Jiang.pdf\",\n\"DSBA-6115-Fall-2024-Jiancheng-Jiang.pdf\",\n\"https://dsba.charlotte.edu/2024/10/10/dsba-6115-statistical-learning-with-big-data-fall-2024-jiancheng-jiang/\",\n\"DSBA 6115 Statistical Learning with Big Data, Fall 2024 \\u2013 Jiancheng Jiang\"],\n [{\n            'v': 12,\n            'f': \"12\",\n        },\n\"https://dsba.charlotte.edu/wp-content/uploads/sites/719/2024/10/DSBA-6122-Decision-Modeling-and-Analysis-Fall-2024-Xiuli-He-1.pdf\",\n\"DSBA-6122-Decision-Modeling-and-Analysis-Fall-2024-Xiuli-He-1.pdf\",\n\"https://dsba.charlotte.edu/2024/10/10/dsba-mbad-6122-decision-modeling-and-analysis-fall-2024-xiuli-he/\",\n\"DSBA 6122 Decision Modeling and Analysis, Fall 2024 \\u2013 Xiuli He\"],\n [{\n            'v': 13,\n            'f': \"13\",\n        },\n\"https://dsba.charlotte.edu/wp-content/uploads/sites/719/2023/09/DSBA6122-U90-2023Spring.pdf\",\n\"DSBA6122-U90-2023Spring.pdf\",\n\"https://dsba.charlotte.edu/dsba-6122-decision-modeling-and-analysis-0/\",\n\"DSBA 6122 Decision Modeling and Analysis, Spring 2023 \\u2013 Xiuli He\"],\n [{\n            'v': 14,\n            'f': \"14\",\n        },\n\"https://dsba.charlotte.edu/wp-content/uploads/sites/719/2024/10/DSBA-6156-Applied-Machine-Learning-Fall-2024-Rick-Chakra.pdf\",\n\"DSBA-6156-Applied-Machine-Learning-Fall-2024-Rick-Chakra.pdf\",\n\"https://dsba.charlotte.edu/2024/10/10/dsba-6156-applied-machine-learning-fall-2024-rick-chakra/\",\n\"DSBA 6156 Applied Machine Learning, Fall 2024 \\u2013 Rick Chakra\"],\n [{\n            'v': 15,\n            'f': \"15\",\n        },\n\"https://dsba.charlotte.edu/wp-content/uploads/sites/719/2023/09/Syllabus-for-202310-Spring-2023-DSBA-6156-U90-Applied-Machine-Learning-Rick-Chakra.pdf\",\n\"Syllabus for 202310-Spring 2023-DSBA-6156-U90-Applied Machine Learning \\u2013 Rick Chakra.pdf\",\n\"https://dsba.charlotte.edu/dsba-6156-applied-machine-learning-5/\",\n\"DSBA 6156 Applied Machine Learning, Spring 2023 \\u2013 Rick Chakra\"],\n [{\n            'v': 16,\n            'f': \"16\",\n        },\n\"https://dsba.charlotte.edu/wp-content/uploads/sites/719/2024/03/Syllabus-for-202410-Spring-2024-DSBA-6156-U90-Applied-Machine-Learning-Rick-Chakra.pdf\",\n\"DSBA 6156 Applied Machine Learning \\u2013 Rick Chakra\",\n\"https://dsba.charlotte.edu/2024/03/12/dsba-6156-applied-machine-learning-rick-chakra/\",\n\"DSBA 6156 Applied Machine Learning, Spring 2024 \\u2013 Rick Chakra\"],\n [{\n            'v': 17,\n            'f': \"17\",\n        },\n\"https://dsba.charlotte.edu/wp-content/uploads/sites/719/2024/10/DSBA_HCIP-6160-Database-Systems-for-Data-Scientists-Fall-2024-Pamela-Thompson.pdf\",\n\"DSBA_HCIP-6160-Database-Systems-for-Data-Scientists-Fall-2024-Pamela-Thompson.pdf\",\n\"https://dsba.charlotte.edu/2024/10/10/dsba-6160-database-systems-for-data-scientists-fall-2024-pamela-thompson/\",\n\"DSBA 6160 Database Systems for Data Scientists, Fall 2024 \\u2013 Pamela Thompson\"],\n [{\n            'v': 18,\n            'f': \"18\",\n        },\n\"https://dsba.charlotte.edu/wp-content/uploads/sites/719/2024/10/DSBA_HCIP-6160-Database-Systems-for-Data-Scientists-Fall-2024-Shih-Hsiung-Chou.pdf\",\n\"DSBA_HCIP-6160-Database-Systems-for-Data-Scientists-Fall-2024-Shih-Hsiung-Chou.pdf\",\n\"https://dsba.charlotte.edu/2024/10/10/dsba-6160-database-systems-for-data-scientists-fall-2024-shih-hsiung-chou/\",\n\"DSBA 6160 Database Systems for Data Scientists, Fall 2024 \\u2013 Shih-Hsiung Chou\"],\n [{\n            'v': 19,\n            'f': \"19\",\n        },\n\"https://dsba.charlotte.edu/wp-content/uploads/sites/719/2023/09/DSBA_HCIP_6160_Thompson_Spring_2023-Pamela-Thompson.pdf\",\n\"DSBA_HCIP_6160_Thompson_Spring_2023 \\u2013 Pamela Thompson.pdf\",\n\"https://dsba.charlotte.edu/dsba-6160-database-systems-data-scientists-2/\",\n\"DSBA 6160 Database Systems for Data Scientists, Spring 2023 \\u2013 Pamela Thompson\"],\n [{\n            'v': 20,\n            'f': \"20\",\n        },\n\"https://dsba.charlotte.edu/sites/dsba.charlotte.edu/files/fields/syllabi/field_file/Syllabus%20-%20DSBA-HCIP-6160_Spring_2023%20_rev4.0.docx%20-%20Stephen%20Rohrer.pdf\",\n\"Syllabus \\u2013 DSBA-HCIP-6160_Spring_2023 _rev4.0.docx \\u2013 Stephen Rohrer.pdf\",\n\"https://dsba.charlotte.edu/dsba-6160-database-systems-data-scientists-4/\",\n\"DSBA 6160 Database Systems for Data Scientists, Spring 2023 \\u2013 Stephen Rohrer\"],\n [{\n            'v': 21,\n            'f': \"21\",\n        },\n\"https://dsba.charlotte.edu/wp-content/uploads/sites/719/2024/03/Syllabus-DSBA-HCIP-6160_Spring_2024_Lee-Aaron-Lee.pdf\",\n\"DSBA 6160 Database Systems for Data Scientists \\u2013 Aaron Lee\",\n\"https://dsba.charlotte.edu/2024/03/12/dsba-6160-database-systems-for-data-scientists-aaron-lee/\",\n\"DSBA 6160 Database Systems for Data Scientists, Spring 2024 \\u2013 Aaron Lee\"],\n [{\n            'v': 22,\n            'f': \"22\",\n        },\n\"https://dsba.charlotte.edu/wp-content/uploads/sites/719/2023/09/Syllabus-DSBA-HCIP-6160_Spring_2023-Katie-Hanks.pdf\",\n\"Syllabus \\u2013 DSBA-HCIP-6160_Spring_2023 \\u2013 Katie Hanks.pdf\",\n\"https://dsba.charlotte.edu/dsba-6160-database-systems-data-scientists-3/\",\n\"DSBA 6160 Database Systems for Data Scientists, Spring 2024 \\u2013 Katie Hanks\"],\n [{\n            'v': 23,\n            'f': \"23\",\n        },\n\"https://dsba.charlotte.edu/wp-content/uploads/sites/719/2024/10/DSBA_HCIP-6162-Knowledge-Discovery-and-Databases-Fall-2024-Xi-Sunshine-Niu-1.pdf\",\n\"DSBA_HCIP-6162-Knowledge-Discovery-and-Databases-Fall-2024-Xi-Sunshine-Niu-1.pdf\",\n\"https://dsba.charlotte.edu/2024/10/10/dsba-6162-knowledge-discovery-and-databases-fall-2024-xi-sunshine-nu/\",\n\"DSBA 6162 Knowledge Discovery and Databases, Fall 2024 \\u2013 Xi (Sunshine) Nu\"],\n [{\n            'v': 24,\n            'f': \"24\",\n        },\n\"https://dsba.charlotte.edu/wp-content/uploads/sites/719/2024/03/DSBA6162_Syllabus_Spring2024-Xi-Sunshine-Niu.pdf\",\n\"DSBA 6162 Knowledge Discovery in Databases (KDD) Xi (Sunshine) Niu\",\n\"https://dsba.charlotte.edu/2024/03/12/dsba6162_syllabus_spring2024-xi-sunshine-niu/\",\n\"DSBA 6162 Knowledge Discovery in Databases (KDD), Spring 2024 \\u2013 Xi (Sunshine) Niu\"],\n [{\n            'v': 25,\n            'f': \"25\",\n        },\n\"https://dsba.charlotte.edu/wp-content/uploads/sites/719/2023/09/DSBA-6162-Zbyszek-Ras.pdf\",\n\"DSBA 6162 \\u2013 Zbyszek Ras.pdf\",\n\"https://dsba.charlotte.edu/dsba-6162-knowledge-discovery-databases-1/\",\n\"DSBA 6162 Knowledge Discovery in Databases Section, Spring 2023 \\u2013 Zybszek Ras\"],\n [{\n            'v': 26,\n            'f': \"26\",\n        },\n\"https://dsba.charlotte.edu/wp-content/uploads/sites/719/2024/10/DSBA-6165-AI-and-Deep-Learning-Fall-2024-Albert-Park-1.pdf\",\n\"DSBA-6165-AI-and-Deep-Learning-Fall-2024-Albert-Park-1.pdf\",\n\"https://dsba.charlotte.edu/2024/10/10/dsba-6165-ai-and-deep-learning-fall-2024-albert-park/\",\n\"DSBA 6165 AI and Deep Learning, Fall 2024 \\u2013 Albert Park\"],\n [{\n            'v': 27,\n            'f': \"27\",\n        },\n\"https://dsba.charlotte.edu/wp-content/uploads/sites/719/2024/10/DSBA-6188-Text-Mining-and-Information-Retrieval-Fall-2024-Depeng-Xu.pdf\",\n\"DSBA-6188-Text-Mining-and-Information-Retrieval-Fall-2024-Depeng-Xu.pdf\",\n\"https://dsba.charlotte.edu/2024/10/10/dsba-6188-text-mining-and-information-retrieval-fall-2024-depeng-zu/\",\n\"DSBA 6188 Text Mining and Information Retrieval, Fall 2024 \\u2013 Depeng Zu\"],\n [{\n            'v': 28,\n            'f': \"28\",\n        },\n\"https://dsba.charlotte.edu/wp-content/uploads/sites/719/2023/09/DSBA6188_Syllabus_Spring2023_Niu-Xi-Sunshine-Niu.pdf\",\n\"DSBA6188_Syllabus_Spring2023_Niu \\u2013 Xi (Sunshine) Niu.pdf\",\n\"https://dsba.charlotte.edu/dsba-6188-text-mining-and-information-retrieval/\",\n\"DSBA 6188 Text Mining and Information Retrieval, Spring 2023 \\u2013 Xi (Sunshine) Niu\"],\n [{\n            'v': 29,\n            'f': \"29\",\n        },\n\"https://dsba.charlotte.edu/wp-content/uploads/sites/719/2024/03/dsba6188-itis6010-spring-2024-Ryan-Wesslen.pdf\",\n\"DSBA 6188 Text Mining and Information Retrieval \\u2013 Chang Hsin Lee & Ryan Wesslen\",\n\"https://dsba.charlotte.edu/2024/03/12/dsba-6188-text-mining-and-information-retrieval-chang-hsin-lee/\",\n\"DSBA 6188 Text Mining and Information Retrieval, Spring 2024 \\u2013 Chang Hsin Lee\"],\n [{\n            'v': 30,\n            'f': \"30\",\n        },\n\"https://dsba.charlotte.edu/wp-content/uploads/sites/719/2024/10/DSBA-6190-Cloud-Computing-for-Data-Analysis-Fall-2024-Colby-Ford.pdf\",\n\"DSBA-6190-Cloud-Computing-for-Data-Analysis-Fall-2024-Colby-Ford.pdf\",\n\"https://dsba.charlotte.edu/2024/10/10/dsba-6190-cloud-computing-for-data-analysis-fall-2024-colby-ford/\",\n\"DSBA 6190 Cloud Computing for Data Analysis, Fall 2024 \\u2013 Colby Ford\"],\n [{\n            'v': 31,\n            'f': \"31\",\n        },\n\"https://dsba.charlotte.edu/wp-content/uploads/sites/719/2023/09/DSBA-6190_Syllabus_Spring2023-Colby-Ford.pdf\",\n\"DSBA-6190_Syllabus_Spring2023 \\u2013 Colby Ford.pdf\",\n\"https://dsba.charlotte.edu/dsba-6190-cloud-computing-data-analysis-2/\",\n\"DSBA 6190 Cloud Computing for Data Analysis, Spring 2023 \\u2013 Colby Ford\"],\n [{\n            'v': 32,\n            'f': \"32\",\n        },\n\"https://dsba.charlotte.edu/wp-content/uploads/sites/719/2024/10/DSBA-6201-Business-Intelligence-and-Analytics-Fall-2024-Chandra-Subramaniam.pdf\",\n\"DSBA-6201-Business-Intelligence-and-Analytics-Fall-2024-Chandra-Subramaniam.pdf\",\n\"https://dsba.charlotte.edu/2024/10/10/dsba-6201-business-intelligence-and-analytics-fall-2024-chandra-subramaniam/\",\n\"DSBA 6201 Business Intelligence and Analytics, Fall 2024 \\u2013 Chandra Subramaniam\"],\n [{\n            'v': 33,\n            'f': \"33\",\n        },\n\"https://dsba.charlotte.edu/wp-content/uploads/sites/719/2024/10/DSBA-6201-Business-Intelligence-and-Analytics-Fall-2024-Kornelia-Bastin.pdf\",\n\"DSBA-6201-Business-Intelligence-and-Analytics-Fall-2024-Kornelia-Bastin.pdf\",\n\"https://dsba.charlotte.edu/2024/10/10/dsba-6201-business-intelligence-and-analytics-fall-2024-kornelia-bastin/\",\n\"DSBA 6201 Business Intelligence and Analytics, Fall 2024 \\u2013 Kornelia Bastin\"],\n [{\n            'v': 34,\n            'f': \"34\",\n        },\n\"https://dsba.charlotte.edu/wp-content/uploads/sites/719/2023/09/MBAD-DSBA6201-SP23-Lina-Zhou.pdf\",\n\"MBAD DSBA6201 SP23 \\u2013 Lina Zhou.pdf\",\n\"https://dsba.charlotte.edu/dsba-6201-business-intelligence-and-analytics-7/\",\n\"DSBA 6201 Business Intelligence and Analytics, Spring 2023 \\u2013 Lina Zhou\"],\n [{\n            'v': 35,\n            'f': \"35\",\n        },\n\"https://dsba.charlotte.edu/wp-content/uploads/sites/719/2023/09/MBAD-DSBA-6201-Spring-2023-Syllabus-2.pdf\",\n\"MBAD DSBA 6201 Spring 2023 Syllabus (2).pdf\",\n\"https://dsba.charlotte.edu/dsba-6201-business-intelligence-and-analytics-6/\",\n\"DSBA 6201 Business Intelligence and Analytics, Spring 2023 \\u2013 Monica Johar\"],\n [{\n            'v': 36,\n            'f': \"36\",\n        },\n\"https://dsba.charlotte.edu/wp-content/uploads/sites/719/2024/10/DSBA-6208-Fall-2024-Andy-Fraher.pdf\",\n\"DSBA-6208-Operations-Management-Fall-2024-Andy-Fraher.pdf\",\n\"https://dsba.charlotte.edu/2024/10/10/dsba-mbad-6208-operations-management-fall-2024-andrew-fraher/\",\n\"DSBA 6208 Operations Management, Fall 2024 \\u2013 Andrew Fraher\"],\n [{\n            'v': 37,\n            'f': \"37\",\n        },\n\"https://dsba.charlotte.edu/wp-content/uploads/sites/719/2024/10/DSBA-6211-Advanced-Business-Analytics-Fall-2024-Kexin-Zhao.pdf\",\n\"DSBA-6211-Advanced-Business-Analytics-Fall-2024-Kexin-Zhao.pdf\",\n\"https://dsba.charlotte.edu/2024/10/10/dsba-6211-advanced-business-analytics-fall-2024-kexin-zhao/\",\n\"DSBA 6211 Advanced Business Analytics, Fall 2024 \\u2013 Kexin Zhao\"],\n [{\n            'v': 38,\n            'f': \"38\",\n        },\n\"https://dsba.charlotte.edu/wp-content/uploads/sites/719/2024/10/DSBA-6211-Advanced-Business-Analytics-Fall-2024-SungJune-Park.pdf\",\n\"DSBA-6211-Advanced-Business-Analytics-Fall-2024-SungJune-Park.pdf\",\n\"https://dsba.charlotte.edu/2024/10/10/dsba-mbad-6211-advanced-business-analytics-fall-2024-sungjune-park/\",\n\"DSBA 6211 Advanced Business Analytics, Fall 2024 \\u2013 Sungjune Park\"],\n [{\n            'v': 39,\n            'f': \"39\",\n        },\n\"https://dsba.charlotte.edu/wp-content/uploads/sites/719/2024/03/DSBA6211-U90-Kornelia-Bastin-Kornelia-Bastin.pdf\",\n\"DSBA 6211 Advanced Business Analytics \\u2013 Kornelia Bastin\",\n\"https://dsba.charlotte.edu/2024/03/12/dsba-6211-advanced-business-analytics-kornelia-bastin/\",\n\"DSBA 6211 Advanced Business Analytics, Spring 2024 \\u2013 Kornelia Bastin\"],\n [{\n            'v': 40,\n            'f': \"40\",\n        },\n\"https://dsba.charlotte.edu/wp-content/uploads/sites/719/2024/10/DSBA-6211-Advanced-Business-Analytics-Summer-2024-Ryan-Wesslen.pdf\",\n\"DSBA-6211-Advanced-Business-Analytics-Summer-2024-Ryan-Wesslen.pdf\",\n\"https://dsba.charlotte.edu/2024/10/10/dsba-mbad-6211-advanced-business-analytics-summer-2024-ryan-wesslen/\",\n\"DSBA 6211 Advanced Business Analytics, Summer 2024 \\u2013 Ryan Wesslen\"],\n [{\n            'v': 41,\n            'f': \"41\",\n        },\n\"https://dsba.charlotte.edu/wp-content/uploads/sites/719/2024/10/DSBA-6326-Network-Science-Fall-2024-Mirsad-Hadzikadic.pdf\",\n\"DSBA-6326-Network-Science-Fall-2024-Mirsad-Hadzikadic.pdf\",\n\"https://dsba.charlotte.edu/2024/10/10/dsba-6236-network-science-fall-2024-mirsad-hadzikadic/\",\n\"DSBA 6236 Network Science, Fall 2024 \\u2013 Mirsad Hadzikadic\"],\n [{\n            'v': 42,\n            'f': \"42\",\n        },\n\"https://dsba.charlotte.edu/wp-content/uploads/sites/719/2023/09/MBAD_DSBA6276_Syllabus_spr-2023-Angela-Xia-Liu_0.pdf\",\n\"MBAD_DSBA6276_Syllabus_spr 2023 \\u2013 Angela Xia Liu.pdf\",\n\"https://dsba.charlotte.edu/dsba-6276-strategic-business-analytics-1/\",\n\"DSBA 6276 Strategic Business Analytics, Spring 2023 \\u2013 Angela Liu\"],\n [{\n            'v': 43,\n            'f': \"43\",\n        },\n\"https://dsba.charlotte.edu/wp-content/uploads/sites/719/2024/03/DSBA-6276-Strategic-Business-Analytics-Angela-Xia-Liu.pdf\",\n\"DSBA 6276 Strategic Business Analytics \\u2013 Angela Xia Liu\",\n\"https://dsba.charlotte.edu/2024/03/12/dsba-6276-strategic-business-analytics-angela-xia-liu/\",\n\"DSBA 6276 Strategic Business Analytics, Spring 2024 \\u2013 Angela Xia Liu\"],\n [{\n            'v': 44,\n            'f': \"44\",\n        },\n\"https://dsba.charlotte.edu/wp-content/uploads/sites/719/2024/10/DSBA-6277-Social-Media-Marketing-and-Analytics-Fall-2024-Nima-Jalali.pdf\",\n\"DSBA-6277-Social-Media-Marketing-and-Analytics-Fall-2024-Nima-Jalali.pdf\",\n\"https://dsba.charlotte.edu/2024/10/10/dsba-mbad-6277-social-media-marketing-and-analytics-fall-2024-nima-jalali/\",\n\"DSBA 6277 Social Media Marketing and Analytics, Fall 2024 \\u2013 Nima Jalali\"],\n [{\n            'v': 45,\n            'f': \"45\",\n        },\n\"https://dsba.charlotte.edu/wp-content/uploads/sites/719/2023/09/DSBA6284-Syllabus_Ming-Chen-Ming-Chen.pdf\",\n\"DSBA6284 Syllabus_Ming Chen \\u2013 Ming Chen.pdf\",\n\"https://dsba.charlotte.edu/dsba-6284-digital-marketing-analytics/\",\n\"DSBA 6284 Digital Marketing Analytics, Spring 2023 \\u2013 Ming Chen\"],\n [{\n            'v': 46,\n            'f': \"46\",\n        },\n\"https://dsba.charlotte.edu/wp-content/uploads/sites/719/2024/03/Digital-Marketing-Analytics-Syllabus-Spring-2024-Ming-Chen.pdf\",\n\"DSBA 6284 Digital Marketing Analytics \\u2013 Ming Chen\",\n\"https://dsba.charlotte.edu/2024/03/12/dsba-6284-digital-marketing-analytics-ming-chen/\",\n\"DSBA 6284 Digital Marketing Analytics, Spring 2024 \\u2013 Ming Chen\"],\n [{\n            'v': 47,\n            'f': \"47\",\n        },\n\"https://dsba.charlotte.edu/wp-content/uploads/sites/719/2023/09/Spring-2023-DSBA-and-HCIP-6400-Doug-Hague.pdf\",\n\"Spring 2023 DSBA and HCIP 6400 \\u2013 Doug Hague.pdf\",\n\"https://dsba.charlotte.edu/dsba-6400-internship-2/\",\n\"DSBA 6400 Internship, Spring 2023 \\u2013 Doug Hague\"],\n [{\n            'v': 48,\n            'f': \"48\",\n        },\n\"https://dsba.charlotte.edu/wp-content/uploads/sites/719/2024/03/Syllabus_ITIS6500_8500_Spring-2024-Mirsad-Hadzikadic.pdf\",\n\"DSBA 6500 Complex Adaptive Systems \\u2013 Mirsad Hadzikadic\",\n\"https://dsba.charlotte.edu/2024/03/12/dsba-6500-complex-adaptive-systems-mirsad-hadzikadic/\",\n\"DSBA 6500 Complex Adaptive Systems, Spring 2024 \\u2013 Mirsad Hadzikadic\"]],\n        columns: [[\"number\", \"index\"], [\"string\", \"link\"], [\"string\", \"filename\"], [\"string\", \"parent\"], [\"string\", \"title\"]],\n        columnOptions: [{\"width\": \"1px\", \"className\": \"index_column\"}],\n        rowsPerPage: 25,\n        helpUrl: \"https://colab.research.google.com/notebooks/data_table.ipynb\",\n        suppressOutputScrolling: true,\n        minimumWidth: undefined,\n      });\n\n      function appendQuickchartButton(parentElement) {\n        let quickchartButtonContainerElement = document.createElement('div');\n        quickchartButtonContainerElement.innerHTML = `\n<div id=\"df-454cde4f-52de-43f6-9082-f5e557d296da\">\n  <button class=\"colab-df-quickchart\" onclick=\"quickchart('df-454cde4f-52de-43f6-9082-f5e557d296da')\"\n            title=\"Suggest charts\"\n            style=\"display:none;\">\n    \n<svg xmlns=\"http://www.w3.org/2000/svg\" height=\"24px\"viewBox=\"0 0 24 24\"\n     width=\"24px\">\n    <g>\n        <path d=\"M19 3H5c-1.1 0-2 .9-2 2v14c0 1.1.9 2 2 2h14c1.1 0 2-.9 2-2V5c0-1.1-.9-2-2-2zM9 17H7v-7h2v7zm4 0h-2V7h2v10zm4 0h-2v-4h2v4z\"/>\n    </g>\n</svg>\n  </button>\n  \n<style>\n  .colab-df-quickchart {\n      --bg-color: #E8F0FE;\n      --fill-color: #1967D2;\n      --hover-bg-color: #E2EBFA;\n      --hover-fill-color: #174EA6;\n      --disabled-fill-color: #AAA;\n      --disabled-bg-color: #DDD;\n  }\n\n  [theme=dark] .colab-df-quickchart {\n      --bg-color: #3B4455;\n      --fill-color: #D2E3FC;\n      --hover-bg-color: #434B5C;\n      --hover-fill-color: #FFFFFF;\n      --disabled-bg-color: #3B4455;\n      --disabled-fill-color: #666;\n  }\n\n  .colab-df-quickchart {\n    background-color: var(--bg-color);\n    border: none;\n    border-radius: 50%;\n    cursor: pointer;\n    display: none;\n    fill: var(--fill-color);\n    height: 32px;\n    padding: 0;\n    width: 32px;\n  }\n\n  .colab-df-quickchart:hover {\n    background-color: var(--hover-bg-color);\n    box-shadow: 0 1px 2px rgba(60, 64, 67, 0.3), 0 1px 3px 1px rgba(60, 64, 67, 0.15);\n    fill: var(--button-hover-fill-color);\n  }\n\n  .colab-df-quickchart-complete:disabled,\n  .colab-df-quickchart-complete:disabled:hover {\n    background-color: var(--disabled-bg-color);\n    fill: var(--disabled-fill-color);\n    box-shadow: none;\n  }\n\n  .colab-df-spinner {\n    border: 2px solid var(--fill-color);\n    border-color: transparent;\n    border-bottom-color: var(--fill-color);\n    animation:\n      spin 1s steps(1) infinite;\n  }\n\n  @keyframes spin {\n    0% {\n      border-color: transparent;\n      border-bottom-color: var(--fill-color);\n      border-left-color: var(--fill-color);\n    }\n    20% {\n      border-color: transparent;\n      border-left-color: var(--fill-color);\n      border-top-color: var(--fill-color);\n    }\n    30% {\n      border-color: transparent;\n      border-left-color: var(--fill-color);\n      border-top-color: var(--fill-color);\n      border-right-color: var(--fill-color);\n    }\n    40% {\n      border-color: transparent;\n      border-right-color: var(--fill-color);\n      border-top-color: var(--fill-color);\n    }\n    60% {\n      border-color: transparent;\n      border-right-color: var(--fill-color);\n    }\n    80% {\n      border-color: transparent;\n      border-right-color: var(--fill-color);\n      border-bottom-color: var(--fill-color);\n    }\n    90% {\n      border-color: transparent;\n      border-bottom-color: var(--fill-color);\n    }\n  }\n</style>\n\n  <script>\n    async function quickchart(key) {\n      const quickchartButtonEl =\n        document.querySelector('#' + key + ' button');\n      quickchartButtonEl.disabled = true;  // To prevent multiple clicks.\n      quickchartButtonEl.classList.add('colab-df-spinner');\n      try {\n        const charts = await google.colab.kernel.invokeFunction(\n            'suggestCharts', [key], {});\n      } catch (error) {\n        console.error('Error during call to suggestCharts:', error);\n      }\n      quickchartButtonEl.classList.remove('colab-df-spinner');\n      quickchartButtonEl.classList.add('colab-df-quickchart-complete');\n    }\n    (() => {\n      let quickchartButtonEl =\n        document.querySelector('#df-454cde4f-52de-43f6-9082-f5e557d296da button');\n      quickchartButtonEl.style.display =\n        google.colab.kernel.accessAllowed ? 'block' : 'none';\n    })();\n  </script>\n</div>`;\n        parentElement.appendChild(quickchartButtonContainerElement);\n      }\n\n      appendQuickchartButton(table);\n    "
          },
          "metadata": {}
        }
      ]
    },
    {
      "cell_type": "markdown",
      "source": [
        "# Getting metadata from titles"
      ],
      "metadata": {
        "id": "_gJ6K3-Xs9wx"
      }
    },
    {
      "cell_type": "code",
      "source": [
        "prompt=\"\"\"\n",
        "Analyze the title at the end of this prompt and provide the following in json format if available, using the following keys:\n",
        "  - course_title\n",
        "  - course_number\n",
        "  - instructor\n",
        "  - semester\n",
        "  - section\n",
        "\n",
        "please make sure that the json is valid json escape quotes in necessary\n",
        "please do not wrap the json with markdown to indicate that it is json\n",
        "please make sure that the json labels match the labels below exactly\n",
        "Title: {title}\n",
        "\n",
        "Here are some examples:\n",
        "DSBA 5122 Visual Analytics & Storytelling, Fall 2022 – WenWen Dou\n",
        "{{\n",
        "  \"course_title\": \"Visual Analytics & Storytelling\",\n",
        "  \"course_number\": \"5122\",\n",
        "  \"instructor\": \"WenWen Dou\",\n",
        "  \"semester\": \"Fall 2022\",\n",
        "  \"section\": \"\"\n",
        "}}\n",
        "\n",
        "DSBA 6010 Applied Computer Vision – Rick Chakra\n",
        "{{\n",
        "  \"course_title\": \"Applied Computer Vision\",\n",
        "  \"course_number\": \"6010\",\n",
        "  \"instructor\": \"Rick Chakra\",\n",
        "  \"semester\": \"\",\n",
        "  \"section\": \"\"\n",
        "}}\n",
        "DSBA 6188 Text Mining and Information Retrieval – Xi (Sunshine) Niu\n",
        "{{\n",
        "  \"course_title\": \"Text Mining and Information Retrieval\",\n",
        "  \"course_number\": \"6188\",\n",
        "  \"instructor\": \"Xi (Sunshine) Niu\",\n",
        "  \"semester\": \"\",\n",
        "  \"section\": \"\"\n",
        "}}\n",
        "DSBA-6165-Artificial Intelligence and Deep Learning Section 1\n",
        "{{\n",
        "  \"course_title\": \"\",\n",
        "  \"course_number\": \"6165\",\n",
        "  \"instructor\": \"\",\n",
        "  \"semester\": \"\",\n",
        "  \"section\": \"1\"\n",
        "}}\n",
        "  \"\"\"\n",
        "\n",
        "GEMINI_MODEL_VERSION='models/gemini-1.5-flash'\n",
        "gemini_key = userdata.get('GeminiAPI')\n",
        "genai.configure(api_key=gemini_key)\n",
        "model=genai.GenerativeModel(GEMINI_MODEL_VERSION)\n",
        "corpus=list()\n",
        "for doc in doclinks:\n",
        "    #print(f\"Processing {doc['title']}\\n{prompt.format(**doc)}\")\n",
        "    print(f\"Processing {doc['title']}\")\n",
        "    time.sleep(5)  ## Throttle Needed\n",
        "    response = model.generate_content(prompt.format(**doc))\n",
        "    corpus_doc = deepcopy(doc)\n",
        "    corpus_doc.update(json.loads(response.text))\n",
        "    corpus.append(corpus_doc)\n",
        "\n",
        "corpus_df=pd.DataFrame(corpus)\n",
        "display(corpus_df.drop(columns=['link','parent','content']))\n",
        "\n",
        "syllabi_fp = open(SYLLABI_DOCS + '/syllabi.json', 'w')\n",
        "syllabi_fp.write(corpus_df.to_json(orient='records'))\n",
        "syllabi_fp.close()"
      ],
      "metadata": {
        "colab": {
          "base_uri": "https://localhost:8080/",
          "height": 1935
        },
        "id": "gKuxIxnatDvH",
        "outputId": "cd557e78-ff17-41d3-98d9-916569a1e7a1"
      },
      "execution_count": null,
      "outputs": [
        {
          "output_type": "stream",
          "name": "stdout",
          "text": [
            "Processing DSBA 5122 Visual Analytics and Storytelling, Fall 2024 – Robert Fox\n",
            "Processing DSBA 6010 Applications of Large Language Models, Fall 2024 – Ryan Wesslen\n",
            "Processing DSBA 6010 Applied Computer Vision, Spring 2024 – Rick Chakra\n",
            "Processing DSBA 6010 Disability, Technology, & Artificial Intelligence, Spring 2023 – Damien Williams\n",
            "Processing DSBA 6010 Geospatial Data Analytics, Spring 2023 – Jean Claude Thill\n",
            "Processing DSBA 6010 Special Topic: Model Risk Management, Fall 2024 – Robert Fox\n",
            "Processing DSBA 6010 Special Topics: Building & Leading Data Organizations, Fall 2024 – Steven Jordan\n",
            "Processing DSBA 6100 Big Data Analytics for Competitive Advantage, Spring 2023 – Daryl Nashold\n",
            "Processing DSBA 6112 Graduate Econometrics, Fall 2024 – Kelly Vosters\n",
            "Processing DSBA 6112 Graduate Econometrics, Spring 2023 – Kelly Vosters\n",
            "Processing DSBA 6112 Graduate Econometrics, Spring 2024 – Kelly Vosters\n",
            "Processing DSBA 6115 Statistical Learning with Big Data, Fall 2024 – Jiancheng Jiang\n",
            "Processing DSBA 6122 Decision Modeling and Analysis, Fall 2024 – Xiuli He\n",
            "Processing DSBA 6122 Decision Modeling and Analysis, Spring 2023 – Xiuli He\n",
            "Processing DSBA 6156 Applied Machine Learning, Fall 2024 – Rick Chakra\n",
            "Processing DSBA 6156 Applied Machine Learning, Spring 2023 – Rick Chakra\n",
            "Processing DSBA 6156 Applied Machine Learning, Spring 2024 – Rick Chakra\n",
            "Processing DSBA 6160 Database Systems for Data Scientists, Fall 2024 – Pamela Thompson\n",
            "Processing DSBA 6160 Database Systems for Data Scientists, Fall 2024 – Shih-Hsiung Chou\n",
            "Processing DSBA 6160 Database Systems for Data Scientists, Spring 2023 – Pamela Thompson\n",
            "Processing DSBA 6160 Database Systems for Data Scientists, Spring 2023 – Stephen Rohrer\n",
            "Processing DSBA 6160 Database Systems for Data Scientists, Spring 2024 – Aaron Lee\n",
            "Processing DSBA 6160 Database Systems for Data Scientists, Spring 2024 – Katie Hanks\n",
            "Processing DSBA 6162 Knowledge Discovery and Databases, Fall 2024 – Xi (Sunshine) Nu\n",
            "Processing DSBA 6162 Knowledge Discovery in Databases (KDD), Spring 2024 – Xi (Sunshine) Niu\n",
            "Processing DSBA 6162 Knowledge Discovery in Databases Section, Spring 2023 – Zybszek Ras\n",
            "Processing DSBA 6165 AI and Deep Learning, Fall 2024 – Albert Park\n",
            "Processing DSBA 6188 Text Mining and Information Retrieval, Fall 2024 – Depeng Zu\n",
            "Processing DSBA 6188 Text Mining and Information Retrieval, Spring 2023 – Xi (Sunshine) Niu\n",
            "Processing DSBA 6188 Text Mining and Information Retrieval, Spring 2024 – Chang Hsin Lee\n",
            "Processing DSBA 6190 Cloud Computing for Data Analysis, Fall 2024 – Colby Ford\n",
            "Processing DSBA 6190 Cloud Computing for Data Analysis, Spring 2023 – Colby Ford\n",
            "Processing DSBA 6201 Business Intelligence and Analytics, Fall 2024 – Chandra Subramaniam\n",
            "Processing DSBA 6201 Business Intelligence and Analytics, Fall 2024 – Kornelia Bastin\n",
            "Processing DSBA 6201 Business Intelligence and Analytics, Spring 2023 – Lina Zhou\n",
            "Processing DSBA 6201 Business Intelligence and Analytics, Spring 2023 – Monica Johar\n",
            "Processing DSBA 6208 Operations Management, Fall 2024 – Andrew Fraher\n",
            "Processing DSBA 6211 Advanced Business Analytics, Fall 2024 – Kexin Zhao\n",
            "Processing DSBA 6211 Advanced Business Analytics, Fall 2024 – Sungjune Park\n",
            "Processing DSBA 6211 Advanced Business Analytics, Spring 2024 – Kornelia Bastin\n",
            "Processing DSBA 6211 Advanced Business Analytics, Summer 2024 – Ryan Wesslen\n",
            "Processing DSBA 6236 Network Science, Fall 2024 – Mirsad Hadzikadic\n",
            "Processing DSBA 6276 Strategic Business Analytics, Spring 2023 – Angela Liu\n",
            "Processing DSBA 6276 Strategic Business Analytics, Spring 2024 – Angela Xia Liu\n",
            "Processing DSBA 6277 Social Media Marketing and Analytics, Fall 2024 – Nima Jalali\n",
            "Processing DSBA 6284 Digital Marketing Analytics, Spring 2023 – Ming Chen\n",
            "Processing DSBA 6284 Digital Marketing Analytics, Spring 2024 – Ming Chen\n",
            "Processing DSBA 6400 Internship, Spring 2023 – Doug Hague\n",
            "Processing DSBA 6500 Complex Adaptive Systems, Spring 2024 – Mirsad Hadzikadic\n"
          ]
        },
        {
          "output_type": "display_data",
          "data": {
            "text/plain": [
              "                                             filename  \\\n",
              "0   DSBA_HCIP-5122-Visual-Analytics-and-Storytelli...   \n",
              "1   DSBA-6010-Applications-of-Large-Language-Model...   \n",
              "2     DSBA 6010 Applied Computer Vision – Rick Chakra   \n",
              "3   Damien_Patrick_Williams_-_DSBA_6010_-_26287 – ...   \n",
              "4   DSBA6010-GEOG6030 Syllabus SP 2023 v30 – Jean-...   \n",
              "5                 DSBA-6010-Model-Risk-Management-Fal   \n",
              "6               DSBA-6010-Fall-2024-Steven-Jordan.pdf   \n",
              "7   DSBA6100-U90_MBAD7090-U92_Spring 2023_Blaine N...   \n",
              "8   DSBA-6112-Graduate-Econometrics-Fall-2024-Kell...   \n",
              "9             DSBA6112-U90_202310 – Kelly Vosters.pdf   \n",
              "10    DSBA 6112 Graduate Econometrics – Kelly Vosters   \n",
              "11            DSBA-6115-Fall-2024-Jiancheng-Jiang.pdf   \n",
              "12  DSBA-6122-Decision-Modeling-and-Analysis-Fall-...   \n",
              "13                        DSBA6122-U90-2023Spring.pdf   \n",
              "14  DSBA-6156-Applied-Machine-Learning-Fall-2024-R...   \n",
              "15  Syllabus for 202310-Spring 2023-DSBA-6156-U90-...   \n",
              "16   DSBA 6156 Applied Machine Learning – Rick Chakra   \n",
              "17  DSBA_HCIP-6160-Database-Systems-for-Data-Scien...   \n",
              "18  DSBA_HCIP-6160-Database-Systems-for-Data-Scien...   \n",
              "19  DSBA_HCIP_6160_Thompson_Spring_2023 – Pamela T...   \n",
              "20  Syllabus – DSBA-HCIP-6160_Spring_2023 _rev4.0....   \n",
              "21  DSBA 6160 Database Systems for Data Scientists...   \n",
              "22  Syllabus – DSBA-HCIP-6160_Spring_2023 – Katie ...   \n",
              "23  DSBA_HCIP-6162-Knowledge-Discovery-and-Databas...   \n",
              "24  DSBA 6162 Knowledge Discovery in Databases (KD...   \n",
              "25                        DSBA 6162 – Zbyszek Ras.pdf   \n",
              "26  DSBA-6165-AI-and-Deep-Learning-Fall-2024-Alber...   \n",
              "27  DSBA-6188-Text-Mining-and-Information-Retrieva...   \n",
              "28  DSBA6188_Syllabus_Spring2023_Niu – Xi (Sunshin...   \n",
              "29  DSBA 6188 Text Mining and Information Retrieva...   \n",
              "30  DSBA-6190-Cloud-Computing-for-Data-Analysis-Fa...   \n",
              "31     DSBA-6190_Syllabus_Spring2023 – Colby Ford.pdf   \n",
              "32  DSBA-6201-Business-Intelligence-and-Analytics-...   \n",
              "33  DSBA-6201-Business-Intelligence-and-Analytics-...   \n",
              "34                 MBAD DSBA6201 SP23 – Lina Zhou.pdf   \n",
              "35        MBAD DSBA 6201 Spring 2023 Syllabus (2).pdf   \n",
              "36  DSBA-6208-Operations-Management-Fall-2024-Andy...   \n",
              "37  DSBA-6211-Advanced-Business-Analytics-Fall-202...   \n",
              "38  DSBA-6211-Advanced-Business-Analytics-Fall-202...   \n",
              "39  DSBA 6211 Advanced Business Analytics – Kornel...   \n",
              "40  DSBA-6211-Advanced-Business-Analytics-Summer-2...   \n",
              "41  DSBA-6326-Network-Science-Fall-2024-Mirsad-Had...   \n",
              "42  MBAD_DSBA6276_Syllabus_spr 2023 – Angela Xia L...   \n",
              "43  DSBA 6276 Strategic Business Analytics – Angel...   \n",
              "44  DSBA-6277-Social-Media-Marketing-and-Analytics...   \n",
              "45        DSBA6284 Syllabus_Ming Chen – Ming Chen.pdf   \n",
              "46  DSBA 6284 Digital Marketing Analytics – Ming Chen   \n",
              "47    Spring 2023 DSBA and HCIP 6400 – Doug Hague.pdf   \n",
              "48  DSBA 6500 Complex Adaptive Systems – Mirsad Ha...   \n",
              "\n",
              "                                                title  \\\n",
              "0   DSBA 5122 Visual Analytics and Storytelling, F...   \n",
              "1   DSBA 6010 Applications of Large Language Model...   \n",
              "2   DSBA 6010 Applied Computer Vision, Spring 2024...   \n",
              "3   DSBA 6010 Disability, Technology, & Artificial...   \n",
              "4   DSBA 6010 Geospatial Data Analytics, Spring 20...   \n",
              "5   DSBA 6010 Special Topic: Model Risk Management...   \n",
              "6   DSBA 6010 Special Topics: Building & Leading D...   \n",
              "7   DSBA 6100 Big Data Analytics for Competitive A...   \n",
              "8   DSBA 6112 Graduate Econometrics, Fall 2024 – K...   \n",
              "9   DSBA 6112 Graduate Econometrics, Spring 2023 –...   \n",
              "10  DSBA 6112 Graduate Econometrics, Spring 2024 –...   \n",
              "11  DSBA 6115 Statistical Learning with Big Data, ...   \n",
              "12  DSBA 6122 Decision Modeling and Analysis, Fall...   \n",
              "13  DSBA 6122 Decision Modeling and Analysis, Spri...   \n",
              "14  DSBA 6156 Applied Machine Learning, Fall 2024 ...   \n",
              "15  DSBA 6156 Applied Machine Learning, Spring 202...   \n",
              "16  DSBA 6156 Applied Machine Learning, Spring 202...   \n",
              "17  DSBA 6160 Database Systems for Data Scientists...   \n",
              "18  DSBA 6160 Database Systems for Data Scientists...   \n",
              "19  DSBA 6160 Database Systems for Data Scientists...   \n",
              "20  DSBA 6160 Database Systems for Data Scientists...   \n",
              "21  DSBA 6160 Database Systems for Data Scientists...   \n",
              "22  DSBA 6160 Database Systems for Data Scientists...   \n",
              "23  DSBA 6162 Knowledge Discovery and Databases, F...   \n",
              "24  DSBA 6162 Knowledge Discovery in Databases (KD...   \n",
              "25  DSBA 6162 Knowledge Discovery in Databases Sec...   \n",
              "26  DSBA 6165 AI and Deep Learning, Fall 2024 – Al...   \n",
              "27  DSBA 6188 Text Mining and Information Retrieva...   \n",
              "28  DSBA 6188 Text Mining and Information Retrieva...   \n",
              "29  DSBA 6188 Text Mining and Information Retrieva...   \n",
              "30  DSBA 6190 Cloud Computing for Data Analysis, F...   \n",
              "31  DSBA 6190 Cloud Computing for Data Analysis, S...   \n",
              "32  DSBA 6201 Business Intelligence and Analytics,...   \n",
              "33  DSBA 6201 Business Intelligence and Analytics,...   \n",
              "34  DSBA 6201 Business Intelligence and Analytics,...   \n",
              "35  DSBA 6201 Business Intelligence and Analytics,...   \n",
              "36  DSBA 6208 Operations Management, Fall 2024 – A...   \n",
              "37  DSBA 6211 Advanced Business Analytics, Fall 20...   \n",
              "38  DSBA 6211 Advanced Business Analytics, Fall 20...   \n",
              "39  DSBA 6211 Advanced Business Analytics, Spring ...   \n",
              "40  DSBA 6211 Advanced Business Analytics, Summer ...   \n",
              "41  DSBA 6236 Network Science, Fall 2024 – Mirsad ...   \n",
              "42  DSBA 6276 Strategic Business Analytics, Spring...   \n",
              "43  DSBA 6276 Strategic Business Analytics, Spring...   \n",
              "44  DSBA 6277 Social Media Marketing and Analytics...   \n",
              "45  DSBA 6284 Digital Marketing Analytics, Spring ...   \n",
              "46  DSBA 6284 Digital Marketing Analytics, Spring ...   \n",
              "47     DSBA 6400 Internship, Spring 2023 – Doug Hague   \n",
              "48  DSBA 6500 Complex Adaptive Systems, Spring 202...   \n",
              "\n",
              "                                         course_title course_number  \\\n",
              "0                   Visual Analytics and Storytelling          5122   \n",
              "1               Applications of Large Language Models          6010   \n",
              "2                             Applied Computer Vision          6010   \n",
              "3   Disability, Technology, & Artificial Intelligence          6010   \n",
              "4                           Geospatial Data Analytics          6010   \n",
              "5                Special Topic: Model Risk Management          6010   \n",
              "6   Special Topics: Building & Leading Data Organi...          6010   \n",
              "7        Big Data Analytics for Competitive Advantage          6100   \n",
              "8                               Graduate Econometrics          6112   \n",
              "9                               Graduate Econometrics          6112   \n",
              "10                              Graduate Econometrics          6112   \n",
              "11                 Statistical Learning with Big Data          6115   \n",
              "12                     Decision Modeling and Analysis          6122   \n",
              "13                     Decision Modeling and Analysis          6122   \n",
              "14                           Applied Machine Learning          6156   \n",
              "15                           Applied Machine Learning          6156   \n",
              "16                           Applied Machine Learning          6156   \n",
              "17               Database Systems for Data Scientists          6160   \n",
              "18               Database Systems for Data Scientists          6160   \n",
              "19               Database Systems for Data Scientists          6160   \n",
              "20               Database Systems for Data Scientists          6160   \n",
              "21               Database Systems for Data Scientists          6160   \n",
              "22               Database Systems for Data Scientists          6160   \n",
              "23                  Knowledge Discovery and Databases          6162   \n",
              "24             Knowledge Discovery in Databases (KDD)          6162   \n",
              "25                   Knowledge Discovery in Databases          6162   \n",
              "26                               AI and Deep Learning          6165   \n",
              "27              Text Mining and Information Retrieval          6188   \n",
              "28              Text Mining and Information Retrieval          6188   \n",
              "29              Text Mining and Information Retrieval          6188   \n",
              "30                  Cloud Computing for Data Analysis          6190   \n",
              "31                  Cloud Computing for Data Analysis          6190   \n",
              "32                Business Intelligence and Analytics          6201   \n",
              "33                Business Intelligence and Analytics          6201   \n",
              "34                Business Intelligence and Analytics          6201   \n",
              "35                Business Intelligence and Analytics          6201   \n",
              "36                              Operations Management          6208   \n",
              "37                        Advanced Business Analytics          6211   \n",
              "38                        Advanced Business Analytics          6211   \n",
              "39                        Advanced Business Analytics          6211   \n",
              "40                        Advanced Business Analytics          6211   \n",
              "41                                    Network Science          6236   \n",
              "42                       Strategic Business Analytics          6276   \n",
              "43                       Strategic Business Analytics          6276   \n",
              "44               Social Media Marketing and Analytics          6277   \n",
              "45                        Digital Marketing Analytics          6284   \n",
              "46                        Digital Marketing Analytics          6284   \n",
              "47                                         Internship          6400   \n",
              "48                           Complex Adaptive Systems          6500   \n",
              "\n",
              "             instructor     semester section  \n",
              "0            Robert Fox    Fall 2024          \n",
              "1          Ryan Wesslen    Fall 2024          \n",
              "2           Rick Chakra  Spring 2024          \n",
              "3       Damien Williams  Spring 2023          \n",
              "4     Jean Claude Thill  Spring 2023          \n",
              "5            Robert Fox    Fall 2024          \n",
              "6         Steven Jordan    Fall 2024          \n",
              "7         Daryl Nashold  Spring 2023          \n",
              "8         Kelly Vosters    Fall 2024          \n",
              "9         Kelly Vosters  Spring 2023          \n",
              "10        Kelly Vosters  Spring 2024          \n",
              "11      Jiancheng Jiang    Fall 2024          \n",
              "12             Xiuli He    Fall 2024          \n",
              "13             Xiuli He  Spring 2023          \n",
              "14          Rick Chakra    Fall 2024          \n",
              "15          Rick Chakra  Spring 2023          \n",
              "16          Rick Chakra  Spring 2024          \n",
              "17      Pamela Thompson    Fall 2024          \n",
              "18     Shih-Hsiung Chou    Fall 2024          \n",
              "19      Pamela Thompson  Spring 2023          \n",
              "20       Stephen Rohrer  Spring 2023          \n",
              "21            Aaron Lee  Spring 2024          \n",
              "22          Katie Hanks  Spring 2024          \n",
              "23     Xi (Sunshine) Nu    Fall 2024          \n",
              "24    Xi (Sunshine) Niu  Spring 2024          \n",
              "25          Zybszek Ras  Spring 2023          \n",
              "26          Albert Park    Fall 2024          \n",
              "27            Depeng Zu    Fall 2024          \n",
              "28    Xi (Sunshine) Niu  Spring 2023          \n",
              "29       Chang Hsin Lee  Spring 2024          \n",
              "30           Colby Ford    Fall 2024          \n",
              "31           Colby Ford  Spring 2023          \n",
              "32  Chandra Subramaniam    Fall 2024          \n",
              "33      Kornelia Bastin    Fall 2024          \n",
              "34            Lina Zhou  Spring 2023          \n",
              "35         Monica Johar  Spring 2023          \n",
              "36        Andrew Fraher    Fall 2024          \n",
              "37           Kexin Zhao    Fall 2024          \n",
              "38        Sungjune Park    Fall 2024          \n",
              "39      Kornelia Bastin  Spring 2024          \n",
              "40         Ryan Wesslen  Summer 2024          \n",
              "41    Mirsad Hadzikadic    Fall 2024          \n",
              "42           Angela Liu  Spring 2023          \n",
              "43       Angela Xia Liu  Spring 2024          \n",
              "44          Nima Jalali    Fall 2024          \n",
              "45            Ming Chen  Spring 2023          \n",
              "46            Ming Chen  Spring 2024          \n",
              "47           Doug Hague  Spring 2023          \n",
              "48    Mirsad Hadzikadic  Spring 2024          "
            ],
            "text/html": [
              "\n",
              "  <div id=\"df-9f6bea27-b602-45b4-90f6-c074bb0f4b15\" class=\"colab-df-container\">\n",
              "    <div>\n",
              "<style scoped>\n",
              "    .dataframe tbody tr th:only-of-type {\n",
              "        vertical-align: middle;\n",
              "    }\n",
              "\n",
              "    .dataframe tbody tr th {\n",
              "        vertical-align: top;\n",
              "    }\n",
              "\n",
              "    .dataframe thead th {\n",
              "        text-align: right;\n",
              "    }\n",
              "</style>\n",
              "<table border=\"1\" class=\"dataframe\">\n",
              "  <thead>\n",
              "    <tr style=\"text-align: right;\">\n",
              "      <th></th>\n",
              "      <th>filename</th>\n",
              "      <th>title</th>\n",
              "      <th>course_title</th>\n",
              "      <th>course_number</th>\n",
              "      <th>instructor</th>\n",
              "      <th>semester</th>\n",
              "      <th>section</th>\n",
              "    </tr>\n",
              "  </thead>\n",
              "  <tbody>\n",
              "    <tr>\n",
              "      <th>0</th>\n",
              "      <td>DSBA_HCIP-5122-Visual-Analytics-and-Storytelli...</td>\n",
              "      <td>DSBA 5122 Visual Analytics and Storytelling, F...</td>\n",
              "      <td>Visual Analytics and Storytelling</td>\n",
              "      <td>5122</td>\n",
              "      <td>Robert Fox</td>\n",
              "      <td>Fall 2024</td>\n",
              "      <td></td>\n",
              "    </tr>\n",
              "    <tr>\n",
              "      <th>1</th>\n",
              "      <td>DSBA-6010-Applications-of-Large-Language-Model...</td>\n",
              "      <td>DSBA 6010 Applications of Large Language Model...</td>\n",
              "      <td>Applications of Large Language Models</td>\n",
              "      <td>6010</td>\n",
              "      <td>Ryan Wesslen</td>\n",
              "      <td>Fall 2024</td>\n",
              "      <td></td>\n",
              "    </tr>\n",
              "    <tr>\n",
              "      <th>2</th>\n",
              "      <td>DSBA 6010 Applied Computer Vision – Rick Chakra</td>\n",
              "      <td>DSBA 6010 Applied Computer Vision, Spring 2024...</td>\n",
              "      <td>Applied Computer Vision</td>\n",
              "      <td>6010</td>\n",
              "      <td>Rick Chakra</td>\n",
              "      <td>Spring 2024</td>\n",
              "      <td></td>\n",
              "    </tr>\n",
              "    <tr>\n",
              "      <th>3</th>\n",
              "      <td>Damien_Patrick_Williams_-_DSBA_6010_-_26287 – ...</td>\n",
              "      <td>DSBA 6010 Disability, Technology, &amp; Artificial...</td>\n",
              "      <td>Disability, Technology, &amp; Artificial Intelligence</td>\n",
              "      <td>6010</td>\n",
              "      <td>Damien Williams</td>\n",
              "      <td>Spring 2023</td>\n",
              "      <td></td>\n",
              "    </tr>\n",
              "    <tr>\n",
              "      <th>4</th>\n",
              "      <td>DSBA6010-GEOG6030 Syllabus SP 2023 v30 – Jean-...</td>\n",
              "      <td>DSBA 6010 Geospatial Data Analytics, Spring 20...</td>\n",
              "      <td>Geospatial Data Analytics</td>\n",
              "      <td>6010</td>\n",
              "      <td>Jean Claude Thill</td>\n",
              "      <td>Spring 2023</td>\n",
              "      <td></td>\n",
              "    </tr>\n",
              "    <tr>\n",
              "      <th>5</th>\n",
              "      <td>DSBA-6010-Model-Risk-Management-Fal</td>\n",
              "      <td>DSBA 6010 Special Topic: Model Risk Management...</td>\n",
              "      <td>Special Topic: Model Risk Management</td>\n",
              "      <td>6010</td>\n",
              "      <td>Robert Fox</td>\n",
              "      <td>Fall 2024</td>\n",
              "      <td></td>\n",
              "    </tr>\n",
              "    <tr>\n",
              "      <th>6</th>\n",
              "      <td>DSBA-6010-Fall-2024-Steven-Jordan.pdf</td>\n",
              "      <td>DSBA 6010 Special Topics: Building &amp; Leading D...</td>\n",
              "      <td>Special Topics: Building &amp; Leading Data Organi...</td>\n",
              "      <td>6010</td>\n",
              "      <td>Steven Jordan</td>\n",
              "      <td>Fall 2024</td>\n",
              "      <td></td>\n",
              "    </tr>\n",
              "    <tr>\n",
              "      <th>7</th>\n",
              "      <td>DSBA6100-U90_MBAD7090-U92_Spring 2023_Blaine N...</td>\n",
              "      <td>DSBA 6100 Big Data Analytics for Competitive A...</td>\n",
              "      <td>Big Data Analytics for Competitive Advantage</td>\n",
              "      <td>6100</td>\n",
              "      <td>Daryl Nashold</td>\n",
              "      <td>Spring 2023</td>\n",
              "      <td></td>\n",
              "    </tr>\n",
              "    <tr>\n",
              "      <th>8</th>\n",
              "      <td>DSBA-6112-Graduate-Econometrics-Fall-2024-Kell...</td>\n",
              "      <td>DSBA 6112 Graduate Econometrics, Fall 2024 – K...</td>\n",
              "      <td>Graduate Econometrics</td>\n",
              "      <td>6112</td>\n",
              "      <td>Kelly Vosters</td>\n",
              "      <td>Fall 2024</td>\n",
              "      <td></td>\n",
              "    </tr>\n",
              "    <tr>\n",
              "      <th>9</th>\n",
              "      <td>DSBA6112-U90_202310 – Kelly Vosters.pdf</td>\n",
              "      <td>DSBA 6112 Graduate Econometrics, Spring 2023 –...</td>\n",
              "      <td>Graduate Econometrics</td>\n",
              "      <td>6112</td>\n",
              "      <td>Kelly Vosters</td>\n",
              "      <td>Spring 2023</td>\n",
              "      <td></td>\n",
              "    </tr>\n",
              "    <tr>\n",
              "      <th>10</th>\n",
              "      <td>DSBA 6112 Graduate Econometrics – Kelly Vosters</td>\n",
              "      <td>DSBA 6112 Graduate Econometrics, Spring 2024 –...</td>\n",
              "      <td>Graduate Econometrics</td>\n",
              "      <td>6112</td>\n",
              "      <td>Kelly Vosters</td>\n",
              "      <td>Spring 2024</td>\n",
              "      <td></td>\n",
              "    </tr>\n",
              "    <tr>\n",
              "      <th>11</th>\n",
              "      <td>DSBA-6115-Fall-2024-Jiancheng-Jiang.pdf</td>\n",
              "      <td>DSBA 6115 Statistical Learning with Big Data, ...</td>\n",
              "      <td>Statistical Learning with Big Data</td>\n",
              "      <td>6115</td>\n",
              "      <td>Jiancheng Jiang</td>\n",
              "      <td>Fall 2024</td>\n",
              "      <td></td>\n",
              "    </tr>\n",
              "    <tr>\n",
              "      <th>12</th>\n",
              "      <td>DSBA-6122-Decision-Modeling-and-Analysis-Fall-...</td>\n",
              "      <td>DSBA 6122 Decision Modeling and Analysis, Fall...</td>\n",
              "      <td>Decision Modeling and Analysis</td>\n",
              "      <td>6122</td>\n",
              "      <td>Xiuli He</td>\n",
              "      <td>Fall 2024</td>\n",
              "      <td></td>\n",
              "    </tr>\n",
              "    <tr>\n",
              "      <th>13</th>\n",
              "      <td>DSBA6122-U90-2023Spring.pdf</td>\n",
              "      <td>DSBA 6122 Decision Modeling and Analysis, Spri...</td>\n",
              "      <td>Decision Modeling and Analysis</td>\n",
              "      <td>6122</td>\n",
              "      <td>Xiuli He</td>\n",
              "      <td>Spring 2023</td>\n",
              "      <td></td>\n",
              "    </tr>\n",
              "    <tr>\n",
              "      <th>14</th>\n",
              "      <td>DSBA-6156-Applied-Machine-Learning-Fall-2024-R...</td>\n",
              "      <td>DSBA 6156 Applied Machine Learning, Fall 2024 ...</td>\n",
              "      <td>Applied Machine Learning</td>\n",
              "      <td>6156</td>\n",
              "      <td>Rick Chakra</td>\n",
              "      <td>Fall 2024</td>\n",
              "      <td></td>\n",
              "    </tr>\n",
              "    <tr>\n",
              "      <th>15</th>\n",
              "      <td>Syllabus for 202310-Spring 2023-DSBA-6156-U90-...</td>\n",
              "      <td>DSBA 6156 Applied Machine Learning, Spring 202...</td>\n",
              "      <td>Applied Machine Learning</td>\n",
              "      <td>6156</td>\n",
              "      <td>Rick Chakra</td>\n",
              "      <td>Spring 2023</td>\n",
              "      <td></td>\n",
              "    </tr>\n",
              "    <tr>\n",
              "      <th>16</th>\n",
              "      <td>DSBA 6156 Applied Machine Learning – Rick Chakra</td>\n",
              "      <td>DSBA 6156 Applied Machine Learning, Spring 202...</td>\n",
              "      <td>Applied Machine Learning</td>\n",
              "      <td>6156</td>\n",
              "      <td>Rick Chakra</td>\n",
              "      <td>Spring 2024</td>\n",
              "      <td></td>\n",
              "    </tr>\n",
              "    <tr>\n",
              "      <th>17</th>\n",
              "      <td>DSBA_HCIP-6160-Database-Systems-for-Data-Scien...</td>\n",
              "      <td>DSBA 6160 Database Systems for Data Scientists...</td>\n",
              "      <td>Database Systems for Data Scientists</td>\n",
              "      <td>6160</td>\n",
              "      <td>Pamela Thompson</td>\n",
              "      <td>Fall 2024</td>\n",
              "      <td></td>\n",
              "    </tr>\n",
              "    <tr>\n",
              "      <th>18</th>\n",
              "      <td>DSBA_HCIP-6160-Database-Systems-for-Data-Scien...</td>\n",
              "      <td>DSBA 6160 Database Systems for Data Scientists...</td>\n",
              "      <td>Database Systems for Data Scientists</td>\n",
              "      <td>6160</td>\n",
              "      <td>Shih-Hsiung Chou</td>\n",
              "      <td>Fall 2024</td>\n",
              "      <td></td>\n",
              "    </tr>\n",
              "    <tr>\n",
              "      <th>19</th>\n",
              "      <td>DSBA_HCIP_6160_Thompson_Spring_2023 – Pamela T...</td>\n",
              "      <td>DSBA 6160 Database Systems for Data Scientists...</td>\n",
              "      <td>Database Systems for Data Scientists</td>\n",
              "      <td>6160</td>\n",
              "      <td>Pamela Thompson</td>\n",
              "      <td>Spring 2023</td>\n",
              "      <td></td>\n",
              "    </tr>\n",
              "    <tr>\n",
              "      <th>20</th>\n",
              "      <td>Syllabus – DSBA-HCIP-6160_Spring_2023 _rev4.0....</td>\n",
              "      <td>DSBA 6160 Database Systems for Data Scientists...</td>\n",
              "      <td>Database Systems for Data Scientists</td>\n",
              "      <td>6160</td>\n",
              "      <td>Stephen Rohrer</td>\n",
              "      <td>Spring 2023</td>\n",
              "      <td></td>\n",
              "    </tr>\n",
              "    <tr>\n",
              "      <th>21</th>\n",
              "      <td>DSBA 6160 Database Systems for Data Scientists...</td>\n",
              "      <td>DSBA 6160 Database Systems for Data Scientists...</td>\n",
              "      <td>Database Systems for Data Scientists</td>\n",
              "      <td>6160</td>\n",
              "      <td>Aaron Lee</td>\n",
              "      <td>Spring 2024</td>\n",
              "      <td></td>\n",
              "    </tr>\n",
              "    <tr>\n",
              "      <th>22</th>\n",
              "      <td>Syllabus – DSBA-HCIP-6160_Spring_2023 – Katie ...</td>\n",
              "      <td>DSBA 6160 Database Systems for Data Scientists...</td>\n",
              "      <td>Database Systems for Data Scientists</td>\n",
              "      <td>6160</td>\n",
              "      <td>Katie Hanks</td>\n",
              "      <td>Spring 2024</td>\n",
              "      <td></td>\n",
              "    </tr>\n",
              "    <tr>\n",
              "      <th>23</th>\n",
              "      <td>DSBA_HCIP-6162-Knowledge-Discovery-and-Databas...</td>\n",
              "      <td>DSBA 6162 Knowledge Discovery and Databases, F...</td>\n",
              "      <td>Knowledge Discovery and Databases</td>\n",
              "      <td>6162</td>\n",
              "      <td>Xi (Sunshine) Nu</td>\n",
              "      <td>Fall 2024</td>\n",
              "      <td></td>\n",
              "    </tr>\n",
              "    <tr>\n",
              "      <th>24</th>\n",
              "      <td>DSBA 6162 Knowledge Discovery in Databases (KD...</td>\n",
              "      <td>DSBA 6162 Knowledge Discovery in Databases (KD...</td>\n",
              "      <td>Knowledge Discovery in Databases (KDD)</td>\n",
              "      <td>6162</td>\n",
              "      <td>Xi (Sunshine) Niu</td>\n",
              "      <td>Spring 2024</td>\n",
              "      <td></td>\n",
              "    </tr>\n",
              "    <tr>\n",
              "      <th>25</th>\n",
              "      <td>DSBA 6162 – Zbyszek Ras.pdf</td>\n",
              "      <td>DSBA 6162 Knowledge Discovery in Databases Sec...</td>\n",
              "      <td>Knowledge Discovery in Databases</td>\n",
              "      <td>6162</td>\n",
              "      <td>Zybszek Ras</td>\n",
              "      <td>Spring 2023</td>\n",
              "      <td></td>\n",
              "    </tr>\n",
              "    <tr>\n",
              "      <th>26</th>\n",
              "      <td>DSBA-6165-AI-and-Deep-Learning-Fall-2024-Alber...</td>\n",
              "      <td>DSBA 6165 AI and Deep Learning, Fall 2024 – Al...</td>\n",
              "      <td>AI and Deep Learning</td>\n",
              "      <td>6165</td>\n",
              "      <td>Albert Park</td>\n",
              "      <td>Fall 2024</td>\n",
              "      <td></td>\n",
              "    </tr>\n",
              "    <tr>\n",
              "      <th>27</th>\n",
              "      <td>DSBA-6188-Text-Mining-and-Information-Retrieva...</td>\n",
              "      <td>DSBA 6188 Text Mining and Information Retrieva...</td>\n",
              "      <td>Text Mining and Information Retrieval</td>\n",
              "      <td>6188</td>\n",
              "      <td>Depeng Zu</td>\n",
              "      <td>Fall 2024</td>\n",
              "      <td></td>\n",
              "    </tr>\n",
              "    <tr>\n",
              "      <th>28</th>\n",
              "      <td>DSBA6188_Syllabus_Spring2023_Niu – Xi (Sunshin...</td>\n",
              "      <td>DSBA 6188 Text Mining and Information Retrieva...</td>\n",
              "      <td>Text Mining and Information Retrieval</td>\n",
              "      <td>6188</td>\n",
              "      <td>Xi (Sunshine) Niu</td>\n",
              "      <td>Spring 2023</td>\n",
              "      <td></td>\n",
              "    </tr>\n",
              "    <tr>\n",
              "      <th>29</th>\n",
              "      <td>DSBA 6188 Text Mining and Information Retrieva...</td>\n",
              "      <td>DSBA 6188 Text Mining and Information Retrieva...</td>\n",
              "      <td>Text Mining and Information Retrieval</td>\n",
              "      <td>6188</td>\n",
              "      <td>Chang Hsin Lee</td>\n",
              "      <td>Spring 2024</td>\n",
              "      <td></td>\n",
              "    </tr>\n",
              "    <tr>\n",
              "      <th>30</th>\n",
              "      <td>DSBA-6190-Cloud-Computing-for-Data-Analysis-Fa...</td>\n",
              "      <td>DSBA 6190 Cloud Computing for Data Analysis, F...</td>\n",
              "      <td>Cloud Computing for Data Analysis</td>\n",
              "      <td>6190</td>\n",
              "      <td>Colby Ford</td>\n",
              "      <td>Fall 2024</td>\n",
              "      <td></td>\n",
              "    </tr>\n",
              "    <tr>\n",
              "      <th>31</th>\n",
              "      <td>DSBA-6190_Syllabus_Spring2023 – Colby Ford.pdf</td>\n",
              "      <td>DSBA 6190 Cloud Computing for Data Analysis, S...</td>\n",
              "      <td>Cloud Computing for Data Analysis</td>\n",
              "      <td>6190</td>\n",
              "      <td>Colby Ford</td>\n",
              "      <td>Spring 2023</td>\n",
              "      <td></td>\n",
              "    </tr>\n",
              "    <tr>\n",
              "      <th>32</th>\n",
              "      <td>DSBA-6201-Business-Intelligence-and-Analytics-...</td>\n",
              "      <td>DSBA 6201 Business Intelligence and Analytics,...</td>\n",
              "      <td>Business Intelligence and Analytics</td>\n",
              "      <td>6201</td>\n",
              "      <td>Chandra Subramaniam</td>\n",
              "      <td>Fall 2024</td>\n",
              "      <td></td>\n",
              "    </tr>\n",
              "    <tr>\n",
              "      <th>33</th>\n",
              "      <td>DSBA-6201-Business-Intelligence-and-Analytics-...</td>\n",
              "      <td>DSBA 6201 Business Intelligence and Analytics,...</td>\n",
              "      <td>Business Intelligence and Analytics</td>\n",
              "      <td>6201</td>\n",
              "      <td>Kornelia Bastin</td>\n",
              "      <td>Fall 2024</td>\n",
              "      <td></td>\n",
              "    </tr>\n",
              "    <tr>\n",
              "      <th>34</th>\n",
              "      <td>MBAD DSBA6201 SP23 – Lina Zhou.pdf</td>\n",
              "      <td>DSBA 6201 Business Intelligence and Analytics,...</td>\n",
              "      <td>Business Intelligence and Analytics</td>\n",
              "      <td>6201</td>\n",
              "      <td>Lina Zhou</td>\n",
              "      <td>Spring 2023</td>\n",
              "      <td></td>\n",
              "    </tr>\n",
              "    <tr>\n",
              "      <th>35</th>\n",
              "      <td>MBAD DSBA 6201 Spring 2023 Syllabus (2).pdf</td>\n",
              "      <td>DSBA 6201 Business Intelligence and Analytics,...</td>\n",
              "      <td>Business Intelligence and Analytics</td>\n",
              "      <td>6201</td>\n",
              "      <td>Monica Johar</td>\n",
              "      <td>Spring 2023</td>\n",
              "      <td></td>\n",
              "    </tr>\n",
              "    <tr>\n",
              "      <th>36</th>\n",
              "      <td>DSBA-6208-Operations-Management-Fall-2024-Andy...</td>\n",
              "      <td>DSBA 6208 Operations Management, Fall 2024 – A...</td>\n",
              "      <td>Operations Management</td>\n",
              "      <td>6208</td>\n",
              "      <td>Andrew Fraher</td>\n",
              "      <td>Fall 2024</td>\n",
              "      <td></td>\n",
              "    </tr>\n",
              "    <tr>\n",
              "      <th>37</th>\n",
              "      <td>DSBA-6211-Advanced-Business-Analytics-Fall-202...</td>\n",
              "      <td>DSBA 6211 Advanced Business Analytics, Fall 20...</td>\n",
              "      <td>Advanced Business Analytics</td>\n",
              "      <td>6211</td>\n",
              "      <td>Kexin Zhao</td>\n",
              "      <td>Fall 2024</td>\n",
              "      <td></td>\n",
              "    </tr>\n",
              "    <tr>\n",
              "      <th>38</th>\n",
              "      <td>DSBA-6211-Advanced-Business-Analytics-Fall-202...</td>\n",
              "      <td>DSBA 6211 Advanced Business Analytics, Fall 20...</td>\n",
              "      <td>Advanced Business Analytics</td>\n",
              "      <td>6211</td>\n",
              "      <td>Sungjune Park</td>\n",
              "      <td>Fall 2024</td>\n",
              "      <td></td>\n",
              "    </tr>\n",
              "    <tr>\n",
              "      <th>39</th>\n",
              "      <td>DSBA 6211 Advanced Business Analytics – Kornel...</td>\n",
              "      <td>DSBA 6211 Advanced Business Analytics, Spring ...</td>\n",
              "      <td>Advanced Business Analytics</td>\n",
              "      <td>6211</td>\n",
              "      <td>Kornelia Bastin</td>\n",
              "      <td>Spring 2024</td>\n",
              "      <td></td>\n",
              "    </tr>\n",
              "    <tr>\n",
              "      <th>40</th>\n",
              "      <td>DSBA-6211-Advanced-Business-Analytics-Summer-2...</td>\n",
              "      <td>DSBA 6211 Advanced Business Analytics, Summer ...</td>\n",
              "      <td>Advanced Business Analytics</td>\n",
              "      <td>6211</td>\n",
              "      <td>Ryan Wesslen</td>\n",
              "      <td>Summer 2024</td>\n",
              "      <td></td>\n",
              "    </tr>\n",
              "    <tr>\n",
              "      <th>41</th>\n",
              "      <td>DSBA-6326-Network-Science-Fall-2024-Mirsad-Had...</td>\n",
              "      <td>DSBA 6236 Network Science, Fall 2024 – Mirsad ...</td>\n",
              "      <td>Network Science</td>\n",
              "      <td>6236</td>\n",
              "      <td>Mirsad Hadzikadic</td>\n",
              "      <td>Fall 2024</td>\n",
              "      <td></td>\n",
              "    </tr>\n",
              "    <tr>\n",
              "      <th>42</th>\n",
              "      <td>MBAD_DSBA6276_Syllabus_spr 2023 – Angela Xia L...</td>\n",
              "      <td>DSBA 6276 Strategic Business Analytics, Spring...</td>\n",
              "      <td>Strategic Business Analytics</td>\n",
              "      <td>6276</td>\n",
              "      <td>Angela Liu</td>\n",
              "      <td>Spring 2023</td>\n",
              "      <td></td>\n",
              "    </tr>\n",
              "    <tr>\n",
              "      <th>43</th>\n",
              "      <td>DSBA 6276 Strategic Business Analytics – Angel...</td>\n",
              "      <td>DSBA 6276 Strategic Business Analytics, Spring...</td>\n",
              "      <td>Strategic Business Analytics</td>\n",
              "      <td>6276</td>\n",
              "      <td>Angela Xia Liu</td>\n",
              "      <td>Spring 2024</td>\n",
              "      <td></td>\n",
              "    </tr>\n",
              "    <tr>\n",
              "      <th>44</th>\n",
              "      <td>DSBA-6277-Social-Media-Marketing-and-Analytics...</td>\n",
              "      <td>DSBA 6277 Social Media Marketing and Analytics...</td>\n",
              "      <td>Social Media Marketing and Analytics</td>\n",
              "      <td>6277</td>\n",
              "      <td>Nima Jalali</td>\n",
              "      <td>Fall 2024</td>\n",
              "      <td></td>\n",
              "    </tr>\n",
              "    <tr>\n",
              "      <th>45</th>\n",
              "      <td>DSBA6284 Syllabus_Ming Chen – Ming Chen.pdf</td>\n",
              "      <td>DSBA 6284 Digital Marketing Analytics, Spring ...</td>\n",
              "      <td>Digital Marketing Analytics</td>\n",
              "      <td>6284</td>\n",
              "      <td>Ming Chen</td>\n",
              "      <td>Spring 2023</td>\n",
              "      <td></td>\n",
              "    </tr>\n",
              "    <tr>\n",
              "      <th>46</th>\n",
              "      <td>DSBA 6284 Digital Marketing Analytics – Ming Chen</td>\n",
              "      <td>DSBA 6284 Digital Marketing Analytics, Spring ...</td>\n",
              "      <td>Digital Marketing Analytics</td>\n",
              "      <td>6284</td>\n",
              "      <td>Ming Chen</td>\n",
              "      <td>Spring 2024</td>\n",
              "      <td></td>\n",
              "    </tr>\n",
              "    <tr>\n",
              "      <th>47</th>\n",
              "      <td>Spring 2023 DSBA and HCIP 6400 – Doug Hague.pdf</td>\n",
              "      <td>DSBA 6400 Internship, Spring 2023 – Doug Hague</td>\n",
              "      <td>Internship</td>\n",
              "      <td>6400</td>\n",
              "      <td>Doug Hague</td>\n",
              "      <td>Spring 2023</td>\n",
              "      <td></td>\n",
              "    </tr>\n",
              "    <tr>\n",
              "      <th>48</th>\n",
              "      <td>DSBA 6500 Complex Adaptive Systems – Mirsad Ha...</td>\n",
              "      <td>DSBA 6500 Complex Adaptive Systems, Spring 202...</td>\n",
              "      <td>Complex Adaptive Systems</td>\n",
              "      <td>6500</td>\n",
              "      <td>Mirsad Hadzikadic</td>\n",
              "      <td>Spring 2024</td>\n",
              "      <td></td>\n",
              "    </tr>\n",
              "  </tbody>\n",
              "</table>\n",
              "</div>\n",
              "    <div class=\"colab-df-buttons\">\n",
              "\n",
              "  <div class=\"colab-df-container\">\n",
              "    <button class=\"colab-df-convert\" onclick=\"convertToInteractive('df-9f6bea27-b602-45b4-90f6-c074bb0f4b15')\"\n",
              "            title=\"Convert this dataframe to an interactive table.\"\n",
              "            style=\"display:none;\">\n",
              "\n",
              "  <svg xmlns=\"http://www.w3.org/2000/svg\" height=\"24px\" viewBox=\"0 -960 960 960\">\n",
              "    <path d=\"M120-120v-720h720v720H120Zm60-500h600v-160H180v160Zm220 220h160v-160H400v160Zm0 220h160v-160H400v160ZM180-400h160v-160H180v160Zm440 0h160v-160H620v160ZM180-180h160v-160H180v160Zm440 0h160v-160H620v160Z\"/>\n",
              "  </svg>\n",
              "    </button>\n",
              "\n",
              "  <style>\n",
              "    .colab-df-container {\n",
              "      display:flex;\n",
              "      gap: 12px;\n",
              "    }\n",
              "\n",
              "    .colab-df-convert {\n",
              "      background-color: #E8F0FE;\n",
              "      border: none;\n",
              "      border-radius: 50%;\n",
              "      cursor: pointer;\n",
              "      display: none;\n",
              "      fill: #1967D2;\n",
              "      height: 32px;\n",
              "      padding: 0 0 0 0;\n",
              "      width: 32px;\n",
              "    }\n",
              "\n",
              "    .colab-df-convert:hover {\n",
              "      background-color: #E2EBFA;\n",
              "      box-shadow: 0px 1px 2px rgba(60, 64, 67, 0.3), 0px 1px 3px 1px rgba(60, 64, 67, 0.15);\n",
              "      fill: #174EA6;\n",
              "    }\n",
              "\n",
              "    .colab-df-buttons div {\n",
              "      margin-bottom: 4px;\n",
              "    }\n",
              "\n",
              "    [theme=dark] .colab-df-convert {\n",
              "      background-color: #3B4455;\n",
              "      fill: #D2E3FC;\n",
              "    }\n",
              "\n",
              "    [theme=dark] .colab-df-convert:hover {\n",
              "      background-color: #434B5C;\n",
              "      box-shadow: 0px 1px 3px 1px rgba(0, 0, 0, 0.15);\n",
              "      filter: drop-shadow(0px 1px 2px rgba(0, 0, 0, 0.3));\n",
              "      fill: #FFFFFF;\n",
              "    }\n",
              "  </style>\n",
              "\n",
              "    <script>\n",
              "      const buttonEl =\n",
              "        document.querySelector('#df-9f6bea27-b602-45b4-90f6-c074bb0f4b15 button.colab-df-convert');\n",
              "      buttonEl.style.display =\n",
              "        google.colab.kernel.accessAllowed ? 'block' : 'none';\n",
              "\n",
              "      async function convertToInteractive(key) {\n",
              "        const element = document.querySelector('#df-9f6bea27-b602-45b4-90f6-c074bb0f4b15');\n",
              "        const dataTable =\n",
              "          await google.colab.kernel.invokeFunction('convertToInteractive',\n",
              "                                                    [key], {});\n",
              "        if (!dataTable) return;\n",
              "\n",
              "        const docLinkHtml = 'Like what you see? Visit the ' +\n",
              "          '<a target=\"_blank\" href=https://colab.research.google.com/notebooks/data_table.ipynb>data table notebook</a>'\n",
              "          + ' to learn more about interactive tables.';\n",
              "        element.innerHTML = '';\n",
              "        dataTable['output_type'] = 'display_data';\n",
              "        await google.colab.output.renderOutput(dataTable, element);\n",
              "        const docLink = document.createElement('div');\n",
              "        docLink.innerHTML = docLinkHtml;\n",
              "        element.appendChild(docLink);\n",
              "      }\n",
              "    </script>\n",
              "  </div>\n",
              "\n",
              "\n",
              "<div id=\"df-4b958254-3e6c-46c0-87b3-330faf6d554b\">\n",
              "  <button class=\"colab-df-quickchart\" onclick=\"quickchart('df-4b958254-3e6c-46c0-87b3-330faf6d554b')\"\n",
              "            title=\"Suggest charts\"\n",
              "            style=\"display:none;\">\n",
              "\n",
              "<svg xmlns=\"http://www.w3.org/2000/svg\" height=\"24px\"viewBox=\"0 0 24 24\"\n",
              "     width=\"24px\">\n",
              "    <g>\n",
              "        <path d=\"M19 3H5c-1.1 0-2 .9-2 2v14c0 1.1.9 2 2 2h14c1.1 0 2-.9 2-2V5c0-1.1-.9-2-2-2zM9 17H7v-7h2v7zm4 0h-2V7h2v10zm4 0h-2v-4h2v4z\"/>\n",
              "    </g>\n",
              "</svg>\n",
              "  </button>\n",
              "\n",
              "<style>\n",
              "  .colab-df-quickchart {\n",
              "      --bg-color: #E8F0FE;\n",
              "      --fill-color: #1967D2;\n",
              "      --hover-bg-color: #E2EBFA;\n",
              "      --hover-fill-color: #174EA6;\n",
              "      --disabled-fill-color: #AAA;\n",
              "      --disabled-bg-color: #DDD;\n",
              "  }\n",
              "\n",
              "  [theme=dark] .colab-df-quickchart {\n",
              "      --bg-color: #3B4455;\n",
              "      --fill-color: #D2E3FC;\n",
              "      --hover-bg-color: #434B5C;\n",
              "      --hover-fill-color: #FFFFFF;\n",
              "      --disabled-bg-color: #3B4455;\n",
              "      --disabled-fill-color: #666;\n",
              "  }\n",
              "\n",
              "  .colab-df-quickchart {\n",
              "    background-color: var(--bg-color);\n",
              "    border: none;\n",
              "    border-radius: 50%;\n",
              "    cursor: pointer;\n",
              "    display: none;\n",
              "    fill: var(--fill-color);\n",
              "    height: 32px;\n",
              "    padding: 0;\n",
              "    width: 32px;\n",
              "  }\n",
              "\n",
              "  .colab-df-quickchart:hover {\n",
              "    background-color: var(--hover-bg-color);\n",
              "    box-shadow: 0 1px 2px rgba(60, 64, 67, 0.3), 0 1px 3px 1px rgba(60, 64, 67, 0.15);\n",
              "    fill: var(--button-hover-fill-color);\n",
              "  }\n",
              "\n",
              "  .colab-df-quickchart-complete:disabled,\n",
              "  .colab-df-quickchart-complete:disabled:hover {\n",
              "    background-color: var(--disabled-bg-color);\n",
              "    fill: var(--disabled-fill-color);\n",
              "    box-shadow: none;\n",
              "  }\n",
              "\n",
              "  .colab-df-spinner {\n",
              "    border: 2px solid var(--fill-color);\n",
              "    border-color: transparent;\n",
              "    border-bottom-color: var(--fill-color);\n",
              "    animation:\n",
              "      spin 1s steps(1) infinite;\n",
              "  }\n",
              "\n",
              "  @keyframes spin {\n",
              "    0% {\n",
              "      border-color: transparent;\n",
              "      border-bottom-color: var(--fill-color);\n",
              "      border-left-color: var(--fill-color);\n",
              "    }\n",
              "    20% {\n",
              "      border-color: transparent;\n",
              "      border-left-color: var(--fill-color);\n",
              "      border-top-color: var(--fill-color);\n",
              "    }\n",
              "    30% {\n",
              "      border-color: transparent;\n",
              "      border-left-color: var(--fill-color);\n",
              "      border-top-color: var(--fill-color);\n",
              "      border-right-color: var(--fill-color);\n",
              "    }\n",
              "    40% {\n",
              "      border-color: transparent;\n",
              "      border-right-color: var(--fill-color);\n",
              "      border-top-color: var(--fill-color);\n",
              "    }\n",
              "    60% {\n",
              "      border-color: transparent;\n",
              "      border-right-color: var(--fill-color);\n",
              "    }\n",
              "    80% {\n",
              "      border-color: transparent;\n",
              "      border-right-color: var(--fill-color);\n",
              "      border-bottom-color: var(--fill-color);\n",
              "    }\n",
              "    90% {\n",
              "      border-color: transparent;\n",
              "      border-bottom-color: var(--fill-color);\n",
              "    }\n",
              "  }\n",
              "</style>\n",
              "\n",
              "  <script>\n",
              "    async function quickchart(key) {\n",
              "      const quickchartButtonEl =\n",
              "        document.querySelector('#' + key + ' button');\n",
              "      quickchartButtonEl.disabled = true;  // To prevent multiple clicks.\n",
              "      quickchartButtonEl.classList.add('colab-df-spinner');\n",
              "      try {\n",
              "        const charts = await google.colab.kernel.invokeFunction(\n",
              "            'suggestCharts', [key], {});\n",
              "      } catch (error) {\n",
              "        console.error('Error during call to suggestCharts:', error);\n",
              "      }\n",
              "      quickchartButtonEl.classList.remove('colab-df-spinner');\n",
              "      quickchartButtonEl.classList.add('colab-df-quickchart-complete');\n",
              "    }\n",
              "    (() => {\n",
              "      let quickchartButtonEl =\n",
              "        document.querySelector('#df-4b958254-3e6c-46c0-87b3-330faf6d554b button');\n",
              "      quickchartButtonEl.style.display =\n",
              "        google.colab.kernel.accessAllowed ? 'block' : 'none';\n",
              "    })();\n",
              "  </script>\n",
              "</div>\n",
              "\n",
              "    </div>\n",
              "  </div>\n"
            ],
            "application/vnd.google.colaboratory.intrinsic+json": {
              "type": "dataframe",
              "summary": "{\n  \"name\": \"syllabi_fp\",\n  \"rows\": 49,\n  \"fields\": [\n    {\n      \"column\": \"filename\",\n      \"properties\": {\n        \"dtype\": \"string\",\n        \"num_unique_values\": 49,\n        \"samples\": [\n          \"DSBA6122-U90-2023Spring.pdf\",\n          \"DSBA6284 Syllabus_Ming Chen \\u2013 Ming Chen.pdf\",\n          \"Spring 2023 DSBA and HCIP 6400 \\u2013 Doug Hague.pdf\"\n        ],\n        \"semantic_type\": \"\",\n        \"description\": \"\"\n      }\n    },\n    {\n      \"column\": \"title\",\n      \"properties\": {\n        \"dtype\": \"string\",\n        \"num_unique_values\": 49,\n        \"samples\": [\n          \"DSBA 6122 Decision Modeling and Analysis, Spring 2023 \\u2013 Xiuli He\",\n          \"DSBA 6284 Digital Marketing Analytics, Spring 2023 \\u2013 Ming Chen\",\n          \"DSBA 6400 Internship, Spring 2023 \\u2013 Doug Hague\"\n        ],\n        \"semantic_type\": \"\",\n        \"description\": \"\"\n      }\n    },\n    {\n      \"column\": \"course_title\",\n      \"properties\": {\n        \"dtype\": \"string\",\n        \"num_unique_values\": 28,\n        \"samples\": [\n          \"Statistical Learning with Big Data\",\n          \"Digital Marketing Analytics\",\n          \"Graduate Econometrics\"\n        ],\n        \"semantic_type\": \"\",\n        \"description\": \"\"\n      }\n    },\n    {\n      \"column\": \"course_number\",\n      \"properties\": {\n        \"dtype\": \"category\",\n        \"num_unique_values\": 21,\n        \"samples\": [\n          \"5122\",\n          \"6277\",\n          \"6236\"\n        ],\n        \"semantic_type\": \"\",\n        \"description\": \"\"\n      }\n    },\n    {\n      \"column\": \"instructor\",\n      \"properties\": {\n        \"dtype\": \"string\",\n        \"num_unique_values\": 35,\n        \"samples\": [\n          \"Andrew Fraher\",\n          \"Aaron Lee\",\n          \"Lina Zhou\"\n        ],\n        \"semantic_type\": \"\",\n        \"description\": \"\"\n      }\n    },\n    {\n      \"column\": \"semester\",\n      \"properties\": {\n        \"dtype\": \"category\",\n        \"num_unique_values\": 4,\n        \"samples\": [\n          \"Spring 2024\",\n          \"Summer 2024\",\n          \"Fall 2024\"\n        ],\n        \"semantic_type\": \"\",\n        \"description\": \"\"\n      }\n    },\n    {\n      \"column\": \"section\",\n      \"properties\": {\n        \"dtype\": \"object\",\n        \"num_unique_values\": 1,\n        \"samples\": [\n          \"\"\n        ],\n        \"semantic_type\": \"\",\n        \"description\": \"\"\n      }\n    }\n  ]\n}"
            },
            "application/vnd.google.colaboratory.module+javascript": "\n      import \"https://ssl.gstatic.com/colaboratory/data_table/81954c9606dcf997/data_table.js\";\n\n      const table = window.createDataTable({\n        data: [[{\n            'v': 0,\n            'f': \"0\",\n        },\n\"DSBA_HCIP-5122-Visual-Analytics-and-Storytelling-Fall-2024-Robert-Fox.pdf\",\n\"DSBA 5122 Visual Analytics and Storytelling, Fall 2024 \\u2013 Robert Fox\",\n\"Visual Analytics and Storytelling\",\n\"5122\",\n\"Robert Fox\",\n\"Fall 2024\",\n\"\"],\n [{\n            'v': 1,\n            'f': \"1\",\n        },\n\"DSBA-6010-Applications-of-Large-Language-Models-Fall-2024-Ryan-Wesslen.pdf\",\n\"DSBA 6010 Applications of Large Language Models, Fall 2024 \\u2013 Ryan Wesslen\",\n\"Applications of Large Language Models\",\n\"6010\",\n\"Ryan Wesslen\",\n\"Fall 2024\",\n\"\"],\n [{\n            'v': 2,\n            'f': \"2\",\n        },\n\"DSBA 6010 Applied Computer Vision \\u2013 Rick Chakra\",\n\"DSBA 6010 Applied Computer Vision, Spring 2024 \\u2013 Rick Chakra\",\n\"Applied Computer Vision\",\n\"6010\",\n\"Rick Chakra\",\n\"Spring 2024\",\n\"\"],\n [{\n            'v': 3,\n            'f': \"3\",\n        },\n\"Damien_Patrick_Williams_-_DSBA_6010_-_26287 \\u2013 Damien Williams.pdf\",\n\"DSBA 6010 Disability, Technology, & Artificial Intelligence, Spring 2023 \\u2013 Damien Williams\",\n\"Disability, Technology, & Artificial Intelligence\",\n\"6010\",\n\"Damien Williams\",\n\"Spring 2023\",\n\"\"],\n [{\n            'v': 4,\n            'f': \"4\",\n        },\n\"DSBA6010-GEOG6030 Syllabus SP 2023 v30 \\u2013 Jean-Claude Thill.pdf\",\n\"DSBA 6010 Geospatial Data Analytics, Spring 2023 \\u2013 Jean Claude Thill\",\n\"Geospatial Data Analytics\",\n\"6010\",\n\"Jean Claude Thill\",\n\"Spring 2023\",\n\"\"],\n [{\n            'v': 5,\n            'f': \"5\",\n        },\n\"DSBA-6010-Model-Risk-Management-Fal\",\n\"DSBA 6010 Special Topic: Model Risk Management, Fall 2024 \\u2013 Robert Fox\",\n\"Special Topic: Model Risk Management\",\n\"6010\",\n\"Robert Fox\",\n\"Fall 2024\",\n\"\"],\n [{\n            'v': 6,\n            'f': \"6\",\n        },\n\"DSBA-6010-Fall-2024-Steven-Jordan.pdf\",\n\"DSBA 6010 Special Topics: Building & Leading Data Organizations, Fall 2024 \\u2013 Steven Jordan\",\n\"Special Topics: Building & Leading Data Organizations\",\n\"6010\",\n\"Steven Jordan\",\n\"Fall 2024\",\n\"\"],\n [{\n            'v': 7,\n            'f': \"7\",\n        },\n\"DSBA6100-U90_MBAD7090-U92_Spring 2023_Blaine Nashold \\u2013 Daryl Nashold.pdf\",\n\"DSBA 6100 Big Data Analytics for Competitive Advantage, Spring 2023 \\u2013 Daryl Nashold\",\n\"Big Data Analytics for Competitive Advantage\",\n\"6100\",\n\"Daryl Nashold\",\n\"Spring 2023\",\n\"\"],\n [{\n            'v': 8,\n            'f': \"8\",\n        },\n\"DSBA-6112-Graduate-Econometrics-Fall-2024-Kelly-Vosters.pdf\",\n\"DSBA 6112 Graduate Econometrics, Fall 2024 \\u2013 Kelly Vosters\",\n\"Graduate Econometrics\",\n\"6112\",\n\"Kelly Vosters\",\n\"Fall 2024\",\n\"\"],\n [{\n            'v': 9,\n            'f': \"9\",\n        },\n\"DSBA6112-U90_202310 \\u2013 Kelly Vosters.pdf\",\n\"DSBA 6112 Graduate Econometrics, Spring 2023 \\u2013 Kelly Vosters\",\n\"Graduate Econometrics\",\n\"6112\",\n\"Kelly Vosters\",\n\"Spring 2023\",\n\"\"],\n [{\n            'v': 10,\n            'f': \"10\",\n        },\n\"DSBA 6112 Graduate Econometrics \\u2013 Kelly Vosters\",\n\"DSBA 6112 Graduate Econometrics, Spring 2024 \\u2013 Kelly Vosters\",\n\"Graduate Econometrics\",\n\"6112\",\n\"Kelly Vosters\",\n\"Spring 2024\",\n\"\"],\n [{\n            'v': 11,\n            'f': \"11\",\n        },\n\"DSBA-6115-Fall-2024-Jiancheng-Jiang.pdf\",\n\"DSBA 6115 Statistical Learning with Big Data, Fall 2024 \\u2013 Jiancheng Jiang\",\n\"Statistical Learning with Big Data\",\n\"6115\",\n\"Jiancheng Jiang\",\n\"Fall 2024\",\n\"\"],\n [{\n            'v': 12,\n            'f': \"12\",\n        },\n\"DSBA-6122-Decision-Modeling-and-Analysis-Fall-2024-Xiuli-He-1.pdf\",\n\"DSBA 6122 Decision Modeling and Analysis, Fall 2024 \\u2013 Xiuli He\",\n\"Decision Modeling and Analysis\",\n\"6122\",\n\"Xiuli He\",\n\"Fall 2024\",\n\"\"],\n [{\n            'v': 13,\n            'f': \"13\",\n        },\n\"DSBA6122-U90-2023Spring.pdf\",\n\"DSBA 6122 Decision Modeling and Analysis, Spring 2023 \\u2013 Xiuli He\",\n\"Decision Modeling and Analysis\",\n\"6122\",\n\"Xiuli He\",\n\"Spring 2023\",\n\"\"],\n [{\n            'v': 14,\n            'f': \"14\",\n        },\n\"DSBA-6156-Applied-Machine-Learning-Fall-2024-Rick-Chakra.pdf\",\n\"DSBA 6156 Applied Machine Learning, Fall 2024 \\u2013 Rick Chakra\",\n\"Applied Machine Learning\",\n\"6156\",\n\"Rick Chakra\",\n\"Fall 2024\",\n\"\"],\n [{\n            'v': 15,\n            'f': \"15\",\n        },\n\"Syllabus for 202310-Spring 2023-DSBA-6156-U90-Applied Machine Learning \\u2013 Rick Chakra.pdf\",\n\"DSBA 6156 Applied Machine Learning, Spring 2023 \\u2013 Rick Chakra\",\n\"Applied Machine Learning\",\n\"6156\",\n\"Rick Chakra\",\n\"Spring 2023\",\n\"\"],\n [{\n            'v': 16,\n            'f': \"16\",\n        },\n\"DSBA 6156 Applied Machine Learning \\u2013 Rick Chakra\",\n\"DSBA 6156 Applied Machine Learning, Spring 2024 \\u2013 Rick Chakra\",\n\"Applied Machine Learning\",\n\"6156\",\n\"Rick Chakra\",\n\"Spring 2024\",\n\"\"],\n [{\n            'v': 17,\n            'f': \"17\",\n        },\n\"DSBA_HCIP-6160-Database-Systems-for-Data-Scientists-Fall-2024-Pamela-Thompson.pdf\",\n\"DSBA 6160 Database Systems for Data Scientists, Fall 2024 \\u2013 Pamela Thompson\",\n\"Database Systems for Data Scientists\",\n\"6160\",\n\"Pamela Thompson\",\n\"Fall 2024\",\n\"\"],\n [{\n            'v': 18,\n            'f': \"18\",\n        },\n\"DSBA_HCIP-6160-Database-Systems-for-Data-Scientists-Fall-2024-Shih-Hsiung-Chou.pdf\",\n\"DSBA 6160 Database Systems for Data Scientists, Fall 2024 \\u2013 Shih-Hsiung Chou\",\n\"Database Systems for Data Scientists\",\n\"6160\",\n\"Shih-Hsiung Chou\",\n\"Fall 2024\",\n\"\"],\n [{\n            'v': 19,\n            'f': \"19\",\n        },\n\"DSBA_HCIP_6160_Thompson_Spring_2023 \\u2013 Pamela Thompson.pdf\",\n\"DSBA 6160 Database Systems for Data Scientists, Spring 2023 \\u2013 Pamela Thompson\",\n\"Database Systems for Data Scientists\",\n\"6160\",\n\"Pamela Thompson\",\n\"Spring 2023\",\n\"\"],\n [{\n            'v': 20,\n            'f': \"20\",\n        },\n\"Syllabus \\u2013 DSBA-HCIP-6160_Spring_2023 _rev4.0.docx \\u2013 Stephen Rohrer.pdf\",\n\"DSBA 6160 Database Systems for Data Scientists, Spring 2023 \\u2013 Stephen Rohrer\",\n\"Database Systems for Data Scientists\",\n\"6160\",\n\"Stephen Rohrer\",\n\"Spring 2023\",\n\"\"],\n [{\n            'v': 21,\n            'f': \"21\",\n        },\n\"DSBA 6160 Database Systems for Data Scientists \\u2013 Aaron Lee\",\n\"DSBA 6160 Database Systems for Data Scientists, Spring 2024 \\u2013 Aaron Lee\",\n\"Database Systems for Data Scientists\",\n\"6160\",\n\"Aaron Lee\",\n\"Spring 2024\",\n\"\"],\n [{\n            'v': 22,\n            'f': \"22\",\n        },\n\"Syllabus \\u2013 DSBA-HCIP-6160_Spring_2023 \\u2013 Katie Hanks.pdf\",\n\"DSBA 6160 Database Systems for Data Scientists, Spring 2024 \\u2013 Katie Hanks\",\n\"Database Systems for Data Scientists\",\n\"6160\",\n\"Katie Hanks\",\n\"Spring 2024\",\n\"\"],\n [{\n            'v': 23,\n            'f': \"23\",\n        },\n\"DSBA_HCIP-6162-Knowledge-Discovery-and-Databases-Fall-2024-Xi-Sunshine-Niu-1.pdf\",\n\"DSBA 6162 Knowledge Discovery and Databases, Fall 2024 \\u2013 Xi (Sunshine) Nu\",\n\"Knowledge Discovery and Databases\",\n\"6162\",\n\"Xi (Sunshine) Nu\",\n\"Fall 2024\",\n\"\"],\n [{\n            'v': 24,\n            'f': \"24\",\n        },\n\"DSBA 6162 Knowledge Discovery in Databases (KDD) Xi (Sunshine) Niu\",\n\"DSBA 6162 Knowledge Discovery in Databases (KDD), Spring 2024 \\u2013 Xi (Sunshine) Niu\",\n\"Knowledge Discovery in Databases (KDD)\",\n\"6162\",\n\"Xi (Sunshine) Niu\",\n\"Spring 2024\",\n\"\"],\n [{\n            'v': 25,\n            'f': \"25\",\n        },\n\"DSBA 6162 \\u2013 Zbyszek Ras.pdf\",\n\"DSBA 6162 Knowledge Discovery in Databases Section, Spring 2023 \\u2013 Zybszek Ras\",\n\"Knowledge Discovery in Databases\",\n\"6162\",\n\"Zybszek Ras\",\n\"Spring 2023\",\n\"\"],\n [{\n            'v': 26,\n            'f': \"26\",\n        },\n\"DSBA-6165-AI-and-Deep-Learning-Fall-2024-Albert-Park-1.pdf\",\n\"DSBA 6165 AI and Deep Learning, Fall 2024 \\u2013 Albert Park\",\n\"AI and Deep Learning\",\n\"6165\",\n\"Albert Park\",\n\"Fall 2024\",\n\"\"],\n [{\n            'v': 27,\n            'f': \"27\",\n        },\n\"DSBA-6188-Text-Mining-and-Information-Retrieval-Fall-2024-Depeng-Xu.pdf\",\n\"DSBA 6188 Text Mining and Information Retrieval, Fall 2024 \\u2013 Depeng Zu\",\n\"Text Mining and Information Retrieval\",\n\"6188\",\n\"Depeng Zu\",\n\"Fall 2024\",\n\"\"],\n [{\n            'v': 28,\n            'f': \"28\",\n        },\n\"DSBA6188_Syllabus_Spring2023_Niu \\u2013 Xi (Sunshine) Niu.pdf\",\n\"DSBA 6188 Text Mining and Information Retrieval, Spring 2023 \\u2013 Xi (Sunshine) Niu\",\n\"Text Mining and Information Retrieval\",\n\"6188\",\n\"Xi (Sunshine) Niu\",\n\"Spring 2023\",\n\"\"],\n [{\n            'v': 29,\n            'f': \"29\",\n        },\n\"DSBA 6188 Text Mining and Information Retrieval \\u2013 Chang Hsin Lee & Ryan Wesslen\",\n\"DSBA 6188 Text Mining and Information Retrieval, Spring 2024 \\u2013 Chang Hsin Lee\",\n\"Text Mining and Information Retrieval\",\n\"6188\",\n\"Chang Hsin Lee\",\n\"Spring 2024\",\n\"\"],\n [{\n            'v': 30,\n            'f': \"30\",\n        },\n\"DSBA-6190-Cloud-Computing-for-Data-Analysis-Fall-2024-Colby-Ford.pdf\",\n\"DSBA 6190 Cloud Computing for Data Analysis, Fall 2024 \\u2013 Colby Ford\",\n\"Cloud Computing for Data Analysis\",\n\"6190\",\n\"Colby Ford\",\n\"Fall 2024\",\n\"\"],\n [{\n            'v': 31,\n            'f': \"31\",\n        },\n\"DSBA-6190_Syllabus_Spring2023 \\u2013 Colby Ford.pdf\",\n\"DSBA 6190 Cloud Computing for Data Analysis, Spring 2023 \\u2013 Colby Ford\",\n\"Cloud Computing for Data Analysis\",\n\"6190\",\n\"Colby Ford\",\n\"Spring 2023\",\n\"\"],\n [{\n            'v': 32,\n            'f': \"32\",\n        },\n\"DSBA-6201-Business-Intelligence-and-Analytics-Fall-2024-Chandra-Subramaniam.pdf\",\n\"DSBA 6201 Business Intelligence and Analytics, Fall 2024 \\u2013 Chandra Subramaniam\",\n\"Business Intelligence and Analytics\",\n\"6201\",\n\"Chandra Subramaniam\",\n\"Fall 2024\",\n\"\"],\n [{\n            'v': 33,\n            'f': \"33\",\n        },\n\"DSBA-6201-Business-Intelligence-and-Analytics-Fall-2024-Kornelia-Bastin.pdf\",\n\"DSBA 6201 Business Intelligence and Analytics, Fall 2024 \\u2013 Kornelia Bastin\",\n\"Business Intelligence and Analytics\",\n\"6201\",\n\"Kornelia Bastin\",\n\"Fall 2024\",\n\"\"],\n [{\n            'v': 34,\n            'f': \"34\",\n        },\n\"MBAD DSBA6201 SP23 \\u2013 Lina Zhou.pdf\",\n\"DSBA 6201 Business Intelligence and Analytics, Spring 2023 \\u2013 Lina Zhou\",\n\"Business Intelligence and Analytics\",\n\"6201\",\n\"Lina Zhou\",\n\"Spring 2023\",\n\"\"],\n [{\n            'v': 35,\n            'f': \"35\",\n        },\n\"MBAD DSBA 6201 Spring 2023 Syllabus (2).pdf\",\n\"DSBA 6201 Business Intelligence and Analytics, Spring 2023 \\u2013 Monica Johar\",\n\"Business Intelligence and Analytics\",\n\"6201\",\n\"Monica Johar\",\n\"Spring 2023\",\n\"\"],\n [{\n            'v': 36,\n            'f': \"36\",\n        },\n\"DSBA-6208-Operations-Management-Fall-2024-Andy-Fraher.pdf\",\n\"DSBA 6208 Operations Management, Fall 2024 \\u2013 Andrew Fraher\",\n\"Operations Management\",\n\"6208\",\n\"Andrew Fraher\",\n\"Fall 2024\",\n\"\"],\n [{\n            'v': 37,\n            'f': \"37\",\n        },\n\"DSBA-6211-Advanced-Business-Analytics-Fall-2024-Kexin-Zhao.pdf\",\n\"DSBA 6211 Advanced Business Analytics, Fall 2024 \\u2013 Kexin Zhao\",\n\"Advanced Business Analytics\",\n\"6211\",\n\"Kexin Zhao\",\n\"Fall 2024\",\n\"\"],\n [{\n            'v': 38,\n            'f': \"38\",\n        },\n\"DSBA-6211-Advanced-Business-Analytics-Fall-2024-SungJune-Park.pdf\",\n\"DSBA 6211 Advanced Business Analytics, Fall 2024 \\u2013 Sungjune Park\",\n\"Advanced Business Analytics\",\n\"6211\",\n\"Sungjune Park\",\n\"Fall 2024\",\n\"\"],\n [{\n            'v': 39,\n            'f': \"39\",\n        },\n\"DSBA 6211 Advanced Business Analytics \\u2013 Kornelia Bastin\",\n\"DSBA 6211 Advanced Business Analytics, Spring 2024 \\u2013 Kornelia Bastin\",\n\"Advanced Business Analytics\",\n\"6211\",\n\"Kornelia Bastin\",\n\"Spring 2024\",\n\"\"],\n [{\n            'v': 40,\n            'f': \"40\",\n        },\n\"DSBA-6211-Advanced-Business-Analytics-Summer-2024-Ryan-Wesslen.pdf\",\n\"DSBA 6211 Advanced Business Analytics, Summer 2024 \\u2013 Ryan Wesslen\",\n\"Advanced Business Analytics\",\n\"6211\",\n\"Ryan Wesslen\",\n\"Summer 2024\",\n\"\"],\n [{\n            'v': 41,\n            'f': \"41\",\n        },\n\"DSBA-6326-Network-Science-Fall-2024-Mirsad-Hadzikadic.pdf\",\n\"DSBA 6236 Network Science, Fall 2024 \\u2013 Mirsad Hadzikadic\",\n\"Network Science\",\n\"6236\",\n\"Mirsad Hadzikadic\",\n\"Fall 2024\",\n\"\"],\n [{\n            'v': 42,\n            'f': \"42\",\n        },\n\"MBAD_DSBA6276_Syllabus_spr 2023 \\u2013 Angela Xia Liu.pdf\",\n\"DSBA 6276 Strategic Business Analytics, Spring 2023 \\u2013 Angela Liu\",\n\"Strategic Business Analytics\",\n\"6276\",\n\"Angela Liu\",\n\"Spring 2023\",\n\"\"],\n [{\n            'v': 43,\n            'f': \"43\",\n        },\n\"DSBA 6276 Strategic Business Analytics \\u2013 Angela Xia Liu\",\n\"DSBA 6276 Strategic Business Analytics, Spring 2024 \\u2013 Angela Xia Liu\",\n\"Strategic Business Analytics\",\n\"6276\",\n\"Angela Xia Liu\",\n\"Spring 2024\",\n\"\"],\n [{\n            'v': 44,\n            'f': \"44\",\n        },\n\"DSBA-6277-Social-Media-Marketing-and-Analytics-Fall-2024-Nima-Jalali.pdf\",\n\"DSBA 6277 Social Media Marketing and Analytics, Fall 2024 \\u2013 Nima Jalali\",\n\"Social Media Marketing and Analytics\",\n\"6277\",\n\"Nima Jalali\",\n\"Fall 2024\",\n\"\"],\n [{\n            'v': 45,\n            'f': \"45\",\n        },\n\"DSBA6284 Syllabus_Ming Chen \\u2013 Ming Chen.pdf\",\n\"DSBA 6284 Digital Marketing Analytics, Spring 2023 \\u2013 Ming Chen\",\n\"Digital Marketing Analytics\",\n\"6284\",\n\"Ming Chen\",\n\"Spring 2023\",\n\"\"],\n [{\n            'v': 46,\n            'f': \"46\",\n        },\n\"DSBA 6284 Digital Marketing Analytics \\u2013 Ming Chen\",\n\"DSBA 6284 Digital Marketing Analytics, Spring 2024 \\u2013 Ming Chen\",\n\"Digital Marketing Analytics\",\n\"6284\",\n\"Ming Chen\",\n\"Spring 2024\",\n\"\"],\n [{\n            'v': 47,\n            'f': \"47\",\n        },\n\"Spring 2023 DSBA and HCIP 6400 \\u2013 Doug Hague.pdf\",\n\"DSBA 6400 Internship, Spring 2023 \\u2013 Doug Hague\",\n\"Internship\",\n\"6400\",\n\"Doug Hague\",\n\"Spring 2023\",\n\"\"],\n [{\n            'v': 48,\n            'f': \"48\",\n        },\n\"DSBA 6500 Complex Adaptive Systems \\u2013 Mirsad Hadzikadic\",\n\"DSBA 6500 Complex Adaptive Systems, Spring 2024 \\u2013 Mirsad Hadzikadic\",\n\"Complex Adaptive Systems\",\n\"6500\",\n\"Mirsad Hadzikadic\",\n\"Spring 2024\",\n\"\"]],\n        columns: [[\"number\", \"index\"], [\"string\", \"filename\"], [\"string\", \"title\"], [\"string\", \"course_title\"], [\"string\", \"course_number\"], [\"string\", \"instructor\"], [\"string\", \"semester\"], [\"string\", \"section\"]],\n        columnOptions: [{\"width\": \"1px\", \"className\": \"index_column\"}],\n        rowsPerPage: 25,\n        helpUrl: \"https://colab.research.google.com/notebooks/data_table.ipynb\",\n        suppressOutputScrolling: true,\n        minimumWidth: undefined,\n      });\n\n      function appendQuickchartButton(parentElement) {\n        let quickchartButtonContainerElement = document.createElement('div');\n        quickchartButtonContainerElement.innerHTML = `\n<div id=\"df-54d534fa-37dd-4c04-8e44-589e0699a9e5\">\n  <button class=\"colab-df-quickchart\" onclick=\"quickchart('df-54d534fa-37dd-4c04-8e44-589e0699a9e5')\"\n            title=\"Suggest charts\"\n            style=\"display:none;\">\n    \n<svg xmlns=\"http://www.w3.org/2000/svg\" height=\"24px\"viewBox=\"0 0 24 24\"\n     width=\"24px\">\n    <g>\n        <path d=\"M19 3H5c-1.1 0-2 .9-2 2v14c0 1.1.9 2 2 2h14c1.1 0 2-.9 2-2V5c0-1.1-.9-2-2-2zM9 17H7v-7h2v7zm4 0h-2V7h2v10zm4 0h-2v-4h2v4z\"/>\n    </g>\n</svg>\n  </button>\n  \n<style>\n  .colab-df-quickchart {\n      --bg-color: #E8F0FE;\n      --fill-color: #1967D2;\n      --hover-bg-color: #E2EBFA;\n      --hover-fill-color: #174EA6;\n      --disabled-fill-color: #AAA;\n      --disabled-bg-color: #DDD;\n  }\n\n  [theme=dark] .colab-df-quickchart {\n      --bg-color: #3B4455;\n      --fill-color: #D2E3FC;\n      --hover-bg-color: #434B5C;\n      --hover-fill-color: #FFFFFF;\n      --disabled-bg-color: #3B4455;\n      --disabled-fill-color: #666;\n  }\n\n  .colab-df-quickchart {\n    background-color: var(--bg-color);\n    border: none;\n    border-radius: 50%;\n    cursor: pointer;\n    display: none;\n    fill: var(--fill-color);\n    height: 32px;\n    padding: 0;\n    width: 32px;\n  }\n\n  .colab-df-quickchart:hover {\n    background-color: var(--hover-bg-color);\n    box-shadow: 0 1px 2px rgba(60, 64, 67, 0.3), 0 1px 3px 1px rgba(60, 64, 67, 0.15);\n    fill: var(--button-hover-fill-color);\n  }\n\n  .colab-df-quickchart-complete:disabled,\n  .colab-df-quickchart-complete:disabled:hover {\n    background-color: var(--disabled-bg-color);\n    fill: var(--disabled-fill-color);\n    box-shadow: none;\n  }\n\n  .colab-df-spinner {\n    border: 2px solid var(--fill-color);\n    border-color: transparent;\n    border-bottom-color: var(--fill-color);\n    animation:\n      spin 1s steps(1) infinite;\n  }\n\n  @keyframes spin {\n    0% {\n      border-color: transparent;\n      border-bottom-color: var(--fill-color);\n      border-left-color: var(--fill-color);\n    }\n    20% {\n      border-color: transparent;\n      border-left-color: var(--fill-color);\n      border-top-color: var(--fill-color);\n    }\n    30% {\n      border-color: transparent;\n      border-left-color: var(--fill-color);\n      border-top-color: var(--fill-color);\n      border-right-color: var(--fill-color);\n    }\n    40% {\n      border-color: transparent;\n      border-right-color: var(--fill-color);\n      border-top-color: var(--fill-color);\n    }\n    60% {\n      border-color: transparent;\n      border-right-color: var(--fill-color);\n    }\n    80% {\n      border-color: transparent;\n      border-right-color: var(--fill-color);\n      border-bottom-color: var(--fill-color);\n    }\n    90% {\n      border-color: transparent;\n      border-bottom-color: var(--fill-color);\n    }\n  }\n</style>\n\n  <script>\n    async function quickchart(key) {\n      const quickchartButtonEl =\n        document.querySelector('#' + key + ' button');\n      quickchartButtonEl.disabled = true;  // To prevent multiple clicks.\n      quickchartButtonEl.classList.add('colab-df-spinner');\n      try {\n        const charts = await google.colab.kernel.invokeFunction(\n            'suggestCharts', [key], {});\n      } catch (error) {\n        console.error('Error during call to suggestCharts:', error);\n      }\n      quickchartButtonEl.classList.remove('colab-df-spinner');\n      quickchartButtonEl.classList.add('colab-df-quickchart-complete');\n    }\n    (() => {\n      let quickchartButtonEl =\n        document.querySelector('#df-54d534fa-37dd-4c04-8e44-589e0699a9e5 button');\n      quickchartButtonEl.style.display =\n        google.colab.kernel.accessAllowed ? 'block' : 'none';\n    })();\n  </script>\n</div>`;\n        parentElement.appendChild(quickchartButtonContainerElement);\n      }\n\n      appendQuickchartButton(table);\n    "
          },
          "metadata": {}
        }
      ]
    }
  ]
}